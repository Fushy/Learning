{
 "cells": [
  {
   "cell_type": "markdown",
   "id": "bfac9459",
   "metadata": {
    "toc": true
   },
   "source": [
    "<h1>Table of Contents<span class=\"tocSkip\"></span></h1>\n",
    "<div class=\"toc\"><ul class=\"toc-item\"><li><span><a href=\"#Nand\" data-toc-modified-id=\"Nand-1\"><span class=\"toc-item-num\">1&nbsp;&nbsp;</span>Nand</a></span></li><li><span><a href=\"#Not-(reverse-bit)\" data-toc-modified-id=\"Not-(reverse-bit)-2\"><span class=\"toc-item-num\">2&nbsp;&nbsp;</span>Not (reverse bit)</a></span></li><li><span><a href=\"#Swap-columns\" data-toc-modified-id=\"Swap-columns-3\"><span class=\"toc-item-num\">3&nbsp;&nbsp;</span>Swap columns</a></span></li><li><span><a href=\"#And-(restrict-bits)\" data-toc-modified-id=\"And-(restrict-bits)-4\"><span class=\"toc-item-num\">4&nbsp;&nbsp;</span>And (restrict bits)</a></span><ul class=\"toc-item\"><li><span><a href=\"#Demonstration\" data-toc-modified-id=\"Demonstration-4.1\"><span class=\"toc-item-num\">4.1&nbsp;&nbsp;</span>Demonstration</a></span></li></ul></li><li><span><a href=\"#Or-(union-bits)\" data-toc-modified-id=\"Or-(union-bits)-5\"><span class=\"toc-item-num\">5&nbsp;&nbsp;</span>Or (union bits)</a></span><ul class=\"toc-item\"><li><span><a href=\"#Demonstration\" data-toc-modified-id=\"Demonstration-5.1\"><span class=\"toc-item-num\">5.1&nbsp;&nbsp;</span>Demonstration</a></span></li></ul></li><li><span><a href=\"#Nor\" data-toc-modified-id=\"Nor-6\"><span class=\"toc-item-num\">6&nbsp;&nbsp;</span>Nor</a></span><ul class=\"toc-item\"><li><span><a href=\"#Demonstration\" data-toc-modified-id=\"Demonstration-6.1\"><span class=\"toc-item-num\">6.1&nbsp;&nbsp;</span>Demonstration</a></span></li></ul></li><li><span><a href=\"#Operators\" data-toc-modified-id=\"Operators-7\"><span class=\"toc-item-num\">7&nbsp;&nbsp;</span>Operators</a></span></li><li><span><a href=\"#Always-on\" data-toc-modified-id=\"Always-on-8\"><span class=\"toc-item-num\">8&nbsp;&nbsp;</span>Always on</a></span><ul class=\"toc-item\"><li><span><a href=\"#Demonstration\" data-toc-modified-id=\"Demonstration-8.1\"><span class=\"toc-item-num\">8.1&nbsp;&nbsp;</span>Demonstration</a></span></li></ul></li><li><span><a href=\"#Second-tick\" data-toc-modified-id=\"Second-tick-9\"><span class=\"toc-item-num\">9&nbsp;&nbsp;</span>Second tick</a></span><ul class=\"toc-item\"><li><span><a href=\"#Demonstration\" data-toc-modified-id=\"Demonstration-9.1\"><span class=\"toc-item-num\">9.1&nbsp;&nbsp;</span>Demonstration</a></span></li></ul></li><li><span><a href=\"#Xor\" data-toc-modified-id=\"Xor-10\"><span class=\"toc-item-num\">10&nbsp;&nbsp;</span>Xor</a></span><ul class=\"toc-item\"><li><span><a href=\"#Demonstration\" data-toc-modified-id=\"Demonstration-10.1\"><span class=\"toc-item-num\">10.1&nbsp;&nbsp;</span>Demonstration</a></span></li></ul></li></ul></div>"
   ]
  },
  {
   "cell_type": "code",
   "execution_count": 1,
   "id": "11be75d3",
   "metadata": {},
   "outputs": [],
   "source": [
    "# !pip install --upgrade pip setuptools wheel\n",
    "# !pip install pyeda\n",
    "# !pip install schemdraw"
   ]
  },
  {
   "cell_type": "code",
   "execution_count": 2,
   "id": "b18f0d94",
   "metadata": {
    "scrolled": true
   },
   "outputs": [],
   "source": [
    "from itertools import product\n",
    "import pandas as pd\n",
    "from pyeda.inter import *\n",
    "\n",
    "a, b, c = map(exprvar, 'abc')\n",
    "\n",
    "\n",
    "def truth_table_to_pandas(table):\n",
    "    df = pd.DataFrame()\n",
    "    for variables, result in table.iter_relation():\n",
    "        variables[\"result\"] = result\n",
    "        variables = {k: [v] for (k, v) in variables.items()}\n",
    "        df = pd.concat([df, pd.DataFrame(variables)], ignore_index=True)\n",
    "    return df\n",
    "\n",
    "\n",
    "def dict_to_truthtable(d):\n",
    "    inputs = list(d.keys())[0]\n",
    "    n_vars = len(inputs)\n",
    "    variables = exprvars('', n_vars)\n",
    "    output_vals = [d[tuple(inputs)] for inputs in product(*[[0, 1] for _ in range(n_vars)])]\n",
    "    return truthtable(variables, output_vals)\n",
    "\n",
    "\n",
    "def is_truth_tables_equivalent(*tables):\n",
    "    cursor = truth_table_to_pandas(tables[0])[\"result\"]\n",
    "    for table in tables:\n",
    "        if type(table) is TruthTable:\n",
    "            table = truth_table_to_pandas(table)[\"result\"]\n",
    "        else:\n",
    "            table = truth_table_to_pandas(expr2truthtable(table))[\"result\"]\n",
    "        if not table.equals(cursor):\n",
    "            return False\n",
    "    return True\n",
    "\n",
    "def p(obj):\n",
    "    print(obj)\n",
    "    \n",
    "def pt(expr):\n",
    "    table = expr2truthtable(expr)\n",
    "    # print(expr2truthtable(expr))\n",
    "    print(truth_table_to_pandas(expr).T.to_string(header=False))\n",
    "    print()"
   ]
  },
  {
   "cell_type": "markdown",
   "id": "1fb82c31",
   "metadata": {},
   "source": [
    "## Nand"
   ]
  },
  {
   "cell_type": "code",
   "execution_count": 3,
   "id": "55b4dffc",
   "metadata": {
    "scrolled": true
   },
   "outputs": [
    {
     "name": "stdout",
     "output_type": "stream",
     "text": [
      "a       0  1  0  1\n",
      "b       0  0  1  1\n",
      "result  1  1  1  0\n",
      "\n"
     ]
    },
    {
     "data": {
      "text/plain": [
       "True"
      ]
     },
     "execution_count": 3,
     "metadata": {},
     "output_type": "execute_result"
    }
   ],
   "source": [
    "NAND_1 = Nand(a, b)\n",
    "NAND_2 = ~(a & b)\n",
    "pt(NAND_1)\n",
    "Nand(a, b).equivalent(~(a & b))"
   ]
  },
  {
   "cell_type": "code",
   "execution_count": 4,
   "id": "d6a4b28e",
   "metadata": {
    "scrolled": true
   },
   "outputs": [
    {
     "data": {
      "text/plain": [
       "1"
      ]
     },
     "execution_count": 4,
     "metadata": {},
     "output_type": "execute_result"
    }
   ],
   "source": [
    "NAND_1.restrict({a:1, b:0})"
   ]
  },
  {
   "cell_type": "markdown",
   "id": "126c194c",
   "metadata": {},
   "source": [
    "## Not (reverse bit)"
   ]
  },
  {
   "cell_type": "code",
   "execution_count": 5,
   "id": "77975866",
   "metadata": {},
   "outputs": [
    {
     "name": "stdout",
     "output_type": "stream",
     "text": [
      "a       0  1\n",
      "result  1  0\n",
      "\n",
      "a       0  1\n",
      "result  1  0\n",
      "\n"
     ]
    },
    {
     "data": {
      "text/plain": [
       "True"
      ]
     },
     "execution_count": 5,
     "metadata": {},
     "output_type": "execute_result"
    }
   ],
   "source": [
    "NOT_1, NOT_2 = Not(a), ~a\n",
    "pt(NOT_1); pt(~a)\n",
    "Not(a).equivalent(~a)"
   ]
  },
  {
   "cell_type": "markdown",
   "id": "4cbe8600",
   "metadata": {},
   "source": [
    "## Swap columns"
   ]
  },
  {
   "cell_type": "code",
   "execution_count": 6,
   "id": "cea07812",
   "metadata": {},
   "outputs": [
    {
     "data": {
      "text/html": [
       "<div>\n",
       "<style scoped>\n",
       "    .dataframe tbody tr th:only-of-type {\n",
       "        vertical-align: middle;\n",
       "    }\n",
       "\n",
       "    .dataframe tbody tr th {\n",
       "        vertical-align: top;\n",
       "    }\n",
       "\n",
       "    .dataframe thead th {\n",
       "        text-align: right;\n",
       "    }\n",
       "</style>\n",
       "<table border=\"1\" class=\"dataframe\">\n",
       "  <thead>\n",
       "    <tr style=\"text-align: right;\">\n",
       "      <th></th>\n",
       "      <th>0</th>\n",
       "      <th>1</th>\n",
       "      <th>2</th>\n",
       "      <th>3</th>\n",
       "    </tr>\n",
       "  </thead>\n",
       "  <tbody>\n",
       "    <tr>\n",
       "      <th>a</th>\n",
       "      <td>0</td>\n",
       "      <td>1</td>\n",
       "      <td>0</td>\n",
       "      <td>1</td>\n",
       "    </tr>\n",
       "    <tr>\n",
       "      <th>b</th>\n",
       "      <td>0</td>\n",
       "      <td>0</td>\n",
       "      <td>1</td>\n",
       "      <td>1</td>\n",
       "    </tr>\n",
       "    <tr>\n",
       "      <th>result</th>\n",
       "      <td>0</td>\n",
       "      <td>0</td>\n",
       "      <td>0</td>\n",
       "      <td>1</td>\n",
       "    </tr>\n",
       "    <tr>\n",
       "      <th>And(~a, b)</th>\n",
       "      <td>0</td>\n",
       "      <td>0</td>\n",
       "      <td>1</td>\n",
       "      <td>0</td>\n",
       "    </tr>\n",
       "    <tr>\n",
       "      <th>And(a, ~b)</th>\n",
       "      <td>0</td>\n",
       "      <td>1</td>\n",
       "      <td>0</td>\n",
       "      <td>0</td>\n",
       "    </tr>\n",
       "    <tr>\n",
       "      <th>And(~a, ~b)</th>\n",
       "      <td>1</td>\n",
       "      <td>0</td>\n",
       "      <td>0</td>\n",
       "      <td>0</td>\n",
       "    </tr>\n",
       "  </tbody>\n",
       "</table>\n",
       "</div>"
      ],
      "text/plain": [
       "             0  1  2  3\n",
       "a            0  1  0  1\n",
       "b            0  0  1  1\n",
       "result       0  0  0  1\n",
       "And(~a, b)   0  0  1  0\n",
       "And(a, ~b)   0  1  0  0\n",
       "And(~a, ~b)  1  0  0  0"
      ]
     },
     "execution_count": 6,
     "metadata": {},
     "output_type": "execute_result"
    }
   ],
   "source": [
    "table = truth_table_to_pandas(And(a, b))\n",
    "table[\"And(~a, b)\"] = truth_table_to_pandas(And(~a, b))[\"result\"]\n",
    "table[\"And(a, ~b)\"] = truth_table_to_pandas(And(a, ~b))[\"result\"]\n",
    "table[\"And(~a, ~b)\"] = truth_table_to_pandas(And(~a, ~b))[\"result\"]\n",
    "table.T"
   ]
  },
  {
   "cell_type": "code",
   "execution_count": 7,
   "id": "03e6aa9a",
   "metadata": {
    "scrolled": false
   },
   "outputs": [
    {
     "data": {
      "text/html": [
       "<div>\n",
       "<style scoped>\n",
       "    .dataframe tbody tr th:only-of-type {\n",
       "        vertical-align: middle;\n",
       "    }\n",
       "\n",
       "    .dataframe tbody tr th {\n",
       "        vertical-align: top;\n",
       "    }\n",
       "\n",
       "    .dataframe thead th {\n",
       "        text-align: right;\n",
       "    }\n",
       "</style>\n",
       "<table border=\"1\" class=\"dataframe\">\n",
       "  <thead>\n",
       "    <tr style=\"text-align: right;\">\n",
       "      <th></th>\n",
       "      <th>0</th>\n",
       "      <th>1</th>\n",
       "      <th>2</th>\n",
       "      <th>3</th>\n",
       "    </tr>\n",
       "  </thead>\n",
       "  <tbody>\n",
       "    <tr>\n",
       "      <th>a</th>\n",
       "      <td>0</td>\n",
       "      <td>1</td>\n",
       "      <td>0</td>\n",
       "      <td>1</td>\n",
       "    </tr>\n",
       "    <tr>\n",
       "      <th>b</th>\n",
       "      <td>0</td>\n",
       "      <td>0</td>\n",
       "      <td>1</td>\n",
       "      <td>1</td>\n",
       "    </tr>\n",
       "    <tr>\n",
       "      <th>result</th>\n",
       "      <td>0</td>\n",
       "      <td>1</td>\n",
       "      <td>1</td>\n",
       "      <td>0</td>\n",
       "    </tr>\n",
       "    <tr>\n",
       "      <th>Xor(~a, b)</th>\n",
       "      <td>1</td>\n",
       "      <td>0</td>\n",
       "      <td>0</td>\n",
       "      <td>1</td>\n",
       "    </tr>\n",
       "    <tr>\n",
       "      <th>Xor(a, ~b)</th>\n",
       "      <td>1</td>\n",
       "      <td>0</td>\n",
       "      <td>0</td>\n",
       "      <td>1</td>\n",
       "    </tr>\n",
       "    <tr>\n",
       "      <th>Xor(~a, ~b)</th>\n",
       "      <td>0</td>\n",
       "      <td>1</td>\n",
       "      <td>1</td>\n",
       "      <td>0</td>\n",
       "    </tr>\n",
       "  </tbody>\n",
       "</table>\n",
       "</div>"
      ],
      "text/plain": [
       "             0  1  2  3\n",
       "a            0  1  0  1\n",
       "b            0  0  1  1\n",
       "result       0  1  1  0\n",
       "Xor(~a, b)   1  0  0  1\n",
       "Xor(a, ~b)   1  0  0  1\n",
       "Xor(~a, ~b)  0  1  1  0"
      ]
     },
     "execution_count": 7,
     "metadata": {},
     "output_type": "execute_result"
    }
   ],
   "source": [
    "table = truth_table_to_pandas(Xor(a, b))\n",
    "table[\"Xor(~a, b)\"] = truth_table_to_pandas(Xor(~a, b))[\"result\"]\n",
    "table[\"Xor(a, ~b)\"] = truth_table_to_pandas(Xor(a, ~b))[\"result\"]\n",
    "table[\"Xor(~a, ~b)\"] = truth_table_to_pandas(Xor(~a, ~b))[\"result\"]\n",
    "table.T"
   ]
  },
  {
   "cell_type": "markdown",
   "id": "c37d7a9c",
   "metadata": {},
   "source": [
    "## And (restrict bits)"
   ]
  },
  {
   "cell_type": "code",
   "execution_count": 8,
   "id": "f80d8a1d",
   "metadata": {},
   "outputs": [
    {
     "name": "stdout",
     "output_type": "stream",
     "text": [
      "a       0  1  0  1\n",
      "b       0  0  1  1\n",
      "result  0  0  0  1\n",
      "\n"
     ]
    },
    {
     "data": {
      "text/plain": [
       "True"
      ]
     },
     "execution_count": 8,
     "metadata": {},
     "output_type": "execute_result"
    }
   ],
   "source": [
    "AND_1 = And(a, b)\n",
    "AND_2 = a & b\n",
    "pt(AND_1)\n",
    "And(a, b).equivalent(a & b)"
   ]
  },
  {
   "cell_type": "markdown",
   "id": "ef3012cb",
   "metadata": {},
   "source": [
    "### Demonstration"
   ]
  },
  {
   "cell_type": "code",
   "execution_count": 9,
   "id": "255ecd4a",
   "metadata": {
    "scrolled": true
   },
   "outputs": [
    {
     "name": "stdout",
     "output_type": "stream",
     "text": [
      "a       0  1  0  1\n",
      "b       0  0  1  1\n",
      "result  1  1  1  0\n",
      "\n",
      "a       0  1  0  1\n",
      "b       0  0  1  1\n",
      "result  0  0  0  1\n",
      "\n"
     ]
    },
    {
     "data": {
      "text/plain": [
       "True"
      ]
     },
     "execution_count": 9,
     "metadata": {},
     "output_type": "execute_result"
    }
   ],
   "source": [
    "r = ~(a & b); pt(r)\n",
    "r = ~~(a & b); pt(r)\n",
    "(~~(a & b)).equivalent(And(a, b))"
   ]
  },
  {
   "cell_type": "markdown",
   "id": "317483ec",
   "metadata": {},
   "source": [
    "## Or (union bits)"
   ]
  },
  {
   "cell_type": "code",
   "execution_count": 10,
   "id": "f1922308",
   "metadata": {},
   "outputs": [
    {
     "name": "stdout",
     "output_type": "stream",
     "text": [
      "a       0  1  0  1\n",
      "b       0  0  1  1\n",
      "result  0  1  1  1\n",
      "\n"
     ]
    },
    {
     "data": {
      "text/plain": [
       "True"
      ]
     },
     "execution_count": 10,
     "metadata": {},
     "output_type": "execute_result"
    }
   ],
   "source": [
    "OR_1 = Or(a, b)\n",
    "OR_2 = a | b\n",
    "pt(OR_1)\n",
    "Or(a, b).equivalent(a | b)"
   ]
  },
  {
   "cell_type": "markdown",
   "id": "99b92411",
   "metadata": {},
   "source": [
    "### Demonstration"
   ]
  },
  {
   "cell_type": "code",
   "execution_count": 11,
   "id": "36e4a788",
   "metadata": {
    "scrolled": true
   },
   "outputs": [
    {
     "name": "stdout",
     "output_type": "stream",
     "text": [
      "a       0  1  0  1\n",
      "b       0  0  1  1\n",
      "result  0  0  0  1\n",
      "\n",
      "a       0  1  0  1\n",
      "b       0  0  1  1\n",
      "result  1  0  0  0\n",
      "\n",
      "a       0  1  0  1\n",
      "b       0  0  1  1\n",
      "result  0  1  1  1\n",
      "\n"
     ]
    },
    {
     "data": {
      "text/plain": [
       "(True, Not(And(~a, ~b)))"
      ]
     },
     "execution_count": 11,
     "metadata": {},
     "output_type": "execute_result"
    }
   ],
   "source": [
    "r = a & b; pt(r)\n",
    "r = ~a & ~b; pt(r)\n",
    "r = Nand(~a, ~b); pt(r)\n",
    "Nand(~a & ~b).equivalent(Or(a, b)), (~(~a & ~b))"
   ]
  },
  {
   "cell_type": "markdown",
   "id": "d4408a52",
   "metadata": {},
   "source": [
    "## Nor"
   ]
  },
  {
   "cell_type": "code",
   "execution_count": 12,
   "id": "6be375c6",
   "metadata": {},
   "outputs": [
    {
     "name": "stdout",
     "output_type": "stream",
     "text": [
      "a       0  1  0  1\n",
      "b       0  0  1  1\n",
      "result  0  1  1  1\n",
      "\n"
     ]
    },
    {
     "data": {
      "text/plain": [
       "True"
      ]
     },
     "execution_count": 12,
     "metadata": {},
     "output_type": "execute_result"
    }
   ],
   "source": [
    "NOR_1 = Nor(a, b)\n",
    "NOR_1 = ~(a | b)\n",
    "pt(OR_1)\n",
    "Nor(a, b).equivalent(~(a | b))"
   ]
  },
  {
   "cell_type": "markdown",
   "id": "4a6ab83d",
   "metadata": {},
   "source": [
    "### Demonstration"
   ]
  },
  {
   "cell_type": "code",
   "execution_count": 13,
   "id": "61bfb840",
   "metadata": {
    "scrolled": true
   },
   "outputs": [
    {
     "name": "stdout",
     "output_type": "stream",
     "text": [
      "a       0  1  0  1\n",
      "b       0  0  1  1\n",
      "result  0  1  1  1\n",
      "\n",
      "a       0  1  0  1\n",
      "b       0  0  1  1\n",
      "result  1  0  0  0\n",
      "\n"
     ]
    },
    {
     "data": {
      "text/plain": [
       "True"
      ]
     },
     "execution_count": 13,
     "metadata": {},
     "output_type": "execute_result"
    }
   ],
   "source": [
    "r = Or(a, b); pt(r)\n",
    "r = ~(a | b); pt(r)\n",
    "(~(a | b)).equivalent(Nor(a, b))"
   ]
  },
  {
   "cell_type": "markdown",
   "id": "195d1898",
   "metadata": {},
   "source": [
    "## Operators"
   ]
  },
  {
   "cell_type": "code",
   "execution_count": 14,
   "id": "abe604da",
   "metadata": {},
   "outputs": [
    {
     "data": {
      "text/plain": [
       "(~a, And(a, b), Or(a, b), Xor(a, b), Or(a, b), Implies(a, b))"
      ]
     },
     "execution_count": 14,
     "metadata": {},
     "output_type": "execute_result"
    }
   ],
   "source": [
    "~a, a & b, a | b, a ^ b, a | b, a >> b"
   ]
  },
  {
   "cell_type": "markdown",
   "id": "3f2bf1b9",
   "metadata": {},
   "source": [
    "## Always on"
   ]
  },
  {
   "cell_type": "code",
   "execution_count": 15,
   "id": "82efd81d",
   "metadata": {
    "scrolled": true
   },
   "outputs": [
    {
     "name": "stdout",
     "output_type": "stream",
     "text": [
      "[0]     0  1\n",
      "result  1  1\n",
      "\n"
     ]
    }
   ],
   "source": [
    "always_on = dict_to_truthtable({(0,): 1,\n",
    "                                (1,): 1})\n",
    "pt(always_on)"
   ]
  },
  {
   "cell_type": "markdown",
   "id": "95635958",
   "metadata": {},
   "source": [
    "### Demonstration"
   ]
  },
  {
   "cell_type": "code",
   "execution_count": 16,
   "id": "69a49522",
   "metadata": {},
   "outputs": [
    {
     "name": "stdout",
     "output_type": "stream",
     "text": [
      "a       0  1\n",
      "result  1  0\n",
      "\n",
      "a       0  1\n",
      "result  1  1\n",
      "\n",
      "a       0  1\n",
      "result  1  1\n",
      "\n"
     ]
    },
    {
     "data": {
      "text/plain": [
       "True"
      ]
     },
     "execution_count": 16,
     "metadata": {},
     "output_type": "execute_result"
    }
   ],
   "source": [
    "r = ~a; pt(r)\n",
    "r = ~a | a; pt(r)\n",
    "r = ~(~a & a); pt(r)\n",
    "is_truth_tables_equivalent(always_on, ~(~a & a))"
   ]
  },
  {
   "cell_type": "markdown",
   "id": "52779cac",
   "metadata": {},
   "source": [
    "## Second tick"
   ]
  },
  {
   "cell_type": "code",
   "execution_count": 17,
   "id": "d9e03083",
   "metadata": {},
   "outputs": [
    {
     "name": "stdout",
     "output_type": "stream",
     "text": [
      "[0]     0  1  0  1\n",
      "[1]     0  0  1  1\n",
      "result  0  1  0  0\n",
      "\n"
     ]
    }
   ],
   "source": [
    "second_tick = dict_to_truthtable({(0, 0): 0,\n",
    "                                  (0, 1): 1,\n",
    "                                  (1, 0): 0,\n",
    "                                  (1, 1): 0})\n",
    "pt(second_tick)"
   ]
  },
  {
   "cell_type": "markdown",
   "id": "54df8bd5",
   "metadata": {},
   "source": [
    "### Demonstration"
   ]
  },
  {
   "cell_type": "code",
   "execution_count": 18,
   "id": "b0e0ce63",
   "metadata": {
    "scrolled": true
   },
   "outputs": [
    {
     "name": "stdout",
     "output_type": "stream",
     "text": [
      "a       0  1  0  1\n",
      "b       0  0  1  1\n",
      "result  0  0  0  1\n",
      "\n",
      "a       0  1  0  1\n",
      "b       0  0  1  1\n",
      "result  0  1  0  0\n",
      "\n",
      "a       0  1  0  1\n",
      "b       0  0  1  1\n",
      "result  0  1  0  0\n",
      "\n"
     ]
    },
    {
     "data": {
      "text/plain": [
       "True"
      ]
     },
     "execution_count": 18,
     "metadata": {},
     "output_type": "execute_result"
    }
   ],
   "source": [
    "r = a & b; pt(r)\n",
    "r = a & ~b; pt(r)\n",
    "r = ~(~a | b); pt(r)\n",
    "is_truth_tables_equivalent(second_tick, a & ~b)"
   ]
  },
  {
   "cell_type": "markdown",
   "id": "c0cea036",
   "metadata": {},
   "source": [
    "## Xor"
   ]
  },
  {
   "cell_type": "code",
   "execution_count": 19,
   "id": "a72aa397",
   "metadata": {},
   "outputs": [
    {
     "name": "stdout",
     "output_type": "stream",
     "text": [
      "a       0  1  0  1\n",
      "b       0  0  1  1\n",
      "result  0  1  1  0\n",
      "\n"
     ]
    },
    {
     "data": {
      "text/plain": [
       "True"
      ]
     },
     "execution_count": 19,
     "metadata": {},
     "output_type": "execute_result"
    }
   ],
   "source": [
    "XOR_1 = Xor(a, b)\n",
    "XOR_2 = a ^ b\n",
    "pt(XOR_1)\n",
    "Xor(a, b).equivalent(a ^ b)"
   ]
  },
  {
   "cell_type": "markdown",
   "id": "42c468af",
   "metadata": {},
   "source": [
    "### Demonstration"
   ]
  },
  {
   "cell_type": "code",
   "execution_count": 20,
   "id": "fd237958",
   "metadata": {
    "scrolled": false
   },
   "outputs": [
    {
     "name": "stdout",
     "output_type": "stream",
     "text": [
      "a       0  1  0  1\n",
      "b       0  0  1  1\n",
      "result  1  1  1  0\n",
      "\n",
      "a       0  1  0  1\n",
      "b       0  0  1  1\n",
      "result  0  1  1  1\n",
      "\n",
      "a       0  1  0  1\n",
      "b       0  0  1  1\n",
      "result  0  1  1  0\n",
      "\n"
     ]
    }
   ],
   "source": [
    "r = ~(a & b); pt(r)\n",
    "r = (a | b); pt(r)\n",
    "r = ~(a & b) & (a | b); pt(r)"
   ]
  },
  {
   "cell_type": "code",
   "execution_count": 21,
   "id": "bd034819",
   "metadata": {
    "scrolled": true
   },
   "outputs": [
    {
     "name": "stdout",
     "output_type": "stream",
     "text": [
      "a       0  1  0  1  0  1  0  1\n",
      "b       0  0  1  1  0  0  1  1\n",
      "c       0  0  0  0  1  1  1  1\n",
      "result  0  1  1  1  1  1  1  1\n",
      "\n"
     ]
    }
   ],
   "source": [
    "r = (a | b) | c; pt(r)"
   ]
  }
 ],
 "metadata": {
  "kernelspec": {
   "display_name": "Python 3 (ipykernel)",
   "language": "python",
   "name": "python3"
  },
  "language_info": {
   "codemirror_mode": {
    "name": "ipython",
    "version": 3
   },
   "file_extension": ".py",
   "mimetype": "text/x-python",
   "name": "python",
   "nbconvert_exporter": "python",
   "pygments_lexer": "ipython3",
   "version": "3.11.0"
  },
  "toc": {
   "base_numbering": 1,
   "nav_menu": {},
   "number_sections": true,
   "sideBar": true,
   "skip_h1_title": false,
   "title_cell": "Table of Contents",
   "title_sidebar": "Contents",
   "toc_cell": true,
   "toc_position": {
    "height": "calc(100% - 180px)",
    "left": "10px",
    "top": "150px",
    "width": "384px"
   },
   "toc_section_display": true,
   "toc_window_display": true
  }
 },
 "nbformat": 4,
 "nbformat_minor": 5
}
