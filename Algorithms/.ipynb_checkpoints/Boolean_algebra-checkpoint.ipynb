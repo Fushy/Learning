{
 "cells": [
  {
   "cell_type": "markdown",
   "id": "bfac9459",
   "metadata": {
    "toc": true
   },
   "source": [
    "<h1>Table of Contents<span class=\"tocSkip\"></span></h1>\n",
    "<div class=\"toc\"><ul class=\"toc-item\"><li><span><a href=\"#Nand\" data-toc-modified-id=\"Nand-1\"><span class=\"toc-item-num\">1&nbsp;&nbsp;</span>Nand</a></span></li><li><span><a href=\"#Not-(reverse-bit)\" data-toc-modified-id=\"Not-(reverse-bit)-2\"><span class=\"toc-item-num\">2&nbsp;&nbsp;</span>Not (reverse bit)</a></span><ul class=\"toc-item\"><li><span><a href=\"#Swap-columns\" data-toc-modified-id=\"Swap-columns-2.1\"><span class=\"toc-item-num\">2.1&nbsp;&nbsp;</span>Swap columns</a></span></li></ul></li><li><span><a href=\"#And-(restrict-bits)\" data-toc-modified-id=\"And-(restrict-bits)-3\"><span class=\"toc-item-num\">3&nbsp;&nbsp;</span>And (restrict bits)</a></span><ul class=\"toc-item\"><li><span><a href=\"#Demonstration\" data-toc-modified-id=\"Demonstration-3.1\"><span class=\"toc-item-num\">3.1&nbsp;&nbsp;</span>Demonstration</a></span></li></ul></li><li><span><a href=\"#Or-(union-bits)\" data-toc-modified-id=\"Or-(union-bits)-4\"><span class=\"toc-item-num\">4&nbsp;&nbsp;</span>Or (union bits)</a></span><ul class=\"toc-item\"><li><span><a href=\"#Demonstration\" data-toc-modified-id=\"Demonstration-4.1\"><span class=\"toc-item-num\">4.1&nbsp;&nbsp;</span>Demonstration</a></span></li></ul></li></ul></div>"
   ]
  },
  {
   "cell_type": "code",
   "execution_count": 1,
   "id": "11be75d3",
   "metadata": {},
   "outputs": [],
   "source": [
    "# !pip install --upgrade pip setuptools wheel\n",
    "# !pip install pyeda"
   ]
  },
  {
   "cell_type": "code",
   "execution_count": 91,
   "id": "b18f0d94",
   "metadata": {
    "scrolled": true
   },
   "outputs": [],
   "source": [
    "from itertools import product\n",
    "import pandas as pd\n",
    "from pyeda.inter import *\n",
    "\n",
    "a, b, c = map(exprvar, 'abc')\n",
    "\n",
    "\n",
    "def truth_table_to_pandas(table):\n",
    "    table = expr2truthtable(table)\n",
    "    df = pd.DataFrame()\n",
    "    for variables, result in table.iter_relation():\n",
    "        variables[\"result\"] = result\n",
    "        variables = {k: [v] for (k, v) in variables.items()}\n",
    "        df = pd.concat([df, pd.DataFrame(variables)], ignore_index=True)\n",
    "    return df\n",
    "\n",
    "\n",
    "def dict_to_truthtable(d):\n",
    "    inputs = list(d.keys())[0]\n",
    "    n_vars = len(inputs)\n",
    "    variables = exprvars('', n_vars)\n",
    "    output_vals = [d[tuple(inputs)] for inputs in product(*[[0, 1] for _ in range(n_vars)])]\n",
    "    return truthtable(variables, output_vals)\n",
    "\n",
    "\n",
    "def p(obj):\n",
    "    print(obj)\n",
    "    \n",
    "def pt(table):\n",
    "    # print(expr2truthtable(table))\n",
    "    print(truth_table_to_pandas(table).T.to_string(header=False))\n",
    "    print()"
   ]
  },
  {
   "cell_type": "markdown",
   "id": "1fb82c31",
   "metadata": {},
   "source": [
    "## Nand"
   ]
  },
  {
   "cell_type": "code",
   "execution_count": 92,
   "id": "55b4dffc",
   "metadata": {
    "scrolled": true
   },
   "outputs": [
    {
     "name": "stdout",
     "output_type": "stream",
     "text": [
      "        0  1  2  3\n",
      "a       0  1  0  1\n",
      "b       0  0  1  1\n",
      "result  1  1  1  0\n",
      "\n"
     ]
    }
   ],
   "source": [
    "NAND_ = Nand(a, b)\n",
    "pt(NAND_)"
   ]
  },
  {
   "cell_type": "code",
   "execution_count": 93,
   "id": "d6a4b28e",
   "metadata": {},
   "outputs": [
    {
     "data": {
      "text/plain": [
       "1"
      ]
     },
     "execution_count": 93,
     "metadata": {},
     "output_type": "execute_result"
    }
   ],
   "source": [
    "NAND_.restrict({a:1, b:0})"
   ]
  },
  {
   "cell_type": "markdown",
   "id": "126c194c",
   "metadata": {},
   "source": [
    "## Not (reverse bit)"
   ]
  },
  {
   "cell_type": "code",
   "execution_count": 117,
   "id": "77975866",
   "metadata": {},
   "outputs": [
    {
     "name": "stdout",
     "output_type": "stream",
     "text": [
      "        0  1\n",
      "a       0  1\n",
      "result  1  0\n",
      "\n",
      "        0  1\n",
      "a       0  1\n",
      "result  1  0\n",
      "\n"
     ]
    },
    {
     "data": {
      "text/plain": [
       "True"
      ]
     },
     "execution_count": 117,
     "metadata": {},
     "output_type": "execute_result"
    }
   ],
   "source": [
    "NOT_1, NOT_2 = Not(a), ~a\n",
    "pt(NOT_)\n",
    "pt(~a)\n",
    "Not(a).equivalent(~a)"
   ]
  },
  {
   "cell_type": "markdown",
   "id": "4cbe8600",
   "metadata": {},
   "source": [
    "### Swap columns"
   ]
  },
  {
   "cell_type": "code",
   "execution_count": 106,
   "id": "cea07812",
   "metadata": {},
   "outputs": [
    {
     "data": {
      "text/html": [
       "<div>\n",
       "<style scoped>\n",
       "    .dataframe tbody tr th:only-of-type {\n",
       "        vertical-align: middle;\n",
       "    }\n",
       "\n",
       "    .dataframe tbody tr th {\n",
       "        vertical-align: top;\n",
       "    }\n",
       "\n",
       "    .dataframe thead th {\n",
       "        text-align: right;\n",
       "    }\n",
       "</style>\n",
       "<table border=\"1\" class=\"dataframe\">\n",
       "  <thead>\n",
       "    <tr style=\"text-align: right;\">\n",
       "      <th></th>\n",
       "      <th>0</th>\n",
       "      <th>1</th>\n",
       "      <th>2</th>\n",
       "      <th>3</th>\n",
       "    </tr>\n",
       "  </thead>\n",
       "  <tbody>\n",
       "    <tr>\n",
       "      <th>a</th>\n",
       "      <td>0</td>\n",
       "      <td>1</td>\n",
       "      <td>0</td>\n",
       "      <td>1</td>\n",
       "    </tr>\n",
       "    <tr>\n",
       "      <th>b</th>\n",
       "      <td>0</td>\n",
       "      <td>0</td>\n",
       "      <td>1</td>\n",
       "      <td>1</td>\n",
       "    </tr>\n",
       "    <tr>\n",
       "      <th>result</th>\n",
       "      <td>0</td>\n",
       "      <td>0</td>\n",
       "      <td>0</td>\n",
       "      <td>1</td>\n",
       "    </tr>\n",
       "    <tr>\n",
       "      <th>And(~a, b)</th>\n",
       "      <td>0</td>\n",
       "      <td>0</td>\n",
       "      <td>1</td>\n",
       "      <td>0</td>\n",
       "    </tr>\n",
       "    <tr>\n",
       "      <th>And(a, ~b)</th>\n",
       "      <td>0</td>\n",
       "      <td>1</td>\n",
       "      <td>0</td>\n",
       "      <td>0</td>\n",
       "    </tr>\n",
       "    <tr>\n",
       "      <th>And(~a, ~b)</th>\n",
       "      <td>1</td>\n",
       "      <td>0</td>\n",
       "      <td>0</td>\n",
       "      <td>0</td>\n",
       "    </tr>\n",
       "  </tbody>\n",
       "</table>\n",
       "</div>"
      ],
      "text/plain": [
       "             0  1  2  3\n",
       "a            0  1  0  1\n",
       "b            0  0  1  1\n",
       "result       0  0  0  1\n",
       "And(~a, b)   0  0  1  0\n",
       "And(a, ~b)   0  1  0  0\n",
       "And(~a, ~b)  1  0  0  0"
      ]
     },
     "execution_count": 106,
     "metadata": {},
     "output_type": "execute_result"
    }
   ],
   "source": [
    "table = truth_table_to_pandas(And(a, b))\n",
    "table[\"And(~a, b)\"] = truth_table_to_pandas(And(~a, b))[\"result\"]\n",
    "table[\"And(a, ~b)\"] = truth_table_to_pandas(And(a, ~b))[\"result\"]\n",
    "table[\"And(~a, ~b)\"] = truth_table_to_pandas(And(~a, ~b))[\"result\"]\n",
    "table.T"
   ]
  },
  {
   "cell_type": "code",
   "execution_count": 107,
   "id": "03e6aa9a",
   "metadata": {
    "scrolled": false
   },
   "outputs": [
    {
     "data": {
      "text/html": [
       "<div>\n",
       "<style scoped>\n",
       "    .dataframe tbody tr th:only-of-type {\n",
       "        vertical-align: middle;\n",
       "    }\n",
       "\n",
       "    .dataframe tbody tr th {\n",
       "        vertical-align: top;\n",
       "    }\n",
       "\n",
       "    .dataframe thead th {\n",
       "        text-align: right;\n",
       "    }\n",
       "</style>\n",
       "<table border=\"1\" class=\"dataframe\">\n",
       "  <thead>\n",
       "    <tr style=\"text-align: right;\">\n",
       "      <th></th>\n",
       "      <th>0</th>\n",
       "      <th>1</th>\n",
       "      <th>2</th>\n",
       "      <th>3</th>\n",
       "    </tr>\n",
       "  </thead>\n",
       "  <tbody>\n",
       "    <tr>\n",
       "      <th>a</th>\n",
       "      <td>0</td>\n",
       "      <td>1</td>\n",
       "      <td>0</td>\n",
       "      <td>1</td>\n",
       "    </tr>\n",
       "    <tr>\n",
       "      <th>b</th>\n",
       "      <td>0</td>\n",
       "      <td>0</td>\n",
       "      <td>1</td>\n",
       "      <td>1</td>\n",
       "    </tr>\n",
       "    <tr>\n",
       "      <th>result</th>\n",
       "      <td>0</td>\n",
       "      <td>1</td>\n",
       "      <td>1</td>\n",
       "      <td>0</td>\n",
       "    </tr>\n",
       "    <tr>\n",
       "      <th>Xor(~a, b)</th>\n",
       "      <td>1</td>\n",
       "      <td>0</td>\n",
       "      <td>0</td>\n",
       "      <td>1</td>\n",
       "    </tr>\n",
       "    <tr>\n",
       "      <th>Xor(a, ~b)</th>\n",
       "      <td>1</td>\n",
       "      <td>0</td>\n",
       "      <td>0</td>\n",
       "      <td>1</td>\n",
       "    </tr>\n",
       "    <tr>\n",
       "      <th>Xor(~a, ~b)</th>\n",
       "      <td>0</td>\n",
       "      <td>1</td>\n",
       "      <td>1</td>\n",
       "      <td>0</td>\n",
       "    </tr>\n",
       "  </tbody>\n",
       "</table>\n",
       "</div>"
      ],
      "text/plain": [
       "             0  1  2  3\n",
       "a            0  1  0  1\n",
       "b            0  0  1  1\n",
       "result       0  1  1  0\n",
       "Xor(~a, b)   1  0  0  1\n",
       "Xor(a, ~b)   1  0  0  1\n",
       "Xor(~a, ~b)  0  1  1  0"
      ]
     },
     "execution_count": 107,
     "metadata": {},
     "output_type": "execute_result"
    }
   ],
   "source": [
    "table = truth_table_to_pandas(Xor(a, b))\n",
    "table[\"Xor(~a, b)\"] = truth_table_to_pandas(Xor(~a, b))[\"result\"]\n",
    "table[\"Xor(a, ~b)\"] = truth_table_to_pandas(Xor(a, ~b))[\"result\"]\n",
    "table[\"Xor(~a, ~b)\"] = truth_table_to_pandas(Xor(~a, ~b))[\"result\"]\n",
    "table.T"
   ]
  },
  {
   "cell_type": "markdown",
   "id": "c37d7a9c",
   "metadata": {},
   "source": [
    "## And (restrict bits)"
   ]
  },
  {
   "cell_type": "code",
   "execution_count": 97,
   "id": "f80d8a1d",
   "metadata": {},
   "outputs": [
    {
     "name": "stdout",
     "output_type": "stream",
     "text": [
      "        0  1  2  3\n",
      "a       0  1  0  1\n",
      "b       0  0  1  1\n",
      "result  0  0  0  1\n",
      "\n"
     ]
    }
   ],
   "source": [
    "AND_ = And(a, b)\n",
    "pt(AND_)"
   ]
  },
  {
   "cell_type": "markdown",
   "id": "ef3012cb",
   "metadata": {},
   "source": [
    "### Demonstration"
   ]
  },
  {
   "cell_type": "code",
   "execution_count": 125,
   "id": "255ecd4a",
   "metadata": {
    "scrolled": true
   },
   "outputs": [
    {
     "name": "stdout",
     "output_type": "stream",
     "text": [
      "        0  1  2  3\n",
      "a       0  1  0  1\n",
      "b       0  0  1  1\n",
      "result  1  1  1  0\n",
      "\n",
      "        0  1  2  3\n",
      "a       0  1  0  1\n",
      "b       0  0  1  1\n",
      "result  0  0  0  1\n",
      "\n"
     ]
    },
    {
     "data": {
      "text/plain": [
       "True"
      ]
     },
     "execution_count": 125,
     "metadata": {},
     "output_type": "execute_result"
    }
   ],
   "source": [
    "r = Nand(a, b); pt(r)\n",
    "r = Not(Nand(a, b)); pt(r)\n",
    "Not(Nand(a, b)).equivalent(And(a, b))"
   ]
  },
  {
   "cell_type": "markdown",
   "id": "317483ec",
   "metadata": {},
   "source": [
    "## Or (union bits)"
   ]
  },
  {
   "cell_type": "code",
   "execution_count": 99,
   "id": "f1922308",
   "metadata": {},
   "outputs": [
    {
     "name": "stdout",
     "output_type": "stream",
     "text": [
      "        0  1  2  3\n",
      "a       0  1  0  1\n",
      "b       0  0  1  1\n",
      "result  0  1  1  1\n",
      "\n"
     ]
    }
   ],
   "source": [
    "OR_ = Or(a, b)\n",
    "pt(OR_)"
   ]
  },
  {
   "cell_type": "markdown",
   "id": "99b92411",
   "metadata": {},
   "source": [
    "### Demonstration"
   ]
  },
  {
   "cell_type": "code",
   "execution_count": 120,
   "id": "36e4a788",
   "metadata": {},
   "outputs": [
    {
     "name": "stdout",
     "output_type": "stream",
     "text": [
      "        0  1  2  3\n",
      "a       0  1  0  1\n",
      "b       0  0  1  1\n",
      "result  0  0  0  1\n",
      "\n",
      "        0  1  2  3\n",
      "a       0  1  0  1\n",
      "b       0  0  1  1\n",
      "result  1  0  0  0\n",
      "\n",
      "        0  1  2  3\n",
      "a       0  1  0  1\n",
      "b       0  0  1  1\n",
      "result  0  1  1  1\n",
      "\n"
     ]
    },
    {
     "data": {
      "text/plain": [
       "True"
      ]
     },
     "execution_count": 120,
     "metadata": {},
     "output_type": "execute_result"
    }
   ],
   "source": [
    "r = And(a, b); pt(r)\n",
    "r = And(~a, ~b); pt(r)\n",
    "r = ~And(~a, ~b); pt(r)\n",
    "(~And(~a, ~b)).equivalent(Or(a, b))"
   ]
  }
 ],
 "metadata": {
  "kernelspec": {
   "display_name": "Python 3 (ipykernel)",
   "language": "python",
   "name": "python3"
  },
  "language_info": {
   "codemirror_mode": {
    "name": "ipython",
    "version": 3
   },
   "file_extension": ".py",
   "mimetype": "text/x-python",
   "name": "python",
   "nbconvert_exporter": "python",
   "pygments_lexer": "ipython3",
   "version": "3.11.0"
  },
  "toc": {
   "base_numbering": 1,
   "nav_menu": {},
   "number_sections": true,
   "sideBar": true,
   "skip_h1_title": false,
   "title_cell": "Table of Contents",
   "title_sidebar": "Contents",
   "toc_cell": true,
   "toc_position": {},
   "toc_section_display": true,
   "toc_window_display": true
  }
 },
 "nbformat": 4,
 "nbformat_minor": 5
}
