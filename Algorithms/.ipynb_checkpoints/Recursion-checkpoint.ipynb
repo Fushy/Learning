{
 "cells": [
  {
   "cell_type": "markdown",
   "metadata": {
    "toc": true
   },
   "source": [
    "<h1>Table of Contents<span class=\"tocSkip\"></span></h1>\n",
    "<div class=\"toc\"><ul class=\"toc-item\"><li><span><a href=\"#Recursion\" data-toc-modified-id=\"Recursion-1\"><span class=\"toc-item-num\">1&nbsp;&nbsp;</span>Recursion</a></span><ul class=\"toc-item\"><li><span><a href=\"#Introduction\" data-toc-modified-id=\"Introduction-1.1\"><span class=\"toc-item-num\">1.1&nbsp;&nbsp;</span>Introduction</a></span></li><li><span><a href=\"#Stack\" data-toc-modified-id=\"Stack-1.2\"><span class=\"toc-item-num\">1.2&nbsp;&nbsp;</span>Stack</a></span></li><li><span><a href=\"#Iterative-&amp;-recursive-algorithms\" data-toc-modified-id=\"Iterative-&amp;-recursive-algorithms-1.3\"><span class=\"toc-item-num\">1.3&nbsp;&nbsp;</span>Iterative &amp; recursive algorithms</a></span></li><li><span><a href=\"#Recursion-in-Python\" data-toc-modified-id=\"Recursion-in-Python-1.4\"><span class=\"toc-item-num\">1.4&nbsp;&nbsp;</span>Recursion in Python</a></span></li><li><span><a href=\"#Disclaimer\" data-toc-modified-id=\"Disclaimer-1.5\"><span class=\"toc-item-num\">1.5&nbsp;&nbsp;</span>Disclaimer</a></span></li><li><span><a href=\"#Memes\" data-toc-modified-id=\"Memes-1.6\"><span class=\"toc-item-num\">1.6&nbsp;&nbsp;</span>Memes</a></span></li></ul></li><li><span><a href=\"#Origin:-https://twitter.com/johnwilander/status/1176457013305303040\" data-toc-modified-id=\"Origin:-https://twitter.com/johnwilander/status/1176457013305303040-2\"><span class=\"toc-item-num\">2&nbsp;&nbsp;</span>Origin: <a href=\"https://twitter.com/johnwilander/status/1176457013305303040\" rel=\"nofollow\" target=\"_blank\">https://twitter.com/johnwilander/status/1176457013305303040</a></a></span></li><li><span><a href=\"#Meme-thread:-https://twitter.com/grady_booch/status/1177340563932119040\" data-toc-modified-id=\"Meme-thread:-https://twitter.com/grady_booch/status/1177340563932119040-3\"><span class=\"toc-item-num\">3&nbsp;&nbsp;</span>Meme thread: <a href=\"https://twitter.com/grady_booch/status/1177340563932119040\" rel=\"nofollow\" target=\"_blank\">https://twitter.com/grady_booch/status/1177340563932119040</a></a></span><ul class=\"toc-item\"><li><span><a href=\"#setrecursionlimit(n:-int)\" data-toc-modified-id=\"setrecursionlimit(n:-int)-3.1\"><span class=\"toc-item-num\">3.1&nbsp;&nbsp;</span>setrecursionlimit(n: int)</a></span></li></ul></li><li><span><a href=\"#Solving-pattern-recursion\" data-toc-modified-id=\"Solving-pattern-recursion-4\"><span class=\"toc-item-num\">4&nbsp;&nbsp;</span>Solving pattern recursion</a></span><ul class=\"toc-item\"><li><span><a href=\"#How-to-do\" data-toc-modified-id=\"How-to-do-4.1\"><span class=\"toc-item-num\">4.1&nbsp;&nbsp;</span>How to do</a></span><ul class=\"toc-item\"><li><span><a href=\"#Parsing\" data-toc-modified-id=\"Parsing-4.1.1\"><span class=\"toc-item-num\">4.1.1&nbsp;&nbsp;</span>Parsing</a></span></li><li><span><a href=\"#Calculates-&amp;-count\" data-toc-modified-id=\"Calculates-&amp;-count-4.1.2\"><span class=\"toc-item-num\">4.1.2&nbsp;&nbsp;</span>Calculates &amp; count</a></span></li><li><span><a href=\"#Boolean-use-case\" data-toc-modified-id=\"Boolean-use-case-4.1.3\"><span class=\"toc-item-num\">4.1.3&nbsp;&nbsp;</span>Boolean use case</a></span></li><li><span><a href=\"#Sorting\" data-toc-modified-id=\"Sorting-4.1.4\"><span class=\"toc-item-num\">4.1.4&nbsp;&nbsp;</span>Sorting</a></span></li><li><span><a href=\"#Mutable-parameter\" data-toc-modified-id=\"Mutable-parameter-4.1.5\"><span class=\"toc-item-num\">4.1.5&nbsp;&nbsp;</span>Mutable parameter</a></span></li><li><span><a href=\"#Memoization\" data-toc-modified-id=\"Memoization-4.1.6\"><span class=\"toc-item-num\">4.1.6&nbsp;&nbsp;</span>Memoization</a></span></li></ul></li></ul></li><li><span><a href=\"#Sources\" data-toc-modified-id=\"Sources-5\"><span class=\"toc-item-num\">5&nbsp;&nbsp;</span>Sources</a></span><ul class=\"toc-item\"><li><span><a href=\"#links\" data-toc-modified-id=\"links-5.1\"><span class=\"toc-item-num\">5.1&nbsp;&nbsp;</span>links</a></span></li><li><span><a href=\"#book\" data-toc-modified-id=\"book-5.2\"><span class=\"toc-item-num\">5.2&nbsp;&nbsp;</span>book</a></span></li></ul></li></ul></div>"
   ]
  },
  {
   "cell_type": "markdown",
   "metadata": {
    "pycharm": {
     "name": "#%% md\n"
    }
   },
   "source": [
    "# Recursion\n",
    "\n",
    "## Introduction\n",
    "\n",
    "Recursion is a method of defining a sequence of objects, such as an expression, function, or set, where some number of initial objects are given and each successive object is defined in terms of the preceding objects.\n",
    "In a programming context, a recursive function is a function that calls itself.\n",
    "Recursion is an important computer science topic and can yield keen insights into programming itself.\n",
    "\n",
    "Tree-like, or recursive data structures are a good example of recursion because these structures are nested and fit a recursive definition.\n",
    "If a problem represents a simple case, solve it. If not, divide it into sub-problems and apply recursion strategy.\n",
    "\n",
    "Recursion isn’t for every situation\n",
    "- Recursive implementations often consume more memory than non-recursive ones\n",
    "- Recursion may result in slower execution time\n",
    "- For some problems, a recursive solution will be awkward rather than elegant\n",
    "\n",
    "Recursion approach is suitable when\n",
    "- It involves a self-defined structure. (a branching points look similar to the root of a smaller subtree)\n",
    "- It involves backtracking\n",
    "\n",
    "## Stack\n",
    "\n",
    "Recursive algorithms use mainly the stack. To understand recursion, you must first understand stacks.\n",
    "A stack is one of the simplest data structures in computer science. It stores multiple values, and it limits you to adding (push) to or removing (pop) values from the \"top\" of the stack only.\n",
    "Stacks are LIFO data structure, which stands for last in, first out.\n",
    "\n",
    "In programs, it controls the program’s flow of execution.\n",
    "The stack is automatically updated on function calls (push) and function returns (pop), it doesn’t appear anywhere in the source code so most programming beginners don’t know about stacks.\n",
    "Python creates a new namespace for each new function called, when a function is called, the namespace is put on the \"top\" of the program's stack, this namespace pushed is called a frame objects or simply a frame.\n",
    "All the recursive calls stack up onto the <strong>stack</strong>, too much called can raise a RecursionError (maximum recursion depth exceeded) due to <strong>stackoverflow</strong>\n",
    "\n",
    "Every running program has a call stack, and multithreaded programs have one call stack for each thread. When a local variable is used in the source code, the variable with that name in the topmost frame object is used.\n",
    "\n",
    "## Iterative & recursive algorithms\n",
    "\n",
    "For iterative algorithms, put your finger on the line of code at the top of the program and move down. Sometimes your finger will loop back; other times, it will jump into a function and later return. This makes it easy to visualize what a program does and in what order.\n",
    "\n",
    "Each non-recursive solution has a recursive solution (with the use of a stack as a variable if it's needed)\n",
    "Each recursive solution has a non-recursive solution (with the use of a stack as the process memory)\n",
    "Choose based on which one results in the fastest and/or most readable and intuitive\n",
    "\n",
    "If a recursive algorithm performs no actions after the recursive call returns (called tail recursion), it can be easily implemented as an iterative algorithm with a simple loop. (check binary_search)\n",
    "If a recursive algorithm doesn't backtrack, then the stack in the iterative version can be omitted.\n",
    "\n",
    "## Recursion in Python\n",
    "\n",
    "- Python doesn’t have support for tail-call elimination (https://neopythonic.blogspot.com/2009/04/tail-recursion-elimination.html)\n",
    "- Python’s mutable data structures don’t support structural sharing, take care when using mutable parameters that are modified and is going to be re-use into a further call. To use independent structure from a mutable one, copy the data as a new variable and send it to the next call. (check sum_mult_len_wrong)\n",
    "\n",
    "## Disclaimer\n",
    "\n",
    "The programming technique of recursion can produce elegant code solutions.\n",
    "However, sometimes recursion is overused in cases where a simpler solution exists.\n",
    "Readable, easy-to-understand code is more important than any supposed elegance that recursion provides.\n",
    "Recursive algorithms can be hard to understand, have worse performance, and are susceptible to crash-causing stack overflow errors.\n",
    "\n",
    "## Memes\n",
    "\n",
    "Dr. John Wilander: \"When you finish a PhD in computer science, they take you to a special room and explain that you must never use recursion in real life. Its only purpose is to make programming hard for undergrads.\"\n",
    "# Origin: https://twitter.com/johnwilander/status/1176457013305303040\n",
    "# Meme thread: https://twitter.com/grady_booch/status/1177340563932119040\n",
    "\n",
    "https://www.google.com/search?q=recursion\n"
   ]
  },
  {
   "cell_type": "code",
   "execution_count": 1,
   "metadata": {
    "pycharm": {
     "name": "#%%\n"
    }
   },
   "outputs": [
    {
     "data": {
      "text/plain": [
       "3000"
      ]
     },
     "execution_count": 1,
     "metadata": {},
     "output_type": "execute_result"
    }
   ],
   "source": [
    "import sys\n",
    "\n",
    "recursion_limit = sys.getrecursionlimit()\n",
    "recursion_limit"
   ]
  },
  {
   "cell_type": "markdown",
   "metadata": {
    "pycharm": {
     "name": "#%% md\n"
    }
   },
   "source": [
    "## setrecursionlimit(n: int)\n",
    "\n",
    "May be useful when a code is working but is not optimized. Try to memoize the algorithm before increase recursion limit"
   ]
  },
  {
   "cell_type": "code",
   "execution_count": 2,
   "metadata": {
    "pycharm": {
     "name": "#%%\n"
    }
   },
   "outputs": [],
   "source": [
    "sys.setrecursionlimit(10000)"
   ]
  },
  {
   "cell_type": "markdown",
   "metadata": {
    "pycharm": {
     "name": "#%% md\n"
    }
   },
   "source": [
    "# Solving pattern recursion\n",
    "\n",
    "- <strong>Base case</strong> or <strong>Terminate condition</strong>: There are one or more <strong>base cases</strong> that are directly solvable without the need for further recursion.\n",
    "    - Reaching a base case doesn’t necessarily mean reaching the end of the recursive algorithm. It only means the base case won’t continue to make recursive calls.\n",
    "- <strong>Recursive case</strong> or <strong>Reductive case</strong>: Each recursive call moves the solution progressively closer to a <strong>base case</strong>.\n",
    "    - If a recursive case if not on a return expression, the code that follows the call will be executed, hence, take care about mutable variables.\n",
    "\n",
    "- The code in a recursive case can be split into three parts\n",
    "    - the code before the recursive call\n",
    "    - the code after the recursive call\n",
    "    - the code between recursive calls\n",
    "\n",
    "- Use recursion with parameters or not\n",
    "    to avoid to reduce a variable from each recursive call, use a new variable (as a parameter or as a global variable)\n",
    "      -  The new variable can be a <strong>substitute</strong> for the reductive case, most of the case that's a counter.\n",
    "      -  The new variable can be an <strong>accumulator</strong> that is changed at each new recursive call, the accumulator should be returned to the base case. It can also reduce the recursive call expression to do a tail call.\n",
    "      That's can be useful in order\n",
    "          - to not change the main variable\n",
    "          - to reduce the recursive call expression\n",
    "          - to keep a trace from previous stacks\n",
    "    (check basic examples)\n",
    "- Pattern with int\n",
    "    - To count a recursion, return 1 onto base cases when it's countable, 0 when it's not\n",
    "    (check count_leaf)\n",
    "- Pattern with boolean\n",
    "    - To check if all conditions are satisfied, return the test condition onto reductive cases with use of and, and True onto base case\n",
    "    - To check if one condition is satisfied, return the test condition onto reductive cases with use of or, and False onto base case\n",
    "    (check palindrome)\n",
    "- If the return values from the recursive case are never assigned/used\n",
    "    - you may return nothing on bases cases.\n",
    "    - the returns other than the base case return may be useful only for the original function call.\n",
    "    (check count_down_n_up)\n",
    "- With a recursion call, most of the time, use\n",
    "    - To count: return algorithm expression (most of the time (+) 1, 0)  (check power_sum)\n",
    "    - To test a condition: return boolean (check is_palindrome_rec)\n",
    "    - To trace a result: return [], [result, ..., results] (check power_sum_trace) (even though a trace can be pushed onto a global var (check power_sum_trace_global_var))\n",
    "    - With side effect: return None, \"The end condition\" (check solve_maze)\n",
    "- Detect the end of recursive algorithm while backtracking\n",
    "    - When testing recursive case in a loop, it backtracks. To return the correct wanted value from all different recursive case's return values, add a variable to stock the return value, if the return value means the stop of the algorithm, return it just after the call. Therefore, all execution after a recursive call will check the variable to know if the algorithm has to stop. (check Power of sum, Maze solving)\n",
    "    Do not return a recursive call on a loop without a condition, it will only execute the first iteration.\n",
    "- Optimization\n",
    "    - Tail recursion\n",
    "        - When the recursive function call is the last action of a recursive function. (check factorial_tail)\n",
    "    - Tail call optimization (tail call elimination / recursion elimination) (not supported by Python)\n",
    "        - A feature provided by a compiler or interpreter to avoid stack overflows by not pushing a frame object to the stack program.\n",
    "        - To allow the interpreter or compiler to implement tail call optimization, a function must use tail recursion. The last action a recursive function makes must be returning the results of the recursive call. No instructions can occur between making the recursive call and the return statement. The function does nothing with the local variables after the recursive call, so the current frame object can be deleted immediately.\n",
    "        - Most languages doesn't implement tail call optimization: The tail recursion technique should never be used, all tail recursive algorithms can be implemented with a loop alone. Since the code for loops is much simpler than a recursive function, a loop should be used wherever tail call optimization could be employed. Tail call optimization is simply a workaround hack to make some recursive algorithms actually workable rather than simply crash with a stack overflow.\n",
    "\n",
    "    - Memoization\n",
    "        - To save recursive calls that have been already executed, we save a key representing the current recursion call namespace into a dictionary to avoid the same recursive call for later. That's called <strong>Memoization</strong>.\n",
    "        - If a recursive algorithm is working but is too slow, it's often because it's not using memoization.\n",
    "        (check Fibonacci)\n",
    "- Strategy\n",
    "    - Divide-and-conquer\n",
    "        - The recursive case divides the problem into self-similar sub-problems, and the base case occurs when the sub-problem has been reduced to a trivial size.\n",
    "        For larger sets of data to process, we could farm out the sub-problems to different computers and have them all work together in parallel. There’s no need to wait for the first half of the array to be summed before another computer can start summing the second half.\n",
    "        This is a large advantage of the divide-and-conquer technique, as CPUs aren’t getting much faster, but we can have multiple CPUs work simultaneously.\n",
    "        (sum_div_conquer, quick_sort, binary_search)\n",
    "    - leap-of-faith\n",
    "        - Writing a recursive case assuming the function call returns the correct value even though we haven’t finished writing it yet. It's helpful to write the recursive case.\n",
    "        (check reverse)\n",
    "    - Head-Tail\n",
    "        - With a list given as an argument, the head part is analyzed and the tail part is thrown to the next recursion as the new list argument.\n",
    "        (check sum_rec, is_palindrome)\n",
    "    - Index argument\n",
    "        - Instead of using head-tail strategy, we don't reduce the list to the next recursion, we reduce the index that is used as an argument.\n",
    "        (check is_palindrome_index)\n",
    "\n",
    "## How to do\n",
    "\n",
    "Think of a tree, the root of the tree is analogous to the first call to a recursive function, the branching points are analogous to recursive cases, and the leaves are analogous to the base cases where no more recursive calls are made. An array, string, or other linear data structure can be considered a tree-like structure with one branch at each node, but it never does any backtracking over the data it processes. It makes a single pass over each element in the array from beginning to end, which is something a basic loop can accomplish faster.\n",
    "The first step is always identifying the recursive case and the base case.\n",
    "- A bottom-up approach\n",
    "    - Considering the base case first, and then see how larger and larger problems are constructed and solved from there.\n",
    "- A top-down approach\n",
    "    - Breaking the problem into sub-problems that are similar to the original problem but smaller; this is your recursive case. Then consider when the sub-problems are small enough to have a trivial answer; this is your base case.\n",
    "Your recursive function may have more than one recursive case or base case, but all recursive functions will always have at least one recursive case and at least one base case.\n",
    "\n",
    "3 Questions:\n",
    "- What is the base case ?\n",
    "- What arguments are passed to the recursive function call ?\n",
    "- How do these arguments become closer to the base case ?\n"
   ]
  },
  {
   "cell_type": "code",
   "execution_count": 3,
   "metadata": {
    "pycharm": {
     "name": "#%%\n"
    }
   },
   "outputs": [],
   "source": [
    "## Basic examples"
   ]
  },
  {
   "cell_type": "code",
   "execution_count": 4,
   "metadata": {
    "pycharm": {
     "name": "#%%\n"
    }
   },
   "outputs": [
    {
     "name": "stdout",
     "output_type": "stream",
     "text": [
      "3\n",
      "2\n",
      "1\n"
     ]
    }
   ],
   "source": [
    "def countdown(n):\n",
    "    if n == 0:  # Terminate condition\n",
    "        return\n",
    "    print(n)\n",
    "    countdown(n - 1)  # Recursive call using reductive case\n",
    "\n",
    "\n",
    "countdown(3)"
   ]
  },
  {
   "cell_type": "code",
   "execution_count": 5,
   "metadata": {
    "pycharm": {
     "name": "#%%\n"
    }
   },
   "outputs": [
    {
     "name": "stdout",
     "output_type": "stream",
     "text": [
      "3\n",
      "2\n",
      "1\n",
      "0\n",
      "Reached the base case.\n",
      "0\n",
      "1\n",
      "2\n",
      "3\n"
     ]
    }
   ],
   "source": [
    "def print_down_n_up(n):\n",
    "    \"\"\"Recursive function prints from any number down to zero, and then back up to the number\"\"\"\n",
    "    if n < 0:\n",
    "        print('Reached the base case.')\n",
    "        return\n",
    "    print(n)\n",
    "    print_down_n_up(n - 1)\n",
    "    print(n)\n",
    "\n",
    "\n",
    "print_down_n_up(3)"
   ]
  },
  {
   "cell_type": "code",
   "execution_count": 6,
   "metadata": {
    "pycharm": {
     "name": "#%%\n"
    }
   },
   "outputs": [
    {
     "data": {
      "text/plain": [
       "[8]"
      ]
     },
     "execution_count": 6,
     "metadata": {},
     "output_type": "execute_result"
    }
   ],
   "source": [
    "def count_down_n_up(n, acc=[0]):\n",
    "    \"\"\"Recursive function counts from any number down to zero, and then back up to the number\"\"\"\n",
    "    if n < 0:\n",
    "        return\n",
    "    acc[0] += 1\n",
    "    count_down_n_up(n - 1,\n",
    "                    acc)  # for each frame that use this recursive call, the return value will be ignored. So the base case can return nothing\n",
    "    acc[0] += 1\n",
    "    return acc  # because there is no expression that use the return value except outside this function, this return may be useful only for the original call\n",
    "\n",
    "\n",
    "count_down_n_up(3)"
   ]
  },
  {
   "cell_type": "code",
   "execution_count": 7,
   "metadata": {
    "pycharm": {
     "name": "#%%\n"
    }
   },
   "outputs": [
    {
     "name": "stdout",
     "output_type": "stream",
     "text": [
      "12\n"
     ]
    }
   ],
   "source": [
    "def sum_down_n_up(n, acc=[0]):\n",
    "    \"\"\"Recursive function sums from any number down to zero, and then back up to the number\"\"\"\n",
    "    if n < 0:\n",
    "        return\n",
    "    acc[0] += n\n",
    "    sum_down_n_up(n - 1, acc)\n",
    "    acc[0] += n\n",
    "    return acc[0]\n",
    "\n",
    "\n",
    "print(sum_down_n_up(3))  # 0 + 1 + 2 + 3 + 3 + 2 + 1 + 0"
   ]
  },
  {
   "cell_type": "code",
   "execution_count": 8,
   "metadata": {
    "pycharm": {
     "name": "#%%\n"
    }
   },
   "outputs": [
    {
     "data": {
      "text/plain": [
       "55"
      ]
     },
     "execution_count": 8,
     "metadata": {},
     "output_type": "execute_result"
    }
   ],
   "source": [
    "def sum_rec(n):\n",
    "    if n == 0:\n",
    "        return 0\n",
    "    return n + sum_rec(n - 1)  # Recursive call using reductive case\n",
    "\n",
    "\n",
    "sum_rec(10)"
   ]
  },
  {
   "cell_type": "code",
   "execution_count": 9,
   "metadata": {
    "pycharm": {
     "name": "#%%\n"
    }
   },
   "outputs": [
    {
     "data": {
      "text/plain": [
       "55"
      ]
     },
     "execution_count": 9,
     "metadata": {},
     "output_type": "execute_result"
    }
   ],
   "source": [
    "def sum_rec_sub(n, i=0):\n",
    "    if n == i:\n",
    "        return 0\n",
    "    return n - i + sum_rec_sub(n, i + 1)  # Recursive call using new variable as substitute\n",
    "\n",
    "\n",
    "sum_rec_sub(10)"
   ]
  },
  {
   "cell_type": "code",
   "execution_count": 10,
   "metadata": {
    "pycharm": {
     "name": "#%%\n"
    }
   },
   "outputs": [
    {
     "data": {
      "text/plain": [
       "55"
      ]
     },
     "execution_count": 10,
     "metadata": {},
     "output_type": "execute_result"
    }
   ],
   "source": [
    "def sum_rec_acc(n, i=1, accumulator=0):\n",
    "    if n == i - 1:\n",
    "        return accumulator\n",
    "    return sum_rec_acc(n, i + 1,\n",
    "                       accumulator + i)  # Recursive call using accumulator, reduce the recursive call expression\n",
    "\n",
    "\n",
    "sum_rec_acc(10)"
   ]
  },
  {
   "cell_type": "markdown",
   "metadata": {
    "pycharm": {
     "name": "#%% md\n"
    }
   },
   "source": [
    "### Parsing"
   ]
  },
  {
   "cell_type": "code",
   "execution_count": 11,
   "metadata": {
    "pycharm": {
     "name": "#%%\n"
    }
   },
   "outputs": [
    {
     "name": "stdout",
     "output_type": "stream",
     "text": [
      "['a', 'b', 'c', 'd', 'e', 'f']\n",
      "['b', 'c', 'd', 'e', 'f']\n",
      "['c', 'd', 'e', 'f']\n",
      "['d', 'e', 'f']\n",
      "['e', 'f']\n",
      "['f']\n",
      "6\n",
      "['a', 'b', 'c', 'd', 'e', 'f']\n",
      "['a', 'b', 'c', 'd', 'e']\n",
      "['a', 'b', 'c', 'd']\n",
      "['a', 'b', 'c']\n",
      "['a', 'b']\n",
      "['a']\n",
      "6\n",
      "['a', 'b', 'c', 'd', 'e', 'f']\n",
      "['a', 'b', 'c']\n",
      "['a']\n",
      "['b', 'c']\n",
      "['b']\n",
      "['c']\n",
      "['d', 'e', 'f']\n",
      "['d']\n",
      "['e', 'f']\n",
      "['e']\n",
      "['f']\n",
      "6\n"
     ]
    }
   ],
   "source": [
    "def left_to_right(lst):\n",
    "    if len(lst) == 0:\n",
    "        return 0\n",
    "    print(lst)\n",
    "    return 1 + left_to_right(lst[1:])\n",
    "\n",
    "\n",
    "def right_to_left(lst):\n",
    "    if len(lst) == 0:\n",
    "        return 0\n",
    "    print(lst)\n",
    "    return 1 + right_to_left(lst[:-1])\n",
    "\n",
    "\n",
    "def divide_subarray(lst):\n",
    "    if len(lst) == 0:\n",
    "        return 0\n",
    "    print(lst)\n",
    "    if len(lst) <= 1:\n",
    "        return 1\n",
    "    mid = len(lst) // 2\n",
    "    return divide_subarray(lst[:mid]) + divide_subarray(lst[mid:])\n",
    "\n",
    "\n",
    "letters = [\"a\", \"b\", \"c\", \"d\", \"e\", \"f\"]\n",
    "print(left_to_right(letters))\n",
    "print(right_to_left(letters))\n",
    "print(divide_subarray(letters))"
   ]
  },
  {
   "cell_type": "code",
   "execution_count": 12,
   "metadata": {
    "pycharm": {
     "name": "#%%\n"
    }
   },
   "outputs": [],
   "source": [
    "def reverse(text: str):\n",
    "    if len(text) <= 1:\n",
    "        return text\n",
    "    head = text[0]\n",
    "    tail = text[1:]\n",
    "    return reverse(tail) + head"
   ]
  },
  {
   "cell_type": "code",
   "execution_count": 13,
   "metadata": {
    "pycharm": {
     "name": "#%%\n"
    }
   },
   "outputs": [],
   "source": [
    "def is_palindrome_rec(text: str):\n",
    "    if len(text) <= 1:\n",
    "        return True\n",
    "    head = text[0]\n",
    "    middle = text[1:-1]\n",
    "    last = text[-1]\n",
    "    return head == last and is_palindrome_rec(middle)"
   ]
  },
  {
   "cell_type": "markdown",
   "metadata": {
    "pycharm": {
     "name": "#%% md\n"
    }
   },
   "source": [
    "### Calculates & count"
   ]
  },
  {
   "cell_type": "code",
   "execution_count": 14,
   "metadata": {
    "pycharm": {
     "name": "#%%\n"
    }
   },
   "outputs": [
    {
     "data": {
      "text/plain": [
       "120"
      ]
     },
     "execution_count": 14,
     "metadata": {},
     "output_type": "execute_result"
    }
   ],
   "source": [
    "def factorial(n):\n",
    "    if n in [0, 1]:\n",
    "        return 1\n",
    "    return n * factorial(\n",
    "        n - 1)  # The multiplication happens after the recursive call so this is not a tail recursion function\n",
    "\n",
    "\n",
    "factorial(5)"
   ]
  },
  {
   "cell_type": "code",
   "execution_count": 15,
   "metadata": {
    "pycharm": {
     "name": "#%%\n"
    }
   },
   "outputs": [
    {
     "data": {
      "text/plain": [
       "120"
      ]
     },
     "execution_count": 15,
     "metadata": {},
     "output_type": "execute_result"
    }
   ],
   "source": [
    "def factorial_iter(n):\n",
    "    result = 1\n",
    "    for i in range(2, n + 1):\n",
    "        result *= i\n",
    "    return result\n",
    "\n",
    "\n",
    "factorial_iter(5)"
   ]
  },
  {
   "cell_type": "code",
   "execution_count": 16,
   "metadata": {
    "pycharm": {
     "name": "#%%\n"
    }
   },
   "outputs": [
    {
     "data": {
      "text/plain": [
       "120"
      ]
     },
     "execution_count": 16,
     "metadata": {},
     "output_type": "execute_result"
    }
   ],
   "source": [
    "def factorial_tail(n, accumulator=1):\n",
    "    if n in [0, 1]:\n",
    "        return accumulator\n",
    "    return factorial_tail(n - 1, n * accumulator)\n",
    "\n",
    "\n",
    "factorial_tail(5)"
   ]
  },
  {
   "cell_type": "code",
   "execution_count": 17,
   "metadata": {
    "pycharm": {
     "name": "#%%\n"
    }
   },
   "outputs": [
    {
     "data": {
      "text/plain": [
       "33"
      ]
     },
     "execution_count": 17,
     "metadata": {},
     "output_type": "execute_result"
    }
   ],
   "source": [
    "array = [5, 8, 9, 10, 1]\n",
    "sum(array)"
   ]
  },
  {
   "cell_type": "code",
   "execution_count": 18,
   "metadata": {
    "pycharm": {
     "name": "#%%\n"
    }
   },
   "outputs": [
    {
     "data": {
      "text/plain": [
       "33"
      ]
     },
     "execution_count": 18,
     "metadata": {},
     "output_type": "execute_result"
    }
   ],
   "source": [
    "def sum_rec(numbers):\n",
    "    if len(numbers) == 0:\n",
    "        return 0\n",
    "    return numbers[0] + sum_rec(numbers[1:])\n",
    "\n",
    "\n",
    "sum_rec(array)"
   ]
  },
  {
   "cell_type": "code",
   "execution_count": 19,
   "metadata": {
    "pycharm": {
     "name": "#%%\n"
    }
   },
   "outputs": [
    {
     "data": {
      "text/plain": [
       "33"
      ]
     },
     "execution_count": 19,
     "metadata": {},
     "output_type": "execute_result"
    }
   ],
   "source": [
    "def sum_div_conquer(numbers):\n",
    "    if len(numbers) == 0:\n",
    "        return 0\n",
    "    elif len(numbers) == 1:\n",
    "        return numbers[0]\n",
    "    mid = len(numbers) // 2\n",
    "    return sum_div_conquer(numbers[:mid]) + sum_div_conquer(numbers[mid:])\n",
    "\n",
    "\n",
    "sum_div_conquer(array)"
   ]
  },
  {
   "cell_type": "code",
   "execution_count": 20,
   "metadata": {
    "pycharm": {
     "name": "#%%\n"
    }
   },
   "outputs": [],
   "source": [
    "#### Emulation of an iterative solution with a stack for the factorial recursion algorithm"
   ]
  },
  {
   "cell_type": "code",
   "execution_count": 21,
   "metadata": {
    "pycharm": {
     "name": "#%%\n"
    }
   },
   "outputs": [
    {
     "data": {
      "text/plain": [
       "120"
      ]
     },
     "execution_count": 21,
     "metadata": {},
     "output_type": "execute_result"
    }
   ],
   "source": [
    "def factorial_iter_emulates_rec(n):\n",
    "    stack = [{\"return_case\": \"new_call\", \"number\": n}]  # Will holds frame objects\n",
    "    result = None\n",
    "    while len(stack) > 0:\n",
    "        most_recent_frame = stack[-1]\n",
    "        number, return_case = most_recent_frame[\"number\"], most_recent_frame[\"return_case\"]\n",
    "        if return_case == \"new_call\":\n",
    "            if number == 1:  # BASE CASE\n",
    "                result = 1\n",
    "                stack.pop()  # Emulate a return\n",
    "                continue\n",
    "            else:  # RECURSIVE CASE\n",
    "                most_recent_frame[\"return_case\"] = \"after recursive call\"\n",
    "                stack.append({\"return_case\": \"new_call\", \"number\": number - 1})  # Emulate a call\n",
    "                continue\n",
    "        elif return_case == \"after recursive call\":\n",
    "            result *= number\n",
    "            stack.pop()  # Emulate a return\n",
    "        continue\n",
    "    return result\n",
    "\n",
    "\n",
    "factorial_iter_emulates_rec(5)"
   ]
  },
  {
   "cell_type": "code",
   "execution_count": 22,
   "metadata": {
    "pycharm": {
     "name": "#%%\n"
    }
   },
   "outputs": [],
   "source": [
    "leaf = str\n",
    "nested_list = list[\"nested_list\"] | leaf\n",
    "names: nested_list = [\n",
    "    \"Adam\",\n",
    "    [\n",
    "        \"Bob\",\n",
    "        [\n",
    "            \"Chet\",\n",
    "            \"Cat\",\n",
    "        ],\n",
    "        \"Barb\",\n",
    "        \"Bert\"\n",
    "    ],\n",
    "    \"Alex\",\n",
    "    [\n",
    "        \"Bea\",\n",
    "        []\n",
    "    ],\n",
    "    \"Ann\"\n",
    "]"
   ]
  },
  {
   "cell_type": "code",
   "execution_count": 23,
   "metadata": {
    "pycharm": {
     "name": "#%%\n"
    }
   },
   "outputs": [
    {
     "data": {
      "text/plain": [
       "9"
      ]
     },
     "execution_count": 23,
     "metadata": {},
     "output_type": "execute_result"
    }
   ],
   "source": [
    "def count_leaf_rec(lst: nested_list):\n",
    "    if not isinstance(lst, list):\n",
    "        return 1\n",
    "    return sum(count_leaf_rec(element) for element in lst)  # sum([]) return 0\n",
    "\n",
    "\n",
    "count_leaf_rec(names)"
   ]
  },
  {
   "cell_type": "code",
   "execution_count": 24,
   "metadata": {
    "pycharm": {
     "name": "#%%\n"
    }
   },
   "outputs": [
    {
     "data": {
      "text/plain": [
       "9"
      ]
     },
     "execution_count": 24,
     "metadata": {},
     "output_type": "execute_result"
    }
   ],
   "source": [
    "def count_leaf_iter(item_list):\n",
    "    count = 0\n",
    "    stack = []\n",
    "    current_list = item_list\n",
    "    current_i = 0\n",
    "    while True:\n",
    "        if current_i == len(current_list):\n",
    "            if current_list == item_list:\n",
    "                return count\n",
    "            else:\n",
    "                current_list, current_i = stack.pop()\n",
    "                current_i += 1\n",
    "                continue\n",
    "        if isinstance(current_list[current_i], list):\n",
    "            stack.append([current_list, current_i])\n",
    "            current_list = current_list[current_i]\n",
    "            current_i = 0\n",
    "        else:\n",
    "            count += 1\n",
    "            current_i += 1\n",
    "\n",
    "\n",
    "count_leaf_iter(names)"
   ]
  },
  {
   "cell_type": "markdown",
   "metadata": {
    "pycharm": {
     "name": "#%% md\n"
    }
   },
   "source": [
    "### Boolean use case"
   ]
  },
  {
   "cell_type": "code",
   "execution_count": 25,
   "metadata": {
    "pycharm": {
     "name": "#%%\n"
    }
   },
   "outputs": [
    {
     "name": "stdout",
     "output_type": "stream",
     "text": [
      "True True True False True True False\n",
      "True True True False True True False\n"
     ]
    }
   ],
   "source": [
    "def is_palindrome(word):\n",
    "    if len(word) <= 1:\n",
    "        return True\n",
    "    return word[0] == word[-1] and is_palindrome(word[1:-1])\n",
    "\n",
    "\n",
    "def is_palindrome_index(word, i=0):\n",
    "    if i >= len(word) / 2:\n",
    "        return True\n",
    "    elif word[i] == word[-1 - i]:\n",
    "        return is_palindrome_index(word, i + 1)\n",
    "    return False\n",
    "\n",
    "\n",
    "print(is_palindrome_index(\"\"), is_palindrome_index(\"a\"), is_palindrome_index(\"aa\"), is_palindrome_index(\"ab\"),\n",
    "      is_palindrome_index(\"aba\"), is_palindrome_index(\"racecar\"), is_palindrome_index(\"apple\"))\n",
    "print(is_palindrome(\"\"), is_palindrome(\"a\"), is_palindrome(\"aa\"), is_palindrome(\"ab\"), is_palindrome(\"aba\"),\n",
    "      is_palindrome(\"racecar\"), is_palindrome(\"apple\"))"
   ]
  },
  {
   "cell_type": "markdown",
   "metadata": {
    "pycharm": {
     "name": "#%% md\n"
    }
   },
   "source": [
    "### Sorting"
   ]
  },
  {
   "cell_type": "code",
   "execution_count": 26,
   "metadata": {
    "pycharm": {
     "name": "#%%\n"
    }
   },
   "outputs": [
    {
     "name": "stdout",
     "output_type": "stream",
     "text": [
      "[1, 3, 5, 7, 8, 9]\n",
      "[1, 3, 5, 7, 8, 9]\n"
     ]
    }
   ],
   "source": [
    "import statistics\n",
    "\n",
    "\n",
    "def quicksort_trivial(lst):\n",
    "    if len(lst) <= 1:\n",
    "        return lst\n",
    "    pivot = statistics.median([lst[0], lst[len(lst) // 2], lst[-1]])\n",
    "    items_less = [n for n in lst if n < pivot]\n",
    "    pivot_items = [n for n in lst if n == pivot]\n",
    "    items_greater = [n for n in lst if n > pivot]\n",
    "    return quicksort_trivial(items_less) + pivot_items + quicksort_trivial(items_greater)\n",
    "\n",
    "\n",
    "def quick_sort(lst):\n",
    "    if len(lst) <= 1:\n",
    "        return lst\n",
    "    pivot = lst[0]\n",
    "    return quick_sort([x for x in lst[1:] if x <= pivot]) + [pivot] + quick_sort([x for x in lst[1:] if x > pivot])\n",
    "\n",
    "\n",
    "array = [5, 7, 8, 9, 3, 1]\n",
    "print(quicksort_trivial(array))\n",
    "print(quick_sort(array))"
   ]
  },
  {
   "cell_type": "code",
   "execution_count": 27,
   "metadata": {
    "pycharm": {
     "name": "#%%\n"
    }
   },
   "outputs": [],
   "source": [
    "### Finding"
   ]
  },
  {
   "cell_type": "code",
   "execution_count": 28,
   "metadata": {
    "pycharm": {
     "name": "#%%\n"
    }
   },
   "outputs": [
    {
     "name": "stdout",
     "output_type": "stream",
     "text": [
      "8\n"
     ]
    }
   ],
   "source": [
    "def binary_search(needle, haystack):\n",
    "    \"\"\" Locating a target item in a sorted list \"\"\"\n",
    "\n",
    "    def aux(start_cursor, end_cursor):\n",
    "        if start_cursor > end_cursor:\n",
    "            return None\n",
    "        mid = (start_cursor + end_cursor) // 2\n",
    "        if needle == haystack[mid]:\n",
    "            return mid\n",
    "        return aux(mid + 1 if needle > haystack[mid] else start_cursor,\n",
    "                   mid - 1 if needle < haystack[mid] else end_cursor)\n",
    "\n",
    "    return aux(0, len(haystack) - 1)\n",
    "\n",
    "\n",
    "print(binary_search(\"Y\", \"AEIOPRTUYZ\"))\n"
   ]
  },
  {
   "cell_type": "code",
   "execution_count": 29,
   "metadata": {
    "pycharm": {
     "name": "#%%\n"
    }
   },
   "outputs": [
    {
     "name": "stdout",
     "output_type": "stream",
     "text": [
      "8\n"
     ]
    }
   ],
   "source": [
    "def binary_search_iter(needle, haystack):\n",
    "    def aux(start_cursor, end_cursor):\n",
    "        while True:\n",
    "            if start_cursor > end_cursor:\n",
    "                return None\n",
    "            mid = (start_cursor + end_cursor) // 2\n",
    "            if needle == haystack[mid]:\n",
    "                return mid\n",
    "            start_cursor = mid + 1 if needle > haystack[mid] else start_cursor\n",
    "            end_cursor = mid - 1 if needle < haystack[mid] else end_cursor\n",
    "\n",
    "    return aux(0, len(haystack) - 1)\n",
    "\n",
    "\n",
    "print(binary_search_iter(\"Y\", \"AEIOPRTUYZ\"))\n"
   ]
  },
  {
   "cell_type": "markdown",
   "metadata": {
    "pycharm": {
     "name": "#%% md\n"
    }
   },
   "source": [
    "### Mutable parameter"
   ]
  },
  {
   "cell_type": "code",
   "execution_count": 30,
   "metadata": {
    "pycharm": {
     "name": "#%%\n"
    }
   },
   "outputs": [
    {
     "name": "stdout",
     "output_type": "stream",
     "text": [
      "[50, 24, 9, 2, 0]\n",
      "[] \n",
      "\n",
      "[75, 56, 36, 18, 5]\n",
      "[] \n",
      "\n",
      "[75, 56, 36, 18, 5]\n",
      "[1, 2, 3, 4, 5]\n"
     ]
    }
   ],
   "source": [
    "def sum_mult_len_wrong(a: list[int], accumulator: list[int]):\n",
    "    if len(a) == 0:\n",
    "        return accumulator\n",
    "    # do not modify a mutable parameter if it's going to be re-use into a further call and the behaviour is not wanted, sometimes, it can be well hidden\n",
    "    for i in range(len(a)):\n",
    "        a[i] = i * len(\n",
    "            a)  # because of this for loop that modify directly \"a\", \"a\" is going to be changed outside this function\n",
    "    # a = [i * len(a) for i in a]   # this comprehension list create a new list, \"a\" is not going to be changed outside this function but the function result is still wrong\n",
    "    accumulator.append(\n",
    "        sum(a))  # Here, the behaviour of modifying the mutable parameter :accumulator: for the next call is wanted\n",
    "    del a[0]\n",
    "    return sum_mult_len_wrong(a, accumulator)\n",
    "\n",
    "\n",
    "def sum_mult_len_ok(a: list[int], accumulator: list[int]):\n",
    "    if len(a) == 0:\n",
    "        return accumulator\n",
    "    copy_list = list(a)\n",
    "    copy_list = [i * len(copy_list) for i in copy_list]\n",
    "    accumulator.append(sum(copy_list))\n",
    "    del a[0]  #   \"a\" is going to be changed outside this function\n",
    "    return sum_mult_len_ok(a, accumulator)\n",
    "\n",
    "\n",
    "def sum_mult_len(a: list[int], accumulator: list[int]):\n",
    "    if len(a) == 0:\n",
    "        return accumulator\n",
    "    return sum_mult_len(a[1:], accumulator + [sum([i * len(a) for i in a])])\n",
    "\n",
    "\n",
    "lst = [1, 2, 3, 4, 5]\n",
    "print(sum_mult_len_wrong(lst, []))\n",
    "print(lst, \"\\n\")\n",
    "lst = [1, 2, 3, 4, 5]\n",
    "print(sum_mult_len_ok(lst, []))\n",
    "print(lst, \"\\n\")\n",
    "lst = [1, 2, 3, 4, 5]\n",
    "print(sum_mult_len(lst, []))\n",
    "print(lst)"
   ]
  },
  {
   "cell_type": "markdown",
   "metadata": {
    "pycharm": {
     "name": "#%% md\n"
    }
   },
   "source": [
    "### Memoization"
   ]
  },
  {
   "cell_type": "code",
   "execution_count": 31,
   "metadata": {
    "pycharm": {
     "name": "#%%\n"
    }
   },
   "outputs": [
    {
     "name": "stdout",
     "output_type": "stream",
     "text": [
      "24157817\n",
      "24157817\n"
     ]
    }
   ],
   "source": [
    "def fibonacci_iter(n):\n",
    "    a, b = 0, 1\n",
    "    for _ in range(n):\n",
    "        a, b = b, a + b\n",
    "    return a\n",
    "\n",
    "\n",
    "def fibonacci_rec(n):\n",
    "    if n in (0, 1):\n",
    "        return n\n",
    "    return fibonacci_rec(n - 1) + fibonacci_rec(n - 2)\n",
    "\n",
    "\n",
    "print(fibonacci_iter(37))\n",
    "print(fibonacci_rec(37))"
   ]
  },
  {
   "cell_type": "code",
   "execution_count": 32,
   "metadata": {
    "pycharm": {
     "name": "#%%\n"
    }
   },
   "outputs": [
    {
     "data": {
      "text/plain": [
       "9227465"
      ]
     },
     "execution_count": 32,
     "metadata": {},
     "output_type": "execute_result"
    }
   ],
   "source": [
    "def fibonacci_memoized(n):\n",
    "    if n in (0, 1):\n",
    "        return n\n",
    "    elif n in memoize:\n",
    "        # print(n, \"already parsed\")\n",
    "        return memoize[n]\n",
    "    result = fibonacci_memoized(n - 1) + fibonacci_memoized(n - 2)\n",
    "    memoize[n] = result\n",
    "    return result\n",
    "\n",
    "\n",
    "memoize = {}\n",
    "fibonacci_memoized(35)"
   ]
  },
  {
   "cell_type": "code",
   "execution_count": 33,
   "metadata": {
    "pycharm": {
     "name": "#%%\n"
    }
   },
   "outputs": [
    {
     "data": {
      "text/plain": [
       "9227465"
      ]
     },
     "execution_count": 33,
     "metadata": {},
     "output_type": "execute_result"
    }
   ],
   "source": [
    "from functools import lru_cache\n",
    "\n",
    "\n",
    "@lru_cache()\n",
    "def fibonacci_memoized_lib(n):\n",
    "    if n in (0, 1):\n",
    "        return n\n",
    "    return fibonacci_memoized_lib(n - 1) + fibonacci_memoized_lib(n - 2)\n",
    "\n",
    "\n",
    "fibonacci_memoized_lib(35)"
   ]
  },
  {
   "cell_type": "code",
   "execution_count": 34,
   "metadata": {
    "pycharm": {
     "name": "#%%\n"
    }
   },
   "outputs": [],
   "source": [
    "## Advanced example"
   ]
  },
  {
   "cell_type": "code",
   "execution_count": 35,
   "metadata": {
    "pycharm": {
     "name": "#%%\n"
    }
   },
   "outputs": [
    {
     "name": "stdout",
     "output_type": "stream",
     "text": [
      "1\n",
      "3\n",
      "9\n",
      "55\n"
     ]
    }
   ],
   "source": [
    "# Power of sum\n",
    "# The number of ways that a given integer N can be expressed as the sum of the P powers of unique natural numbers.\n",
    "\n",
    "\n",
    "def power_sum_count(N: int, P: int, trace=[], memoization=None):\n",
    "    if memoization is None:\n",
    "        memoization = {}\n",
    "    current_trace = frozenset(trace)\n",
    "    if current_trace in memoization:\n",
    "        # print(\"___\", trace, sum((x**2 for x in trace)))\n",
    "        return 0\n",
    "    # print(trace, sum((x**2 for x in trace)))\n",
    "    memoization[current_trace] = True\n",
    "    if N == 0:\n",
    "        return 1\n",
    "    elif N < 0:\n",
    "        return 0\n",
    "    check_numbers = frozenset(range(1, int(N ** (1 / P)) + 1)).difference(current_trace)\n",
    "    return sum([power_sum_count(N - n ** P, P, trace + [n], memoization) for n in check_numbers])\n",
    "\n",
    "\n",
    "print(power_sum_count(10, 2))\n",
    "print(power_sum_count(100, 2))\n",
    "print(power_sum_count(200, 2))\n",
    "print(power_sum_count(400, 2))"
   ]
  },
  {
   "cell_type": "code",
   "execution_count": 36,
   "metadata": {
    "pycharm": {
     "name": "#%%\n"
    }
   },
   "outputs": [
    {
     "name": "stdout",
     "output_type": "stream",
     "text": [
      "[[1, 3]]\n",
      "[[10], [6, 8], [1, 3, 4, 5, 7]]\n",
      "[[2, 14], [6, 8, 10], [2, 4, 6, 12], [1, 2, 5, 7, 11], [3, 5, 6, 7, 9], [1, 2, 3, 4, 7, 11], [1, 3, 4, 5, 7, 10], [1, 2, 3, 4, 5, 8, 9], [1, 3, 4, 5, 6, 7, 8]]\n",
      "[[20], [12, 16], [1, 2, 3, 5, 19], [1, 2, 5, 9, 17], [1, 2, 7, 11, 15], [1, 3, 5, 13, 14], [1, 3, 10, 11, 13], [1, 5, 6, 7, 17], [1, 5, 7, 10, 15], [1, 7, 9, 10, 13], [2, 5, 9, 11, 13], [2, 6, 8, 10, 14], [3, 5, 7, 11, 14], [3, 6, 7, 9, 15], [5, 6, 7, 11, 13], [1, 2, 3, 4, 9, 17], [1, 2, 3, 7, 9, 16], [1, 2, 5, 8, 9, 15], [1, 2, 7, 9, 11, 12], [1, 3, 4, 6, 7, 17], [1, 3, 4, 7, 10, 15], [1, 3, 5, 10, 11, 12], [1, 3, 6, 8, 11, 13], [1, 3, 7, 8, 9, 14], [1, 5, 6, 7, 8, 15], [1, 5, 7, 9, 10, 12], [1, 6, 7, 8, 9, 13], [2, 3, 4, 5, 11, 15], [2, 3, 4, 9, 11, 13], [2, 3, 5, 7, 12, 13], [2, 4, 5, 7, 9, 15], [3, 4, 5, 9, 10, 13], [3, 4, 6, 7, 11, 13], [3, 5, 8, 9, 10, 11], [1, 2, 3, 4, 8, 9, 15], [1, 2, 3, 5, 6, 10, 15], [1, 2, 3, 6, 9, 10, 13], [1, 2, 4, 5, 8, 11, 13], [1, 3, 4, 5, 6, 12, 13], [1, 3, 4, 6, 7, 8, 15], [1, 3, 4, 7, 9, 10, 12], [1, 3, 5, 6, 8, 11, 12], [1, 5, 6, 7, 8, 9, 12], [2, 3, 4, 5, 9, 11, 12], [2, 3, 5, 6, 7, 9, 14], [2, 3, 6, 7, 9, 10, 11], [3, 4, 5, 6, 7, 11, 12], [3, 4, 5, 6, 8, 9, 13], [1, 2, 3, 4, 5, 7, 10, 14], [1, 2, 3, 5, 6, 9, 10, 12], [1, 2, 4, 5, 6, 7, 10, 13], [1, 2, 5, 6, 7, 8, 10, 11], [1, 3, 4, 6, 7, 8, 9, 12], [1, 2, 3, 4, 5, 6, 7, 8, 14], [1, 2, 3, 4, 6, 7, 8, 10, 11]]\n"
     ]
    }
   ],
   "source": [
    "# trace with global var traces\n",
    "def power_sum_trace_global_var(N: int, P: int, memoization=None):\n",
    "    traces = []\n",
    "    if memoization is None:\n",
    "        memoization = {}\n",
    "\n",
    "    def aux(N, P, trace):\n",
    "        current_trace = frozenset(trace)\n",
    "        if current_trace in memoization:\n",
    "            return 0\n",
    "        memoization[current_trace] = True\n",
    "        if N == 0:\n",
    "            traces.append(trace)\n",
    "            return 1\n",
    "        elif N < 0:\n",
    "            return 0\n",
    "        check_numbers = frozenset(range(1, int(N ** (1 / P)) + 1)).difference(current_trace)\n",
    "        return sum([aux(N - n ** P, P, trace + [n]) for n in check_numbers])\n",
    "\n",
    "    aux(N, P, [])\n",
    "    return sorted(traces, key=len)\n",
    "\n",
    "\n",
    "print(power_sum_trace_global_var(10, 2))\n",
    "print(power_sum_trace_global_var(100, 2))\n",
    "print(power_sum_trace_global_var(200, 2))\n",
    "print(power_sum_trace_global_var(400, 2))"
   ]
  },
  {
   "cell_type": "code",
   "execution_count": 37,
   "metadata": {
    "pycharm": {
     "name": "#%%\n"
    }
   },
   "outputs": [
    {
     "name": "stdout",
     "output_type": "stream",
     "text": [
      "[[1, 3]]\n",
      "[[1, 3, 4, 5, 7], [6, 8], [10]]\n",
      "[[1, 2, 3, 4, 5, 8, 9], [1, 2, 3, 4, 7, 11], [1, 2, 5, 7, 11], [1, 3, 4, 5, 6, 7, 8], [1, 3, 4, 5, 7, 10], [2, 4, 6, 12], [2, 14], [3, 5, 6, 7, 9], [6, 8, 10]]\n",
      "[[1, 2, 3, 4, 5, 6, 7, 8, 14], [1, 2, 3, 4, 5, 7, 10, 14], [1, 2, 3, 4, 6, 7, 8, 10, 11], [1, 2, 3, 4, 8, 9, 15], [1, 2, 3, 4, 9, 17], [1, 2, 3, 5, 6, 9, 10, 12], [1, 2, 3, 5, 6, 10, 15], [1, 2, 3, 5, 19], [1, 2, 3, 6, 9, 10, 13], [1, 2, 3, 7, 9, 16], [1, 2, 4, 5, 6, 7, 10, 13], [1, 2, 4, 5, 8, 11, 13], [1, 2, 5, 6, 7, 8, 10, 11], [1, 2, 5, 8, 9, 15], [1, 2, 5, 9, 17], [1, 2, 7, 9, 11, 12], [1, 2, 7, 11, 15], [1, 3, 4, 5, 6, 12, 13], [1, 3, 4, 6, 7, 8, 9, 12], [1, 3, 4, 6, 7, 8, 15], [1, 3, 4, 6, 7, 17], [1, 3, 4, 7, 9, 10, 12], [1, 3, 4, 7, 10, 15], [1, 3, 5, 6, 8, 11, 12], [1, 3, 5, 10, 11, 12], [1, 3, 5, 13, 14], [1, 3, 6, 8, 11, 13], [1, 3, 7, 8, 9, 14], [1, 3, 10, 11, 13], [1, 5, 6, 7, 8, 9, 12], [1, 5, 6, 7, 8, 15], [1, 5, 6, 7, 17], [1, 5, 7, 9, 10, 12], [1, 5, 7, 10, 15], [1, 6, 7, 8, 9, 13], [1, 7, 9, 10, 13], [2, 3, 4, 5, 9, 11, 12], [2, 3, 4, 5, 11, 15], [2, 3, 4, 9, 11, 13], [2, 3, 5, 6, 7, 9, 14], [2, 3, 5, 7, 12, 13], [2, 3, 6, 7, 9, 10, 11], [2, 4, 5, 7, 9, 15], [2, 5, 9, 11, 13], [2, 6, 8, 10, 14], [3, 4, 5, 6, 7, 11, 12], [3, 4, 5, 6, 8, 9, 13], [3, 4, 5, 9, 10, 13], [3, 4, 6, 7, 11, 13], [3, 5, 7, 11, 14], [3, 5, 8, 9, 10, 11], [3, 6, 7, 9, 15], [5, 6, 7, 11, 13], [12, 16], [20]]\n"
     ]
    }
   ],
   "source": [
    "# trace with return values\n",
    "def power_sum_trace(N: int, P: int, trace=[], memoization=None):\n",
    "    if memoization is None:\n",
    "        memoization = {}\n",
    "    current_trace = frozenset(trace)\n",
    "    if current_trace in memoization:\n",
    "        return []\n",
    "    memoization[current_trace] = True\n",
    "    if N == 0:\n",
    "        return trace\n",
    "    elif N < 0:\n",
    "        return []\n",
    "    check_numbers = frozenset(range(1, int(N ** (1 / P)) + 1)).difference(current_trace)\n",
    "    traces = []\n",
    "    for n in check_numbers:\n",
    "        results = power_sum_trace(N - n ** P, P, trace + [n], memoization)\n",
    "        if len(results):\n",
    "            if type(results[0]) is int:\n",
    "                results = [results]\n",
    "            for result in results:\n",
    "                traces.append(result)\n",
    "    return traces\n",
    "\n",
    "\n",
    "print(power_sum_trace(10, 2))\n",
    "print(power_sum_trace(100, 2))\n",
    "print(power_sum_trace(200, 2))\n",
    "print(power_sum_trace(400, 2))\n"
   ]
  },
  {
   "cell_type": "code",
   "execution_count": 38,
   "metadata": {
    "pycharm": {
     "name": "#%%\n"
    }
   },
   "outputs": [
    {
     "name": "stdout",
     "output_type": "stream",
     "text": [
      "#######################################################################\n",
      "#S#             ....# ......# #   #     # ........#.....#...#         #\n",
      "#.##### #########.#.###.###.# # # # ### # #.#####.#.###.#.#.##### # ###\n",
      "#.#...#     #.....#.....#...# # #   # #   #.#   ....# #.#.#.....# #   #\n",
      "#.#.#.##### #.###########.### # ##### #####.######### #.#.#####.### # #\n",
      "#...#.....# #.#     #...#...#   #         #.......#   #...#..E#...# # #\n",
      "#########.# #.# #####.#.###.# ########### #######.# # #####.#####.### #\n",
      "#       #.# #.#     #.#.....# #   #   #   #     #.# #   # ........#   #\n",
      "# # #####.# #.### # #.####### # # # # # # # #####.### ### ######### # #\n",
      "# # #...#.# #...# # #.....#     #   #   #   #...#...#     #         # #\n",
      "### #.#.#.# ###.# # #####.####### ###########.#.###.# ##### ##### ### #\n",
      "#   #.#...# #...# #     #...#     #.......#...#.....# #     #     #   #\n",
      "# ###.#######.##### ### ###.#######.#####.#.######### ### ### ##### ###\n",
      "#   #.........#     #     #.......#...# #...# #     #   # #   # #   # #\n",
      "### ########### # ####### #######.###.# ##### # # ##### # # ### # ### #\n",
      "#   #   #       # #     #   #   #.....#       # # #     # # #   # #   #\n",
      "# ### # # ####### # ### ##### # ####### ### ### # # ####### # # # ### #\n",
      "#     #         #     #       #           #     #           # #       #\n",
      "#######################################################################\n"
     ]
    }
   ],
   "source": [
    "# Simply connected Maze solving (Binary Tree) the maze cannot have any loops.\n",
    "\n",
    "from copy import copy\n",
    "from typing import NamedTuple\n",
    "\n",
    "Point: NamedTuple = NamedTuple(\"Point\", x=int, y=int)\n",
    "maze = \"\"\"\n",
    "#######################################################################\n",
    "#S#                 #       # #   #     #         #     #   #         #\n",
    "# ##### ######### # ### ### # # # # ### # # ##### # ### # # ##### # ###\n",
    "# #   #     #     #     #   # # #   # #   # #       # # # #     # #   #\n",
    "# # # ##### # ########### ### # ##### ##### ######### # # ##### ### # #\n",
    "#   #     # # #     #   #   #   #         #       #   #   #  E#   # # #\n",
    "######### # # # ##### # ### # ########### ####### # # ##### ##### ### #\n",
    "#       # # # #     # #     # #   #   #   #     # # #   #         #   #\n",
    "# # ##### # # ### # # ####### # # # # # # # ##### ### ### ######### # #\n",
    "# # #   # # #   # # #     #     #   #   #   #   #   #     #         # #\n",
    "### # # # # ### # # ##### ####### ########### # ### # ##### ##### ### #\n",
    "#   # #   # #   # #     #   #     #       #   #     # #     #     #   #\n",
    "# ### ####### ##### ### ### ####### ##### # ######### ### ### ##### ###\n",
    "#   #         #     #     #       #   # #   # #     #   # #   # #   # #\n",
    "### ########### # ####### ####### ### # ##### # # ##### # # ### # ### #\n",
    "#   #   #       # #     #   #   #     #       # # #     # # #   # #   #\n",
    "# ### # # ####### # ### ##### # ####### ### ### # # ####### # # # ### #\n",
    "#     #         #     #       #           #     #           # #       #\n",
    "#######################################################################\n",
    "\"\"\".split('\\n')[1:-1]\n",
    "\n",
    "\n",
    "def find_start(maze):\n",
    "    width = len(maze[0])\n",
    "    height = len(maze)\n",
    "    for y in range(width):\n",
    "        for x in range(height):\n",
    "            if maze[y][x] == \"S\":\n",
    "                return Point(x, y)\n",
    "\n",
    "\n",
    "def get_closest_tile(p):\n",
    "    return Point(p.x - 1, p.y), Point(p.x, p.y - 1), Point(p.x + 1, p.y), Point(p.x, p.y + 1)\n",
    "\n",
    "\n",
    "def sub_char(text, char, index):\n",
    "    return text[:index] + char + text[index + 1:]\n",
    "\n",
    "\n",
    "def solve_maze(start, maze):\n",
    "    def is_end(p, maze):\n",
    "        return maze[p.y][p.x] == \"E\"\n",
    "\n",
    "    def get_closest_free_tile(start, maze):\n",
    "        return [p for p in get_closest_tile(start) if maze[p.y][p.x] in \" E\"]\n",
    "\n",
    "    def go_to_next_intersection_choice(start, maze) -> str | list[Point]:\n",
    "        free_tiles = get_closest_free_tile(start, maze)\n",
    "        if is_end(start, maze):\n",
    "            return \"END\"\n",
    "        elif len(free_tiles) == 0:\n",
    "            return \"DEAD_END\"\n",
    "        elif len(free_tiles) > 1:\n",
    "            return free_tiles\n",
    "        free_tile = free_tiles[0]\n",
    "        if maze[free_tile.y][free_tile.x] not in \"SE\":\n",
    "            maze[free_tile.y] = sub_char(maze[free_tile.y], \".\", free_tile.x)\n",
    "        return go_to_next_intersection_choice(free_tile, maze)\n",
    "\n",
    "    if is_end(start, maze):\n",
    "        return maze\n",
    "    if maze[start.y][start.x] not in \"SE\":\n",
    "        maze[start.y] = sub_char(maze[start.y], \".\", start.x)\n",
    "    maze_copy = copy(maze)\n",
    "    intersection_tile = go_to_next_intersection_choice(start, maze_copy)\n",
    "    # print(\"\\n\".join(maze_copy))\n",
    "    if intersection_tile == \"END\":\n",
    "        return maze_copy\n",
    "    if intersection_tile == \"DEAD_END\":\n",
    "        return\n",
    "    for free_tile in intersection_tile:\n",
    "        result = solve_maze(free_tile, maze_copy)\n",
    "        if result:\n",
    "            return result\n",
    "\n",
    "\n",
    "start = find_start(maze)\n",
    "solved_maze = solve_maze(start, maze)\n",
    "print(\"\\n\".join(solved_maze))"
   ]
  },
  {
   "cell_type": "code",
   "execution_count": 39,
   "metadata": {
    "pycharm": {
     "name": "#%%\n"
    }
   },
   "outputs": [
    {
     "name": "stdout",
     "output_type": "stream",
     "text": [
      "    ||        ||        ||    \n",
      "   @_1@       ||        ||    \n",
      "  @@_2@@      ||        ||    \n",
      " @@@_3@@@     ||        ||    \n",
      "@@@@_4@@@@    ||        ||    \n",
      "     A         B         C\n",
      "\n",
      "    ||        ||        ||    \n",
      "    ||        ||        ||    \n",
      "  @@_2@@      ||        ||    \n",
      " @@@_3@@@     ||        ||    \n",
      "@@@@_4@@@@   @_1@       ||    \n",
      "     A         B         C\n",
      "\n",
      "    ||        ||        ||    \n",
      "    ||        ||        ||    \n",
      "    ||        ||        ||    \n",
      " @@@_3@@@     ||        ||    \n",
      "@@@@_4@@@@   @_1@     @@_2@@  \n",
      "     A         B         C\n",
      "\n",
      "    ||        ||        ||    \n",
      "    ||        ||        ||    \n",
      "    ||        ||        ||    \n",
      " @@@_3@@@     ||       @_1@   \n",
      "@@@@_4@@@@    ||      @@_2@@  \n",
      "     A         B         C\n",
      "\n",
      "    ||        ||        ||    \n",
      "    ||        ||        ||    \n",
      "    ||        ||        ||    \n",
      "    ||        ||       @_1@   \n",
      "@@@@_4@@@@ @@@_3@@@   @@_2@@  \n",
      "     A         B         C\n",
      "\n",
      "    ||        ||        ||    \n",
      "    ||        ||        ||    \n",
      "    ||        ||        ||    \n",
      "   @_1@       ||        ||    \n",
      "@@@@_4@@@@ @@@_3@@@   @@_2@@  \n",
      "     A         B         C\n",
      "\n",
      "    ||        ||        ||    \n",
      "    ||        ||        ||    \n",
      "    ||        ||        ||    \n",
      "   @_1@     @@_2@@      ||    \n",
      "@@@@_4@@@@ @@@_3@@@     ||    \n",
      "     A         B         C\n",
      "\n",
      "    ||        ||        ||    \n",
      "    ||        ||        ||    \n",
      "    ||       @_1@       ||    \n",
      "    ||      @@_2@@      ||    \n",
      "@@@@_4@@@@ @@@_3@@@     ||    \n",
      "     A         B         C\n",
      "\n",
      "    ||        ||        ||    \n",
      "    ||        ||        ||    \n",
      "    ||       @_1@       ||    \n",
      "    ||      @@_2@@      ||    \n",
      "    ||     @@@_3@@@ @@@@_4@@@@\n",
      "     A         B         C\n",
      "\n",
      "    ||        ||        ||    \n",
      "    ||        ||        ||    \n",
      "    ||        ||        ||    \n",
      "    ||      @@_2@@     @_1@   \n",
      "    ||     @@@_3@@@ @@@@_4@@@@\n",
      "     A         B         C\n",
      "\n",
      "    ||        ||        ||    \n",
      "    ||        ||        ||    \n",
      "    ||        ||        ||    \n",
      "    ||        ||       @_1@   \n",
      "  @@_2@@   @@@_3@@@ @@@@_4@@@@\n",
      "     A         B         C\n",
      "\n",
      "    ||        ||        ||    \n",
      "    ||        ||        ||    \n",
      "    ||        ||        ||    \n",
      "   @_1@       ||        ||    \n",
      "  @@_2@@   @@@_3@@@ @@@@_4@@@@\n",
      "     A         B         C\n",
      "\n",
      "    ||        ||        ||    \n",
      "    ||        ||        ||    \n",
      "    ||        ||        ||    \n",
      "   @_1@       ||     @@@_3@@@ \n",
      "  @@_2@@      ||    @@@@_4@@@@\n",
      "     A         B         C\n",
      "\n",
      "    ||        ||        ||    \n",
      "    ||        ||        ||    \n",
      "    ||        ||        ||    \n",
      "    ||        ||     @@@_3@@@ \n",
      "  @@_2@@     @_1@   @@@@_4@@@@\n",
      "     A         B         C\n",
      "\n",
      "    ||        ||        ||    \n",
      "    ||        ||        ||    \n",
      "    ||        ||      @@_2@@  \n",
      "    ||        ||     @@@_3@@@ \n",
      "    ||       @_1@   @@@@_4@@@@\n",
      "     A         B         C\n",
      "\n",
      "    ||        ||        ||    \n",
      "    ||        ||       @_1@   \n",
      "    ||        ||      @@_2@@  \n",
      "    ||        ||     @@@_3@@@ \n",
      "    ||        ||    @@@@_4@@@@\n",
      "     A         B         C\n",
      "\n"
     ]
    }
   ],
   "source": [
    "# Hanoi     https://en.wikipedia.org/wiki/Tower_of_Hanoi\n",
    "\n",
    "\n",
    "def hanoi(total_disks, interactive_move=False):\n",
    "    towers = {\"A\": list(range(total_disks, 0, -1)), \"B\": [], \"C\": []}\n",
    "\n",
    "    def print_disk(disk_num: int):\n",
    "        spaces = ' ' * (total_disks - disk_num)\n",
    "        if disk_num == 0:\n",
    "            print(spaces + '||' + spaces, end=\"\")\n",
    "        else:\n",
    "            disk_spaces = '@' * disk_num\n",
    "            disk_num = str(disk_num).rjust(2, '_')\n",
    "            print(spaces + disk_spaces + disk_num + disk_spaces + spaces, end=\"\")\n",
    "\n",
    "    def print_towers():\n",
    "        for level in range(total_disks, -1, -1):\n",
    "            for tower in (towers[\"A\"], towers[\"B\"], towers[\"C\"]):\n",
    "                if level >= len(tower):\n",
    "                    print_disk(0)\n",
    "                else:\n",
    "                    print_disk(tower[level])\n",
    "            print()\n",
    "        spaces = ' ' * total_disks\n",
    "        print(\"%s A%s%s B%s%s C\\n\" % (spaces, spaces, spaces, spaces, spaces))\n",
    "\n",
    "    def move_one_disk(start: str, end: str):\n",
    "        disk = towers[start].pop()\n",
    "        towers[end].append(disk)\n",
    "\n",
    "    def solve(disks: int, start: str, temp: str, end: str):\n",
    "        if disks == 1:\n",
    "            move_one_disk(start, end)\n",
    "            print_towers()\n",
    "            return\n",
    "        solve(disks - 1, start, end, temp)\n",
    "        move_one_disk(start, end)\n",
    "        print_towers()\n",
    "        solve(disks - 1, temp, start, end)\n",
    "\n",
    "    if not interactive_move:\n",
    "        print_towers()\n",
    "        solve(total_disks, start=\"A\", temp=\"B\", end=\"C\")\n",
    "    else:\n",
    "        print_towers()\n",
    "        print(\"Enter two letters, start and end tower. (A, B, C) Or Q to quit.\\n...\")\n",
    "        while True:\n",
    "            letters = input().upper()\n",
    "            if letters.isnumeric():\n",
    "                letters = [chr(ord(\"A\") - 1 + int(letter)) for letter in letters]\n",
    "            if len(letters) != 2:\n",
    "                pass\n",
    "            elif letters[0] in \"ABC\" and letters[1] in \"ABC\" and letters[0] != letters[1]:\n",
    "                move_one_disk(letters[0], letters[1])\n",
    "                print_towers()\n",
    "                if len(towers[\"C\"]) == total_disks:\n",
    "                    print(\"ok\")\n",
    "                    exit()\n",
    "                else:\n",
    "                    print(\"Enter two letters, start and end tower. (A, B, C) Or Q to quit.\\n...\")\n",
    "            if letters == \"Q\":\n",
    "                exit()\n",
    "\n",
    "\n",
    "hanoi(4)\n"
   ]
  },
  {
   "cell_type": "markdown",
   "metadata": {
    "pycharm": {
     "name": "#%% md\n"
    }
   },
   "source": [
    "# Sources\n",
    "\n",
    "## links\n",
    "- https://realpython.com/python-recursion/\n",
    "- https://realpython.com/python-thinking-recursively/\n",
    "- https://fr.wikipedia.org/wiki/R%C3%A9cursivit%C3%A9\n",
    "- https://fr.wikipedia.org/wiki/Algorithme_r%C3%A9cursif\n",
    "- https://fr.wikipedia.org/wiki/Fonction_r%C3%A9cursive\n",
    "\n",
    "## book\n",
    "- Al Sweigart: The Recursive Book of Recursion - Ace the Coding Interview with Python and JavaScript    https://inventwithpython.com/recursion/"
   ]
  }
 ],
 "metadata": {
  "kernelspec": {
   "display_name": "Python 3 (ipykernel)",
   "language": "python",
   "name": "python3"
  },
  "language_info": {
   "codemirror_mode": {
    "name": "ipython",
    "version": 3
   },
   "file_extension": ".py",
   "mimetype": "text/x-python",
   "name": "python",
   "nbconvert_exporter": "python",
   "pygments_lexer": "ipython3",
   "version": "3.10.9"
  },
  "toc": {
   "base_numbering": 1,
   "nav_menu": {},
   "number_sections": true,
   "sideBar": true,
   "skip_h1_title": false,
   "title_cell": "Table of Contents",
   "title_sidebar": "Contents",
   "toc_cell": true,
   "toc_position": {},
   "toc_section_display": true,
   "toc_window_display": true
  }
 },
 "nbformat": 4,
 "nbformat_minor": 1
}
