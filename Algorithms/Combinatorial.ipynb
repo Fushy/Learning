{
 "cells": [
  {
   "cell_type": "markdown",
   "source": [
    "# Combinatorial algorithm\n",
    "A combinatorial algorithm is a mathematical method used to solve problems by breaking them down into smaller, more manageable parts. The basic idea behind a combinatorial algorithm is to take a large, complex problem and divide it into a series of smaller, simpler sub-problems, which can be solved independently. The results of these sub-problems are then combined to give the final solution to the original problem."
   ],
   "metadata": {
    "collapsed": false,
    "pycharm": {
     "name": "#%% md\n"
    }
   }
  }
 ],
 "metadata": {
  "kernelspec": {
   "display_name": "Python 3",
   "language": "python",
   "name": "python3"
  },
  "language_info": {
   "codemirror_mode": {
    "name": "ipython",
    "version": 2
   },
   "file_extension": ".py",
   "mimetype": "text/x-python",
   "name": "python",
   "nbconvert_exporter": "python",
   "pygments_lexer": "ipython2",
   "version": "2.7.6"
  }
 },
 "nbformat": 4,
 "nbformat_minor": 0
}