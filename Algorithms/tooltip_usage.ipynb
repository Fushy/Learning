{
 "cells": [
  {
   "cell_type": "markdown",
   "id": "d839a67a",
   "metadata": {
    "toc": true
   },
   "source": [
    "<h1>Table of Contents<span class=\"tocSkip\"></span></h1>\n",
    "<div class=\"toc\"><ul class=\"toc-item\"></ul></div>"
   ]
  },
  {
   "cell_type": "code",
   "execution_count": 2,
   "id": "e66b3944",
   "metadata": {},
   "outputs": [
    {
     "data": {
      "text/plain": [
       "[0, 20, 5, 17, 5]"
      ]
     },
     "execution_count": 2,
     "metadata": {},
     "output_type": "execute_result"
    }
   ],
   "source": [
    "import random\n",
    "numbers_5 = [random.randint(0, 20) for _ in range(5)]\n",
    "numbers_5"
   ]
  },
  {
   "cell_type": "code",
   "execution_count": 3,
   "id": "939da237",
   "metadata": {},
   "outputs": [
    {
     "data": {
      "text/plain": [
       "2"
      ]
     },
     "execution_count": 3,
     "metadata": {},
     "output_type": "execute_result"
    }
   ],
   "source": [
    "min_difference, difference = 5, 2\n",
    "if min_difference < difference:\n",
    "    difference = min_difference\n",
    "difference"
   ]
  },
  {
   "cell_type": "markdown",
   "id": "c8c01b1a",
   "metadata": {},
   "source": [
    "to"
   ]
  },
  {
   "cell_type": "code",
   "execution_count": 4,
   "id": "83789ad1",
   "metadata": {},
   "outputs": [
    {
     "data": {
      "text/plain": [
       "2"
      ]
     },
     "execution_count": 4,
     "metadata": {},
     "output_type": "execute_result"
    }
   ],
   "source": [
    "min(min_difference, difference)"
   ]
  },
  {
   "cell_type": "markdown",
   "id": "26439c25",
   "metadata": {},
   "source": [
    "---\n",
    "---\n",
    "---"
   ]
  },
  {
   "cell_type": "code",
   "execution_count": 5,
   "id": "7ea12c6f",
   "metadata": {
    "scrolled": true
   },
   "outputs": [
    {
     "name": "stdout",
     "output_type": "stream",
     "text": [
      "20 -15 12 -12 "
     ]
    }
   ],
   "source": [
    "for i in range(len(numbers_5) - 1):\n",
    "    print(numbers_5[i + 1] - numbers_5[i], end=\" \")"
   ]
  },
  {
   "cell_type": "markdown",
   "id": "76b06fc9",
   "metadata": {},
   "source": [
    "to"
   ]
  },
  {
   "cell_type": "code",
   "execution_count": 6,
   "id": "f2cf8d2f",
   "metadata": {},
   "outputs": [
    {
     "name": "stdout",
     "output_type": "stream",
     "text": [
      "20 -15 12 -12 "
     ]
    }
   ],
   "source": [
    "for i in range(1, len(numbers_5)):\n",
    "    print(numbers_5[i] - numbers_5[i - 1], end=\" \")"
   ]
  },
  {
   "cell_type": "markdown",
   "id": "dc004aaa",
   "metadata": {},
   "source": [
    "to"
   ]
  },
  {
   "cell_type": "code",
   "execution_count": 7,
   "id": "d4a1ce20",
   "metadata": {
    "scrolled": true
   },
   "outputs": [
    {
     "data": {
      "text/plain": [
       "[20, -15, 12, -12]"
      ]
     },
     "execution_count": 7,
     "metadata": {},
     "output_type": "execute_result"
    }
   ],
   "source": [
    "[numbers_5[i] - numbers_5[i - 1] for i in range(1, len(numbers_5))]"
   ]
  },
  {
   "cell_type": "markdown",
   "id": "316a8bb9",
   "metadata": {},
   "source": [
    "or"
   ]
  },
  {
   "cell_type": "code",
   "execution_count": 17,
   "id": "b8578af6",
   "metadata": {
    "scrolled": false
   },
   "outputs": [
    {
     "data": {
      "text/plain": [
       "[20, -15, 12, -12]"
      ]
     },
     "execution_count": 17,
     "metadata": {},
     "output_type": "execute_result"
    }
   ],
   "source": [
    "[b - a for (a, b) in zip(numbers_5[:-1], numbers_5[1:])]"
   ]
  },
  {
   "cell_type": "markdown",
   "id": "482dca54",
   "metadata": {},
   "source": [
    "---"
   ]
  },
  {
   "cell_type": "code",
   "execution_count": 18,
   "id": "a41d47d7",
   "metadata": {
    "scrolled": false
   },
   "outputs": [
    {
     "data": {
      "text/plain": [
       "[(0, 20), (20, 5), (5, 17), (17, 5)]"
      ]
     },
     "execution_count": 18,
     "metadata": {},
     "output_type": "execute_result"
    }
   ],
   "source": [
    "list(zip(numbers_5[:-1], numbers_5[1:]))"
   ]
  },
  {
   "cell_type": "code",
   "execution_count": 20,
   "id": "5e3d2ea1",
   "metadata": {},
   "outputs": [
    {
     "data": {
      "text/plain": [
       "-15"
      ]
     },
     "execution_count": 20,
     "metadata": {},
     "output_type": "execute_result"
    }
   ],
   "source": [
    "min(b - a for (a, b) in zip(numbers_5[:-1], numbers_5[1:]))"
   ]
  },
  {
   "cell_type": "markdown",
   "id": "ccd18888",
   "metadata": {},
   "source": [
    "---\n",
    "---\n",
    "---"
   ]
  }
 ],
 "metadata": {
  "kernelspec": {
   "display_name": "Python 3 (ipykernel)",
   "language": "python",
   "name": "python3"
  },
  "language_info": {
   "codemirror_mode": {
    "name": "ipython",
    "version": 3
   },
   "file_extension": ".py",
   "mimetype": "text/x-python",
   "name": "python",
   "nbconvert_exporter": "python",
   "pygments_lexer": "ipython3",
   "version": "3.11.3"
  },
  "toc": {
   "base_numbering": 1,
   "nav_menu": {},
   "number_sections": true,
   "sideBar": true,
   "skip_h1_title": false,
   "title_cell": "Table of Contents",
   "title_sidebar": "Contents",
   "toc_cell": true,
   "toc_position": {
    "height": "calc(100% - 180px)",
    "left": "10px",
    "top": "150px",
    "width": "363px"
   },
   "toc_section_display": true,
   "toc_window_display": true
  }
 },
 "nbformat": 4,
 "nbformat_minor": 5
}
