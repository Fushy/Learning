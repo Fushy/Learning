{
 "cells": [
  {
   "cell_type": "markdown",
   "source": [
    "# Combinaison\n",
    "\n",
    "## Introduction\n",
    "A branch of mathematical logic that deals with the selection, arrangement, and manipulation of collections of objects\n",
    "\n",
    "Calculating permutations and combinations of large groups involves calculating permutations and combinations of smaller groups. This makes these calculations suitable for recursion.\n",
    "\n",
    "## Vocabulary\n",
    "\n",
    "### A set\n",
    "A set is a collection of unique objects, called elements, or members.\n",
    "In mathematics (and in Python), sets are written inside curly braces, with the objects separated by commas: {A, B, C}\n",
    "Order doesn’t matter for a set. The set {A, B, C} is the same set as {C, B, A}\n",
    "Sets have distinct elements. There are no duplicates.\n",
    "In Mathematics, {A, C, A, B} is not a set, In Python {A, C, A, B} return {A, C, B}\n",
    "The empty set {}, In Python set(), is a set that contains no members at all and are considered subsets of every possible set0\n",
    "{A, B, C} is a subset and a superset of {A, B, C}\n",
    "\n",
    "### A subset\n",
    "A set is a subset of another set if it has only elements of the other set.\n",
    "{A, C} and {B, C} are both subsets of {A, B, C}, but {A, C, D} is not a subset of it\n",
    "A strict subset (or proper subset) does not have all the set’s elements.\n",
    "\n",
    "### A superset\n",
    "A set is a superset of another set if it contains all elements of the other set.\n",
    "A strict superset (or proper superset) does not have all the set’s elements.\n",
    "\n",
    "### n choose k\n",
    "Refers to the number of possible combinations (without repetition) of k elements that can be selected from a set of n elements.\n",
    "\n",
    "### n multi-choose k\n",
    "Refers to the number of possible combinations with repetition of k elements that can be selected from a set of n elements.\n",
    "\n",
    "## Permutation\n",
    "A permutation of a set is an ordering representation of all elements in the set.\n",
    "The set {A, B, C} has six permutations: ABC, ACB, BAC, BCA, CAB, and CBA.\n",
    "We call these permutations without repetition, or permutations without replacement, because each element doesn’t appear in the permutation more than once.\n",
    "Permutations have an ordering and use all the elements from a set, they are always the same size as the set.\n",
    "Permutations with repetition can be of any length.\n",
    "\n",
    "\n",
    "## Combination\n",
    "A combination is a subset of a set.\n",
    "A combination is a selection of elements of a set.\n",
    "A k-combination is a subset of k elements from a set. Unlike permutations, combinations don’t have an ordering.\n",
    "The 2-combinations of the set {A, B, C} are {A, B}, {A, C}, and {B, C}. 3 choose 2\n",
    "The 3-combination of the set {A, B, C} is {A, B, C}. 3 choose 3\n",
    "Because k-combinations are sets and sets do not have duplicate elements, a k-combination does not have repetition.\n",
    "When we use k-combinations with duplicate elements, we specifically call them k-combinations with repetition.\n",
    "Because k-combinations are sets and sets do not have duplicate elements, a k-combination does not have repetition."
   ],
   "metadata": {
    "collapsed": false,
    "pycharm": {
     "name": "#%% md\n"
    }
   }
  },
  {
   "cell_type": "code",
   "execution_count": 132,
   "outputs": [],
   "source": [
    "from typing import Collection, Container\n",
    "\n",
    "T = \"GENERIC_TYPE\"\n",
    "TT = Collection[T] | Container[T]"
   ],
   "metadata": {
    "collapsed": false,
    "pycharm": {
     "name": "#%%\n"
    }
   }
  },
  {
   "cell_type": "code",
   "execution_count": 133,
   "outputs": [
    {
     "data": {
      "text/plain": "['123BJP',\n '123BPJ',\n '123JBP',\n '123JPB',\n '123PBJ',\n '123PJB',\n '12B3JP',\n '12B3PJ',\n '12BJ3P',\n '12BJP3',\n '12BP3J',\n '12BPJ3',\n '12J3BP',\n '12J3PB',\n '12JB3P',\n '12JBP3',\n '12JP3B',\n '12JPB3',\n '12P3BJ',\n '12P3JB',\n '12PB3J',\n '12PBJ3',\n '12PJ3B',\n '12PJB3',\n '132BJP',\n '132BPJ',\n '132JBP',\n '132JPB',\n '132PBJ',\n '132PJB',\n '13B2JP',\n '13B2PJ',\n '13BJ2P',\n '13BJP2',\n '13BP2J',\n '13BPJ2',\n '13J2BP',\n '13J2PB',\n '13JB2P',\n '13JBP2',\n '13JP2B',\n '13JPB2',\n '13P2BJ',\n '13P2JB',\n '13PB2J',\n '13PBJ2',\n '13PJ2B',\n '13PJB2',\n '1B23JP',\n '1B23PJ',\n '1B2J3P',\n '1B2JP3',\n '1B2P3J',\n '1B2PJ3',\n '1B32JP',\n '1B32PJ',\n '1B3J2P',\n '1B3JP2',\n '1B3P2J',\n '1B3PJ2',\n '1BJ23P',\n '1BJ2P3',\n '1BJ32P',\n '1BJ3P2',\n '1BJP23',\n '1BJP32',\n '1BP23J',\n '1BP2J3',\n '1BP32J',\n '1BP3J2',\n '1BPJ23',\n '1BPJ32',\n '1J23BP',\n '1J23PB',\n '1J2B3P',\n '1J2BP3',\n '1J2P3B',\n '1J2PB3',\n '1J32BP',\n '1J32PB',\n '1J3B2P',\n '1J3BP2',\n '1J3P2B',\n '1J3PB2',\n '1JB23P',\n '1JB2P3',\n '1JB32P',\n '1JB3P2',\n '1JBP23',\n '1JBP32',\n '1JP23B',\n '1JP2B3',\n '1JP32B',\n '1JP3B2',\n '1JPB23',\n '1JPB32',\n '1P23BJ',\n '1P23JB',\n '1P2B3J',\n '1P2BJ3',\n '1P2J3B',\n '1P2JB3',\n '1P32BJ',\n '1P32JB',\n '1P3B2J',\n '1P3BJ2',\n '1P3J2B',\n '1P3JB2',\n '1PB23J',\n '1PB2J3',\n '1PB32J',\n '1PB3J2',\n '1PBJ23',\n '1PBJ32',\n '1PJ23B',\n '1PJ2B3',\n '1PJ32B',\n '1PJ3B2',\n '1PJB23',\n '1PJB32',\n '213BJP',\n '213BPJ',\n '213JBP',\n '213JPB',\n '213PBJ',\n '213PJB',\n '21B3JP',\n '21B3PJ',\n '21BJ3P',\n '21BJP3',\n '21BP3J',\n '21BPJ3',\n '21J3BP',\n '21J3PB',\n '21JB3P',\n '21JBP3',\n '21JP3B',\n '21JPB3',\n '21P3BJ',\n '21P3JB',\n '21PB3J',\n '21PBJ3',\n '21PJ3B',\n '21PJB3',\n '231BJP',\n '231BPJ',\n '231JBP',\n '231JPB',\n '231PBJ',\n '231PJB',\n '23B1JP',\n '23B1PJ',\n '23BJ1P',\n '23BJP1',\n '23BP1J',\n '23BPJ1',\n '23J1BP',\n '23J1PB',\n '23JB1P',\n '23JBP1',\n '23JP1B',\n '23JPB1',\n '23P1BJ',\n '23P1JB',\n '23PB1J',\n '23PBJ1',\n '23PJ1B',\n '23PJB1',\n '2B13JP',\n '2B13PJ',\n '2B1J3P',\n '2B1JP3',\n '2B1P3J',\n '2B1PJ3',\n '2B31JP',\n '2B31PJ',\n '2B3J1P',\n '2B3JP1',\n '2B3P1J',\n '2B3PJ1',\n '2BJ13P',\n '2BJ1P3',\n '2BJ31P',\n '2BJ3P1',\n '2BJP13',\n '2BJP31',\n '2BP13J',\n '2BP1J3',\n '2BP31J',\n '2BP3J1',\n '2BPJ13',\n '2BPJ31',\n '2J13BP',\n '2J13PB',\n '2J1B3P',\n '2J1BP3',\n '2J1P3B',\n '2J1PB3',\n '2J31BP',\n '2J31PB',\n '2J3B1P',\n '2J3BP1',\n '2J3P1B',\n '2J3PB1',\n '2JB13P',\n '2JB1P3',\n '2JB31P',\n '2JB3P1',\n '2JBP13',\n '2JBP31',\n '2JP13B',\n '2JP1B3',\n '2JP31B',\n '2JP3B1',\n '2JPB13',\n '2JPB31',\n '2P13BJ',\n '2P13JB',\n '2P1B3J',\n '2P1BJ3',\n '2P1J3B',\n '2P1JB3',\n '2P31BJ',\n '2P31JB',\n '2P3B1J',\n '2P3BJ1',\n '2P3J1B',\n '2P3JB1',\n '2PB13J',\n '2PB1J3',\n '2PB31J',\n '2PB3J1',\n '2PBJ13',\n '2PBJ31',\n '2PJ13B',\n '2PJ1B3',\n '2PJ31B',\n '2PJ3B1',\n '2PJB13',\n '2PJB31',\n '312BJP',\n '312BPJ',\n '312JBP',\n '312JPB',\n '312PBJ',\n '312PJB',\n '31B2JP',\n '31B2PJ',\n '31BJ2P',\n '31BJP2',\n '31BP2J',\n '31BPJ2',\n '31J2BP',\n '31J2PB',\n '31JB2P',\n '31JBP2',\n '31JP2B',\n '31JPB2',\n '31P2BJ',\n '31P2JB',\n '31PB2J',\n '31PBJ2',\n '31PJ2B',\n '31PJB2',\n '321BJP',\n '321BPJ',\n '321JBP',\n '321JPB',\n '321PBJ',\n '321PJB',\n '32B1JP',\n '32B1PJ',\n '32BJ1P',\n '32BJP1',\n '32BP1J',\n '32BPJ1',\n '32J1BP',\n '32J1PB',\n '32JB1P',\n '32JBP1',\n '32JP1B',\n '32JPB1',\n '32P1BJ',\n '32P1JB',\n '32PB1J',\n '32PBJ1',\n '32PJ1B',\n '32PJB1',\n '3B12JP',\n '3B12PJ',\n '3B1J2P',\n '3B1JP2',\n '3B1P2J',\n '3B1PJ2',\n '3B21JP',\n '3B21PJ',\n '3B2J1P',\n '3B2JP1',\n '3B2P1J',\n '3B2PJ1',\n '3BJ12P',\n '3BJ1P2',\n '3BJ21P',\n '3BJ2P1',\n '3BJP12',\n '3BJP21',\n '3BP12J',\n '3BP1J2',\n '3BP21J',\n '3BP2J1',\n '3BPJ12',\n '3BPJ21',\n '3J12BP',\n '3J12PB',\n '3J1B2P',\n '3J1BP2',\n '3J1P2B',\n '3J1PB2',\n '3J21BP',\n '3J21PB',\n '3J2B1P',\n '3J2BP1',\n '3J2P1B',\n '3J2PB1',\n '3JB12P',\n '3JB1P2',\n '3JB21P',\n '3JB2P1',\n '3JBP12',\n '3JBP21',\n '3JP12B',\n '3JP1B2',\n '3JP21B',\n '3JP2B1',\n '3JPB12',\n '3JPB21',\n '3P12BJ',\n '3P12JB',\n '3P1B2J',\n '3P1BJ2',\n '3P1J2B',\n '3P1JB2',\n '3P21BJ',\n '3P21JB',\n '3P2B1J',\n '3P2BJ1',\n '3P2J1B',\n '3P2JB1',\n '3PB12J',\n '3PB1J2',\n '3PB21J',\n '3PB2J1',\n '3PBJ12',\n '3PBJ21',\n '3PJ12B',\n '3PJ1B2',\n '3PJ21B',\n '3PJ2B1',\n '3PJB12',\n '3PJB21',\n 'B123JP',\n 'B123PJ',\n 'B12J3P',\n 'B12JP3',\n 'B12P3J',\n 'B12PJ3',\n 'B132JP',\n 'B132PJ',\n 'B13J2P',\n 'B13JP2',\n 'B13P2J',\n 'B13PJ2',\n 'B1J23P',\n 'B1J2P3',\n 'B1J32P',\n 'B1J3P2',\n 'B1JP23',\n 'B1JP32',\n 'B1P23J',\n 'B1P2J3',\n 'B1P32J',\n 'B1P3J2',\n 'B1PJ23',\n 'B1PJ32',\n 'B213JP',\n 'B213PJ',\n 'B21J3P',\n 'B21JP3',\n 'B21P3J',\n 'B21PJ3',\n 'B231JP',\n 'B231PJ',\n 'B23J1P',\n 'B23JP1',\n 'B23P1J',\n 'B23PJ1',\n 'B2J13P',\n 'B2J1P3',\n 'B2J31P',\n 'B2J3P1',\n 'B2JP13',\n 'B2JP31',\n 'B2P13J',\n 'B2P1J3',\n 'B2P31J',\n 'B2P3J1',\n 'B2PJ13',\n 'B2PJ31',\n 'B312JP',\n 'B312PJ',\n 'B31J2P',\n 'B31JP2',\n 'B31P2J',\n 'B31PJ2',\n 'B321JP',\n 'B321PJ',\n 'B32J1P',\n 'B32JP1',\n 'B32P1J',\n 'B32PJ1',\n 'B3J12P',\n 'B3J1P2',\n 'B3J21P',\n 'B3J2P1',\n 'B3JP12',\n 'B3JP21',\n 'B3P12J',\n 'B3P1J2',\n 'B3P21J',\n 'B3P2J1',\n 'B3PJ12',\n 'B3PJ21',\n 'BJ123P',\n 'BJ12P3',\n 'BJ132P',\n 'BJ13P2',\n 'BJ1P23',\n 'BJ1P32',\n 'BJ213P',\n 'BJ21P3',\n 'BJ231P',\n 'BJ23P1',\n 'BJ2P13',\n 'BJ2P31',\n 'BJ312P',\n 'BJ31P2',\n 'BJ321P',\n 'BJ32P1',\n 'BJ3P12',\n 'BJ3P21',\n 'BJP123',\n 'BJP132',\n 'BJP213',\n 'BJP231',\n 'BJP312',\n 'BJP321',\n 'BP123J',\n 'BP12J3',\n 'BP132J',\n 'BP13J2',\n 'BP1J23',\n 'BP1J32',\n 'BP213J',\n 'BP21J3',\n 'BP231J',\n 'BP23J1',\n 'BP2J13',\n 'BP2J31',\n 'BP312J',\n 'BP31J2',\n 'BP321J',\n 'BP32J1',\n 'BP3J12',\n 'BP3J21',\n 'BPJ123',\n 'BPJ132',\n 'BPJ213',\n 'BPJ231',\n 'BPJ312',\n 'BPJ321',\n 'J123BP',\n 'J123PB',\n 'J12B3P',\n 'J12BP3',\n 'J12P3B',\n 'J12PB3',\n 'J132BP',\n 'J132PB',\n 'J13B2P',\n 'J13BP2',\n 'J13P2B',\n 'J13PB2',\n 'J1B23P',\n 'J1B2P3',\n 'J1B32P',\n 'J1B3P2',\n 'J1BP23',\n 'J1BP32',\n 'J1P23B',\n 'J1P2B3',\n 'J1P32B',\n 'J1P3B2',\n 'J1PB23',\n 'J1PB32',\n 'J213BP',\n 'J213PB',\n 'J21B3P',\n 'J21BP3',\n 'J21P3B',\n 'J21PB3',\n 'J231BP',\n 'J231PB',\n 'J23B1P',\n 'J23BP1',\n 'J23P1B',\n 'J23PB1',\n 'J2B13P',\n 'J2B1P3',\n 'J2B31P',\n 'J2B3P1',\n 'J2BP13',\n 'J2BP31',\n 'J2P13B',\n 'J2P1B3',\n 'J2P31B',\n 'J2P3B1',\n 'J2PB13',\n 'J2PB31',\n 'J312BP',\n 'J312PB',\n 'J31B2P',\n 'J31BP2',\n 'J31P2B',\n 'J31PB2',\n 'J321BP',\n 'J321PB',\n 'J32B1P',\n 'J32BP1',\n 'J32P1B',\n 'J32PB1',\n 'J3B12P',\n 'J3B1P2',\n 'J3B21P',\n 'J3B2P1',\n 'J3BP12',\n 'J3BP21',\n 'J3P12B',\n 'J3P1B2',\n 'J3P21B',\n 'J3P2B1',\n 'J3PB12',\n 'J3PB21',\n 'JB123P',\n 'JB12P3',\n 'JB132P',\n 'JB13P2',\n 'JB1P23',\n 'JB1P32',\n 'JB213P',\n 'JB21P3',\n 'JB231P',\n 'JB23P1',\n 'JB2P13',\n 'JB2P31',\n 'JB312P',\n 'JB31P2',\n 'JB321P',\n 'JB32P1',\n 'JB3P12',\n 'JB3P21',\n 'JBP123',\n 'JBP132',\n 'JBP213',\n 'JBP231',\n 'JBP312',\n 'JBP321',\n 'JP123B',\n 'JP12B3',\n 'JP132B',\n 'JP13B2',\n 'JP1B23',\n 'JP1B32',\n 'JP213B',\n 'JP21B3',\n 'JP231B',\n 'JP23B1',\n 'JP2B13',\n 'JP2B31',\n 'JP312B',\n 'JP31B2',\n 'JP321B',\n 'JP32B1',\n 'JP3B12',\n 'JP3B21',\n 'JPB123',\n 'JPB132',\n 'JPB213',\n 'JPB231',\n 'JPB312',\n 'JPB321',\n 'P123BJ',\n 'P123JB',\n 'P12B3J',\n 'P12BJ3',\n 'P12J3B',\n 'P12JB3',\n 'P132BJ',\n 'P132JB',\n 'P13B2J',\n 'P13BJ2',\n 'P13J2B',\n 'P13JB2',\n 'P1B23J',\n 'P1B2J3',\n 'P1B32J',\n 'P1B3J2',\n 'P1BJ23',\n 'P1BJ32',\n 'P1J23B',\n 'P1J2B3',\n 'P1J32B',\n 'P1J3B2',\n 'P1JB23',\n 'P1JB32',\n 'P213BJ',\n 'P213JB',\n 'P21B3J',\n 'P21BJ3',\n 'P21J3B',\n 'P21JB3',\n 'P231BJ',\n 'P231JB',\n 'P23B1J',\n 'P23BJ1',\n 'P23J1B',\n 'P23JB1',\n 'P2B13J',\n 'P2B1J3',\n 'P2B31J',\n 'P2B3J1',\n 'P2BJ13',\n 'P2BJ31',\n 'P2J13B',\n 'P2J1B3',\n 'P2J31B',\n 'P2J3B1',\n 'P2JB13',\n 'P2JB31',\n 'P312BJ',\n 'P312JB',\n 'P31B2J',\n 'P31BJ2',\n 'P31J2B',\n 'P31JB2',\n 'P321BJ',\n 'P321JB',\n 'P32B1J',\n 'P32BJ1',\n 'P32J1B',\n 'P32JB1',\n 'P3B12J',\n 'P3B1J2',\n 'P3B21J',\n 'P3B2J1',\n 'P3BJ12',\n 'P3BJ21',\n 'P3J12B',\n 'P3J1B2',\n 'P3J21B',\n 'P3J2B1',\n 'P3JB12',\n 'P3JB21',\n 'PB123J',\n 'PB12J3',\n 'PB132J',\n 'PB13J2',\n 'PB1J23',\n 'PB1J32',\n 'PB213J',\n 'PB21J3',\n 'PB231J',\n 'PB23J1',\n 'PB2J13',\n 'PB2J31',\n 'PB312J',\n 'PB31J2',\n 'PB321J',\n 'PB32J1',\n 'PB3J12',\n 'PB3J21',\n 'PBJ123',\n 'PBJ132',\n 'PBJ213',\n 'PBJ231',\n 'PBJ312',\n 'PBJ321',\n 'PJ123B',\n 'PJ12B3',\n 'PJ132B',\n 'PJ13B2',\n 'PJ1B23',\n 'PJ1B32',\n 'PJ213B',\n 'PJ21B3',\n 'PJ231B',\n 'PJ23B1',\n 'PJ2B13',\n 'PJ2B31',\n 'PJ312B',\n 'PJ31B2',\n 'PJ321B',\n 'PJ32B1',\n 'PJ3B12',\n 'PJ3B21',\n 'PJB123',\n 'PJB132',\n 'PJB213',\n 'PJB231',\n 'PJB312',\n 'PJB321']"
     },
     "execution_count": 133,
     "metadata": {},
     "output_type": "execute_result"
    }
   ],
   "source": [
    "def permutations(E: TT) -> list[T]:  # O(n * n!)   |n!|\n",
    "    \"\"\" All ordering representation of all element from E. \"\"\"\n",
    "    if len(E) <= 1:\n",
    "        return [E]\n",
    "    perms = set()\n",
    "    for element in permutations(E[1:]):\n",
    "        for i in range(len(E)):\n",
    "            value = element[:i] + E[0] + element[i:]\n",
    "            perms.add(value)\n",
    "    return sorted(perms)\n",
    "permutations(\"JPB123\")"
   ],
   "metadata": {
    "collapsed": false,
    "pycharm": {
     "name": "#%%\n"
    }
   }
  },
  {
   "cell_type": "code",
   "execution_count": 134,
   "outputs": [
    {
     "data": {
      "text/plain": "['AAA',\n 'AAB',\n 'AAC',\n 'ABA',\n 'ABB',\n 'ABC',\n 'ACA',\n 'ACB',\n 'ACC',\n 'BAA',\n 'BAB',\n 'BAC',\n 'BBA',\n 'BBB',\n 'BBC',\n 'BCA',\n 'BCB',\n 'BCC',\n 'CAA',\n 'CAB',\n 'CAC',\n 'CBA',\n 'CBB',\n 'CBC',\n 'CCA',\n 'CCB',\n 'CCC']"
     },
     "execution_count": 134,
     "metadata": {},
     "output_type": "execute_result"
    }
   ],
   "source": [
    "def permutations_with_duplicates(E: TT, k: int=None) -> list[T]:  # O(n * n!)   |n^k|\n",
    "    \"\"\" All ordering representation k-length of all element from E. \"\"\"\n",
    "    if k is None:\n",
    "        k = len(E)\n",
    "    def aux(length, prefix):\n",
    "        if length == 0:\n",
    "            return [prefix]\n",
    "        perms = []\n",
    "        for element in E:\n",
    "            perms.extend(aux(length - 1, prefix + element))\n",
    "            # print(aux(k - 1, prefix + element))\n",
    "        return perms\n",
    "    return aux(k, \"\")\n",
    "permutations_with_duplicates(\"ABC\")"
   ],
   "metadata": {
    "collapsed": false,
    "pycharm": {
     "name": "#%%\n"
    }
   }
  },
  {
   "cell_type": "code",
   "execution_count": 135,
   "outputs": [
    {
     "name": "stdout",
     "output_type": "stream",
     "text": [
      "Results: {'ABD', 'ABC', 'BCD', 'ACD'}\n"
     ]
    }
   ],
   "source": [
    "def combination_k(E: TT, k: int) -> set[T]:\n",
    "    \"\"\" All k-elements subset from E \"\"\"\n",
    "    def aux(E, k):\n",
    "        if k == 0:\n",
    "            return [\"\"]\n",
    "        elif E == \"\":\n",
    "            return []\n",
    "        head, tail, k_combinations = E[:1], E[1:], []\n",
    "        tail_k_combination = aux(tail, k)  # get all the k combinations that don't include the head\n",
    "        tail_k_1_combination = aux(tail, k - 1)  # get all the k-1 combinations that don't include the head\n",
    "        k_combinations.extend([head + tail_combination for tail_combination in tail_k_1_combination])\n",
    "        k_combinations.extend(tail_k_combination)\n",
    "        return k_combinations\n",
    "    return set(aux(E, k))\n",
    "\n",
    "\n",
    "print('Results:', combination_k('ABCD', 3))"
   ],
   "metadata": {
    "collapsed": false,
    "pycharm": {
     "name": "#%%\n"
    }
   }
  },
  {
   "cell_type": "code",
   "execution_count": 136,
   "outputs": [],
   "source": [
    "def combination_k(E, k: int):\n",
    "    \"\"\" All k-elements subset from E \"\"\"\n",
    "    if k == 0:\n",
    "        return [\"\"]\n",
    "    elif E == \"\":\n",
    "        return []\n",
    "    return [E[:1] + tail_combination for tail_combination in combination_k(E[1:], k - 1)] + combination_k(E[1:], k)"
   ],
   "metadata": {
    "collapsed": false,
    "pycharm": {
     "name": "#%%\n"
    }
   }
  }
 ],
 "metadata": {
  "kernelspec": {
   "display_name": "Python 3",
   "language": "python",
   "name": "python3"
  },
  "language_info": {
   "codemirror_mode": {
    "name": "ipython",
    "version": 2
   },
   "file_extension": ".py",
   "mimetype": "text/x-python",
   "name": "python",
   "nbconvert_exporter": "python",
   "pygments_lexer": "ipython2",
   "version": "2.7.6"
  }
 },
 "nbformat": 4,
 "nbformat_minor": 0
}