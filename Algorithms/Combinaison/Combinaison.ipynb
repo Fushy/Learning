{
 "cells": [
  {
   "cell_type": "markdown",
   "source": [
    "# Combinaison\n",
    "\n",
    "## Introduction\n",
    "A branch of mathematical logic that deals with the selection, arrangement, and manipulation of collections of objects\n",
    "\n",
    "Calculating permutations and combinations of large groups involves calculating permutations and combinations of smaller groups. This makes these calculations suitable for recursion.\n",
    "\n",
    "\n",
    "## Vocabulary\n",
    "\n",
    "### A set\n",
    "A set is a collection of unique objects, called elements, or members.\n",
    "In mathematics (and in Python), sets are written inside curly braces, with the objects separated by commas: {A, B, C}\n",
    "Order doesn’t matter for a set. The set {A, B, C} is the same set as {C, B, A}\n",
    "Sets have distinct elements. There are no duplicates.\n",
    "In Mathematics, {A, C, A, B} is not a set, In Python {A, C, A, B} return {A, C, B}\n",
    "The empty set {}, In Python set(), is a set that contains no members at all and are considered subsets of every possible set0\n",
    "{A, B, C} is a subset and a superset of {A, B, C}\n",
    "\n",
    "### A subset\n",
    "A set is a subset of another set if it has only elements of the other set.\n",
    "{A, C} and {B, C} are both subsets of {A, B, C}, but {A, C, D} is not a subset of it\n",
    "A strict subset (or proper subset) does not have all the set’s elements.\n",
    "\n",
    "### A superset\n",
    "A set is a superset of another set if it contains all elements of the other set.\n",
    "A strict superset (or proper superset) does not have all the set’s elements.\n",
    "\n",
    "### n choose k\n",
    "Refers to the number of possible combinations (without repetition) of k elements that can be selected from a set of n elements.\n",
    "\n",
    "### n multi-choose k\n",
    "Refers to the number of possible combinations with repetition of k elements that can be selected from a set of n elements.\n",
    "\n",
    "## Permutation\n",
    "A permutation of a set is an ordering representation of all elements in the set.\n",
    "The set {A, B, C} has six permutations: ABC, ACB, BAC, BCA, CAB, and CBA.\n",
    "We call these permutations without repetition, or permutations without replacement, because each element doesn’t appear in the permutation more than once.\n",
    "Permutations have an ordering and use all the elements from a set, they are always the same size as the set.\n",
    "Permutations with repetition can be of any length.\n",
    "\n",
    "\n",
    "## Combination\n",
    "A combination is a subset of a set.\n",
    "A combination is a selection of elements of a set.\n",
    "A k-combination is a subset of k elements from a set. Unlike permutations, combinations don’t have an ordering.\n",
    "The 2-combinations of the set {A, B, C} are {A, B}, {A, C}, and {B, C}. 3 choose 2\n",
    "The 3-combination of the set {A, B, C} is {A, B, C}. 3 choose 3\n",
    "Because k-combinations are sets and sets do not have duplicate elements, a k-combination does not have repetition.\n",
    "When we use k-combinations with duplicate elements, we specifically call them k-combinations with repetition.\n",
    "Because k-combinations are sets and sets do not have duplicate elements, a k-combination does not have repetition."
   ],
   "metadata": {
    "collapsed": false,
    "pycharm": {
     "name": "#%% md\n"
    }
   }
  },
  {
   "cell_type": "code",
   "execution_count": 2,
   "outputs": [],
   "source": [
    "from typing import Collection, Container\n",
    "\n",
    "T = \"GENERIC_TYPE\"\n",
    "TT = Collection[T] | Container[T]"
   ],
   "metadata": {
    "collapsed": false,
    "pycharm": {
     "name": "#%%\n"
    }
   }
  },
  {
   "cell_type": "code",
   "execution_count": 8,
   "outputs": [
    {
     "data": {
      "text/plain": "['12AB',\n '12BA',\n '1A2B',\n '1AB2',\n '1B2A',\n '1BA2',\n '21AB',\n '21BA',\n '2A1B',\n '2AB1',\n '2B1A',\n '2BA1',\n 'A12B',\n 'A1B2',\n 'A21B',\n 'A2B1',\n 'AB12',\n 'AB21',\n 'B12A',\n 'B1A2',\n 'B21A',\n 'B2A1',\n 'BA12',\n 'BA21']"
     },
     "execution_count": 8,
     "metadata": {},
     "output_type": "execute_result"
    }
   ],
   "source": [
    "def permutations(E: TT) -> list[T]:  # O(n * n!)   |n!|\n",
    "    \"\"\" All ordering representation of all element from E. \"\"\"\n",
    "    if len(E) <= 1:\n",
    "        return [E]\n",
    "    perms = set()\n",
    "    for element in permutations(E[1:]):\n",
    "        for i in range(len(E)):\n",
    "            value = element[:i] + E[0] + element[i:]\n",
    "            perms.add(value)\n",
    "    return sorted(perms)\n",
    "permutations(\"AB12\")"
   ],
   "metadata": {
    "collapsed": false,
    "pycharm": {
     "name": "#%%\n"
    }
   }
  },
  {
   "cell_type": "code",
   "execution_count": 4,
   "outputs": [
    {
     "data": {
      "text/plain": "['AAA',\n 'AAB',\n 'AAC',\n 'ABA',\n 'ABB',\n 'ABC',\n 'ACA',\n 'ACB',\n 'ACC',\n 'BAA',\n 'BAB',\n 'BAC',\n 'BBA',\n 'BBB',\n 'BBC',\n 'BCA',\n 'BCB',\n 'BCC',\n 'CAA',\n 'CAB',\n 'CAC',\n 'CBA',\n 'CBB',\n 'CBC',\n 'CCA',\n 'CCB',\n 'CCC']"
     },
     "execution_count": 4,
     "metadata": {},
     "output_type": "execute_result"
    }
   ],
   "source": [
    "def permutations_with_duplicates(E: TT, k: int=None) -> list[T]:  # O(n * n!)   |n^k|\n",
    "    \"\"\" All ordering representation k-length of all element from E. \"\"\"\n",
    "    if k is None:\n",
    "        k = len(E)\n",
    "    def aux(length, prefix):\n",
    "        if length == 0:\n",
    "            return [prefix]\n",
    "        perms = []\n",
    "        for element in E:\n",
    "            perms.extend(aux(length - 1, prefix + element))\n",
    "            # print(aux(k - 1, prefix + element))\n",
    "        return perms\n",
    "    return aux(k, \"\")\n",
    "permutations_with_duplicates(\"ABC\")"
   ],
   "metadata": {
    "collapsed": false,
    "pycharm": {
     "name": "#%%\n"
    }
   }
  },
  {
   "cell_type": "code",
   "execution_count": 5,
   "outputs": [
    {
     "name": "stdout",
     "output_type": "stream",
     "text": [
      "Results: {'AB', 'AC', 'BC'}\n"
     ]
    }
   ],
   "source": [
    "def combination_k(E: TT, k: int) -> set[T]:\n",
    "    \"\"\" All k-elements subset from E \"\"\"\n",
    "    def aux(E, k):\n",
    "        if k == 0:\n",
    "            return [\"\"]\n",
    "        elif E == \"\":\n",
    "            return []\n",
    "        head, tail, k_combinations = E[:1], E[1:], []\n",
    "        tail_k_1_combination = aux(tail, k - 1)  # get all the k-1 combinations that don't include the head\n",
    "        tail_k_combination = aux(tail, k)  # get all the k combinations that don't include the head\n",
    "        k_combinations.extend([head + tail_combination for tail_combination in tail_k_1_combination])\n",
    "        k_combinations.extend(tail_k_combination)\n",
    "        return k_combinations\n",
    "    return set(aux(E, k))\n",
    "\n",
    "\n",
    "print('Results:', combination_k('ABC', 2))"
   ],
   "metadata": {
    "collapsed": false,
    "pycharm": {
     "name": "#%%\n"
    }
   }
  },
  {
   "cell_type": "code",
   "execution_count": 6,
   "outputs": [],
   "source": [
    "def combination_k(E, k: int):\n",
    "    \"\"\" All k-elements subset from E \"\"\"\n",
    "    if k == 0:\n",
    "        return [\"\"]\n",
    "    elif E == \"\":\n",
    "        return []\n",
    "    return [E[:1] + tail_combination for tail_combination in combination_k(E[1:], k - 1)] + combination_k(E[1:], k)"
   ],
   "metadata": {
    "collapsed": false,
    "pycharm": {
     "name": "#%%\n"
    }
   }
  }
 ],
 "metadata": {
  "kernelspec": {
   "display_name": "Python 3",
   "language": "python",
   "name": "python3"
  },
  "language_info": {
   "codemirror_mode": {
    "name": "ipython",
    "version": 2
   },
   "file_extension": ".py",
   "mimetype": "text/x-python",
   "name": "python",
   "nbconvert_exporter": "python",
   "pygments_lexer": "ipython2",
   "version": "2.7.6"
  }
 },
 "nbformat": 4,
 "nbformat_minor": 0
}