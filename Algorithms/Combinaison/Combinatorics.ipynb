{
 "cells": [
  {
   "cell_type": "markdown",
   "metadata": {
    "toc": true
   },
   "source": [
    "<h1>Table of Contents<span class=\"tocSkip\"></span></h1>\n",
    "<div class=\"toc\"><ul class=\"toc-item\"><li><span><a href=\"#Combinatorics\" data-toc-modified-id=\"Combinatorics-1\"><span class=\"toc-item-num\">1&nbsp;&nbsp;</span>Combinatorics</a></span><ul class=\"toc-item\"><li><span><a href=\"#Vocabulary\" data-toc-modified-id=\"Vocabulary-1.1\"><span class=\"toc-item-num\">1.1&nbsp;&nbsp;</span>Vocabulary</a></span><ul class=\"toc-item\"><li><span><a href=\"#A-set\" data-toc-modified-id=\"A-set-1.1.1\"><span class=\"toc-item-num\">1.1.1&nbsp;&nbsp;</span>A set</a></span></li><li><span><a href=\"#A-subset\" data-toc-modified-id=\"A-subset-1.1.2\"><span class=\"toc-item-num\">1.1.2&nbsp;&nbsp;</span>A subset</a></span></li><li><span><a href=\"#A-superset\" data-toc-modified-id=\"A-superset-1.1.3\"><span class=\"toc-item-num\">1.1.3&nbsp;&nbsp;</span>A superset</a></span></li><li><span><a href=\"#Cardinality\" data-toc-modified-id=\"Cardinality-1.1.4\"><span class=\"toc-item-num\">1.1.4&nbsp;&nbsp;</span>Cardinality</a></span></li></ul></li><li><span><a href=\"#Cartesian-product\" data-toc-modified-id=\"Cartesian-product-1.2\"><span class=\"toc-item-num\">1.2&nbsp;&nbsp;</span>Cartesian product</a></span></li><li><span><a href=\"#P-uplets\" data-toc-modified-id=\"P-uplets-1.3\"><span class=\"toc-item-num\">1.3&nbsp;&nbsp;</span>P-uplets</a></span></li><li><span><a href=\"#Set-of-all-application-from-from-a-finite-set-A-to-a-finite-set-B\" data-toc-modified-id=\"Set-of-all-application-from-from-a-finite-set-A-to-a-finite-set-B-1.4\"><span class=\"toc-item-num\">1.4&nbsp;&nbsp;</span>Set of all application from from a finite set A to a finite set B</a></span></li><li><span><a href=\"#Arrangement\" data-toc-modified-id=\"Arrangement-1.5\"><span class=\"toc-item-num\">1.5&nbsp;&nbsp;</span>Arrangement</a></span><ul class=\"toc-item\"><li><span><a href=\"#Permutation\" data-toc-modified-id=\"Permutation-1.5.1\"><span class=\"toc-item-num\">1.5.1&nbsp;&nbsp;</span>Permutation</a></span></li><li><span><a href=\"#k-Permutations-(Subset-permutations)\" data-toc-modified-id=\"k-Permutations-(Subset-permutations)-1.5.2\"><span class=\"toc-item-num\">1.5.2&nbsp;&nbsp;</span>k-Permutations (Subset permutations)</a></span></li><li><span><a href=\"#Permutations-with-Repetition\" data-toc-modified-id=\"Permutations-with-Repetition-1.5.3\"><span class=\"toc-item-num\">1.5.3&nbsp;&nbsp;</span>Permutations with Repetition</a></span></li></ul></li><li><span><a href=\"#Combination-(K-combination)\" data-toc-modified-id=\"Combination-(K-combination)-1.6\"><span class=\"toc-item-num\">1.6&nbsp;&nbsp;</span>Combination (K combination)</a></span></li><li><span><a href=\"#Multichoose-(multisets)\" data-toc-modified-id=\"Multichoose-(multisets)-1.7\"><span class=\"toc-item-num\">1.7&nbsp;&nbsp;</span>Multichoose (multisets)</a></span></li><li><span><a href=\"#The-power-set\" data-toc-modified-id=\"The-power-set-1.8\"><span class=\"toc-item-num\">1.8&nbsp;&nbsp;</span>The power set</a></span></li><li><span><a href=\"#Correspondence-(relation)\" data-toc-modified-id=\"Correspondence-(relation)-1.9\"><span class=\"toc-item-num\">1.9&nbsp;&nbsp;</span>Correspondence (relation)</a></span></li><li><span><a href=\"#Equivalence-classes\" data-toc-modified-id=\"Equivalence-classes-1.10\"><span class=\"toc-item-num\">1.10&nbsp;&nbsp;</span>Equivalence classes</a></span></li></ul></li></ul></div>"
   ]
  },
  {
   "cell_type": "markdown",
   "metadata": {
    "pycharm": {
     "name": "#%% md\n"
    }
   },
   "source": [
    "# Combinatorics\n",
    "Combinatorics focuses on the study of finite or countable discrete structures. It encompasses various subfields and provides a foundation for areas such as computer science, statistics, and algebra. \n",
    "\n",
    "**In functions, I will not use unorder iterable as a return value. Instead, I will sort them to maintain an ordered aspect for better visual clarity. Because of this, the complexity of the written functions is increased and not optimal. The algorithm complexity should always correspond to the cardinality of the given definition. When dealing with combinatorics algorithms, they are repeated very often, so they have to be optimized.**"
   ]
  },
  {
   "cell_type": "code",
   "execution_count": 1,
   "metadata": {},
   "outputs": [],
   "source": [
    "import itertools\n",
    "import math\n",
    "from typing import Iterable, Callable, Sized, Any, TypeVar\n",
    "\n",
    "T1 = Iterable[\"T1\"]\n",
    "T2 = Iterable[\"T2\"]\n",
    "\n",
    "def r(result):\n",
    "    print(result, len(result))"
   ]
  },
  {
   "cell_type": "markdown",
   "metadata": {},
   "source": [
    "## Vocabulary\n",
    "\n",
    "### A set\n",
    "A set is a collection of unique objects, called elements, or members. In mathematics (and in Python), sets are written inside curly braces, with the objects separated by commas: {A, B, C}<br>\n",
    "Order doesn’t matter for a set. The set {A, B, C} is the same set as {C, B, A}<br>\n",
    "Sets have distinct elements. There are no duplicates possible.\n",
    "\n",
    "In Mathematics, {A, C, A, B} is not a set, In Python {A, C, A, B} return {A, C, B}.<br>\n",
    "The empty set is {} (in Python set()), this is a set that contains no members at all and are considered subsets of every possible set.\n",
    "\n",
    "### A subset\n",
    "A set is a subset of another set if it has only elements of the other set. {A, C} and {B, C} are both subsets of {A, B, C}, but {A, C, D} is not a subset of it. A strict subset (or proper subset) does not have all the set’s elements.\n",
    "\n",
    "### A superset\n",
    "A set is a superset of another set if it contains all elements of the other set. A strict superset (or proper superset) does not have all the set’s elements.\n",
    "\n",
    "---\n",
    "{A, B, C} is a subset and a superset of {A, B, C}\n",
    "\n",
    "### Cardinality\n",
    "The cardinality of a set is a measure of the \"number of elements\" in the set. It's often denoted by ∣S∣ where S is the set in question.\n",
    "\n",
    "$$ cardinality(S) = n $$\n",
    "$$ |S| = n $$\n",
    "$$ Python: len(S) = n $$\n",
    "\n",
    "In the context of finite sets, the cardinality can also be referred to as the \"size\" or \"length\" of the set, though \"cardinality\" is the more precise mathematical term."
   ]
  },
  {
   "cell_type": "markdown",
   "metadata": {},
   "source": [
    "## Cartesian product\n",
    "\n",
    "$$ cartesian product(A, B) = |A|⋅|B| $$\n",
    "\n",
    "The Cartesian product is a mathematical operation that returns a set from multiple sets.<br>\n",
    "The Cartesian product of two sets A and B, denoted by A×B, is the set of all ordered pairs (a,b) where a∈A and b∈B. The Cartesian product can be extended to more than two sets."
   ]
  },
  {
   "cell_type": "code",
   "execution_count": 2,
   "metadata": {},
   "outputs": [
    {
     "name": "stdout",
     "output_type": "stream",
     "text": [
      "[('a', 0), ('a', 1), ('a', 2), ('b', 0), ('b', 1), ('b', 2)] 6\n",
      "[(0, 'a'), (0, 'b'), (1, 'a'), (1, 'b'), (2, 'a'), (2, 'b'), (3, 'a'), (3, 'b')] 8\n"
     ]
    }
   ],
   "source": [
    "def cartesian_product(A: T1, B: T2) -> list[tuple[T1, T2]]: # O(n)\n",
    "    return sorted(itertools.product(A, B))\n",
    "\n",
    "def cartesian_product_hand(A: T1, B: T2) -> list[tuple[T1, T2]]:\n",
    "    return [(a,) + (b,) for a in A for b in B]\n",
    "\n",
    "r(cartesian_product(\"ab\", range(3)))\n",
    "r(cartesian_product((range(4)), \"ab\"))"
   ]
  },
  {
   "cell_type": "markdown",
   "metadata": {},
   "source": [
    "## P-uplets\n",
    "An \"P-tuple\" refers to an ordered tuple with exactly p elements.<br>A 2-tuple is also called a \"pair\" and might be represented as (a,b).\n",
    "A 3-tuple is also known as a \"triple\" and could be represented as (a,b,c).\n",
    "\n",
    "$$ All Puplets(A, p) = |A|^p $$\n",
    "\n",
    "Getting all possible P-uplet from a given set corresponds to getting all possible ordered arrangements of p elements, with repetition. It can be seen as generating the Cartesian product of the set E with itself p times."
   ]
  },
  {
   "cell_type": "code",
   "execution_count": 3,
   "metadata": {},
   "outputs": [
    {
     "name": "stdout",
     "output_type": "stream",
     "text": [
      "[(1, 1, 1), (1, 1, 2), (1, 1, 3), (1, 2, 1), (1, 2, 2), (1, 2, 3), (1, 3, 1), (1, 3, 2), (1, 3, 3), (2, 1, 1), (2, 1, 2), (2, 1, 3), (2, 2, 1), (2, 2, 2), (2, 2, 3), (2, 3, 1), (2, 3, 2), (2, 3, 3), (3, 1, 1), (3, 1, 2), (3, 1, 3), (3, 2, 1), (3, 2, 2), (3, 2, 3), (3, 3, 1), (3, 3, 2), (3, 3, 3)] 27\n",
      "[(1, 1), (1, 2), (1, 3), (2, 1), (2, 2), (2, 3), (3, 1), (3, 2), (3, 3)] 9\n"
     ]
    }
   ],
   "source": [
    "def p_uplets(A: T1, p=None) -> list[tuple[T1]]: # O(n^p)\n",
    "    if p is None:\n",
    "        return p_uplets(A, len(A))\n",
    "    elif p == 0:\n",
    "        return [()]\n",
    "    return sorted([(a,) + p_uplet\n",
    "                   for a in A\n",
    "                   for p_uplet in p_uplets(A, p - 1)])\n",
    "\n",
    "r(p_uplets((1, 2, 3)))\n",
    "r(p_uplets((1, 2, 3), p=2))"
   ]
  },
  {
   "cell_type": "markdown",
   "metadata": {},
   "source": [
    "## Set of all application from from a finite set A to a finite set B\n",
    "$$ Map(A, B) = |A|^{|B|} $$\n",
    "\n",
    "The set of different mappings from a finite set E to a finite set F is commonly used to denote the set of all functions from A  to B."
   ]
  },
  {
   "cell_type": "code",
   "execution_count": 4,
   "metadata": {},
   "outputs": [
    {
     "name": "stdout",
     "output_type": "stream",
     "text": [
      "[(1, 1, 1), (1, 1, 2), (1, 1, 3), (1, 2, 1), (1, 2, 2), (1, 2, 3), (1, 3, 1), (1, 3, 2), (1, 3, 3), (2, 1, 1), (2, 1, 2), (2, 1, 3), (2, 2, 1), (2, 2, 2), (2, 2, 3), (2, 3, 1), (2, 3, 2), (2, 3, 3), (3, 1, 1), (3, 1, 2), (3, 1, 3), (3, 2, 1), (3, 2, 2), (3, 2, 3), (3, 3, 1), (3, 3, 2), (3, 3, 3)] 27\n",
      "[('a', 'a', 'a'), ('a', 'a', 'b'), ('a', 'b', 'a'), ('a', 'b', 'b'), ('b', 'a', 'a'), ('b', 'a', 'b'), ('b', 'b', 'a'), ('b', 'b', 'b')] 8\n",
      "[(1, 1), (1, 2), (1, 3), (2, 1), (2, 2), (2, 3), (3, 1), (3, 2), (3, 3)] 9\n"
     ]
    }
   ],
   "source": [
    "def app_A_to_B(A: T1, B: T2 = None) -> list[tuple[T2, ...]]: # O(n^p)\n",
    "    A = sorted(A)\n",
    "    if B is None:\n",
    "        B = list(A)\n",
    "    B = sorted(B)\n",
    "    return sorted([tuple(uplet[i] for i in range(len(A)))\n",
    "                   for uplet in p_uplets(B, len(A))])\n",
    "\n",
    "r(app_A_to_B((1, 2, 3)))\n",
    "r(app_A_to_B((1, 2, 3), \"ab\"))\n",
    "r(app_A_to_B(\"ab\", (1, 2, 3)))"
   ]
  },
  {
   "cell_type": "markdown",
   "metadata": {},
   "source": [
    "## Arrangement\n",
    "An arrangement represents a unique ordering of the objects within the set. This is a concept that involves organizing or arranging a set of objects in a particular order or sequence. "
   ]
  },
  {
   "cell_type": "markdown",
   "metadata": {},
   "source": [
    "### Permutation\n",
    "A permutation is an ordered arrangement of n objects.\n",
    "\n",
    "$$ |permutations(S)| = n! $$\n",
    "\n",
    "The permutation is an arrangement of all the elements of a set into a specific sequence or order. They use all the elements from a set, they are always the same size as the set.\n",
    "\n",
    "The set {A, B, C} has six permutations: ABC, ACB, BAC, BCA, CAB, and CBA.<br>\n",
    "We call these permutations without repetition, or permutations without replacement, because each element doesn’t appear in the permutation more than once. If you have a set of n distinct objects, the number of ways to arrange all of them is given by \n",
    "n!. The reasoning behind this is that you have n choices for the first object, n−1 for the second, n−2 for the third, and so on.<br>"
   ]
  },
  {
   "cell_type": "code",
   "execution_count": 5,
   "metadata": {
    "scrolled": false
   },
   "outputs": [
    {
     "name": "stdout",
     "output_type": "stream",
     "text": [
      "[(1, 2), (2, 1)]\n",
      "[(0, 1, 2, 3), (0, 1, 3, 2), (0, 2, 1, 3), (0, 2, 3, 1), (0, 3, 1, 2), (0, 3, 2, 1), (1, 0, 2, 3), (1, 0, 3, 2), (1, 2, 0, 3), (1, 2, 3, 0), (1, 3, 0, 2), (1, 3, 2, 0), (2, 0, 1, 3), (2, 0, 3, 1), (2, 1, 0, 3), (2, 1, 3, 0), (2, 3, 0, 1), (2, 3, 1, 0), (3, 0, 1, 2), (3, 0, 2, 1), (3, 1, 0, 2), (3, 1, 2, 0), (3, 2, 0, 1), (3, 2, 1, 0)]\n",
      "[('a', 'b', 'c'), ('a', 'c', 'b'), ('b', 'a', 'c'), ('b', 'c', 'a'), ('c', 'a', 'b'), ('c', 'b', 'a')]\n",
      "['Hnopty', 'Hnopyt', 'Hnotpy', 'Hnotyp', 'Hnoypt', 'Hnoytp', 'Hnpoty', 'Hnpoyt', 'Hnptoy', 'Hnptyo', 'Hnpyot', 'Hnpyto', 'Hntopy', 'Hntoyp', 'Hntpoy', 'Hntpyo', 'Hntyop', 'Hntypo', 'Hnyopt', 'Hnyotp', 'Hnypot', 'Hnypto', 'Hnytop', 'Hnytpo', 'Honpty', 'Honpyt', 'Hontpy', 'Hontyp', 'Honypt', 'Honytp', 'Hopnty', 'Hopnyt', 'Hoptny', 'Hoptyn', 'Hopynt', 'Hopytn', 'Hotnpy', 'Hotnyp', 'Hotpny', 'Hotpyn', 'Hotynp', 'Hotypn', 'Hoynpt', 'Hoyntp', 'Hoypnt', 'Hoyptn', 'Hoytnp', 'Hoytpn', 'Hpnoty', 'Hpnoyt', 'Hpntoy', 'Hpntyo', 'Hpnyot', 'Hpnyto', 'Hponty', 'Hponyt', 'Hpotny', 'Hpotyn', 'Hpoynt', 'Hpoytn', 'Hptnoy', 'Hptnyo', 'Hptony', 'Hptoyn', 'Hptyno', 'Hptyon', 'Hpynot', 'Hpynto', 'Hpyont', 'Hpyotn', 'Hpytno', 'Hpyton', 'Htnopy', 'Htnoyp', 'Htnpoy', 'Htnpyo', 'Htnyop', 'Htnypo', 'Htonpy', 'Htonyp', 'Htopny', 'Htopyn', 'Htoynp', 'Htoypn', 'Htpnoy', 'Htpnyo', 'Htpony', 'Htpoyn', 'Htpyno', 'Htpyon', 'Htynop', 'Htynpo', 'Htyonp', 'Htyopn', 'Htypno', 'Htypon', 'Hynopt', 'Hynotp', 'Hynpot', 'Hynpto', 'Hyntop', 'Hyntpo', 'Hyonpt', 'Hyontp', 'Hyopnt', 'Hyoptn', 'Hyotnp', 'Hyotpn', 'Hypnot', 'Hypnto', 'Hypont', 'Hypotn', 'Hyptno', 'Hypton', 'Hytnop', 'Hytnpo', 'Hytonp', 'Hytopn', 'Hytpno', 'Hytpon', 'Nhopty', 'Nhopyt', 'Nhotpy', 'Nhotyp', 'Nhoypt', 'Nhoytp', 'Nhpoty', 'Nhpoyt', 'Nhptoy', 'Nhptyo', 'Nhpyot', 'Nhpyto', 'Nhtopy', 'Nhtoyp', 'Nhtpoy', 'Nhtpyo', 'Nhtyop', 'Nhtypo', 'Nhyopt', 'Nhyotp', 'Nhypot', 'Nhypto', 'Nhytop', 'Nhytpo', 'Nohpty', 'Nohpyt', 'Nohtpy', 'Nohtyp', 'Nohypt', 'Nohytp', 'Nophty', 'Nophyt', 'Nopthy', 'Noptyh', 'Nopyht', 'Nopyth', 'Nothpy', 'Nothyp', 'Notphy', 'Notpyh', 'Notyhp', 'Notyph', 'Noyhpt', 'Noyhtp', 'Noypht', 'Noypth', 'Noythp', 'Noytph', 'Nphoty', 'Nphoyt', 'Nphtoy', 'Nphtyo', 'Nphyot', 'Nphyto', 'Npohty', 'Npohyt', 'Npothy', 'Npotyh', 'Npoyht', 'Npoyth', 'Npthoy', 'Npthyo', 'Nptohy', 'Nptoyh', 'Nptyho', 'Nptyoh', 'Npyhot', 'Npyhto', 'Npyoht', 'Npyoth', 'Npytho', 'Npytoh', 'Nthopy', 'Nthoyp', 'Nthpoy', 'Nthpyo', 'Nthyop', 'Nthypo', 'Ntohpy', 'Ntohyp', 'Ntophy', 'Ntopyh', 'Ntoyhp', 'Ntoyph', 'Ntphoy', 'Ntphyo', 'Ntpohy', 'Ntpoyh', 'Ntpyho', 'Ntpyoh', 'Ntyhop', 'Ntyhpo', 'Ntyohp', 'Ntyoph', 'Ntypho', 'Ntypoh', 'Nyhopt', 'Nyhotp', 'Nyhpot', 'Nyhpto', 'Nyhtop', 'Nyhtpo', 'Nyohpt', 'Nyohtp', 'Nyopht', 'Nyopth', 'Nyothp', 'Nyotph', 'Nyphot', 'Nyphto', 'Nypoht', 'Nypoth', 'Nyptho', 'Nyptoh', 'Nythop', 'Nythpo', 'Nytohp', 'Nytoph', 'Nytpho', 'Nytpoh', 'Ohnpty', 'Ohnpyt', 'Ohntpy', 'Ohntyp', 'Ohnypt', 'Ohnytp', 'Ohpnty', 'Ohpnyt', 'Ohptny', 'Ohptyn', 'Ohpynt', 'Ohpytn', 'Ohtnpy', 'Ohtnyp', 'Ohtpny', 'Ohtpyn', 'Ohtynp', 'Ohtypn', 'Ohynpt', 'Ohyntp', 'Ohypnt', 'Ohyptn', 'Ohytnp', 'Ohytpn', 'Onhpty', 'Onhpyt', 'Onhtpy', 'Onhtyp', 'Onhypt', 'Onhytp', 'Onphty', 'Onphyt', 'Onpthy', 'Onptyh', 'Onpyht', 'Onpyth', 'Onthpy', 'Onthyp', 'Ontphy', 'Ontpyh', 'Ontyhp', 'Ontyph', 'Onyhpt', 'Onyhtp', 'Onypht', 'Onypth', 'Onythp', 'Onytph', 'Ophnty', 'Ophnyt', 'Ophtny', 'Ophtyn', 'Ophynt', 'Ophytn', 'Opnhty', 'Opnhyt', 'Opnthy', 'Opntyh', 'Opnyht', 'Opnyth', 'Opthny', 'Opthyn', 'Optnhy', 'Optnyh', 'Optyhn', 'Optynh', 'Opyhnt', 'Opyhtn', 'Opynht', 'Opynth', 'Opythn', 'Opytnh', 'Othnpy', 'Othnyp', 'Othpny', 'Othpyn', 'Othynp', 'Othypn', 'Otnhpy', 'Otnhyp', 'Otnphy', 'Otnpyh', 'Otnyhp', 'Otnyph', 'Otphny', 'Otphyn', 'Otpnhy', 'Otpnyh', 'Otpyhn', 'Otpynh', 'Otyhnp', 'Otyhpn', 'Otynhp', 'Otynph', 'Otyphn', 'Otypnh', 'Oyhnpt', 'Oyhntp', 'Oyhpnt', 'Oyhptn', 'Oyhtnp', 'Oyhtpn', 'Oynhpt', 'Oynhtp', 'Oynpht', 'Oynpth', 'Oynthp', 'Oyntph', 'Oyphnt', 'Oyphtn', 'Oypnht', 'Oypnth', 'Oypthn', 'Oyptnh', 'Oythnp', 'Oythpn', 'Oytnhp', 'Oytnph', 'Oytphn', 'Oytpnh', 'Phnoty', 'Phnoyt', 'Phntoy', 'Phntyo', 'Phnyot', 'Phnyto', 'Phonty', 'Phonyt', 'Photny', 'Photyn', 'Phoynt', 'Phoytn', 'Phtnoy', 'Phtnyo', 'Phtony', 'Phtoyn', 'Phtyno', 'Phtyon', 'Phynot', 'Phynto', 'Phyont', 'Phyotn', 'Phytno', 'Phyton', 'Pnhoty', 'Pnhoyt', 'Pnhtoy', 'Pnhtyo', 'Pnhyot', 'Pnhyto', 'Pnohty', 'Pnohyt', 'Pnothy', 'Pnotyh', 'Pnoyht', 'Pnoyth', 'Pnthoy', 'Pnthyo', 'Pntohy', 'Pntoyh', 'Pntyho', 'Pntyoh', 'Pnyhot', 'Pnyhto', 'Pnyoht', 'Pnyoth', 'Pnytho', 'Pnytoh', 'Pohnty', 'Pohnyt', 'Pohtny', 'Pohtyn', 'Pohynt', 'Pohytn', 'Ponhty', 'Ponhyt', 'Ponthy', 'Pontyh', 'Ponyht', 'Ponyth', 'Pothny', 'Pothyn', 'Potnhy', 'Potnyh', 'Potyhn', 'Potynh', 'Poyhnt', 'Poyhtn', 'Poynht', 'Poynth', 'Poythn', 'Poytnh', 'Pthnoy', 'Pthnyo', 'Pthony', 'Pthoyn', 'Pthyno', 'Pthyon', 'Ptnhoy', 'Ptnhyo', 'Ptnohy', 'Ptnoyh', 'Ptnyho', 'Ptnyoh', 'Ptohny', 'Ptohyn', 'Ptonhy', 'Ptonyh', 'Ptoyhn', 'Ptoynh', 'Ptyhno', 'Ptyhon', 'Ptynho', 'Ptynoh', 'Ptyohn', 'Ptyonh', 'Pyhnot', 'Pyhnto', 'Pyhont', 'Pyhotn', 'Pyhtno', 'Pyhton', 'Pynhot', 'Pynhto', 'Pynoht', 'Pynoth', 'Pyntho', 'Pyntoh', 'Pyohnt', 'Pyohtn', 'Pyonht', 'Pyonth', 'Pyothn', 'Pyotnh', 'Pythno', 'Python', 'Pytnho', 'Pytnoh', 'Pytohn', 'Pytonh', 'Thnopy', 'Thnoyp', 'Thnpoy', 'Thnpyo', 'Thnyop', 'Thnypo', 'Thonpy', 'Thonyp', 'Thopny', 'Thopyn', 'Thoynp', 'Thoypn', 'Thpnoy', 'Thpnyo', 'Thpony', 'Thpoyn', 'Thpyno', 'Thpyon', 'Thynop', 'Thynpo', 'Thyonp', 'Thyopn', 'Thypno', 'Thypon', 'Tnhopy', 'Tnhoyp', 'Tnhpoy', 'Tnhpyo', 'Tnhyop', 'Tnhypo', 'Tnohpy', 'Tnohyp', 'Tnophy', 'Tnopyh', 'Tnoyhp', 'Tnoyph', 'Tnphoy', 'Tnphyo', 'Tnpohy', 'Tnpoyh', 'Tnpyho', 'Tnpyoh', 'Tnyhop', 'Tnyhpo', 'Tnyohp', 'Tnyoph', 'Tnypho', 'Tnypoh', 'Tohnpy', 'Tohnyp', 'Tohpny', 'Tohpyn', 'Tohynp', 'Tohypn', 'Tonhpy', 'Tonhyp', 'Tonphy', 'Tonpyh', 'Tonyhp', 'Tonyph', 'Tophny', 'Tophyn', 'Topnhy', 'Topnyh', 'Topyhn', 'Topynh', 'Toyhnp', 'Toyhpn', 'Toynhp', 'Toynph', 'Toyphn', 'Toypnh', 'Tphnoy', 'Tphnyo', 'Tphony', 'Tphoyn', 'Tphyno', 'Tphyon', 'Tpnhoy', 'Tpnhyo', 'Tpnohy', 'Tpnoyh', 'Tpnyho', 'Tpnyoh', 'Tpohny', 'Tpohyn', 'Tponhy', 'Tponyh', 'Tpoyhn', 'Tpoynh', 'Tpyhno', 'Tpyhon', 'Tpynho', 'Tpynoh', 'Tpyohn', 'Tpyonh', 'Tyhnop', 'Tyhnpo', 'Tyhonp', 'Tyhopn', 'Tyhpno', 'Tyhpon', 'Tynhop', 'Tynhpo', 'Tynohp', 'Tynoph', 'Tynpho', 'Tynpoh', 'Tyohnp', 'Tyohpn', 'Tyonhp', 'Tyonph', 'Tyophn', 'Tyopnh', 'Typhno', 'Typhon', 'Typnho', 'Typnoh', 'Typohn', 'Typonh', 'Yhnopt', 'Yhnotp', 'Yhnpot', 'Yhnpto', 'Yhntop', 'Yhntpo', 'Yhonpt', 'Yhontp', 'Yhopnt', 'Yhoptn', 'Yhotnp', 'Yhotpn', 'Yhpnot', 'Yhpnto', 'Yhpont', 'Yhpotn', 'Yhptno', 'Yhpton', 'Yhtnop', 'Yhtnpo', 'Yhtonp', 'Yhtopn', 'Yhtpno', 'Yhtpon', 'Ynhopt', 'Ynhotp', 'Ynhpot', 'Ynhpto', 'Ynhtop', 'Ynhtpo', 'Ynohpt', 'Ynohtp', 'Ynopht', 'Ynopth', 'Ynothp', 'Ynotph', 'Ynphot', 'Ynphto', 'Ynpoht', 'Ynpoth', 'Ynptho', 'Ynptoh', 'Ynthop', 'Ynthpo', 'Yntohp', 'Yntoph', 'Yntpho', 'Yntpoh', 'Yohnpt', 'Yohntp', 'Yohpnt', 'Yohptn', 'Yohtnp', 'Yohtpn', 'Yonhpt', 'Yonhtp', 'Yonpht', 'Yonpth', 'Yonthp', 'Yontph', 'Yophnt', 'Yophtn', 'Yopnht', 'Yopnth', 'Yopthn', 'Yoptnh', 'Yothnp', 'Yothpn', 'Yotnhp', 'Yotnph', 'Yotphn', 'Yotpnh', 'Yphnot', 'Yphnto', 'Yphont', 'Yphotn', 'Yphtno', 'Yphton', 'Ypnhot', 'Ypnhto', 'Ypnoht', 'Ypnoth', 'Ypntho', 'Ypntoh', 'Ypohnt', 'Ypohtn', 'Yponht', 'Yponth', 'Ypothn', 'Ypotnh', 'Ypthno', 'Ypthon', 'Yptnho', 'Yptnoh', 'Yptohn', 'Yptonh', 'Ythnop', 'Ythnpo', 'Ythonp', 'Ythopn', 'Ythpno', 'Ythpon', 'Ytnhop', 'Ytnhpo', 'Ytnohp', 'Ytnoph', 'Ytnpho', 'Ytnpoh', 'Ytohnp', 'Ytohpn', 'Ytonhp', 'Ytonph', 'Ytophn', 'Ytopnh', 'Ytphno', 'Ytphon', 'Ytpnho', 'Ytpnoh', 'Ytpohn', 'Ytponh']\n"
     ]
    }
   ],
   "source": [
    "def permutations(A: T1, k=None, join_str=False, remove_duplicate=True) -> list[T1]:\n",
    "    if k is None:\n",
    "        k = len(A)\n",
    "    if join_str:\n",
    "        permutations = map(lambda x: \"\".join(x).capitalize(), itertools.permutations(A, k))\n",
    "        return sorted(set(permutations)) if remove_duplicate else sorted(permutations)\n",
    "    return sorted(set(itertools.permutations(A, k))) if remove_duplicate else sorted(itertools.permutations(A, k))\n",
    "\n",
    "def permutations_hand1(A: T1)-> list[T1]:\n",
    "    if len(A) <= 1:\n",
    "        return [A]\n",
    "    A = list(A)\n",
    "    perms = []\n",
    "    for element in permutations(A[1:]):\n",
    "        for i in range(len(A)):\n",
    "            perms.append(list(element[:i]) + [A[0]] + list(element[i:]))\n",
    "    return perms\n",
    "\n",
    "def permutations_hand2(A: T1, r=None):\n",
    "    pool = tuple(A)\n",
    "    n = len(pool)\n",
    "    r = n if r is None else r\n",
    "    for indices in itertools.product(range(n), repeat=r):\n",
    "        if len(set(indices)) == r:\n",
    "            yield tuple(pool[i] for i in indices)\n",
    "            \n",
    "def permutations_(A: T1, k: int)-> list[T1]: # O(n!)\n",
    "    return itertools.permutations(A, k)\n",
    "\n",
    "print(permutations((1, 2)))\n",
    "print(permutations((range(4))))\n",
    "print(permutations(\"abc\", join_str=False))\n",
    "print(permutations(\"Python\", join_str=True))"
   ]
  },
  {
   "cell_type": "markdown",
   "metadata": {},
   "source": [
    "### k-Permutations (Subset permutations)\n",
    "Arrange k objects out of a set of n.\n",
    "\n",
    "$$ |kPermutations(S, k)| = \\frac{n!}{(n-k)!} $$"
   ]
  },
  {
   "cell_type": "code",
   "execution_count": 6,
   "metadata": {
    "scrolled": false
   },
   "outputs": [
    {
     "name": "stdout",
     "output_type": "stream",
     "text": [
      "[(1, 2, 3), (1, 3, 2), (2, 1, 3), (2, 3, 1), (3, 1, 2), (3, 2, 1)]\n",
      "[(1, 2), (1, 3), (1, 4), (2, 1), (2, 3), (2, 4), (3, 1), (3, 2), (3, 4), (4, 1), (4, 2), (4, 3)] 12\n",
      "[]\n"
     ]
    }
   ],
   "source": [
    "print(permutations((1, 2, 3)))\n",
    "print(permutations((1, 2, 3, 4), k=2), len(permutations((1, 2, 3, 4), k=2)))\n",
    "print(permutations((1, 2, 3), k=4))"
   ]
  },
  {
   "cell_type": "markdown",
   "metadata": {},
   "source": [
    "### Permutations with Repetition\n",
    "$$ |Permutations with Repetition(S, k)| = P(n, k) = \\frac{n!}{(n_1!⋅...⋅n_r!)} $$\n",
    "\n",
    "If there are repeated objects in the set, the number of distinct permutations must be adjusted."
   ]
  },
  {
   "cell_type": "code",
   "execution_count": 7,
   "metadata": {
    "scrolled": true
   },
   "outputs": [
    {
     "name": "stdout",
     "output_type": "stream",
     "text": [
      "['Ann', 'Ann', 'Nan', 'Nan', 'Nna', 'Nna']\n",
      "['Ann', 'Nan', 'Nna']\n"
     ]
    }
   ],
   "source": [
    "print(permutations(\"nan\", remove_duplicate=False, join_str=True))\n",
    "print(permutations(\"nan\", remove_duplicate=True, join_str=True))"
   ]
  },
  {
   "cell_type": "markdown",
   "metadata": {},
   "source": [
    "---\n",
    "Permutations are closely related to combinations. While permutations consider the arrangement of objects where the order matters, combinations are concerned with the selection of objects without regard to order."
   ]
  },
  {
   "cell_type": "markdown",
   "metadata": {},
   "source": [
    "## Combination (K combination)\n",
    "A combination refers to the selection of items without regard to the order in which they are arranged. Often called as K combination or **n choose k** that means selecting k items from n without regard to order.\n",
    "\n",
    "$$\n",
    "|Combination(A, k)| = C(n,k) = \\binom{n}{k} = \\frac{n!}{k!(n-k)!}\n",
    "$$\n",
    "\n",
    "\n",
    "---\n",
    "This correspond to the number of possible combinations (without repetition) of k elements that can be selected from a set of n elements.\n",
    "Combinations deals with selecting items from a collection without considering the order in which they are arranged.\n",
    "\n",
    "Calculating permutations and combinations of large groups involves calculating permutations and combinations of smaller groups. This makes these calculations suitable for recursion.\n",
    "\n",
    "A combination is a subset of a set.<br>\n",
    "A combination is a selection of elements of a set.<br>\n",
    "A k-combination is a subset of k elements from a set. Unlike permutations, combinations don’t have an ordering.<br>\n",
    "The 2-combinations of the set {A, B, C} are {A, B}, {A, C}, and {B, C}. 3 choose 2<br>\n",
    "The 3-combination of the set {A, B, C} is {A, B, C}. 3 choose 3<br>\n",
    "Because k-combinations are sets and sets do not have duplicate elements, a k-combination does not have repetition.<br>\n",
    "When we use k-combinations with duplicate elements, we specifically call them k-combinations with repetition.<br>"
   ]
  },
  {
   "cell_type": "code",
   "execution_count": 8,
   "metadata": {
    "pycharm": {
     "name": "#%%\n"
    }
   },
   "outputs": [
    {
     "name": "stdout",
     "output_type": "stream",
     "text": [
      "[(1, 2, 3), (1, 2, 4), (1, 2, 5), (1, 3, 4), (1, 3, 5), (1, 4, 5), (2, 3, 4), (2, 3, 5), (2, 4, 5), (3, 4, 5)] 10\n",
      "[(1, 2), (1, 3), (1, 4), (1, 5), (2, 3), (2, 4), (2, 5), (3, 4), (3, 5), (4, 5)] 10\n",
      "[(1, 2, 3), (1, 2, 4), (1, 3, 4), (2, 3, 4)] 4\n",
      "[('a', 'b', 'c'), ('a', 'b', 'd'), ('a', 'b', 'e'), ('a', 'c', 'd'), ('a', 'c', 'e'), ('a', 'd', 'e'), ('b', 'c', 'd'), ('b', 'c', 'e'), ('b', 'd', 'e'), ('c', 'd', 'e')] 10\n",
      "[(1, 2, 3, 4), (1, 2, 3, 5), (1, 2, 3, 6), (1, 2, 4, 5), (1, 2, 4, 6), (1, 2, 5, 6), (1, 3, 4, 5), (1, 3, 4, 6), (1, 3, 5, 6), (1, 4, 5, 6), (2, 3, 4, 5), (2, 3, 4, 6), (2, 3, 5, 6), (2, 4, 5, 6), (3, 4, 5, 6)] 15\n"
     ]
    }
   ],
   "source": [
    "def combination(A: T1, k: int) -> set[T1]: # O(k * 2^n)\n",
    "    return set(itertools.combinations(A, k))\n",
    "\n",
    "def combination_hand1(A: T1, k: int):\n",
    "    \"\"\" All k-elements subset from E \"\"\"\n",
    "    def aux(S, k):\n",
    "        if k == 0:\n",
    "            return [()]\n",
    "        elif not S:\n",
    "            return []\n",
    "        head, tail, k_combinations = S[0], S[1:], []\n",
    "        tail_k_1_combination = aux(tail, k - 1)  # get all the k-1 combinations that don't include the head\n",
    "        tail_k_combination = aux(tail, k)  # get all the k combinations that don't include the head\n",
    "        k_combinations.extend([(head,) + tail_combination for tail_combination in tail_k_1_combination])\n",
    "        k_combinations.extend(tail_k_combination)\n",
    "        return k_combinations\n",
    "    return sorted(aux(A, k))\n",
    "\n",
    "def combination_hand2(A: T1, k: int):\n",
    "    \"\"\" All k-elements subset from E \"\"\"\n",
    "    if k == 0:\n",
    "        return [()]\n",
    "    elif not A:\n",
    "        return []\n",
    "    return sorted([(A[0],) + tail_combination for tail_combination in combination_hand2(A[1:], k - 1)] + combination_hand2(A[1:], k))\n",
    "\n",
    "r(combination_hand1((1, 2, 3, 4, 5), 3))\n",
    "r(combination_hand1((1, 2, 3, 4, 5), 2))\n",
    "r(combination_hand1((1, 2, 3, 4), 3))\n",
    "r(combination_hand1(\"abcde\", 3))\n",
    "r(combination_hand1(range(1, 6+1), 4))"
   ]
  },
  {
   "cell_type": "markdown",
   "metadata": {},
   "source": [
    "## Multichoose (multisets)\n",
    "\n",
    "$$\\left( \\binom{n}{k} \\right) = \\binom{n + k - 1}{k} = \\frac{{(n + k - 1)!}}{{k! \\, (n - 1)!}}$$\n",
    "\n",
    "Multichoose extends the idea of combinations by allowing repetition of elements in the selection. It represents the number of ways to choose k objects from a set of n objects, but unlike standard combinations, the same object can be chosen more than once. Because of that, a multichoose is not a set. **n multi-choose k** Refers to the number of possible combinations with repetition of k elements that can be selected from a set of n elements."
   ]
  },
  {
   "cell_type": "code",
   "execution_count": 9,
   "metadata": {},
   "outputs": [
    {
     "name": "stdout",
     "output_type": "stream",
     "text": [
      "[['a', 'a', 'a'], ['a', 'a', 'b'], ['a', 'b', 'b'], ['b', 'b', 'b']] 4\n",
      "[['a', 'a', 'a'], ['a', 'a', 'b'], ['a', 'a', 'c'], ['a', 'b', 'b'], ['a', 'b', 'c'], ['a', 'c', 'c'], ['b', 'b', 'b'], ['b', 'b', 'c'], ['b', 'c', 'c'], ['c', 'c', 'c']] 10\n",
      "[['a', 'a', 'a', 'a'], ['a', 'a', 'a', 'b'], ['a', 'a', 'a', 'c'], ['a', 'a', 'b', 'b'], ['a', 'a', 'b', 'c'], ['a', 'a', 'c', 'c'], ['a', 'b', 'b', 'b'], ['a', 'b', 'b', 'c'], ['a', 'b', 'c', 'c'], ['a', 'c', 'c', 'c'], ['b', 'b', 'b', 'b'], ['b', 'b', 'b', 'c'], ['b', 'b', 'c', 'c'], ['b', 'c', 'c', 'c'], ['c', 'c', 'c', 'c']] 15\n"
     ]
    }
   ],
   "source": [
    "def multi_choose(A, k):\n",
    "    if k == 0:\n",
    "        return [[]]\n",
    "    if not A:\n",
    "        return []\n",
    "    result = []\n",
    "    for i in range(len(A)):\n",
    "        smaller_multi_choose = multi_choose(A[i:], k - 1)\n",
    "        for subset in smaller_multi_choose:\n",
    "            result.append([A[i]] + subset)\n",
    "    return result\n",
    "\n",
    "r(multi_choose(\"ab\", 3)) # ((2, 3)) = (4, 3) = 4\n",
    "r(multi_choose(\"abc\", 3)) # ((3, 3)) = (5, 3) = 10\n",
    "r(multi_choose(\"abc\", 4)) # ((3, 4)) = (6, 4) = 15"
   ]
  },
  {
   "cell_type": "markdown",
   "metadata": {},
   "source": [
    "## The power set\n",
    "\n",
    "$$power set(S) = 2^n$$\n",
    "\n",
    "The power set is the collection of all possible subsets, including the empty set and the set itself. Each element in the set is either included or not included in each subset."
   ]
  },
  {
   "cell_type": "code",
   "execution_count": 10,
   "metadata": {
    "scrolled": true
   },
   "outputs": [
    {
     "name": "stdout",
     "output_type": "stream",
     "text": [
      "[[], [1], [2], [3], [1, 2], [1, 3], [2, 3], [1, 2, 3]] 8\n",
      "[[], [1], [2], [3], [4], [1, 2], [1, 3], [1, 4], [2, 3], [2, 4], [3, 4], [1, 2, 3], [1, 2, 4], [1, 3, 4], [2, 3, 4], [1, 2, 3, 4]] 16\n",
      "[[], [1], [2], [3], [4], [5], [1, 2], [1, 3], [1, 4], [1, 5], [2, 3], [2, 4], [2, 5], [3, 4], [3, 5], [4, 5], [1, 2, 3], [1, 2, 4], [1, 2, 5], [1, 3, 4], [1, 3, 5], [1, 4, 5], [2, 3, 4], [2, 3, 5], [2, 4, 5], [3, 4, 5], [1, 2, 3, 4], [1, 2, 3, 5], [1, 2, 4, 5], [1, 3, 4, 5], [2, 3, 4, 5], [1, 2, 3, 4, 5]] 32\n"
     ]
    }
   ],
   "source": [
    "def powerset(A: T1) -> list[T1]:\n",
    "    \"\"\" Ensemble de sous ensemble (ou de parties) differents d'un ensemble fini E. \"\"\"\n",
    "    result = [[]]\n",
    "    for element in A:\n",
    "        result += [subset + [element] for subset in result]\n",
    "    return sorted(result, key=lambda x: (len(x), *x))\n",
    "\n",
    "r(powerset((1, 2, 3)))\n",
    "r(powerset((1, 2, 3, 4)))\n",
    "r(powerset((1, 2, 3, 4, 5)))"
   ]
  },
  {
   "cell_type": "markdown",
   "metadata": {},
   "source": [
    "## Correspondence (relation)\n",
    "A correspondance can be described as a set of ordered pairs (a,b), where a belongs to set A, and b belongs to set B. It describes a relationship between elements of two (or more) sets.\n",
    "\n",
    "$$ Correspondences(A, B) =  = 2^{|A|⋅|B|} $$\n",
    "\n",
    "\n",
    "The set of all correspondences (or relations) between two sets A and B is the power set of the Cartesian product A×B. It includes all possible subsets of ordered pairs (a,b), where a∈A and b∈B."
   ]
  },
  {
   "cell_type": "code",
   "execution_count": 11,
   "metadata": {
    "scrolled": true
   },
   "outputs": [
    {
     "name": "stdout",
     "output_type": "stream",
     "text": [
      "[[], [('a', 1)], [('a', 2)], [('a', 1), ('a', 2)]] 4\n",
      "[[], [('a', 1)], [('a', 2)], [('b', 1)], [('b', 2)], [('a', 1), ('a', 2)], [('a', 1), ('b', 1)], [('a', 1), ('b', 2)], [('a', 2), ('b', 1)], [('a', 2), ('b', 2)], [('b', 1), ('b', 2)], [('a', 1), ('a', 2), ('b', 1)], [('a', 1), ('a', 2), ('b', 2)], [('a', 1), ('b', 1), ('b', 2)], [('a', 2), ('b', 1), ('b', 2)], [('a', 1), ('a', 2), ('b', 1), ('b', 2)]] 16\n",
      "[[], [('a', 1)], [('a', 2)], [('a', 3)], [('b', 1)], [('b', 2)], [('b', 3)], [('a', 1), ('a', 2)], [('a', 1), ('a', 3)], [('a', 1), ('b', 1)], [('a', 1), ('b', 2)], [('a', 1), ('b', 3)], [('a', 2), ('a', 3)], [('a', 2), ('b', 1)], [('a', 2), ('b', 2)], [('a', 2), ('b', 3)], [('a', 3), ('b', 1)], [('a', 3), ('b', 2)], [('a', 3), ('b', 3)], [('b', 1), ('b', 2)], [('b', 1), ('b', 3)], [('b', 2), ('b', 3)], [('a', 1), ('a', 2), ('a', 3)], [('a', 1), ('a', 2), ('b', 1)], [('a', 1), ('a', 2), ('b', 2)], [('a', 1), ('a', 2), ('b', 3)], [('a', 1), ('a', 3), ('b', 1)], [('a', 1), ('a', 3), ('b', 2)], [('a', 1), ('a', 3), ('b', 3)], [('a', 1), ('b', 1), ('b', 2)], [('a', 1), ('b', 1), ('b', 3)], [('a', 1), ('b', 2), ('b', 3)], [('a', 2), ('a', 3), ('b', 1)], [('a', 2), ('a', 3), ('b', 2)], [('a', 2), ('a', 3), ('b', 3)], [('a', 2), ('b', 1), ('b', 2)], [('a', 2), ('b', 1), ('b', 3)], [('a', 2), ('b', 2), ('b', 3)], [('a', 3), ('b', 1), ('b', 2)], [('a', 3), ('b', 1), ('b', 3)], [('a', 3), ('b', 2), ('b', 3)], [('b', 1), ('b', 2), ('b', 3)], [('a', 1), ('a', 2), ('a', 3), ('b', 1)], [('a', 1), ('a', 2), ('a', 3), ('b', 2)], [('a', 1), ('a', 2), ('a', 3), ('b', 3)], [('a', 1), ('a', 2), ('b', 1), ('b', 2)], [('a', 1), ('a', 2), ('b', 1), ('b', 3)], [('a', 1), ('a', 2), ('b', 2), ('b', 3)], [('a', 1), ('a', 3), ('b', 1), ('b', 2)], [('a', 1), ('a', 3), ('b', 1), ('b', 3)], [('a', 1), ('a', 3), ('b', 2), ('b', 3)], [('a', 1), ('b', 1), ('b', 2), ('b', 3)], [('a', 2), ('a', 3), ('b', 1), ('b', 2)], [('a', 2), ('a', 3), ('b', 1), ('b', 3)], [('a', 2), ('a', 3), ('b', 2), ('b', 3)], [('a', 2), ('b', 1), ('b', 2), ('b', 3)], [('a', 3), ('b', 1), ('b', 2), ('b', 3)], [('a', 1), ('a', 2), ('a', 3), ('b', 1), ('b', 2)], [('a', 1), ('a', 2), ('a', 3), ('b', 1), ('b', 3)], [('a', 1), ('a', 2), ('a', 3), ('b', 2), ('b', 3)], [('a', 1), ('a', 2), ('b', 1), ('b', 2), ('b', 3)], [('a', 1), ('a', 3), ('b', 1), ('b', 2), ('b', 3)], [('a', 2), ('a', 3), ('b', 1), ('b', 2), ('b', 3)], [('a', 1), ('a', 2), ('a', 3), ('b', 1), ('b', 2), ('b', 3)]] 64\n"
     ]
    }
   ],
   "source": [
    "def correspondances(A, B):\n",
    "    return powerset(cartesian_product(A, B))\n",
    "\n",
    "r(correspondances((\"a\"), (1, 2)))\n",
    "r(correspondances((\"a\", \"b\"), (1, 2)))\n",
    "r(correspondances((\"a\", \"b\"), (1, 2, 3)))"
   ]
  },
  {
   "cell_type": "code",
   "execution_count": 12,
   "metadata": {
    "scrolled": true
   },
   "outputs": [
    {
     "name": "stdout",
     "output_type": "stream",
     "text": [
      "(3, 1, 2) 3\n",
      "(2, 3, 1) 3\n",
      "(1, 2, 3) 3\n",
      "[(1, 2, 3), (3, 1, 2), (2, 3, 1)] 3\n",
      "[('a', 'b', 'c', 'd', 'e'), ('e', 'a', 'b', 'c', 'd'), ('d', 'e', 'a', 'b', 'c'), ('c', 'd', 'e', 'a', 'b'), ('b', 'c', 'd', 'e', 'a')] 5\n"
     ]
    }
   ],
   "source": [
    "def rotate(A: T1, n=1) -> tuple[T1]:\n",
    "    return tuple(A[-n:] + A[:-n])\n",
    "\n",
    "\n",
    "def rotates(A: T1) -> list[T1]:\n",
    "    return [r for r in (rotate(A, i) for i in range(len(A)))]\n",
    "\n",
    "r(rotate((1, 2, 3), 1))\n",
    "r(rotate((1, 2, 3), 2))\n",
    "r(rotate((1, 2, 3), 3))\n",
    "r(rotates((1, 2, 3)))\n",
    "r(rotates(\"abcde\"))"
   ]
  },
  {
   "cell_type": "markdown",
   "metadata": {},
   "source": [
    "## Equivalence classes\n",
    "\n",
    "Equivalence classes are a fundamental concept in mathematics, especially in set theory and algebra. They arise when you have an equivalence relation on a set, which is a relation that is reflexive, symmetric, and transitive. Given an equivalence relation \n",
    "∼ on a set A, the equivalence class of an element a∈A is the set of all elements in A that are equivalent to a under ∼. denoted as [a].\n",
    "\n",
    "+ Every element of A is in exactly one equivalence class.\n",
    "+ The union of all the equivalence classes is the entire set A.\n",
    "+ Two equivalence classes are either exactly the same or completely disjoint."
   ]
  },
  {
   "cell_type": "code",
   "execution_count": 13,
   "metadata": {},
   "outputs": [
    {
     "name": "stdout",
     "output_type": "stream",
     "text": [
      "[((1, 2, 3), (3, 1, 2), (2, 3, 1)), ((1, 3, 2), (2, 1, 3), (3, 2, 1)), ((2, 3, 1), (1, 2, 3), (3, 1, 2))] 3\n",
      "[(1, 2, 3), (1, 3, 2), (2, 3, 1)] 3\n"
     ]
    }
   ],
   "source": [
    "def equivalence_classes(A: T1, relation: Callable[[Iterable and Sized], list]) -> list:\n",
    "    \"\"\" Regroup all equivalence_classes \"\"\"\n",
    "    classe_equivalence = {}.fromkeys(tuple(classe) for classe in map(relation, A))\n",
    "    return sorted(classe_equivalence, key=lambda x: (len(x), x))\n",
    "\n",
    "\n",
    "def first_element_of_each_equivalences_classes(A, relation):\n",
    "    return sorted(classes[0] for classes in equivalence_classes(A, relation))\n",
    "\n",
    "r(equivalence_classes([(1, 2, 3), (2, 3, 1), (1, 3, 2)], rotates))\n",
    "r(first_element_of_each_equivalences_classes([(1, 2, 3), (2, 3, 1), (1, 3, 2)], rotates))"
   ]
  }
 ],
 "metadata": {
  "kernelspec": {
   "display_name": "Python 3 (ipykernel)",
   "language": "python",
   "name": "python3"
  },
  "language_info": {
   "codemirror_mode": {
    "name": "ipython",
    "version": 3
   },
   "file_extension": ".py",
   "mimetype": "text/x-python",
   "name": "python",
   "nbconvert_exporter": "python",
   "pygments_lexer": "ipython3",
   "version": "3.10.9"
  },
  "toc": {
   "base_numbering": 1,
   "nav_menu": {},
   "number_sections": true,
   "sideBar": true,
   "skip_h1_title": false,
   "title_cell": "Table of Contents",
   "title_sidebar": "Contents",
   "toc_cell": true,
   "toc_position": {
    "height": "calc(100% - 180px)",
    "left": "10px",
    "top": "150px",
    "width": "384px"
   },
   "toc_section_display": true,
   "toc_window_display": true
  }
 },
 "nbformat": 4,
 "nbformat_minor": 1
}
