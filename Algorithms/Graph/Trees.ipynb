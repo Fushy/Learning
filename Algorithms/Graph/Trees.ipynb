{
 "cells": [
  {
   "cell_type": "markdown",
   "source": [
    "# Tree data structure https://en.wikipedia.org/wiki/Tree_(data_structure)\n",
    "\n",
    "A tree data structure is a data structure composed of nodes that are connected to other nodes by edges.\n",
    "They are drawn growing downward, with the root at the top.\n",
    "\t- The starting node of a tree is called the root\n",
    "\t- Trees always have exactly one root.\n",
    "\t- The nodes contain data, they are called vertices\n",
    "\t- The edges represent a relationship with another node.\n",
    "\t- The nodes at the end are called leaves.\n",
    "\t- Parent nodes in a tree can have multiple child nodes.\n",
    "\t- Child nodes has exactly one parent, except for the root node, which has zero parents. They must not have an edge that creates a loop.\n",
    "\t- The child nodes between a parent node and a leaf node are called the parent node’s descendants.\n",
    "\t- The parent nodes that connect a child node to the root node are also called the child node’s ancestors.\n",
    "\t- Only one path can exist between any two nodes."
   ],
   "metadata": {
    "collapsed": false,
    "pycharm": {
     "name": "#%% md\n"
    }
   }
  },
  {
   "cell_type": "code",
   "execution_count": 11,
   "outputs": [],
   "source": [
    "from typing import Type, NamedTuple\n",
    "\n",
    "TreeType: Type = object\n",
    "SimplestTree: NamedTuple = NamedTuple(\"SimplestTree\", data=TreeType, children=list[\"Tree\"])\n",
    "\n",
    "FOREST: dict[str, \"Tree\"] = {}"
   ],
   "metadata": {
    "collapsed": false,
    "pycharm": {
     "name": "#%%\n"
    }
   }
  },
  {
   "cell_type": "code",
   "execution_count": 12,
   "outputs": [],
   "source": [
    "class Tree:\n",
    "    def __init__(self, name: str = \"\", data: TreeType = None, children: list[\"Tree\"] = None, parent: str = \"\"):\n",
    "        if children is None:\n",
    "            children = []\n",
    "        assert name not in FOREST\n",
    "        FOREST[name] = self\n",
    "        self.name = name\n",
    "        self.data = data\n",
    "        self._children = children\n",
    "        self.parent = parent\n",
    "        for child in children:\n",
    "            self.add_child(child)\n",
    "\n",
    "    def __repr__(self):\n",
    "        return \"{} {}-->{}\".format(self.name, self.data, self._children)\n",
    "\n",
    "    def add_child(self, *children: list[\"Tree\"]):\n",
    "        for child in children:\n",
    "            child.parent = self.name\n",
    "            self._children.append(child)\n",
    "\n",
    "    def is_root(self):\n",
    "        return self.parent == \"\"\n",
    "\n",
    "    def is_leaf(self):\n",
    "        return len(self._children) == 0\n",
    "\n",
    "    def is_node(self):\n",
    "        return not self.is_leaf()\n",
    "\n",
    "    def children_count(self):\n",
    "        return len(self._children)\n",
    "\n",
    "    def get_ancestors(self):\n",
    "        if self.is_root():\n",
    "            return []\n",
    "        return [self.parent] + FOREST[self.parent].get_ancestors()\n",
    "\n",
    "    def preorder(self):\n",
    "        print(self.name)\n",
    "        if self.is_leaf():\n",
    "            return\n",
    "        for child in self._children:\n",
    "            child.preorder()\n",
    "\n",
    "    def postorder(self):\n",
    "        if self.is_leaf():\n",
    "            print(self.name)\n",
    "            return\n",
    "        for child in self._children:\n",
    "            child.postorder()\n",
    "        print(self.name)\n",
    "\n",
    "    def inorder(self):\n",
    "        if self.is_leaf():\n",
    "            print(self.name)\n",
    "            return\n",
    "        if self.children_count() > 0:\n",
    "            self._children[0].inorder()\n",
    "        print(self.name)\n",
    "        for child in self._children[1:]:\n",
    "            child.inorder()\n",
    "\n",
    "    def count_leafs(self) -> int:\n",
    "        if self.is_leaf():\n",
    "            return 1\n",
    "        return sum((child.count_leafs() for child in self._children))\n",
    "\n",
    "    def count_nodes(self) -> int:\n",
    "        if self.is_leaf():\n",
    "            return 0\n",
    "        return 1 + sum((child.count_nodes() for child in self._children))\n",
    "\n",
    "    def depth(self) -> int:\n",
    "        return (0 if self.is_root() else 1) + max((0, *(child.depth() for child in self._children)))\n",
    "\n",
    "    def print_tree(self, tag=\"+- \", depth_tag=[]):\n",
    "        empty = \" \" * len(tag)\n",
    "        link_child = \"|\" + empty[:-1]\n",
    "        depth = len(depth_tag)\n",
    "        markers = \"\".join(map(lambda draw: link_child if draw else empty, depth_tag[:-1]))\n",
    "        markers += tag if depth > 0 else \"\"\n",
    "        print(markers + self.name)\n",
    "        for i, child in enumerate(self._children):\n",
    "            is_last_child = i == len(self._children) - 1\n",
    "            child.print_tree(tag, [*depth_tag, not is_last_child])"
   ],
   "metadata": {
    "collapsed": false,
    "pycharm": {
     "name": "#%%\n"
    }
   }
  },
  {
   "cell_type": "code",
   "execution_count": 13,
   "outputs": [
    {
     "name": "stdout",
     "output_type": "stream",
     "text": [
      "A\n",
      "+- B\n",
      "|  +- D\n",
      "+- C\n",
      "   +- E\n",
      "   |  +- G\n",
      "   |  +- H\n",
      "   +- F\n"
     ]
    }
   ],
   "source": [
    "\n",
    "root = Tree(\"A\")\n",
    "node2 = Tree(\"B\")\n",
    "node3 = Tree(\"C\")\n",
    "node4 = Tree(\"D\")\n",
    "node5 = Tree(\"E\")\n",
    "node6 = Tree(\"F\")\n",
    "node7 = Tree(\"G\")\n",
    "node8 = Tree(\"H\")\n",
    "node9 = Tree(\"I\")\n",
    "node10 = Tree(\"J\")\n",
    "root.add_child(node2, node3)\n",
    "node2.add_child(node4)\n",
    "node3.add_child(node5, node6)\n",
    "node5.add_child(node7, node8)\n",
    "node8.add_child(node9)\n",
    "root.print_tree()"
   ],
   "metadata": {
    "collapsed": false,
    "pycharm": {
     "name": "#%%\n"
    }
   }
  },
  {
   "cell_type": "markdown",
   "source": [
    "## Tree traversal algorithms (depth-first search)\n",
    "Trees have three kinds of tree traversal algorithms: preorder, postorder, and inorder.\n",
    "All tree traversals begin by passing the root node to the recursive function. The function makes a recursive call and passes each of the root node’s children as the argument. Since these child nodes have children of their own, the traversal continues until a leaf node with no children is reached.\n",
    "The nodes are always traversed in the same order; we go down the child nodes first (depth-first search)"
   ],
   "metadata": {
    "collapsed": false,
    "pycharm": {
     "name": "#%% md\n"
    }
   }
  },
  {
   "cell_type": "markdown",
   "source": [
    "### Preorder\n",
    "Preorder tree traversal algorithms access a node’s data before traversing its child nodes.\n",
    "Use a preorder traversal if your algorithm needs to access the data in parent nodes before the data in their child nodes."
   ],
   "metadata": {
    "collapsed": false,
    "pycharm": {
     "name": "#%% md\n"
    }
   }
  },
  {
   "cell_type": "code",
   "execution_count": 14,
   "outputs": [
    {
     "name": "stdout",
     "output_type": "stream",
     "text": [
      "A\n",
      "B\n",
      "D\n",
      "C\n",
      "E\n",
      "G\n",
      "H\n",
      "F\n"
     ]
    }
   ],
   "source": [
    "root.preorder()"
   ],
   "metadata": {
    "collapsed": false,
    "pycharm": {
     "name": "#%%\n"
    }
   }
  },
  {
   "cell_type": "markdown",
   "source": [
    "### Postorder\n",
    "Postorder tree traversal traverses a node’s child nodes before accessing the node’s data.\n",
    "Use a postorder traversal if your algorithm needs to access the data in child nodes before the data in their parent nodes."
   ],
   "metadata": {
    "collapsed": false,
    "pycharm": {
     "name": "#%% md\n"
    }
   }
  },
  {
   "cell_type": "code",
   "execution_count": 15,
   "outputs": [
    {
     "name": "stdout",
     "output_type": "stream",
     "text": [
      "D\n",
      "B\n",
      "G\n",
      "H\n",
      "E\n",
      "F\n",
      "C\n",
      "A\n"
     ]
    }
   ],
   "source": [
    "root.postorder()"
   ],
   "metadata": {
    "collapsed": false,
    "pycharm": {
     "name": "#%%\n"
    }
   }
  },
  {
   "cell_type": "markdown",
   "source": [
    "### Inorder\n",
    "An inorder tree traversal traverses the left child node, then accesses the node’s data, and then traverses the right child node.\n",
    "Processing a node’s data after traversing the first node and before traversing the last node."
   ],
   "metadata": {
    "collapsed": false,
    "pycharm": {
     "name": "#%% md\n"
    }
   }
  },
  {
   "cell_type": "code",
   "execution_count": 16,
   "outputs": [
    {
     "name": "stdout",
     "output_type": "stream",
     "text": [
      "D\n",
      "B\n",
      "A\n",
      "G\n",
      "E\n",
      "H\n",
      "C\n",
      "F\n"
     ]
    }
   ],
   "source": [
    "root.inorder()"
   ],
   "metadata": {
    "collapsed": false,
    "pycharm": {
     "name": "#%%\n"
    }
   }
  },
  {
   "cell_type": "code",
   "execution_count": 17,
   "outputs": [
    {
     "data": {
      "text/plain": "(4, 4)"
     },
     "execution_count": 17,
     "metadata": {},
     "output_type": "execute_result"
    }
   ],
   "source": [
    "root.count_leafs(), root.count_nodes()"
   ],
   "metadata": {
    "collapsed": false,
    "pycharm": {
     "name": "#%%\n"
    }
   }
  },
  {
   "cell_type": "markdown",
   "source": [
    "## Depth\n",
    "The depth of a node is the number of edges between it and the root node. The root node itself has a depth of 0, the immediate child of the root node has a depth of 1, and so on."
   ],
   "metadata": {
    "collapsed": false,
    "pycharm": {
     "name": "#%% md\n"
    }
   }
  },
  {
   "cell_type": "code",
   "execution_count": 18,
   "outputs": [
    {
     "data": {
      "text/plain": "3"
     },
     "execution_count": 18,
     "metadata": {},
     "output_type": "execute_result"
    }
   ],
   "source": [
    "root.depth()"
   ],
   "metadata": {
    "collapsed": false,
    "pycharm": {
     "name": "#%%\n"
    }
   }
  },
  {
   "cell_type": "markdown",
   "source": [],
   "metadata": {
    "collapsed": false,
    "pycharm": {
     "name": "#%% md\n"
    }
   }
  }
 ],
 "metadata": {
  "kernelspec": {
   "display_name": "Python 3",
   "language": "python",
   "name": "python3"
  },
  "language_info": {
   "codemirror_mode": {
    "name": "ipython",
    "version": 2
   },
   "file_extension": ".py",
   "mimetype": "text/x-python",
   "name": "python",
   "nbconvert_exporter": "python",
   "pygments_lexer": "ipython2",
   "version": "2.7.6"
  }
 },
 "nbformat": 4,
 "nbformat_minor": 0
}