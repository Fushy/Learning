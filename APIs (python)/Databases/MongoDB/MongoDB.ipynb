{
 "cells": [
  {
   "metadata": {},
   "cell_type": "markdown",
   "source": [
    "# MongoDB\n",
    "- MongoDB is a popular NoSQL database that stores data in JSON-like structure called documents. This makes it easy to store and query complex data structures. \n",
    "\n",
    "# key features\n",
    "\n",
    "## Flexible schema<br>\n",
    "No need to define a rigid schema upfront, easy to add new fields to your documents as your data evolves.\n",
    "\n",
    "## High performance<br>\n",
    "Designed for high performance, good choice for applications that need to handle large amounts of data.\n",
    "\n",
    "## Scalability<br>\n",
    "Horizontal scaling with sharding\n",
    "\n",
    "## Rich query language<br>\n",
    "\n",
    "Flexible Schema\n",
    "\tDocuments in the same collection can have different fields\n",
    "\tIdeal for evolving data structures and agile development\n",
    "\tNo need to predefine schema like in SQL databases\n",
    "Scalability\n",
    "\tHorizontal scaling through sharding\n",
    "\tBuilt-in support for distributing data across multiple servers\n",
    "\tCan handle large amounts of data and high traffic loads\n",
    "Performance\n",
    "\tFast querying through indexes\n",
    "\tIn-memory computing capabilities\n",
    "\tEfficient storage of binary data (GridFS)\n",
    "Developer-Friendly\n",
    "\tJSON-like documents (BSON format)\n",
    "\tNatural mapping to object-oriented programming\n",
    "\tRich query language\n",
    "\tNative drivers for most programming languages\n",
    "High Availability\n",
    "\tAutomatic failover\n",
    "\tBuilt-in replication\n",
    "\tSelf-healing capabilities\n",
    "Limitations to Consider:\n",
    "\tNo built-in joins (must be handled in application code)\n",
    "\tLimited transaction support compared to traditional SQL\n",
    "\tUses more memory due to document structure\n",
    "\tNot ideal for complex relationships between data"
   ],
   "id": "9bdb9abcf7dd0391"
  },
  {
   "cell_type": "code",
   "execution_count": null,
   "id": "initial_id",
   "metadata": {
    "collapsed": true
   },
   "outputs": [],
   "source": ""
  }
 ],
 "metadata": {
  "kernelspec": {
   "display_name": "Python 3",
   "language": "python",
   "name": "python3"
  },
  "language_info": {
   "codemirror_mode": {
    "name": "ipython",
    "version": 2
   },
   "file_extension": ".py",
   "mimetype": "text/x-python",
   "name": "python",
   "nbconvert_exporter": "python",
   "pygments_lexer": "ipython2",
   "version": "2.7.6"
  }
 },
 "nbformat": 4,
 "nbformat_minor": 5
}
