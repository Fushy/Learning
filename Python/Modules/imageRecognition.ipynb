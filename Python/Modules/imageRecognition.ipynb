{
 "cells": [
  {
   "cell_type": "code",
   "execution_count": null,
   "metadata": {
    "collapsed": true
   },
   "outputs": [],
   "source": [
    "# How to make advanced image recognition bots using python\n",
    "# https://www.youtube.com/watch?v=YRAIUA-Oc1Y&ab_channel=KianBrose\n",
    "#\n",
    "# Dominating an Online Game with Object Detection Using OpenCV - Template Matching.\n",
    "# https://www.youtube.com/watch?v=vXqKniVe6P8&ab_channel=ClarityCoders"
   ]
  }
 ],
 "metadata": {
  "kernelspec": {
   "display_name": "Python 3",
   "language": "python",
   "name": "python3"
  },
  "language_info": {
   "codemirror_mode": {
    "name": "ipython",
    "version": 2
   },
   "file_extension": ".py",
   "mimetype": "text/x-python",
   "name": "python",
   "nbconvert_exporter": "python",
   "pygments_lexer": "ipython2",
   "version": "2.7.6"
  }
 },
 "nbformat": 4,
 "nbformat_minor": 0
}