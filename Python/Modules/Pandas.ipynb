{
 "cells": [
  {
   "cell_type": "markdown",
   "metadata": {
    "collapsed": true,
    "pycharm": {
     "name": "#%% md\n"
    }
   },
   "source": [
    "# Le module Pandas.\n",
    "## Un module qui permet de facilement analyser des tableaux 2D (dataframe)."
   ]
  },
  {
   "cell_type": "code",
   "execution_count": 1281,
   "outputs": [],
   "source": [
    "import pandas as pd\n",
    "from pandas import DataFrame, Series\n",
    "# Each column in a DataFrame is a Series\n",
    "# A DataFrame is a 2-dimensional data structure that can store data of different types in columns."
   ],
   "metadata": {
    "collapsed": false,
    "pycharm": {
     "name": "#%%\n"
    }
   }
  },
  {
   "cell_type": "code",
   "execution_count": 1282,
   "outputs": [
    {
     "data": {
      "text/plain": "pandas.core.frame.DataFrame"
     },
     "execution_count": 1282,
     "metadata": {},
     "output_type": "execute_result"
    }
   ],
   "source": [
    "data_frame_A: DataFrame = pd.DataFrame({\n",
    "        \"Name\": [\n",
    "            \"Braund, Mr. Owen Harris\",\n",
    "            \"Allen, Mr. William Henry\",\n",
    "            \"Bonnell, Miss. Elizabeth\",\n",
    "            \"aaaaaaa\",\n",
    "            \"zzzzzzz\",\n",
    "        ],\n",
    "        \"Age\": [22, 35, 58, 12, 87],\n",
    "        \"Sex\": [\"male\", \"male\", \"female\", \"female\", \"male\"],\n",
    "    }\n",
    ")\n",
    "type(data_frame_A)"
   ],
   "metadata": {
    "collapsed": false,
    "pycharm": {
     "name": "#%%\n"
    }
   }
  },
  {
   "cell_type": "code",
   "execution_count": 1283,
   "outputs": [
    {
     "data": {
      "text/plain": "                       Name  Age   Sex\n0   Braund, Mr. Owen Harris   22  male\n1  Allen, Mr. William Henry   35  male",
      "text/html": "<div>\n<style scoped>\n    .dataframe tbody tr th:only-of-type {\n        vertical-align: middle;\n    }\n\n    .dataframe tbody tr th {\n        vertical-align: top;\n    }\n\n    .dataframe thead th {\n        text-align: right;\n    }\n</style>\n<table border=\"1\" class=\"dataframe\">\n  <thead>\n    <tr style=\"text-align: right;\">\n      <th></th>\n      <th>Name</th>\n      <th>Age</th>\n      <th>Sex</th>\n    </tr>\n  </thead>\n  <tbody>\n    <tr>\n      <th>0</th>\n      <td>Braund, Mr. Owen Harris</td>\n      <td>22</td>\n      <td>male</td>\n    </tr>\n    <tr>\n      <th>1</th>\n      <td>Allen, Mr. William Henry</td>\n      <td>35</td>\n      <td>male</td>\n    </tr>\n  </tbody>\n</table>\n</div>"
     },
     "execution_count": 1283,
     "metadata": {},
     "output_type": "execute_result"
    }
   ],
   "source": [
    "_:DataFrame = data_frame_A.head(2)\n",
    "_"
   ],
   "metadata": {
    "collapsed": false,
    "pycharm": {
     "name": "#%%\n"
    }
   }
  },
  {
   "cell_type": "code",
   "execution_count": 1284,
   "outputs": [
    {
     "data": {
      "text/plain": "                       Name  Age   Sex\n0   Braund, Mr. Owen Harris   22  male\n1  Allen, Mr. William Henry   35  male",
      "text/html": "<div>\n<style scoped>\n    .dataframe tbody tr th:only-of-type {\n        vertical-align: middle;\n    }\n\n    .dataframe tbody tr th {\n        vertical-align: top;\n    }\n\n    .dataframe thead th {\n        text-align: right;\n    }\n</style>\n<table border=\"1\" class=\"dataframe\">\n  <thead>\n    <tr style=\"text-align: right;\">\n      <th></th>\n      <th>Name</th>\n      <th>Age</th>\n      <th>Sex</th>\n    </tr>\n  </thead>\n  <tbody>\n    <tr>\n      <th>0</th>\n      <td>Braund, Mr. Owen Harris</td>\n      <td>22</td>\n      <td>male</td>\n    </tr>\n    <tr>\n      <th>1</th>\n      <td>Allen, Mr. William Henry</td>\n      <td>35</td>\n      <td>male</td>\n    </tr>\n  </tbody>\n</table>\n</div>"
     },
     "execution_count": 1284,
     "metadata": {},
     "output_type": "execute_result"
    }
   ],
   "source": [
    "data_frame_A[:2]"
   ],
   "metadata": {
    "collapsed": false,
    "pycharm": {
     "name": "#%%\n"
    }
   }
  },
  {
   "cell_type": "code",
   "execution_count": 1285,
   "outputs": [
    {
     "data": {
      "text/plain": "      Name  Age     Sex\n3  aaaaaaa   12  female\n4  zzzzzzz   87    male",
      "text/html": "<div>\n<style scoped>\n    .dataframe tbody tr th:only-of-type {\n        vertical-align: middle;\n    }\n\n    .dataframe tbody tr th {\n        vertical-align: top;\n    }\n\n    .dataframe thead th {\n        text-align: right;\n    }\n</style>\n<table border=\"1\" class=\"dataframe\">\n  <thead>\n    <tr style=\"text-align: right;\">\n      <th></th>\n      <th>Name</th>\n      <th>Age</th>\n      <th>Sex</th>\n    </tr>\n  </thead>\n  <tbody>\n    <tr>\n      <th>3</th>\n      <td>aaaaaaa</td>\n      <td>12</td>\n      <td>female</td>\n    </tr>\n    <tr>\n      <th>4</th>\n      <td>zzzzzzz</td>\n      <td>87</td>\n      <td>male</td>\n    </tr>\n  </tbody>\n</table>\n</div>"
     },
     "execution_count": 1285,
     "metadata": {},
     "output_type": "execute_result"
    }
   ],
   "source": [
    "_:DataFrame = data_frame_A.tail(2)\n",
    "_"
   ],
   "metadata": {
    "collapsed": false,
    "pycharm": {
     "name": "#%%\n"
    }
   }
  },
  {
   "cell_type": "code",
   "execution_count": 1286,
   "outputs": [
    {
     "data": {
      "text/plain": "      Name  Age     Sex\n3  aaaaaaa   12  female\n4  zzzzzzz   87    male",
      "text/html": "<div>\n<style scoped>\n    .dataframe tbody tr th:only-of-type {\n        vertical-align: middle;\n    }\n\n    .dataframe tbody tr th {\n        vertical-align: top;\n    }\n\n    .dataframe thead th {\n        text-align: right;\n    }\n</style>\n<table border=\"1\" class=\"dataframe\">\n  <thead>\n    <tr style=\"text-align: right;\">\n      <th></th>\n      <th>Name</th>\n      <th>Age</th>\n      <th>Sex</th>\n    </tr>\n  </thead>\n  <tbody>\n    <tr>\n      <th>3</th>\n      <td>aaaaaaa</td>\n      <td>12</td>\n      <td>female</td>\n    </tr>\n    <tr>\n      <th>4</th>\n      <td>zzzzzzz</td>\n      <td>87</td>\n      <td>male</td>\n    </tr>\n  </tbody>\n</table>\n</div>"
     },
     "execution_count": 1286,
     "metadata": {},
     "output_type": "execute_result"
    }
   ],
   "source": [
    "data_frame_A[-2:]"
   ],
   "metadata": {
    "collapsed": false,
    "pycharm": {
     "name": "#%%\n"
    }
   }
  },
  {
   "cell_type": "code",
   "execution_count": 1287,
   "outputs": [
    {
     "data": {
      "text/plain": "Name    object\nAge      int64\nSex     object\ndtype: object"
     },
     "execution_count": 1287,
     "metadata": {},
     "output_type": "execute_result"
    }
   ],
   "source": [
    "_:Series = data_frame_A.dtypes\n",
    "_"
   ],
   "metadata": {
    "collapsed": false,
    "pycharm": {
     "name": "#%%\n"
    }
   }
  },
  {
   "cell_type": "code",
   "execution_count": 1288,
   "outputs": [
    {
     "data": {
      "text/plain": "            Age\ncount   5.00000\nmean   42.80000\nstd    30.11146\nmin    12.00000\n25%    22.00000\n50%    35.00000\n75%    58.00000\nmax    87.00000",
      "text/html": "<div>\n<style scoped>\n    .dataframe tbody tr th:only-of-type {\n        vertical-align: middle;\n    }\n\n    .dataframe tbody tr th {\n        vertical-align: top;\n    }\n\n    .dataframe thead th {\n        text-align: right;\n    }\n</style>\n<table border=\"1\" class=\"dataframe\">\n  <thead>\n    <tr style=\"text-align: right;\">\n      <th></th>\n      <th>Age</th>\n    </tr>\n  </thead>\n  <tbody>\n    <tr>\n      <th>count</th>\n      <td>5.00000</td>\n    </tr>\n    <tr>\n      <th>mean</th>\n      <td>42.80000</td>\n    </tr>\n    <tr>\n      <th>std</th>\n      <td>30.11146</td>\n    </tr>\n    <tr>\n      <th>min</th>\n      <td>12.00000</td>\n    </tr>\n    <tr>\n      <th>25%</th>\n      <td>22.00000</td>\n    </tr>\n    <tr>\n      <th>50%</th>\n      <td>35.00000</td>\n    </tr>\n    <tr>\n      <th>75%</th>\n      <td>58.00000</td>\n    </tr>\n    <tr>\n      <th>max</th>\n      <td>87.00000</td>\n    </tr>\n  </tbody>\n</table>\n</div>"
     },
     "execution_count": 1288,
     "metadata": {},
     "output_type": "execute_result"
    }
   ],
   "source": [
    "_:DataFrame = data_frame_A.describe()\n",
    "_"
   ],
   "metadata": {
    "collapsed": false,
    "pycharm": {
     "name": "#%%\n"
    }
   }
  },
  {
   "cell_type": "code",
   "execution_count": 1289,
   "outputs": [
    {
     "data": {
      "text/plain": "0    22\n1    35\n2    58\n3    12\n4    87\nName: Age, dtype: int64"
     },
     "execution_count": 1289,
     "metadata": {},
     "output_type": "execute_result"
    }
   ],
   "source": [
    "_:Series = data_frame_A[\"Age\"]\n",
    "_"
   ],
   "metadata": {
    "collapsed": false,
    "pycharm": {
     "name": "#%%\n"
    }
   }
  },
  {
   "cell_type": "code",
   "execution_count": 1290,
   "outputs": [
    {
     "data": {
      "text/plain": "22"
     },
     "execution_count": 1290,
     "metadata": {},
     "output_type": "execute_result"
    }
   ],
   "source": [
    "_: int = data_frame_A[\"Age\"][0]\n",
    "_"
   ],
   "metadata": {
    "collapsed": false,
    "pycharm": {
     "name": "#%%\n"
    }
   }
  },
  {
   "cell_type": "code",
   "execution_count": 1291,
   "outputs": [
    {
     "data": {
      "text/plain": "count     5.00000\nmean     42.80000\nstd      30.11146\nmin      12.00000\n25%      22.00000\n50%      35.00000\n75%      58.00000\nmax      87.00000\nName: Age, dtype: float64"
     },
     "execution_count": 1291,
     "metadata": {},
     "output_type": "execute_result"
    }
   ],
   "source": [
    "_:Series = data_frame_A[\"Age\"].describe()\n",
    "_"
   ],
   "metadata": {
    "collapsed": false,
    "pycharm": {
     "name": "#%%\n"
    }
   }
  },
  {
   "cell_type": "code",
   "execution_count": 1292,
   "outputs": [
    {
     "data": {
      "text/plain": "count     5\nunique    5\ntop       a\nfreq      1\ndtype: object"
     },
     "execution_count": 1292,
     "metadata": {},
     "output_type": "execute_result"
    }
   ],
   "source": [
    "_: Series = pd.Series((\"a\", \"b\", \"c\", \"d\", \"e\")).describe()\n",
    "_"
   ],
   "metadata": {
    "collapsed": false,
    "pycharm": {
     "name": "#%%\n"
    }
   }
  },
  {
   "cell_type": "code",
   "execution_count": 1293,
   "outputs": [
    {
     "data": {
      "text/plain": "0     0\n1     2\n2     4\n3     6\n4     8\n5    10\nName: pair, dtype: int64"
     },
     "execution_count": 1293,
     "metadata": {},
     "output_type": "execute_result"
    }
   ],
   "source": [
    "series_B: Series = pd.Series((0, 2, 4, 6, 8, 10), name=\"pair\")\n",
    "series_B"
   ],
   "metadata": {
    "collapsed": false,
    "pycharm": {
     "name": "#%%\n"
    }
   }
  },
  {
   "cell_type": "code",
   "execution_count": 1294,
   "outputs": [
    {
     "data": {
      "text/plain": "0"
     },
     "execution_count": 1294,
     "metadata": {},
     "output_type": "execute_result"
    }
   ],
   "source": [
    "series_B.min()"
   ],
   "metadata": {
    "collapsed": false,
    "pycharm": {
     "name": "#%%\n"
    }
   }
  },
  {
   "cell_type": "code",
   "execution_count": 1295,
   "outputs": [
    {
     "data": {
      "text/plain": "10"
     },
     "execution_count": 1295,
     "metadata": {},
     "output_type": "execute_result"
    }
   ],
   "source": [
    "series_B.max()"
   ],
   "metadata": {
    "collapsed": false,
    "pycharm": {
     "name": "#%%\n"
    }
   }
  },
  {
   "cell_type": "code",
   "execution_count": 1296,
   "outputs": [
    {
     "data": {
      "text/plain": "   A  B\n0  1  2\n1  1  2\n2  1  2",
      "text/html": "<div>\n<style scoped>\n    .dataframe tbody tr th:only-of-type {\n        vertical-align: middle;\n    }\n\n    .dataframe tbody tr th {\n        vertical-align: top;\n    }\n\n    .dataframe thead th {\n        text-align: right;\n    }\n</style>\n<table border=\"1\" class=\"dataframe\">\n  <thead>\n    <tr style=\"text-align: right;\">\n      <th></th>\n      <th>A</th>\n      <th>B</th>\n    </tr>\n  </thead>\n  <tbody>\n    <tr>\n      <th>0</th>\n      <td>1</td>\n      <td>2</td>\n    </tr>\n    <tr>\n      <th>1</th>\n      <td>1</td>\n      <td>2</td>\n    </tr>\n    <tr>\n      <th>2</th>\n      <td>1</td>\n      <td>2</td>\n    </tr>\n  </tbody>\n</table>\n</div>"
     },
     "execution_count": 1296,
     "metadata": {},
     "output_type": "execute_result"
    }
   ],
   "source": [
    "pd.DataFrame([[1, 2]] * 3, columns=['A', 'B'])"
   ],
   "metadata": {
    "collapsed": false,
    "pycharm": {
     "name": "#%%\n"
    }
   }
  },
  {
   "cell_type": "code",
   "execution_count": 1297,
   "outputs": [
    {
     "data": {
      "text/plain": "          Date import         Référence  ID  Pg AMN Indice  Pg Doc Etat Doc.  \\\n0 2021-05-28 22:27:08  CAFM/L-01-0448/K   1     NaN      K     NaN   DIFFUSE   \n1 2021-05-28 22:27:11      CV-0448-01/K   2     NaN      K     NaN   DIFFUSE   \n2 2021-04-19 15:51:06   485-923-600-0/B   3     NaN      B     NaN   DIFFUSE   \n3 2021-04-26 08:03:23         DT59-21/C   4     NaN      C     NaN   DIFFUSE   \n4 2021-04-26 08:03:23         DT59-15/I   5     NaN      J     NaN   DIFFUSE   \n\n  Famille                Date  \\\n0    CAFM 2021-01-05 09:08:00   \n1      CV 2021-01-05 09:12:00   \n2     485 2021-01-06 10:51:00   \n3      DT 2021-01-06 17:43:00   \n4      DT 2021-01-12 12:51:00   \n\n                                               Titre  \n0       LISTE DES GAMMES VALIDEES RENE 65 DMD0448-20  \n1  APPROVED METHODS OF MANUFACTURE ATI MONROE REN...  \n2                     Éprouvette suivi fusion FA LBM  \n3  TECHNIQUES DE POSE DES CAPTEURS CAPACITIFS ET ...  \n4  TECHNIQUES DE BRANCHEMENT DES CONNECTEURS SPEC...  ",
      "text/html": "<div>\n<style scoped>\n    .dataframe tbody tr th:only-of-type {\n        vertical-align: middle;\n    }\n\n    .dataframe tbody tr th {\n        vertical-align: top;\n    }\n\n    .dataframe thead th {\n        text-align: right;\n    }\n</style>\n<table border=\"1\" class=\"dataframe\">\n  <thead>\n    <tr style=\"text-align: right;\">\n      <th></th>\n      <th>Date import</th>\n      <th>Référence</th>\n      <th>ID</th>\n      <th>Pg AMN</th>\n      <th>Indice</th>\n      <th>Pg Doc</th>\n      <th>Etat Doc.</th>\n      <th>Famille</th>\n      <th>Date</th>\n      <th>Titre</th>\n    </tr>\n  </thead>\n  <tbody>\n    <tr>\n      <th>0</th>\n      <td>2021-05-28 22:27:08</td>\n      <td>CAFM/L-01-0448/K</td>\n      <td>1</td>\n      <td>NaN</td>\n      <td>K</td>\n      <td>NaN</td>\n      <td>DIFFUSE</td>\n      <td>CAFM</td>\n      <td>2021-01-05 09:08:00</td>\n      <td>LISTE DES GAMMES VALIDEES RENE 65 DMD0448-20</td>\n    </tr>\n    <tr>\n      <th>1</th>\n      <td>2021-05-28 22:27:11</td>\n      <td>CV-0448-01/K</td>\n      <td>2</td>\n      <td>NaN</td>\n      <td>K</td>\n      <td>NaN</td>\n      <td>DIFFUSE</td>\n      <td>CV</td>\n      <td>2021-01-05 09:12:00</td>\n      <td>APPROVED METHODS OF MANUFACTURE ATI MONROE REN...</td>\n    </tr>\n    <tr>\n      <th>2</th>\n      <td>2021-04-19 15:51:06</td>\n      <td>485-923-600-0/B</td>\n      <td>3</td>\n      <td>NaN</td>\n      <td>B</td>\n      <td>NaN</td>\n      <td>DIFFUSE</td>\n      <td>485</td>\n      <td>2021-01-06 10:51:00</td>\n      <td>Éprouvette suivi fusion FA LBM</td>\n    </tr>\n    <tr>\n      <th>3</th>\n      <td>2021-04-26 08:03:23</td>\n      <td>DT59-21/C</td>\n      <td>4</td>\n      <td>NaN</td>\n      <td>C</td>\n      <td>NaN</td>\n      <td>DIFFUSE</td>\n      <td>DT</td>\n      <td>2021-01-06 17:43:00</td>\n      <td>TECHNIQUES DE POSE DES CAPTEURS CAPACITIFS ET ...</td>\n    </tr>\n    <tr>\n      <th>4</th>\n      <td>2021-04-26 08:03:23</td>\n      <td>DT59-15/I</td>\n      <td>5</td>\n      <td>NaN</td>\n      <td>J</td>\n      <td>NaN</td>\n      <td>DIFFUSE</td>\n      <td>DT</td>\n      <td>2021-01-12 12:51:00</td>\n      <td>TECHNIQUES DE BRANCHEMENT DES CONNECTEURS SPEC...</td>\n    </tr>\n  </tbody>\n</table>\n</div>"
     },
     "execution_count": 1297,
     "metadata": {},
     "output_type": "execute_result"
    }
   ],
   "source": [
    "# workbook = load_workbook(filename=\"Neptune.xlsm\")\n",
    "# worksheet_donnees: worksheet = workbook[\"Données\"]\n",
    "# lines = worksheet_donnees.values\n",
    "# headers: list = next(lines)\n",
    "# lines = list(lines)\n",
    "# first_col = [values[0] for values in lines]\n",
    "# neptune_df = DataFrame(lines, index=first_col, columns=headers)\n",
    "# neptune_df\n",
    "neptune_df = pd.read_excel(\"Neptune.xlsm\", sheet_name=\"Données\")\n",
    "neptune_df_5 = neptune_df.head()\n",
    "neptune_df_5"
   ],
   "metadata": {
    "collapsed": false,
    "pycharm": {
     "name": "#%%\n"
    }
   }
  },
  {
   "cell_type": "code",
   "execution_count": 1298,
   "outputs": [
    {
     "data": {
      "text/plain": "0   2021-05-28 22:27:08\n1   2021-05-28 22:27:11\n2   2021-04-19 15:51:06\n3   2021-04-26 08:03:23\n4   2021-04-26 08:03:23\nName: Date import, dtype: datetime64[ns]"
     },
     "execution_count": 1298,
     "metadata": {},
     "output_type": "execute_result"
    }
   ],
   "source": [
    "neptune_df_5[\"Date import\"]"
   ],
   "metadata": {
    "collapsed": false,
    "pycharm": {
     "name": "#%%\n"
    }
   }
  },
  {
   "cell_type": "code",
   "execution_count": 1299,
   "outputs": [
    {
     "name": "stdout",
     "output_type": "stream",
     "text": [
      "<class 'pandas.core.frame.DataFrame'>\n",
      "RangeIndex: 5 entries, 0 to 4\n",
      "Data columns (total 10 columns):\n",
      " #   Column       Non-Null Count  Dtype         \n",
      "---  ------       --------------  -----         \n",
      " 0   Date import  5 non-null      datetime64[ns]\n",
      " 1   Référence    5 non-null      object        \n",
      " 2   ID           5 non-null      int64         \n",
      " 3   Pg AMN       0 non-null      float64       \n",
      " 4   Indice       5 non-null      object        \n",
      " 5   Pg Doc       0 non-null      float64       \n",
      " 6   Etat Doc.    5 non-null      object        \n",
      " 7   Famille      5 non-null      object        \n",
      " 8   Date         5 non-null      datetime64[ns]\n",
      " 9   Titre        5 non-null      object        \n",
      "dtypes: datetime64[ns](2), float64(2), int64(1), object(5)\n",
      "memory usage: 528.0+ bytes\n"
     ]
    }
   ],
   "source": [
    "neptune_df_5.info()"
   ],
   "metadata": {
    "collapsed": false,
    "pycharm": {
     "name": "#%%\n"
    }
   }
  },
  {
   "cell_type": "code",
   "execution_count": 1300,
   "outputs": [
    {
     "data": {
      "text/plain": "(5, 10)"
     },
     "execution_count": 1300,
     "metadata": {},
     "output_type": "execute_result"
    }
   ],
   "source": [
    "neptune_df_5.shape    # 5 lignes 10 colonnes"
   ],
   "metadata": {
    "collapsed": false,
    "pycharm": {
     "name": "#%%\n"
    }
   }
  },
  {
   "cell_type": "code",
   "execution_count": 1301,
   "outputs": [
    {
     "data": {
      "text/plain": "(6,)"
     },
     "execution_count": 1301,
     "metadata": {},
     "output_type": "execute_result"
    }
   ],
   "source": [
    "series_B.shape"
   ],
   "metadata": {
    "collapsed": false,
    "pycharm": {
     "name": "#%%\n"
    }
   }
  },
  {
   "cell_type": "code",
   "execution_count": 1302,
   "outputs": [
    {
     "data": {
      "text/plain": "   ID         Date import         Référence  \\\n0   1 2021-05-28 22:27:08  CAFM/L-01-0448/K   \n1   2 2021-05-28 22:27:11      CV-0448-01/K   \n2   3 2021-04-19 15:51:06   485-923-600-0/B   \n3   4 2021-04-26 08:03:23         DT59-21/C   \n4   5 2021-04-26 08:03:23         DT59-15/I   \n\n                                               Titre  \n0       LISTE DES GAMMES VALIDEES RENE 65 DMD0448-20  \n1  APPROVED METHODS OF MANUFACTURE ATI MONROE REN...  \n2                     Éprouvette suivi fusion FA LBM  \n3  TECHNIQUES DE POSE DES CAPTEURS CAPACITIFS ET ...  \n4  TECHNIQUES DE BRANCHEMENT DES CONNECTEURS SPEC...  ",
      "text/html": "<div>\n<style scoped>\n    .dataframe tbody tr th:only-of-type {\n        vertical-align: middle;\n    }\n\n    .dataframe tbody tr th {\n        vertical-align: top;\n    }\n\n    .dataframe thead th {\n        text-align: right;\n    }\n</style>\n<table border=\"1\" class=\"dataframe\">\n  <thead>\n    <tr style=\"text-align: right;\">\n      <th></th>\n      <th>ID</th>\n      <th>Date import</th>\n      <th>Référence</th>\n      <th>Titre</th>\n    </tr>\n  </thead>\n  <tbody>\n    <tr>\n      <th>0</th>\n      <td>1</td>\n      <td>2021-05-28 22:27:08</td>\n      <td>CAFM/L-01-0448/K</td>\n      <td>LISTE DES GAMMES VALIDEES RENE 65 DMD0448-20</td>\n    </tr>\n    <tr>\n      <th>1</th>\n      <td>2</td>\n      <td>2021-05-28 22:27:11</td>\n      <td>CV-0448-01/K</td>\n      <td>APPROVED METHODS OF MANUFACTURE ATI MONROE REN...</td>\n    </tr>\n    <tr>\n      <th>2</th>\n      <td>3</td>\n      <td>2021-04-19 15:51:06</td>\n      <td>485-923-600-0/B</td>\n      <td>Éprouvette suivi fusion FA LBM</td>\n    </tr>\n    <tr>\n      <th>3</th>\n      <td>4</td>\n      <td>2021-04-26 08:03:23</td>\n      <td>DT59-21/C</td>\n      <td>TECHNIQUES DE POSE DES CAPTEURS CAPACITIFS ET ...</td>\n    </tr>\n    <tr>\n      <th>4</th>\n      <td>5</td>\n      <td>2021-04-26 08:03:23</td>\n      <td>DT59-15/I</td>\n      <td>TECHNIQUES DE BRANCHEMENT DES CONNECTEURS SPEC...</td>\n    </tr>\n  </tbody>\n</table>\n</div>"
     },
     "execution_count": 1302,
     "metadata": {},
     "output_type": "execute_result"
    }
   ],
   "source": [
    "neptune_df_5[[\"ID\", \"Date import\", \"Référence\", \"Titre\"]]"
   ],
   "metadata": {
    "collapsed": false,
    "pycharm": {
     "name": "#%%\n"
    }
   }
  },
  {
   "cell_type": "code",
   "execution_count": 1303,
   "outputs": [
    {
     "data": {
      "text/plain": "0    11\n1    12\n2    13\n3    14\n4    15\nName: ID, dtype: int64"
     },
     "execution_count": 1303,
     "metadata": {},
     "output_type": "execute_result"
    }
   ],
   "source": [
    "neptune_df_5[\"ID\"] + 10"
   ],
   "metadata": {
    "collapsed": false,
    "pycharm": {
     "name": "#%%\n"
    }
   }
  },
  {
   "cell_type": "code",
   "execution_count": 1304,
   "outputs": [
    {
     "data": {
      "text/plain": "0   -9\n1   -8\n2   -7\n3   -6\n4   -5\nName: ID, dtype: int64"
     },
     "execution_count": 1304,
     "metadata": {},
     "output_type": "execute_result"
    }
   ],
   "source": [
    "neptune_df_5[\"ID\"] - 10"
   ],
   "metadata": {
    "collapsed": false,
    "pycharm": {
     "name": "#%%\n"
    }
   }
  },
  {
   "cell_type": "code",
   "execution_count": 1305,
   "outputs": [
    {
     "data": {
      "text/plain": "0    10\n1    20\n2    30\n3    40\n4    50\nName: ID, dtype: int64"
     },
     "execution_count": 1305,
     "metadata": {},
     "output_type": "execute_result"
    }
   ],
   "source": [
    "neptune_df_5[\"ID\"] * 10"
   ],
   "metadata": {
    "collapsed": false,
    "pycharm": {
     "name": "#%%\n"
    }
   }
  },
  {
   "cell_type": "code",
   "execution_count": 1306,
   "outputs": [
    {
     "data": {
      "text/plain": "0    0.1\n1    0.2\n2    0.3\n3    0.4\n4    0.5\nName: ID, dtype: float64"
     },
     "execution_count": 1306,
     "metadata": {},
     "output_type": "execute_result"
    }
   ],
   "source": [
    "neptune_df_5[\"ID\"] / 10"
   ],
   "metadata": {
    "collapsed": false,
    "pycharm": {
     "name": "#%%\n"
    }
   }
  },
  {
   "cell_type": "code",
   "execution_count": 1307,
   "outputs": [
    {
     "data": {
      "text/plain": "0     True\n1     True\n2    False\n3    False\n4    False\nName: ID, dtype: bool"
     },
     "execution_count": 1307,
     "metadata": {},
     "output_type": "execute_result"
    }
   ],
   "source": [
    "neptune_df_5[\"ID\"] < 3"
   ],
   "metadata": {
    "collapsed": false,
    "pycharm": {
     "name": "#%%\n"
    }
   }
  },
  {
   "cell_type": "code",
   "execution_count": 1308,
   "outputs": [
    {
     "data": {
      "text/plain": "   ID         Date import         Référence  \\\n0   1 2021-05-28 22:27:08  CAFM/L-01-0448/K   \n1   2 2021-05-28 22:27:11      CV-0448-01/K   \n\n                                               Titre  \n0       LISTE DES GAMMES VALIDEES RENE 65 DMD0448-20  \n1  APPROVED METHODS OF MANUFACTURE ATI MONROE REN...  ",
      "text/html": "<div>\n<style scoped>\n    .dataframe tbody tr th:only-of-type {\n        vertical-align: middle;\n    }\n\n    .dataframe tbody tr th {\n        vertical-align: top;\n    }\n\n    .dataframe thead th {\n        text-align: right;\n    }\n</style>\n<table border=\"1\" class=\"dataframe\">\n  <thead>\n    <tr style=\"text-align: right;\">\n      <th></th>\n      <th>ID</th>\n      <th>Date import</th>\n      <th>Référence</th>\n      <th>Titre</th>\n    </tr>\n  </thead>\n  <tbody>\n    <tr>\n      <th>0</th>\n      <td>1</td>\n      <td>2021-05-28 22:27:08</td>\n      <td>CAFM/L-01-0448/K</td>\n      <td>LISTE DES GAMMES VALIDEES RENE 65 DMD0448-20</td>\n    </tr>\n    <tr>\n      <th>1</th>\n      <td>2</td>\n      <td>2021-05-28 22:27:11</td>\n      <td>CV-0448-01/K</td>\n      <td>APPROVED METHODS OF MANUFACTURE ATI MONROE REN...</td>\n    </tr>\n  </tbody>\n</table>\n</div>"
     },
     "execution_count": 1308,
     "metadata": {},
     "output_type": "execute_result"
    }
   ],
   "source": [
    "neptune_df_5[[\"ID\", \"Date import\", \"Référence\", \"Titre\"]][neptune_df_5[\"ID\"] < 3]"
   ],
   "metadata": {
    "collapsed": false,
    "pycharm": {
     "name": "#%%\n"
    }
   }
  },
  {
   "cell_type": "code",
   "execution_count": 1309,
   "outputs": [
    {
     "data": {
      "text/plain": "          Date import         Référence  ID  Pg AMN Indice  Pg Doc Etat Doc.  \\\n0 2021-05-28 22:27:08  CAFM/L-01-0448/K   1     NaN      K     NaN   DIFFUSE   \n3 2021-04-26 08:03:23         DT59-21/C   4     NaN      C     NaN   DIFFUSE   \n\n  Famille                Date  \\\n0    CAFM 2021-01-05 09:08:00   \n3      DT 2021-01-06 17:43:00   \n\n                                               Titre  \n0       LISTE DES GAMMES VALIDEES RENE 65 DMD0448-20  \n3  TECHNIQUES DE POSE DES CAPTEURS CAPACITIFS ET ...  ",
      "text/html": "<div>\n<style scoped>\n    .dataframe tbody tr th:only-of-type {\n        vertical-align: middle;\n    }\n\n    .dataframe tbody tr th {\n        vertical-align: top;\n    }\n\n    .dataframe thead th {\n        text-align: right;\n    }\n</style>\n<table border=\"1\" class=\"dataframe\">\n  <thead>\n    <tr style=\"text-align: right;\">\n      <th></th>\n      <th>Date import</th>\n      <th>Référence</th>\n      <th>ID</th>\n      <th>Pg AMN</th>\n      <th>Indice</th>\n      <th>Pg Doc</th>\n      <th>Etat Doc.</th>\n      <th>Famille</th>\n      <th>Date</th>\n      <th>Titre</th>\n    </tr>\n  </thead>\n  <tbody>\n    <tr>\n      <th>0</th>\n      <td>2021-05-28 22:27:08</td>\n      <td>CAFM/L-01-0448/K</td>\n      <td>1</td>\n      <td>NaN</td>\n      <td>K</td>\n      <td>NaN</td>\n      <td>DIFFUSE</td>\n      <td>CAFM</td>\n      <td>2021-01-05 09:08:00</td>\n      <td>LISTE DES GAMMES VALIDEES RENE 65 DMD0448-20</td>\n    </tr>\n    <tr>\n      <th>3</th>\n      <td>2021-04-26 08:03:23</td>\n      <td>DT59-21/C</td>\n      <td>4</td>\n      <td>NaN</td>\n      <td>C</td>\n      <td>NaN</td>\n      <td>DIFFUSE</td>\n      <td>DT</td>\n      <td>2021-01-06 17:43:00</td>\n      <td>TECHNIQUES DE POSE DES CAPTEURS CAPACITIFS ET ...</td>\n    </tr>\n  </tbody>\n</table>\n</div>"
     },
     "execution_count": 1309,
     "metadata": {},
     "output_type": "execute_result"
    }
   ],
   "source": [
    "neptune_df_5[(neptune_df_5[\"ID\"] == 1) | (neptune_df_5[\"ID\"] == 4)]"
   ],
   "metadata": {
    "collapsed": false,
    "pycharm": {
     "name": "#%%\n"
    }
   }
  },
  {
   "cell_type": "code",
   "execution_count": 1310,
   "outputs": [
    {
     "data": {
      "text/plain": "           Date import   Référence  ID  Pg AMN Indice  Pg Doc Etat Doc.  \\\n12 2021-05-28 22:42:15  FOR-0750/A  13     NaN      A     NaN   DIFFUSE   \n13 2021-05-28 22:42:15  FOR-0751/A  14     NaN      A     NaN   DIFFUSE   \n14 2021-05-28 22:42:15  FOR-0752/A  15     NaN      A     NaN   DIFFUSE   \n15 2021-05-28 22:42:15  FOR-0753/A  16     NaN      A     NaN   DIFFUSE   \n16 2021-05-28 22:42:15  FOR-0754/A  17     NaN      A     NaN   DIFFUSE   \n17 2021-05-28 22:42:16  FOR-0755/A  18     NaN      A     NaN   DIFFUSE   \n\n   Famille                Date                                       Titre  \n12     FOR 2021-01-20 09:32:00                          COUPLES DE SERRAGE  \n13     FOR 2021-01-20 09:38:00                               JEUX ET COTES  \n14     FOR 2021-01-20 09:41:00                                       NOTAS  \n15     FOR 2021-01-20 09:43:00  DESSIN COMPLEMENTAIRE - COUPLES DE SERRAGE  \n16     FOR 2021-01-20 09:44:00       DESSIN COMPLEMENTAIRE - JEUX ET COTES  \n17     FOR 2021-01-20 09:47:00               DESSIN COMPLEMENTAIRE - NOTAS  ",
      "text/html": "<div>\n<style scoped>\n    .dataframe tbody tr th:only-of-type {\n        vertical-align: middle;\n    }\n\n    .dataframe tbody tr th {\n        vertical-align: top;\n    }\n\n    .dataframe thead th {\n        text-align: right;\n    }\n</style>\n<table border=\"1\" class=\"dataframe\">\n  <thead>\n    <tr style=\"text-align: right;\">\n      <th></th>\n      <th>Date import</th>\n      <th>Référence</th>\n      <th>ID</th>\n      <th>Pg AMN</th>\n      <th>Indice</th>\n      <th>Pg Doc</th>\n      <th>Etat Doc.</th>\n      <th>Famille</th>\n      <th>Date</th>\n      <th>Titre</th>\n    </tr>\n  </thead>\n  <tbody>\n    <tr>\n      <th>12</th>\n      <td>2021-05-28 22:42:15</td>\n      <td>FOR-0750/A</td>\n      <td>13</td>\n      <td>NaN</td>\n      <td>A</td>\n      <td>NaN</td>\n      <td>DIFFUSE</td>\n      <td>FOR</td>\n      <td>2021-01-20 09:32:00</td>\n      <td>COUPLES DE SERRAGE</td>\n    </tr>\n    <tr>\n      <th>13</th>\n      <td>2021-05-28 22:42:15</td>\n      <td>FOR-0751/A</td>\n      <td>14</td>\n      <td>NaN</td>\n      <td>A</td>\n      <td>NaN</td>\n      <td>DIFFUSE</td>\n      <td>FOR</td>\n      <td>2021-01-20 09:38:00</td>\n      <td>JEUX ET COTES</td>\n    </tr>\n    <tr>\n      <th>14</th>\n      <td>2021-05-28 22:42:15</td>\n      <td>FOR-0752/A</td>\n      <td>15</td>\n      <td>NaN</td>\n      <td>A</td>\n      <td>NaN</td>\n      <td>DIFFUSE</td>\n      <td>FOR</td>\n      <td>2021-01-20 09:41:00</td>\n      <td>NOTAS</td>\n    </tr>\n    <tr>\n      <th>15</th>\n      <td>2021-05-28 22:42:15</td>\n      <td>FOR-0753/A</td>\n      <td>16</td>\n      <td>NaN</td>\n      <td>A</td>\n      <td>NaN</td>\n      <td>DIFFUSE</td>\n      <td>FOR</td>\n      <td>2021-01-20 09:43:00</td>\n      <td>DESSIN COMPLEMENTAIRE - COUPLES DE SERRAGE</td>\n    </tr>\n    <tr>\n      <th>16</th>\n      <td>2021-05-28 22:42:15</td>\n      <td>FOR-0754/A</td>\n      <td>17</td>\n      <td>NaN</td>\n      <td>A</td>\n      <td>NaN</td>\n      <td>DIFFUSE</td>\n      <td>FOR</td>\n      <td>2021-01-20 09:44:00</td>\n      <td>DESSIN COMPLEMENTAIRE - JEUX ET COTES</td>\n    </tr>\n    <tr>\n      <th>17</th>\n      <td>2021-05-28 22:42:16</td>\n      <td>FOR-0755/A</td>\n      <td>18</td>\n      <td>NaN</td>\n      <td>A</td>\n      <td>NaN</td>\n      <td>DIFFUSE</td>\n      <td>FOR</td>\n      <td>2021-01-20 09:47:00</td>\n      <td>DESSIN COMPLEMENTAIRE - NOTAS</td>\n    </tr>\n  </tbody>\n</table>\n</div>"
     },
     "execution_count": 1310,
     "metadata": {},
     "output_type": "execute_result"
    }
   ],
   "source": [
    "neptune_df[neptune_df[\"Référence\"].str.contains(\"FOR\")]"
   ],
   "metadata": {
    "collapsed": false,
    "pycharm": {
     "name": "#%%\n"
    }
   }
  },
  {
   "cell_type": "code",
   "execution_count": 1311,
   "outputs": [
    {
     "data": {
      "text/plain": "           Date import            Référence  ID  Pg AMN Indice  Pg Doc  \\\n21 2021-04-20 08:26:42  222-000-142_143-0_A  22     NaN    NaN     NaN   \n24 2021-04-19 15:51:07       DMD4201-00-1/A  25     NaN    NaN     NaN   \n57 2021-04-26 08:03:23         MA-1813-15/A  58     NaN    NaN     NaN   \n60 2021-04-26 08:03:22          DMR96-003/A  61     NaN    NaN     NaN   \n\n   Etat Doc.              Famille                Date  \\\n21   DIFFUSE  Documents standards 2021-01-27 13:08:00   \n24   DIFFUSE                  DMD 2021-02-03 14:17:00   \n57   DIFFUSE                   MA 2021-03-16 09:38:00   \n60   DIFFUSE                  DMR 2021-03-18 08:36:00   \n\n                                                Titre  \n21                              VIS TETE CYL, 6 LOBES  \n24  COMPOSITE RENFORT HYBRIDE CARBONE IM7-VERRE S2...  \n57  Poudre pour élaboration par construction fusio...  \n60         Torons de fibres de verre haute résistance  ",
      "text/html": "<div>\n<style scoped>\n    .dataframe tbody tr th:only-of-type {\n        vertical-align: middle;\n    }\n\n    .dataframe tbody tr th {\n        vertical-align: top;\n    }\n\n    .dataframe thead th {\n        text-align: right;\n    }\n</style>\n<table border=\"1\" class=\"dataframe\">\n  <thead>\n    <tr style=\"text-align: right;\">\n      <th></th>\n      <th>Date import</th>\n      <th>Référence</th>\n      <th>ID</th>\n      <th>Pg AMN</th>\n      <th>Indice</th>\n      <th>Pg Doc</th>\n      <th>Etat Doc.</th>\n      <th>Famille</th>\n      <th>Date</th>\n      <th>Titre</th>\n    </tr>\n  </thead>\n  <tbody>\n    <tr>\n      <th>21</th>\n      <td>2021-04-20 08:26:42</td>\n      <td>222-000-142_143-0_A</td>\n      <td>22</td>\n      <td>NaN</td>\n      <td>NaN</td>\n      <td>NaN</td>\n      <td>DIFFUSE</td>\n      <td>Documents standards</td>\n      <td>2021-01-27 13:08:00</td>\n      <td>VIS TETE CYL, 6 LOBES</td>\n    </tr>\n    <tr>\n      <th>24</th>\n      <td>2021-04-19 15:51:07</td>\n      <td>DMD4201-00-1/A</td>\n      <td>25</td>\n      <td>NaN</td>\n      <td>NaN</td>\n      <td>NaN</td>\n      <td>DIFFUSE</td>\n      <td>DMD</td>\n      <td>2021-02-03 14:17:00</td>\n      <td>COMPOSITE RENFORT HYBRIDE CARBONE IM7-VERRE S2...</td>\n    </tr>\n    <tr>\n      <th>57</th>\n      <td>2021-04-26 08:03:23</td>\n      <td>MA-1813-15/A</td>\n      <td>58</td>\n      <td>NaN</td>\n      <td>NaN</td>\n      <td>NaN</td>\n      <td>DIFFUSE</td>\n      <td>MA</td>\n      <td>2021-03-16 09:38:00</td>\n      <td>Poudre pour élaboration par construction fusio...</td>\n    </tr>\n    <tr>\n      <th>60</th>\n      <td>2021-04-26 08:03:22</td>\n      <td>DMR96-003/A</td>\n      <td>61</td>\n      <td>NaN</td>\n      <td>NaN</td>\n      <td>NaN</td>\n      <td>DIFFUSE</td>\n      <td>DMR</td>\n      <td>2021-03-18 08:36:00</td>\n      <td>Torons de fibres de verre haute résistance</td>\n    </tr>\n  </tbody>\n</table>\n</div>"
     },
     "execution_count": 1311,
     "metadata": {},
     "output_type": "execute_result"
    }
   ],
   "source": [
    "neptune_df[neptune_df[\"Indice\"].isnull()]"
   ],
   "metadata": {
    "collapsed": false,
    "pycharm": {
     "name": "#%%\n"
    }
   }
  },
  {
   "cell_type": "code",
   "execution_count": 1312,
   "outputs": [
    {
     "data": {
      "text/plain": "0    CAFM/L-01-0448/K\n1        CV-0448-01/K\n2     485-923-600-0/B\n3           DT59-21/C\n4           DT59-15/I\nName: Référence, dtype: object"
     },
     "execution_count": 1312,
     "metadata": {},
     "output_type": "execute_result"
    }
   ],
   "source": [
    "neptune_df_5.loc[neptune_df_5[\"ID\"] <= 5, \"Référence\"]"
   ],
   "metadata": {
    "collapsed": false,
    "pycharm": {
     "name": "#%%\n"
    }
   }
  },
  {
   "cell_type": "code",
   "execution_count": 1313,
   "outputs": [
    {
     "data": {
      "text/plain": "          Date import         Référence  ID  Pg AMN Indice  Pg Doc Etat Doc.  \\\n0 2021-05-28 22:27:08  CAFM/L-01-0448/K   1     NaN      K     NaN   DIFFUSE   \n1 2021-05-28 22:27:11      CV-0448-01/K   2     NaN      K     NaN   DIFFUSE   \n\n  Famille                Date  \\\n0    CAFM 2021-01-05 09:08:00   \n1      CV 2021-01-05 09:12:00   \n\n                                               Titre  \n0       LISTE DES GAMMES VALIDEES RENE 65 DMD0448-20  \n1  APPROVED METHODS OF MANUFACTURE ATI MONROE REN...  ",
      "text/html": "<div>\n<style scoped>\n    .dataframe tbody tr th:only-of-type {\n        vertical-align: middle;\n    }\n\n    .dataframe tbody tr th {\n        vertical-align: top;\n    }\n\n    .dataframe thead th {\n        text-align: right;\n    }\n</style>\n<table border=\"1\" class=\"dataframe\">\n  <thead>\n    <tr style=\"text-align: right;\">\n      <th></th>\n      <th>Date import</th>\n      <th>Référence</th>\n      <th>ID</th>\n      <th>Pg AMN</th>\n      <th>Indice</th>\n      <th>Pg Doc</th>\n      <th>Etat Doc.</th>\n      <th>Famille</th>\n      <th>Date</th>\n      <th>Titre</th>\n    </tr>\n  </thead>\n  <tbody>\n    <tr>\n      <th>0</th>\n      <td>2021-05-28 22:27:08</td>\n      <td>CAFM/L-01-0448/K</td>\n      <td>1</td>\n      <td>NaN</td>\n      <td>K</td>\n      <td>NaN</td>\n      <td>DIFFUSE</td>\n      <td>CAFM</td>\n      <td>2021-01-05 09:08:00</td>\n      <td>LISTE DES GAMMES VALIDEES RENE 65 DMD0448-20</td>\n    </tr>\n    <tr>\n      <th>1</th>\n      <td>2021-05-28 22:27:11</td>\n      <td>CV-0448-01/K</td>\n      <td>2</td>\n      <td>NaN</td>\n      <td>K</td>\n      <td>NaN</td>\n      <td>DIFFUSE</td>\n      <td>CV</td>\n      <td>2021-01-05 09:12:00</td>\n      <td>APPROVED METHODS OF MANUFACTURE ATI MONROE REN...</td>\n    </tr>\n  </tbody>\n</table>\n</div>"
     },
     "execution_count": 1313,
     "metadata": {},
     "output_type": "execute_result"
    }
   ],
   "source": [
    "neptune_df[:2]"
   ],
   "metadata": {
    "collapsed": false,
    "pycharm": {
     "name": "#%%\n"
    }
   }
  },
  {
   "cell_type": "code",
   "execution_count": 1314,
   "outputs": [
    {
     "data": {
      "text/plain": "          Date import         Référence  ID  Pg AMN Indice  Pg Doc Etat Doc.  \\\n0 2021-05-28 22:27:08  CAFM/L-01-0448/K   1     NaN      K     NaN   DIFFUSE   \n1 2021-05-28 22:27:11      CV-0448-01/K   2     NaN      K     NaN   DIFFUSE   \n\n  Famille                Date  \\\n0    CAFM 2021-01-05 09:08:00   \n1      CV 2021-01-05 09:12:00   \n\n                                               Titre  \n0       LISTE DES GAMMES VALIDEES RENE 65 DMD0448-20  \n1  APPROVED METHODS OF MANUFACTURE ATI MONROE REN...  ",
      "text/html": "<div>\n<style scoped>\n    .dataframe tbody tr th:only-of-type {\n        vertical-align: middle;\n    }\n\n    .dataframe tbody tr th {\n        vertical-align: top;\n    }\n\n    .dataframe thead th {\n        text-align: right;\n    }\n</style>\n<table border=\"1\" class=\"dataframe\">\n  <thead>\n    <tr style=\"text-align: right;\">\n      <th></th>\n      <th>Date import</th>\n      <th>Référence</th>\n      <th>ID</th>\n      <th>Pg AMN</th>\n      <th>Indice</th>\n      <th>Pg Doc</th>\n      <th>Etat Doc.</th>\n      <th>Famille</th>\n      <th>Date</th>\n      <th>Titre</th>\n    </tr>\n  </thead>\n  <tbody>\n    <tr>\n      <th>0</th>\n      <td>2021-05-28 22:27:08</td>\n      <td>CAFM/L-01-0448/K</td>\n      <td>1</td>\n      <td>NaN</td>\n      <td>K</td>\n      <td>NaN</td>\n      <td>DIFFUSE</td>\n      <td>CAFM</td>\n      <td>2021-01-05 09:08:00</td>\n      <td>LISTE DES GAMMES VALIDEES RENE 65 DMD0448-20</td>\n    </tr>\n    <tr>\n      <th>1</th>\n      <td>2021-05-28 22:27:11</td>\n      <td>CV-0448-01/K</td>\n      <td>2</td>\n      <td>NaN</td>\n      <td>K</td>\n      <td>NaN</td>\n      <td>DIFFUSE</td>\n      <td>CV</td>\n      <td>2021-01-05 09:12:00</td>\n      <td>APPROVED METHODS OF MANUFACTURE ATI MONROE REN...</td>\n    </tr>\n  </tbody>\n</table>\n</div>"
     },
     "execution_count": 1314,
     "metadata": {},
     "output_type": "execute_result"
    }
   ],
   "source": [
    "neptune_df.iloc[:2]"
   ],
   "metadata": {
    "collapsed": false,
    "pycharm": {
     "name": "#%%\n"
    }
   }
  },
  {
   "cell_type": "code",
   "execution_count": 1315,
   "outputs": [
    {
     "data": {
      "text/plain": "           Date import   Référence  ID  Pg AMN Indice  Pg Doc Etat Doc.  \\\n79 2021-04-19 15:51:11  MDD03-19/A  80     NaN      A     NaN   DIFFUSE   \n80 2021-04-26 08:03:22   DT59-10/I  81     NaN      J     NaN   DIFFUSE   \n\n   Famille                Date  \\\n79     MDD 2021-04-13 18:35:00   \n80      DT 2021-04-14 14:02:00   \n\n                                                Titre  \n79  Exigences techniques pour articles de fournitu...  \n80  TECHNIQUES DE BRANCHEMENT DES MESURES DE TEMPE...  ",
      "text/html": "<div>\n<style scoped>\n    .dataframe tbody tr th:only-of-type {\n        vertical-align: middle;\n    }\n\n    .dataframe tbody tr th {\n        vertical-align: top;\n    }\n\n    .dataframe thead th {\n        text-align: right;\n    }\n</style>\n<table border=\"1\" class=\"dataframe\">\n  <thead>\n    <tr style=\"text-align: right;\">\n      <th></th>\n      <th>Date import</th>\n      <th>Référence</th>\n      <th>ID</th>\n      <th>Pg AMN</th>\n      <th>Indice</th>\n      <th>Pg Doc</th>\n      <th>Etat Doc.</th>\n      <th>Famille</th>\n      <th>Date</th>\n      <th>Titre</th>\n    </tr>\n  </thead>\n  <tbody>\n    <tr>\n      <th>79</th>\n      <td>2021-04-19 15:51:11</td>\n      <td>MDD03-19/A</td>\n      <td>80</td>\n      <td>NaN</td>\n      <td>A</td>\n      <td>NaN</td>\n      <td>DIFFUSE</td>\n      <td>MDD</td>\n      <td>2021-04-13 18:35:00</td>\n      <td>Exigences techniques pour articles de fournitu...</td>\n    </tr>\n    <tr>\n      <th>80</th>\n      <td>2021-04-26 08:03:22</td>\n      <td>DT59-10/I</td>\n      <td>81</td>\n      <td>NaN</td>\n      <td>J</td>\n      <td>NaN</td>\n      <td>DIFFUSE</td>\n      <td>DT</td>\n      <td>2021-04-14 14:02:00</td>\n      <td>TECHNIQUES DE BRANCHEMENT DES MESURES DE TEMPE...</td>\n    </tr>\n  </tbody>\n</table>\n</div>"
     },
     "execution_count": 1315,
     "metadata": {},
     "output_type": "execute_result"
    }
   ],
   "source": [
    "neptune_df.iloc[-2:]"
   ],
   "metadata": {
    "collapsed": false,
    "pycharm": {
     "name": "#%%\n"
    }
   }
  },
  {
   "cell_type": "code",
   "execution_count": 1316,
   "outputs": [
    {
     "data": {
      "text/plain": "           Date import         Référence\n0  2021-05-28 22:27:08  CAFM/L-01-0448/K\n1  2021-05-28 22:27:11      CV-0448-01/K\n2  2021-04-19 15:51:06   485-923-600-0/B\n3  2021-04-26 08:03:23         DT59-21/C\n4  2021-04-26 08:03:23         DT59-15/I\n..                 ...               ...\n76 2021-04-19 15:51:06   485-924-096-0/E\n77 2021-04-26 08:03:22        DT05-89/AA\n78 2021-04-26 08:03:22         DT59-02/H\n79 2021-04-19 15:51:11        MDD03-19/A\n80 2021-04-26 08:03:22         DT59-10/I\n\n[81 rows x 2 columns]",
      "text/html": "<div>\n<style scoped>\n    .dataframe tbody tr th:only-of-type {\n        vertical-align: middle;\n    }\n\n    .dataframe tbody tr th {\n        vertical-align: top;\n    }\n\n    .dataframe thead th {\n        text-align: right;\n    }\n</style>\n<table border=\"1\" class=\"dataframe\">\n  <thead>\n    <tr style=\"text-align: right;\">\n      <th></th>\n      <th>Date import</th>\n      <th>Référence</th>\n    </tr>\n  </thead>\n  <tbody>\n    <tr>\n      <th>0</th>\n      <td>2021-05-28 22:27:08</td>\n      <td>CAFM/L-01-0448/K</td>\n    </tr>\n    <tr>\n      <th>1</th>\n      <td>2021-05-28 22:27:11</td>\n      <td>CV-0448-01/K</td>\n    </tr>\n    <tr>\n      <th>2</th>\n      <td>2021-04-19 15:51:06</td>\n      <td>485-923-600-0/B</td>\n    </tr>\n    <tr>\n      <th>3</th>\n      <td>2021-04-26 08:03:23</td>\n      <td>DT59-21/C</td>\n    </tr>\n    <tr>\n      <th>4</th>\n      <td>2021-04-26 08:03:23</td>\n      <td>DT59-15/I</td>\n    </tr>\n    <tr>\n      <th>...</th>\n      <td>...</td>\n      <td>...</td>\n    </tr>\n    <tr>\n      <th>76</th>\n      <td>2021-04-19 15:51:06</td>\n      <td>485-924-096-0/E</td>\n    </tr>\n    <tr>\n      <th>77</th>\n      <td>2021-04-26 08:03:22</td>\n      <td>DT05-89/AA</td>\n    </tr>\n    <tr>\n      <th>78</th>\n      <td>2021-04-26 08:03:22</td>\n      <td>DT59-02/H</td>\n    </tr>\n    <tr>\n      <th>79</th>\n      <td>2021-04-19 15:51:11</td>\n      <td>MDD03-19/A</td>\n    </tr>\n    <tr>\n      <th>80</th>\n      <td>2021-04-26 08:03:22</td>\n      <td>DT59-10/I</td>\n    </tr>\n  </tbody>\n</table>\n<p>81 rows × 2 columns</p>\n</div>"
     },
     "execution_count": 1316,
     "metadata": {},
     "output_type": "execute_result"
    }
   ],
   "source": [
    "neptune_df.iloc[:, :2]"
   ],
   "metadata": {
    "collapsed": false,
    "pycharm": {
     "name": "#%%\n"
    }
   }
  },
  {
   "cell_type": "code",
   "execution_count": 1317,
   "outputs": [
    {
     "data": {
      "text/plain": "          Date import         Référence\n0 2021-05-28 22:27:08  CAFM/L-01-0448/K\n1 2021-05-28 22:27:11      CV-0448-01/K",
      "text/html": "<div>\n<style scoped>\n    .dataframe tbody tr th:only-of-type {\n        vertical-align: middle;\n    }\n\n    .dataframe tbody tr th {\n        vertical-align: top;\n    }\n\n    .dataframe thead th {\n        text-align: right;\n    }\n</style>\n<table border=\"1\" class=\"dataframe\">\n  <thead>\n    <tr style=\"text-align: right;\">\n      <th></th>\n      <th>Date import</th>\n      <th>Référence</th>\n    </tr>\n  </thead>\n  <tbody>\n    <tr>\n      <th>0</th>\n      <td>2021-05-28 22:27:08</td>\n      <td>CAFM/L-01-0448/K</td>\n    </tr>\n    <tr>\n      <th>1</th>\n      <td>2021-05-28 22:27:11</td>\n      <td>CV-0448-01/K</td>\n    </tr>\n  </tbody>\n</table>\n</div>"
     },
     "execution_count": 1317,
     "metadata": {},
     "output_type": "execute_result"
    }
   ],
   "source": [
    "neptune_df.iloc[:2, :2]"
   ],
   "metadata": {
    "collapsed": false,
    "pycharm": {
     "name": "#%%\n"
    }
   }
  },
  {
   "cell_type": "code",
   "execution_count": 1318,
   "outputs": [
    {
     "data": {
      "text/plain": "           Date import        Référence   ID Pg AMN Indice Pg Doc Etat Doc.  \\\n0                  ...              ...  ...    ...    ...    ...       ...   \n1                  ...              ...  ...    ...    ...    ...       ...   \n2  2021-04-19 15:51:06  485-923-600-0/B    3    NaN      B    NaN   DIFFUSE   \n3  2021-04-26 08:03:23        DT59-21/C    4    NaN      C    NaN   DIFFUSE   \n4  2021-04-26 08:03:23        DT59-15/I    5    NaN      J    NaN   DIFFUSE   \n\n  Famille                 Date  \\\n0     ...                  ...   \n1     ...                  ...   \n2     485  2021-01-06 10:51:00   \n3      DT  2021-01-06 17:43:00   \n4      DT  2021-01-12 12:51:00   \n\n                                               Titre  \n0                                                ...  \n1                                                ...  \n2                     Éprouvette suivi fusion FA LBM  \n3  TECHNIQUES DE POSE DES CAPTEURS CAPACITIFS ET ...  \n4  TECHNIQUES DE BRANCHEMENT DES CONNECTEURS SPEC...  ",
      "text/html": "<div>\n<style scoped>\n    .dataframe tbody tr th:only-of-type {\n        vertical-align: middle;\n    }\n\n    .dataframe tbody tr th {\n        vertical-align: top;\n    }\n\n    .dataframe thead th {\n        text-align: right;\n    }\n</style>\n<table border=\"1\" class=\"dataframe\">\n  <thead>\n    <tr style=\"text-align: right;\">\n      <th></th>\n      <th>Date import</th>\n      <th>Référence</th>\n      <th>ID</th>\n      <th>Pg AMN</th>\n      <th>Indice</th>\n      <th>Pg Doc</th>\n      <th>Etat Doc.</th>\n      <th>Famille</th>\n      <th>Date</th>\n      <th>Titre</th>\n    </tr>\n  </thead>\n  <tbody>\n    <tr>\n      <th>0</th>\n      <td>...</td>\n      <td>...</td>\n      <td>...</td>\n      <td>...</td>\n      <td>...</td>\n      <td>...</td>\n      <td>...</td>\n      <td>...</td>\n      <td>...</td>\n      <td>...</td>\n    </tr>\n    <tr>\n      <th>1</th>\n      <td>...</td>\n      <td>...</td>\n      <td>...</td>\n      <td>...</td>\n      <td>...</td>\n      <td>...</td>\n      <td>...</td>\n      <td>...</td>\n      <td>...</td>\n      <td>...</td>\n    </tr>\n    <tr>\n      <th>2</th>\n      <td>2021-04-19 15:51:06</td>\n      <td>485-923-600-0/B</td>\n      <td>3</td>\n      <td>NaN</td>\n      <td>B</td>\n      <td>NaN</td>\n      <td>DIFFUSE</td>\n      <td>485</td>\n      <td>2021-01-06 10:51:00</td>\n      <td>Éprouvette suivi fusion FA LBM</td>\n    </tr>\n    <tr>\n      <th>3</th>\n      <td>2021-04-26 08:03:23</td>\n      <td>DT59-21/C</td>\n      <td>4</td>\n      <td>NaN</td>\n      <td>C</td>\n      <td>NaN</td>\n      <td>DIFFUSE</td>\n      <td>DT</td>\n      <td>2021-01-06 17:43:00</td>\n      <td>TECHNIQUES DE POSE DES CAPTEURS CAPACITIFS ET ...</td>\n    </tr>\n    <tr>\n      <th>4</th>\n      <td>2021-04-26 08:03:23</td>\n      <td>DT59-15/I</td>\n      <td>5</td>\n      <td>NaN</td>\n      <td>J</td>\n      <td>NaN</td>\n      <td>DIFFUSE</td>\n      <td>DT</td>\n      <td>2021-01-12 12:51:00</td>\n      <td>TECHNIQUES DE BRANCHEMENT DES CONNECTEURS SPEC...</td>\n    </tr>\n  </tbody>\n</table>\n</div>"
     },
     "execution_count": 1318,
     "metadata": {},
     "output_type": "execute_result"
    }
   ],
   "source": [
    "neptune_df.iloc[:2] = \"...\"\n",
    "neptune_df.head()"
   ],
   "metadata": {
    "collapsed": false,
    "pycharm": {
     "name": "#%%\n"
    }
   }
  },
  {
   "cell_type": "code",
   "execution_count": 1319,
   "outputs": [
    {
     "data": {
      "text/plain": "  Date import Référence   ID Pg AMN Indice Pg Doc Etat Doc. Famille  \\\n0         ...       ...  ...    ...    ...    ...       ...     ...   \n1         ...       ...  ...    ...    ...    ...       ...     ...   \n2         ...       ...    3    NaN      B    NaN   DIFFUSE     485   \n3         ...       ...    4    NaN      C    NaN   DIFFUSE      DT   \n4         ...       ...    5    NaN      J    NaN   DIFFUSE      DT   \n\n                  Date                                              Titre  \n0                  ...                                                ...  \n1                  ...                                                ...  \n2  2021-01-06 10:51:00                     Éprouvette suivi fusion FA LBM  \n3  2021-01-06 17:43:00  TECHNIQUES DE POSE DES CAPTEURS CAPACITIFS ET ...  \n4  2021-01-12 12:51:00  TECHNIQUES DE BRANCHEMENT DES CONNECTEURS SPEC...  ",
      "text/html": "<div>\n<style scoped>\n    .dataframe tbody tr th:only-of-type {\n        vertical-align: middle;\n    }\n\n    .dataframe tbody tr th {\n        vertical-align: top;\n    }\n\n    .dataframe thead th {\n        text-align: right;\n    }\n</style>\n<table border=\"1\" class=\"dataframe\">\n  <thead>\n    <tr style=\"text-align: right;\">\n      <th></th>\n      <th>Date import</th>\n      <th>Référence</th>\n      <th>ID</th>\n      <th>Pg AMN</th>\n      <th>Indice</th>\n      <th>Pg Doc</th>\n      <th>Etat Doc.</th>\n      <th>Famille</th>\n      <th>Date</th>\n      <th>Titre</th>\n    </tr>\n  </thead>\n  <tbody>\n    <tr>\n      <th>0</th>\n      <td>...</td>\n      <td>...</td>\n      <td>...</td>\n      <td>...</td>\n      <td>...</td>\n      <td>...</td>\n      <td>...</td>\n      <td>...</td>\n      <td>...</td>\n      <td>...</td>\n    </tr>\n    <tr>\n      <th>1</th>\n      <td>...</td>\n      <td>...</td>\n      <td>...</td>\n      <td>...</td>\n      <td>...</td>\n      <td>...</td>\n      <td>...</td>\n      <td>...</td>\n      <td>...</td>\n      <td>...</td>\n    </tr>\n    <tr>\n      <th>2</th>\n      <td>...</td>\n      <td>...</td>\n      <td>3</td>\n      <td>NaN</td>\n      <td>B</td>\n      <td>NaN</td>\n      <td>DIFFUSE</td>\n      <td>485</td>\n      <td>2021-01-06 10:51:00</td>\n      <td>Éprouvette suivi fusion FA LBM</td>\n    </tr>\n    <tr>\n      <th>3</th>\n      <td>...</td>\n      <td>...</td>\n      <td>4</td>\n      <td>NaN</td>\n      <td>C</td>\n      <td>NaN</td>\n      <td>DIFFUSE</td>\n      <td>DT</td>\n      <td>2021-01-06 17:43:00</td>\n      <td>TECHNIQUES DE POSE DES CAPTEURS CAPACITIFS ET ...</td>\n    </tr>\n    <tr>\n      <th>4</th>\n      <td>...</td>\n      <td>...</td>\n      <td>5</td>\n      <td>NaN</td>\n      <td>J</td>\n      <td>NaN</td>\n      <td>DIFFUSE</td>\n      <td>DT</td>\n      <td>2021-01-12 12:51:00</td>\n      <td>TECHNIQUES DE BRANCHEMENT DES CONNECTEURS SPEC...</td>\n    </tr>\n  </tbody>\n</table>\n</div>"
     },
     "execution_count": 1319,
     "metadata": {},
     "output_type": "execute_result"
    }
   ],
   "source": [
    "neptune_df.iloc[:,:2] = \"...\"\n",
    "neptune_df.head()"
   ],
   "metadata": {
    "collapsed": false,
    "pycharm": {
     "name": "#%%\n"
    }
   }
  },
  {
   "cell_type": "code",
   "execution_count": 1320,
   "outputs": [
    {
     "data": {
      "text/plain": "  Date import Référence ID Pg AMN Indice Pg Doc Etat Doc. Famille  \\\n2         ...       ...  3    NaN      B    NaN   DIFFUSE     485   \n3         ...       ...  4    NaN      C    NaN   DIFFUSE      DT   \n4         ...       ...  5    NaN      J    NaN   DIFFUSE      DT   \n5         ...       ...  6    NaN      K    NaN   DIFFUSE    CAFM   \n6         ...       ...  7    NaN      K    NaN   DIFFUSE      CV   \n\n                  Date                                              Titre  \n2  2021-01-06 10:51:00                     Éprouvette suivi fusion FA LBM  \n3  2021-01-06 17:43:00  TECHNIQUES DE POSE DES CAPTEURS CAPACITIFS ET ...  \n4  2021-01-12 12:51:00  TECHNIQUES DE BRANCHEMENT DES CONNECTEURS SPEC...  \n5  2021-01-12 14:34:00  LISTE DES GAMMES VALIDEES ML340 DMD0302-20 MAT...  \n6  2021-01-12 14:39:00  GAMMES VALIDEES AUBERT & DUVAL LES ANCIZES ML3...  ",
      "text/html": "<div>\n<style scoped>\n    .dataframe tbody tr th:only-of-type {\n        vertical-align: middle;\n    }\n\n    .dataframe tbody tr th {\n        vertical-align: top;\n    }\n\n    .dataframe thead th {\n        text-align: right;\n    }\n</style>\n<table border=\"1\" class=\"dataframe\">\n  <thead>\n    <tr style=\"text-align: right;\">\n      <th></th>\n      <th>Date import</th>\n      <th>Référence</th>\n      <th>ID</th>\n      <th>Pg AMN</th>\n      <th>Indice</th>\n      <th>Pg Doc</th>\n      <th>Etat Doc.</th>\n      <th>Famille</th>\n      <th>Date</th>\n      <th>Titre</th>\n    </tr>\n  </thead>\n  <tbody>\n    <tr>\n      <th>2</th>\n      <td>...</td>\n      <td>...</td>\n      <td>3</td>\n      <td>NaN</td>\n      <td>B</td>\n      <td>NaN</td>\n      <td>DIFFUSE</td>\n      <td>485</td>\n      <td>2021-01-06 10:51:00</td>\n      <td>Éprouvette suivi fusion FA LBM</td>\n    </tr>\n    <tr>\n      <th>3</th>\n      <td>...</td>\n      <td>...</td>\n      <td>4</td>\n      <td>NaN</td>\n      <td>C</td>\n      <td>NaN</td>\n      <td>DIFFUSE</td>\n      <td>DT</td>\n      <td>2021-01-06 17:43:00</td>\n      <td>TECHNIQUES DE POSE DES CAPTEURS CAPACITIFS ET ...</td>\n    </tr>\n    <tr>\n      <th>4</th>\n      <td>...</td>\n      <td>...</td>\n      <td>5</td>\n      <td>NaN</td>\n      <td>J</td>\n      <td>NaN</td>\n      <td>DIFFUSE</td>\n      <td>DT</td>\n      <td>2021-01-12 12:51:00</td>\n      <td>TECHNIQUES DE BRANCHEMENT DES CONNECTEURS SPEC...</td>\n    </tr>\n    <tr>\n      <th>5</th>\n      <td>...</td>\n      <td>...</td>\n      <td>6</td>\n      <td>NaN</td>\n      <td>K</td>\n      <td>NaN</td>\n      <td>DIFFUSE</td>\n      <td>CAFM</td>\n      <td>2021-01-12 14:34:00</td>\n      <td>LISTE DES GAMMES VALIDEES ML340 DMD0302-20 MAT...</td>\n    </tr>\n    <tr>\n      <th>6</th>\n      <td>...</td>\n      <td>...</td>\n      <td>7</td>\n      <td>NaN</td>\n      <td>K</td>\n      <td>NaN</td>\n      <td>DIFFUSE</td>\n      <td>CV</td>\n      <td>2021-01-12 14:39:00</td>\n      <td>GAMMES VALIDEES AUBERT &amp; DUVAL LES ANCIZES ML3...</td>\n    </tr>\n  </tbody>\n</table>\n</div>"
     },
     "execution_count": 1320,
     "metadata": {},
     "output_type": "execute_result"
    }
   ],
   "source": [
    "neptune_df = neptune_df.iloc[2:]\n",
    "neptune_df.head()"
   ],
   "metadata": {
    "collapsed": false,
    "pycharm": {
     "name": "#%%\n"
    }
   }
  },
  {
   "cell_type": "code",
   "execution_count": 1321,
   "outputs": [
    {
     "data": {
      "text/plain": "  ID Pg AMN Indice Pg Doc Etat Doc. Famille                 Date  \\\n2  3    NaN      B    NaN   DIFFUSE     485  2021-01-06 10:51:00   \n3  4    NaN      C    NaN   DIFFUSE      DT  2021-01-06 17:43:00   \n4  5    NaN      J    NaN   DIFFUSE      DT  2021-01-12 12:51:00   \n5  6    NaN      K    NaN   DIFFUSE    CAFM  2021-01-12 14:34:00   \n6  7    NaN      K    NaN   DIFFUSE      CV  2021-01-12 14:39:00   \n\n                                               Titre  \n2                     Éprouvette suivi fusion FA LBM  \n3  TECHNIQUES DE POSE DES CAPTEURS CAPACITIFS ET ...  \n4  TECHNIQUES DE BRANCHEMENT DES CONNECTEURS SPEC...  \n5  LISTE DES GAMMES VALIDEES ML340 DMD0302-20 MAT...  \n6  GAMMES VALIDEES AUBERT & DUVAL LES ANCIZES ML3...  ",
      "text/html": "<div>\n<style scoped>\n    .dataframe tbody tr th:only-of-type {\n        vertical-align: middle;\n    }\n\n    .dataframe tbody tr th {\n        vertical-align: top;\n    }\n\n    .dataframe thead th {\n        text-align: right;\n    }\n</style>\n<table border=\"1\" class=\"dataframe\">\n  <thead>\n    <tr style=\"text-align: right;\">\n      <th></th>\n      <th>ID</th>\n      <th>Pg AMN</th>\n      <th>Indice</th>\n      <th>Pg Doc</th>\n      <th>Etat Doc.</th>\n      <th>Famille</th>\n      <th>Date</th>\n      <th>Titre</th>\n    </tr>\n  </thead>\n  <tbody>\n    <tr>\n      <th>2</th>\n      <td>3</td>\n      <td>NaN</td>\n      <td>B</td>\n      <td>NaN</td>\n      <td>DIFFUSE</td>\n      <td>485</td>\n      <td>2021-01-06 10:51:00</td>\n      <td>Éprouvette suivi fusion FA LBM</td>\n    </tr>\n    <tr>\n      <th>3</th>\n      <td>4</td>\n      <td>NaN</td>\n      <td>C</td>\n      <td>NaN</td>\n      <td>DIFFUSE</td>\n      <td>DT</td>\n      <td>2021-01-06 17:43:00</td>\n      <td>TECHNIQUES DE POSE DES CAPTEURS CAPACITIFS ET ...</td>\n    </tr>\n    <tr>\n      <th>4</th>\n      <td>5</td>\n      <td>NaN</td>\n      <td>J</td>\n      <td>NaN</td>\n      <td>DIFFUSE</td>\n      <td>DT</td>\n      <td>2021-01-12 12:51:00</td>\n      <td>TECHNIQUES DE BRANCHEMENT DES CONNECTEURS SPEC...</td>\n    </tr>\n    <tr>\n      <th>5</th>\n      <td>6</td>\n      <td>NaN</td>\n      <td>K</td>\n      <td>NaN</td>\n      <td>DIFFUSE</td>\n      <td>CAFM</td>\n      <td>2021-01-12 14:34:00</td>\n      <td>LISTE DES GAMMES VALIDEES ML340 DMD0302-20 MAT...</td>\n    </tr>\n    <tr>\n      <th>6</th>\n      <td>7</td>\n      <td>NaN</td>\n      <td>K</td>\n      <td>NaN</td>\n      <td>DIFFUSE</td>\n      <td>CV</td>\n      <td>2021-01-12 14:39:00</td>\n      <td>GAMMES VALIDEES AUBERT &amp; DUVAL LES ANCIZES ML3...</td>\n    </tr>\n  </tbody>\n</table>\n</div>"
     },
     "execution_count": 1321,
     "metadata": {},
     "output_type": "execute_result"
    }
   ],
   "source": [
    "neptune_df = neptune_df.iloc[:,2:]\n",
    "neptune_df.head()"
   ],
   "metadata": {
    "collapsed": false,
    "pycharm": {
     "name": "#%%\n"
    }
   }
  },
  {
   "cell_type": "code",
   "execution_count": 1322,
   "outputs": [
    {
     "data": {
      "text/plain": "    ID Pg AMN Indice Pg Doc Etat Doc. Famille                 Date  \\\n2  ...    ...      B    NaN   DIFFUSE     485  2021-01-06 10:51:00   \n3  ...    ...      C    NaN   DIFFUSE      DT  2021-01-06 17:43:00   \n4    5    NaN      J    NaN   DIFFUSE      DT  2021-01-12 12:51:00   \n5    6    NaN      K    NaN   DIFFUSE    CAFM  2021-01-12 14:34:00   \n6    7    NaN      K    NaN   DIFFUSE      CV  2021-01-12 14:39:00   \n\n                                               Titre  \n2                     Éprouvette suivi fusion FA LBM  \n3  TECHNIQUES DE POSE DES CAPTEURS CAPACITIFS ET ...  \n4  TECHNIQUES DE BRANCHEMENT DES CONNECTEURS SPEC...  \n5  LISTE DES GAMMES VALIDEES ML340 DMD0302-20 MAT...  \n6  GAMMES VALIDEES AUBERT & DUVAL LES ANCIZES ML3...  ",
      "text/html": "<div>\n<style scoped>\n    .dataframe tbody tr th:only-of-type {\n        vertical-align: middle;\n    }\n\n    .dataframe tbody tr th {\n        vertical-align: top;\n    }\n\n    .dataframe thead th {\n        text-align: right;\n    }\n</style>\n<table border=\"1\" class=\"dataframe\">\n  <thead>\n    <tr style=\"text-align: right;\">\n      <th></th>\n      <th>ID</th>\n      <th>Pg AMN</th>\n      <th>Indice</th>\n      <th>Pg Doc</th>\n      <th>Etat Doc.</th>\n      <th>Famille</th>\n      <th>Date</th>\n      <th>Titre</th>\n    </tr>\n  </thead>\n  <tbody>\n    <tr>\n      <th>2</th>\n      <td>...</td>\n      <td>...</td>\n      <td>B</td>\n      <td>NaN</td>\n      <td>DIFFUSE</td>\n      <td>485</td>\n      <td>2021-01-06 10:51:00</td>\n      <td>Éprouvette suivi fusion FA LBM</td>\n    </tr>\n    <tr>\n      <th>3</th>\n      <td>...</td>\n      <td>...</td>\n      <td>C</td>\n      <td>NaN</td>\n      <td>DIFFUSE</td>\n      <td>DT</td>\n      <td>2021-01-06 17:43:00</td>\n      <td>TECHNIQUES DE POSE DES CAPTEURS CAPACITIFS ET ...</td>\n    </tr>\n    <tr>\n      <th>4</th>\n      <td>5</td>\n      <td>NaN</td>\n      <td>J</td>\n      <td>NaN</td>\n      <td>DIFFUSE</td>\n      <td>DT</td>\n      <td>2021-01-12 12:51:00</td>\n      <td>TECHNIQUES DE BRANCHEMENT DES CONNECTEURS SPEC...</td>\n    </tr>\n    <tr>\n      <th>5</th>\n      <td>6</td>\n      <td>NaN</td>\n      <td>K</td>\n      <td>NaN</td>\n      <td>DIFFUSE</td>\n      <td>CAFM</td>\n      <td>2021-01-12 14:34:00</td>\n      <td>LISTE DES GAMMES VALIDEES ML340 DMD0302-20 MAT...</td>\n    </tr>\n    <tr>\n      <th>6</th>\n      <td>7</td>\n      <td>NaN</td>\n      <td>K</td>\n      <td>NaN</td>\n      <td>DIFFUSE</td>\n      <td>CV</td>\n      <td>2021-01-12 14:39:00</td>\n      <td>GAMMES VALIDEES AUBERT &amp; DUVAL LES ANCIZES ML3...</td>\n    </tr>\n  </tbody>\n</table>\n</div>"
     },
     "execution_count": 1322,
     "metadata": {},
     "output_type": "execute_result"
    }
   ],
   "source": [
    "neptune_df.iloc[:2, :2] = \"...\"\n",
    "neptune_df.head()"
   ],
   "metadata": {
    "collapsed": false,
    "pycharm": {
     "name": "#%%\n"
    }
   }
  },
  {
   "cell_type": "code",
   "execution_count": 1323,
   "outputs": [
    {
     "data": {
      "text/plain": "     ID Pg AMN Indice Pg Doc Etat Doc. Famille  \\\n2   ...    ...      B    NaN   DIFFUSE     485   \n3   ...    ...      C    NaN   DIFFUSE      DT   \n4     5    NaN      J    NaN   DIFFUSE      DT   \n5     6    NaN      K    NaN   DIFFUSE    CAFM   \n6     7    NaN      K    NaN   DIFFUSE      CV   \n..  ...    ...    ...    ...       ...     ...   \n76   77    NaN      E    NaN   DIFFUSE     485   \n77   78    NaN     AK    NaN   DIFFUSE      DT   \n78   79    NaN      H    NaN   DIFFUSE      DT   \n79   80    NaN      A    NaN   DIFFUSE     MDD   \n80   81    NaN      J    NaN   DIFFUSE      DT   \n\n                                                Titre  \n2                      Éprouvette suivi fusion FA LBM  \n3   TECHNIQUES DE POSE DES CAPTEURS CAPACITIFS ET ...  \n4   TECHNIQUES DE BRANCHEMENT DES CONNECTEURS SPEC...  \n5   LISTE DES GAMMES VALIDEES ML340 DMD0302-20 MAT...  \n6   GAMMES VALIDEES AUBERT & DUVAL LES ANCIZES ML3...  \n..                                                ...  \n76  EPROUVETTE DE CISAILLEMENT VNOTCH TYPE ASTM D ...  \n77  Marquage des articles - Règles générales de ma...  \n78  TECHNIQUES DE POSE DE LA PRISE DES MSESURES DE...  \n79  Exigences techniques pour articles de fournitu...  \n80  TECHNIQUES DE BRANCHEMENT DES MESURES DE TEMPE...  \n\n[79 rows x 7 columns]",
      "text/html": "<div>\n<style scoped>\n    .dataframe tbody tr th:only-of-type {\n        vertical-align: middle;\n    }\n\n    .dataframe tbody tr th {\n        vertical-align: top;\n    }\n\n    .dataframe thead th {\n        text-align: right;\n    }\n</style>\n<table border=\"1\" class=\"dataframe\">\n  <thead>\n    <tr style=\"text-align: right;\">\n      <th></th>\n      <th>ID</th>\n      <th>Pg AMN</th>\n      <th>Indice</th>\n      <th>Pg Doc</th>\n      <th>Etat Doc.</th>\n      <th>Famille</th>\n      <th>Titre</th>\n    </tr>\n  </thead>\n  <tbody>\n    <tr>\n      <th>2</th>\n      <td>...</td>\n      <td>...</td>\n      <td>B</td>\n      <td>NaN</td>\n      <td>DIFFUSE</td>\n      <td>485</td>\n      <td>Éprouvette suivi fusion FA LBM</td>\n    </tr>\n    <tr>\n      <th>3</th>\n      <td>...</td>\n      <td>...</td>\n      <td>C</td>\n      <td>NaN</td>\n      <td>DIFFUSE</td>\n      <td>DT</td>\n      <td>TECHNIQUES DE POSE DES CAPTEURS CAPACITIFS ET ...</td>\n    </tr>\n    <tr>\n      <th>4</th>\n      <td>5</td>\n      <td>NaN</td>\n      <td>J</td>\n      <td>NaN</td>\n      <td>DIFFUSE</td>\n      <td>DT</td>\n      <td>TECHNIQUES DE BRANCHEMENT DES CONNECTEURS SPEC...</td>\n    </tr>\n    <tr>\n      <th>5</th>\n      <td>6</td>\n      <td>NaN</td>\n      <td>K</td>\n      <td>NaN</td>\n      <td>DIFFUSE</td>\n      <td>CAFM</td>\n      <td>LISTE DES GAMMES VALIDEES ML340 DMD0302-20 MAT...</td>\n    </tr>\n    <tr>\n      <th>6</th>\n      <td>7</td>\n      <td>NaN</td>\n      <td>K</td>\n      <td>NaN</td>\n      <td>DIFFUSE</td>\n      <td>CV</td>\n      <td>GAMMES VALIDEES AUBERT &amp; DUVAL LES ANCIZES ML3...</td>\n    </tr>\n    <tr>\n      <th>...</th>\n      <td>...</td>\n      <td>...</td>\n      <td>...</td>\n      <td>...</td>\n      <td>...</td>\n      <td>...</td>\n      <td>...</td>\n    </tr>\n    <tr>\n      <th>76</th>\n      <td>77</td>\n      <td>NaN</td>\n      <td>E</td>\n      <td>NaN</td>\n      <td>DIFFUSE</td>\n      <td>485</td>\n      <td>EPROUVETTE DE CISAILLEMENT VNOTCH TYPE ASTM D ...</td>\n    </tr>\n    <tr>\n      <th>77</th>\n      <td>78</td>\n      <td>NaN</td>\n      <td>AK</td>\n      <td>NaN</td>\n      <td>DIFFUSE</td>\n      <td>DT</td>\n      <td>Marquage des articles - Règles générales de ma...</td>\n    </tr>\n    <tr>\n      <th>78</th>\n      <td>79</td>\n      <td>NaN</td>\n      <td>H</td>\n      <td>NaN</td>\n      <td>DIFFUSE</td>\n      <td>DT</td>\n      <td>TECHNIQUES DE POSE DE LA PRISE DES MSESURES DE...</td>\n    </tr>\n    <tr>\n      <th>79</th>\n      <td>80</td>\n      <td>NaN</td>\n      <td>A</td>\n      <td>NaN</td>\n      <td>DIFFUSE</td>\n      <td>MDD</td>\n      <td>Exigences techniques pour articles de fournitu...</td>\n    </tr>\n    <tr>\n      <th>80</th>\n      <td>81</td>\n      <td>NaN</td>\n      <td>J</td>\n      <td>NaN</td>\n      <td>DIFFUSE</td>\n      <td>DT</td>\n      <td>TECHNIQUES DE BRANCHEMENT DES MESURES DE TEMPE...</td>\n    </tr>\n  </tbody>\n</table>\n<p>79 rows × 7 columns</p>\n</div>"
     },
     "execution_count": 1323,
     "metadata": {},
     "output_type": "execute_result"
    }
   ],
   "source": [
    "_:DataFrame = neptune_df.drop(columns=[\"Date\"])\n",
    "_"
   ],
   "metadata": {
    "collapsed": false,
    "pycharm": {
     "name": "#%%\n"
    }
   }
  },
  {
   "cell_type": "code",
   "execution_count": 1324,
   "outputs": [
    {
     "data": {
      "text/plain": "     ID Indice Etat Doc. Famille                 Date  \\\n2   ...      B   DIFFUSE     485  2021-01-06 10:51:00   \n3   ...      C   DIFFUSE      DT  2021-01-06 17:43:00   \n4     5      J   DIFFUSE      DT  2021-01-12 12:51:00   \n5     6      K   DIFFUSE    CAFM  2021-01-12 14:34:00   \n6     7      K   DIFFUSE      CV  2021-01-12 14:39:00   \n..  ...    ...       ...     ...                  ...   \n76   77      E   DIFFUSE     485  2021-04-06 14:31:00   \n77   78     AK   DIFFUSE      DT  2021-04-07 09:55:00   \n78   79      H   DIFFUSE      DT  2021-04-08 09:37:00   \n79   80      A   DIFFUSE     MDD  2021-04-13 18:35:00   \n80   81      J   DIFFUSE      DT  2021-04-14 14:02:00   \n\n                                                Titre  \n2                      Éprouvette suivi fusion FA LBM  \n3   TECHNIQUES DE POSE DES CAPTEURS CAPACITIFS ET ...  \n4   TECHNIQUES DE BRANCHEMENT DES CONNECTEURS SPEC...  \n5   LISTE DES GAMMES VALIDEES ML340 DMD0302-20 MAT...  \n6   GAMMES VALIDEES AUBERT & DUVAL LES ANCIZES ML3...  \n..                                                ...  \n76  EPROUVETTE DE CISAILLEMENT VNOTCH TYPE ASTM D ...  \n77  Marquage des articles - Règles générales de ma...  \n78  TECHNIQUES DE POSE DE LA PRISE DES MSESURES DE...  \n79  Exigences techniques pour articles de fournitu...  \n80  TECHNIQUES DE BRANCHEMENT DES MESURES DE TEMPE...  \n\n[79 rows x 6 columns]",
      "text/html": "<div>\n<style scoped>\n    .dataframe tbody tr th:only-of-type {\n        vertical-align: middle;\n    }\n\n    .dataframe tbody tr th {\n        vertical-align: top;\n    }\n\n    .dataframe thead th {\n        text-align: right;\n    }\n</style>\n<table border=\"1\" class=\"dataframe\">\n  <thead>\n    <tr style=\"text-align: right;\">\n      <th></th>\n      <th>ID</th>\n      <th>Indice</th>\n      <th>Etat Doc.</th>\n      <th>Famille</th>\n      <th>Date</th>\n      <th>Titre</th>\n    </tr>\n  </thead>\n  <tbody>\n    <tr>\n      <th>2</th>\n      <td>...</td>\n      <td>B</td>\n      <td>DIFFUSE</td>\n      <td>485</td>\n      <td>2021-01-06 10:51:00</td>\n      <td>Éprouvette suivi fusion FA LBM</td>\n    </tr>\n    <tr>\n      <th>3</th>\n      <td>...</td>\n      <td>C</td>\n      <td>DIFFUSE</td>\n      <td>DT</td>\n      <td>2021-01-06 17:43:00</td>\n      <td>TECHNIQUES DE POSE DES CAPTEURS CAPACITIFS ET ...</td>\n    </tr>\n    <tr>\n      <th>4</th>\n      <td>5</td>\n      <td>J</td>\n      <td>DIFFUSE</td>\n      <td>DT</td>\n      <td>2021-01-12 12:51:00</td>\n      <td>TECHNIQUES DE BRANCHEMENT DES CONNECTEURS SPEC...</td>\n    </tr>\n    <tr>\n      <th>5</th>\n      <td>6</td>\n      <td>K</td>\n      <td>DIFFUSE</td>\n      <td>CAFM</td>\n      <td>2021-01-12 14:34:00</td>\n      <td>LISTE DES GAMMES VALIDEES ML340 DMD0302-20 MAT...</td>\n    </tr>\n    <tr>\n      <th>6</th>\n      <td>7</td>\n      <td>K</td>\n      <td>DIFFUSE</td>\n      <td>CV</td>\n      <td>2021-01-12 14:39:00</td>\n      <td>GAMMES VALIDEES AUBERT &amp; DUVAL LES ANCIZES ML3...</td>\n    </tr>\n    <tr>\n      <th>...</th>\n      <td>...</td>\n      <td>...</td>\n      <td>...</td>\n      <td>...</td>\n      <td>...</td>\n      <td>...</td>\n    </tr>\n    <tr>\n      <th>76</th>\n      <td>77</td>\n      <td>E</td>\n      <td>DIFFUSE</td>\n      <td>485</td>\n      <td>2021-04-06 14:31:00</td>\n      <td>EPROUVETTE DE CISAILLEMENT VNOTCH TYPE ASTM D ...</td>\n    </tr>\n    <tr>\n      <th>77</th>\n      <td>78</td>\n      <td>AK</td>\n      <td>DIFFUSE</td>\n      <td>DT</td>\n      <td>2021-04-07 09:55:00</td>\n      <td>Marquage des articles - Règles générales de ma...</td>\n    </tr>\n    <tr>\n      <th>78</th>\n      <td>79</td>\n      <td>H</td>\n      <td>DIFFUSE</td>\n      <td>DT</td>\n      <td>2021-04-08 09:37:00</td>\n      <td>TECHNIQUES DE POSE DE LA PRISE DES MSESURES DE...</td>\n    </tr>\n    <tr>\n      <th>79</th>\n      <td>80</td>\n      <td>A</td>\n      <td>DIFFUSE</td>\n      <td>MDD</td>\n      <td>2021-04-13 18:35:00</td>\n      <td>Exigences techniques pour articles de fournitu...</td>\n    </tr>\n    <tr>\n      <th>80</th>\n      <td>81</td>\n      <td>J</td>\n      <td>DIFFUSE</td>\n      <td>DT</td>\n      <td>2021-04-14 14:02:00</td>\n      <td>TECHNIQUES DE BRANCHEMENT DES MESURES DE TEMPE...</td>\n    </tr>\n  </tbody>\n</table>\n<p>79 rows × 6 columns</p>\n</div>"
     },
     "execution_count": 1324,
     "metadata": {},
     "output_type": "execute_result"
    }
   ],
   "source": [
    "_:DataFrame = neptune_df.drop(columns=[\"Pg Doc\", \"Pg AMN\"])\n",
    "_"
   ],
   "metadata": {
    "collapsed": false,
    "pycharm": {
     "name": "#%%\n"
    }
   }
  },
  {
   "cell_type": "code",
   "execution_count": 1325,
   "outputs": [
    {
     "data": {
      "text/plain": "    ID Pg AMN Indice Pg Doc Etat Doc. Famille                 Date  \\\n4    5    NaN      J    NaN   DIFFUSE      DT  2021-01-12 12:51:00   \n5    6    NaN      K    NaN   DIFFUSE    CAFM  2021-01-12 14:34:00   \n6    7    NaN      K    NaN   DIFFUSE      CV  2021-01-12 14:39:00   \n7    8    NaN     AS    NaN   DIFFUSE    CAFM  2021-01-13 08:08:00   \n8    9    NaN      K    NaN   DIFFUSE      CV  2021-01-13 08:11:00   \n..  ..    ...    ...    ...       ...     ...                  ...   \n76  77    NaN      E    NaN   DIFFUSE     485  2021-04-06 14:31:00   \n77  78    NaN     AK    NaN   DIFFUSE      DT  2021-04-07 09:55:00   \n78  79    NaN      H    NaN   DIFFUSE      DT  2021-04-08 09:37:00   \n79  80    NaN      A    NaN   DIFFUSE     MDD  2021-04-13 18:35:00   \n80  81    NaN      J    NaN   DIFFUSE      DT  2021-04-14 14:02:00   \n\n                                                Titre  \n4   TECHNIQUES DE BRANCHEMENT DES CONNECTEURS SPEC...  \n5   LISTE DES GAMMES VALIDEES ML340 DMD0302-20 MAT...  \n6   GAMMES VALIDEES AUBERT & DUVAL LES ANCIZES ML3...  \n7   LISTE DES GAMMES VALIDEES RENE 125 DMD0429-32 ...  \n8   GAMMES VALIDEES CANNON MUSKEGON RENE 125 DMD04...  \n..                                                ...  \n76  EPROUVETTE DE CISAILLEMENT VNOTCH TYPE ASTM D ...  \n77  Marquage des articles - Règles générales de ma...  \n78  TECHNIQUES DE POSE DE LA PRISE DES MSESURES DE...  \n79  Exigences techniques pour articles de fournitu...  \n80  TECHNIQUES DE BRANCHEMENT DES MESURES DE TEMPE...  \n\n[77 rows x 8 columns]",
      "text/html": "<div>\n<style scoped>\n    .dataframe tbody tr th:only-of-type {\n        vertical-align: middle;\n    }\n\n    .dataframe tbody tr th {\n        vertical-align: top;\n    }\n\n    .dataframe thead th {\n        text-align: right;\n    }\n</style>\n<table border=\"1\" class=\"dataframe\">\n  <thead>\n    <tr style=\"text-align: right;\">\n      <th></th>\n      <th>ID</th>\n      <th>Pg AMN</th>\n      <th>Indice</th>\n      <th>Pg Doc</th>\n      <th>Etat Doc.</th>\n      <th>Famille</th>\n      <th>Date</th>\n      <th>Titre</th>\n    </tr>\n  </thead>\n  <tbody>\n    <tr>\n      <th>4</th>\n      <td>5</td>\n      <td>NaN</td>\n      <td>J</td>\n      <td>NaN</td>\n      <td>DIFFUSE</td>\n      <td>DT</td>\n      <td>2021-01-12 12:51:00</td>\n      <td>TECHNIQUES DE BRANCHEMENT DES CONNECTEURS SPEC...</td>\n    </tr>\n    <tr>\n      <th>5</th>\n      <td>6</td>\n      <td>NaN</td>\n      <td>K</td>\n      <td>NaN</td>\n      <td>DIFFUSE</td>\n      <td>CAFM</td>\n      <td>2021-01-12 14:34:00</td>\n      <td>LISTE DES GAMMES VALIDEES ML340 DMD0302-20 MAT...</td>\n    </tr>\n    <tr>\n      <th>6</th>\n      <td>7</td>\n      <td>NaN</td>\n      <td>K</td>\n      <td>NaN</td>\n      <td>DIFFUSE</td>\n      <td>CV</td>\n      <td>2021-01-12 14:39:00</td>\n      <td>GAMMES VALIDEES AUBERT &amp; DUVAL LES ANCIZES ML3...</td>\n    </tr>\n    <tr>\n      <th>7</th>\n      <td>8</td>\n      <td>NaN</td>\n      <td>AS</td>\n      <td>NaN</td>\n      <td>DIFFUSE</td>\n      <td>CAFM</td>\n      <td>2021-01-13 08:08:00</td>\n      <td>LISTE DES GAMMES VALIDEES RENE 125 DMD0429-32 ...</td>\n    </tr>\n    <tr>\n      <th>8</th>\n      <td>9</td>\n      <td>NaN</td>\n      <td>K</td>\n      <td>NaN</td>\n      <td>DIFFUSE</td>\n      <td>CV</td>\n      <td>2021-01-13 08:11:00</td>\n      <td>GAMMES VALIDEES CANNON MUSKEGON RENE 125 DMD04...</td>\n    </tr>\n    <tr>\n      <th>...</th>\n      <td>...</td>\n      <td>...</td>\n      <td>...</td>\n      <td>...</td>\n      <td>...</td>\n      <td>...</td>\n      <td>...</td>\n      <td>...</td>\n    </tr>\n    <tr>\n      <th>76</th>\n      <td>77</td>\n      <td>NaN</td>\n      <td>E</td>\n      <td>NaN</td>\n      <td>DIFFUSE</td>\n      <td>485</td>\n      <td>2021-04-06 14:31:00</td>\n      <td>EPROUVETTE DE CISAILLEMENT VNOTCH TYPE ASTM D ...</td>\n    </tr>\n    <tr>\n      <th>77</th>\n      <td>78</td>\n      <td>NaN</td>\n      <td>AK</td>\n      <td>NaN</td>\n      <td>DIFFUSE</td>\n      <td>DT</td>\n      <td>2021-04-07 09:55:00</td>\n      <td>Marquage des articles - Règles générales de ma...</td>\n    </tr>\n    <tr>\n      <th>78</th>\n      <td>79</td>\n      <td>NaN</td>\n      <td>H</td>\n      <td>NaN</td>\n      <td>DIFFUSE</td>\n      <td>DT</td>\n      <td>2021-04-08 09:37:00</td>\n      <td>TECHNIQUES DE POSE DE LA PRISE DES MSESURES DE...</td>\n    </tr>\n    <tr>\n      <th>79</th>\n      <td>80</td>\n      <td>NaN</td>\n      <td>A</td>\n      <td>NaN</td>\n      <td>DIFFUSE</td>\n      <td>MDD</td>\n      <td>2021-04-13 18:35:00</td>\n      <td>Exigences techniques pour articles de fournitu...</td>\n    </tr>\n    <tr>\n      <th>80</th>\n      <td>81</td>\n      <td>NaN</td>\n      <td>J</td>\n      <td>NaN</td>\n      <td>DIFFUSE</td>\n      <td>DT</td>\n      <td>2021-04-14 14:02:00</td>\n      <td>TECHNIQUES DE BRANCHEMENT DES MESURES DE TEMPE...</td>\n    </tr>\n  </tbody>\n</table>\n<p>77 rows × 8 columns</p>\n</div>"
     },
     "execution_count": 1325,
     "metadata": {},
     "output_type": "execute_result"
    }
   ],
   "source": [
    "_:DataFrame = neptune_df.drop([2, 3])\n",
    "_"
   ],
   "metadata": {
    "collapsed": false,
    "pycharm": {
     "name": "#%%\n"
    }
   }
  },
  {
   "cell_type": "code",
   "execution_count": 1326,
   "outputs": [
    {
     "data": {
      "text/plain": "count    5.000000\nmean     3.000000\nstd      1.581139\nmin      1.000000\n25%      2.000000\n50%      3.000000\n75%      4.000000\nmax      5.000000\nName: ID, dtype: float64"
     },
     "execution_count": 1326,
     "metadata": {},
     "output_type": "execute_result"
    }
   ],
   "source": [
    "neptune_df_5[\"ID\"].describe()"
   ],
   "metadata": {
    "collapsed": false,
    "pycharm": {
     "name": "#%%\n"
    }
   }
  },
  {
   "cell_type": "code",
   "execution_count": 1327,
   "outputs": [
    {
     "data": {
      "text/plain": "Timestamp('2021-05-08 00:58:26.200000')"
     },
     "execution_count": 1327,
     "metadata": {},
     "output_type": "execute_result"
    }
   ],
   "source": [
    "neptune_df_5[\"Date import\"].mean()"
   ],
   "metadata": {
    "collapsed": false,
    "pycharm": {
     "name": "#%%\n"
    }
   }
  },
  {
   "cell_type": "code",
   "execution_count": 1328,
   "outputs": [
    {
     "data": {
      "text/plain": "          Date import Référence  ID  Pg AMN Indice  Pg Doc Etat Doc. Famille  \\\n0 2021-05-28 22:27:08       ...   1     NaN    ...     NaN       ...     ...   \n1 2021-05-28 22:27:11       ...   2     NaN    ...     NaN       ...     ...   \n2 2021-04-19 15:51:06       ...   3     NaN      B     NaN   DIFFUSE     485   \n3 2021-04-26 08:03:23       ...   4     NaN      C     NaN   DIFFUSE      DT   \n4 2021-04-26 08:03:23       ...   5     NaN      J     NaN   DIFFUSE      DT   \n\n                 Date                                              Titre  \\\n0 2021-01-05 09:08:00                                                ...   \n1 2021-01-05 09:12:00                                                ...   \n2 2021-01-06 10:51:00                     Éprouvette suivi fusion FA LBM   \n3 2021-01-06 17:43:00  TECHNIQUES DE POSE DES CAPTEURS CAPACITIFS ET ...   \n4 2021-01-12 12:51:00  TECHNIQUES DE BRANCHEMENT DES CONNECTEURS SPEC...   \n\n   ID negatif  \n0          -1  \n1          -2  \n2          -3  \n3          -4  \n4          -5  ",
      "text/html": "<div>\n<style scoped>\n    .dataframe tbody tr th:only-of-type {\n        vertical-align: middle;\n    }\n\n    .dataframe tbody tr th {\n        vertical-align: top;\n    }\n\n    .dataframe thead th {\n        text-align: right;\n    }\n</style>\n<table border=\"1\" class=\"dataframe\">\n  <thead>\n    <tr style=\"text-align: right;\">\n      <th></th>\n      <th>Date import</th>\n      <th>Référence</th>\n      <th>ID</th>\n      <th>Pg AMN</th>\n      <th>Indice</th>\n      <th>Pg Doc</th>\n      <th>Etat Doc.</th>\n      <th>Famille</th>\n      <th>Date</th>\n      <th>Titre</th>\n      <th>ID negatif</th>\n    </tr>\n  </thead>\n  <tbody>\n    <tr>\n      <th>0</th>\n      <td>2021-05-28 22:27:08</td>\n      <td>...</td>\n      <td>1</td>\n      <td>NaN</td>\n      <td>...</td>\n      <td>NaN</td>\n      <td>...</td>\n      <td>...</td>\n      <td>2021-01-05 09:08:00</td>\n      <td>...</td>\n      <td>-1</td>\n    </tr>\n    <tr>\n      <th>1</th>\n      <td>2021-05-28 22:27:11</td>\n      <td>...</td>\n      <td>2</td>\n      <td>NaN</td>\n      <td>...</td>\n      <td>NaN</td>\n      <td>...</td>\n      <td>...</td>\n      <td>2021-01-05 09:12:00</td>\n      <td>...</td>\n      <td>-2</td>\n    </tr>\n    <tr>\n      <th>2</th>\n      <td>2021-04-19 15:51:06</td>\n      <td>...</td>\n      <td>3</td>\n      <td>NaN</td>\n      <td>B</td>\n      <td>NaN</td>\n      <td>DIFFUSE</td>\n      <td>485</td>\n      <td>2021-01-06 10:51:00</td>\n      <td>Éprouvette suivi fusion FA LBM</td>\n      <td>-3</td>\n    </tr>\n    <tr>\n      <th>3</th>\n      <td>2021-04-26 08:03:23</td>\n      <td>...</td>\n      <td>4</td>\n      <td>NaN</td>\n      <td>C</td>\n      <td>NaN</td>\n      <td>DIFFUSE</td>\n      <td>DT</td>\n      <td>2021-01-06 17:43:00</td>\n      <td>TECHNIQUES DE POSE DES CAPTEURS CAPACITIFS ET ...</td>\n      <td>-4</td>\n    </tr>\n    <tr>\n      <th>4</th>\n      <td>2021-04-26 08:03:23</td>\n      <td>...</td>\n      <td>5</td>\n      <td>NaN</td>\n      <td>J</td>\n      <td>NaN</td>\n      <td>DIFFUSE</td>\n      <td>DT</td>\n      <td>2021-01-12 12:51:00</td>\n      <td>TECHNIQUES DE BRANCHEMENT DES CONNECTEURS SPEC...</td>\n      <td>-5</td>\n    </tr>\n  </tbody>\n</table>\n</div>"
     },
     "execution_count": 1328,
     "metadata": {},
     "output_type": "execute_result"
    }
   ],
   "source": [
    "new_neptune_df = neptune_df_5\n",
    "new_neptune_df[\"ID negatif\"] = -1 * new_neptune_df[\"ID\"]\n",
    "new_neptune_df"
   ],
   "metadata": {
    "collapsed": false,
    "pycharm": {
     "name": "#%%\n"
    }
   }
  },
  {
   "cell_type": "code",
   "execution_count": 1329,
   "outputs": [],
   "source": [
    "new_neptune_df[\"ID negatif\"] = 1"
   ],
   "metadata": {
    "collapsed": false,
    "pycharm": {
     "name": "#%%\n"
    }
   }
  },
  {
   "cell_type": "code",
   "execution_count": 1330,
   "outputs": [
    {
     "data": {
      "text/plain": "          Date import Référence  ID  Pg AMN Indice  Pg Doc Etat Doc. Famille  \\\n0 2021-05-28 22:27:08       ...   1     NaN    ...     NaN       ...     ...   \n1 2021-05-28 22:27:11       ...   2     NaN    ...     NaN       ...     ...   \n2 2021-04-19 15:51:06       ...   3     NaN      B     NaN   DIFFUSE     485   \n3 2021-04-26 08:03:23       ...   4     NaN      C     NaN   DIFFUSE      DT   \n4 2021-04-26 08:03:23       ...   5     NaN      J     NaN   DIFFUSE      DT   \n\n                 Date                                              Titre  \\\n0 2021-01-05 09:08:00                                                ...   \n1 2021-01-05 09:12:00                                                ...   \n2 2021-01-06 10:51:00                     Éprouvette suivi fusion FA LBM   \n3 2021-01-06 17:43:00  TECHNIQUES DE POSE DES CAPTEURS CAPACITIFS ET ...   \n4 2021-01-12 12:51:00  TECHNIQUES DE BRANCHEMENT DES CONNECTEURS SPEC...   \n\n   ID negatif   timestamp  \n0           1  1609.83768  \n1           1  1609.83792  \n2           1  1609.93026  \n3           1  1609.95498  \n4           1  1610.45586  ",
      "text/html": "<div>\n<style scoped>\n    .dataframe tbody tr th:only-of-type {\n        vertical-align: middle;\n    }\n\n    .dataframe tbody tr th {\n        vertical-align: top;\n    }\n\n    .dataframe thead th {\n        text-align: right;\n    }\n</style>\n<table border=\"1\" class=\"dataframe\">\n  <thead>\n    <tr style=\"text-align: right;\">\n      <th></th>\n      <th>Date import</th>\n      <th>Référence</th>\n      <th>ID</th>\n      <th>Pg AMN</th>\n      <th>Indice</th>\n      <th>Pg Doc</th>\n      <th>Etat Doc.</th>\n      <th>Famille</th>\n      <th>Date</th>\n      <th>Titre</th>\n      <th>ID negatif</th>\n      <th>timestamp</th>\n    </tr>\n  </thead>\n  <tbody>\n    <tr>\n      <th>0</th>\n      <td>2021-05-28 22:27:08</td>\n      <td>...</td>\n      <td>1</td>\n      <td>NaN</td>\n      <td>...</td>\n      <td>NaN</td>\n      <td>...</td>\n      <td>...</td>\n      <td>2021-01-05 09:08:00</td>\n      <td>...</td>\n      <td>1</td>\n      <td>1609.83768</td>\n    </tr>\n    <tr>\n      <th>1</th>\n      <td>2021-05-28 22:27:11</td>\n      <td>...</td>\n      <td>2</td>\n      <td>NaN</td>\n      <td>...</td>\n      <td>NaN</td>\n      <td>...</td>\n      <td>...</td>\n      <td>2021-01-05 09:12:00</td>\n      <td>...</td>\n      <td>1</td>\n      <td>1609.83792</td>\n    </tr>\n    <tr>\n      <th>2</th>\n      <td>2021-04-19 15:51:06</td>\n      <td>...</td>\n      <td>3</td>\n      <td>NaN</td>\n      <td>B</td>\n      <td>NaN</td>\n      <td>DIFFUSE</td>\n      <td>485</td>\n      <td>2021-01-06 10:51:00</td>\n      <td>Éprouvette suivi fusion FA LBM</td>\n      <td>1</td>\n      <td>1609.93026</td>\n    </tr>\n    <tr>\n      <th>3</th>\n      <td>2021-04-26 08:03:23</td>\n      <td>...</td>\n      <td>4</td>\n      <td>NaN</td>\n      <td>C</td>\n      <td>NaN</td>\n      <td>DIFFUSE</td>\n      <td>DT</td>\n      <td>2021-01-06 17:43:00</td>\n      <td>TECHNIQUES DE POSE DES CAPTEURS CAPACITIFS ET ...</td>\n      <td>1</td>\n      <td>1609.95498</td>\n    </tr>\n    <tr>\n      <th>4</th>\n      <td>2021-04-26 08:03:23</td>\n      <td>...</td>\n      <td>5</td>\n      <td>NaN</td>\n      <td>J</td>\n      <td>NaN</td>\n      <td>DIFFUSE</td>\n      <td>DT</td>\n      <td>2021-01-12 12:51:00</td>\n      <td>TECHNIQUES DE BRANCHEMENT DES CONNECTEURS SPEC...</td>\n      <td>1</td>\n      <td>1610.45586</td>\n    </tr>\n  </tbody>\n</table>\n</div>"
     },
     "execution_count": 1330,
     "metadata": {},
     "output_type": "execute_result"
    }
   ],
   "source": [
    "new_neptune_df[\"timestamp\"] = new_neptune_df[\"Date\"].apply(lambda x:x.timestamp()) / 1_000_000\n",
    "new_neptune_df"
   ],
   "metadata": {
    "collapsed": false,
    "pycharm": {
     "name": "#%%\n"
    }
   }
  },
  {
   "cell_type": "code",
   "execution_count": 1331,
   "outputs": [
    {
     "data": {
      "text/plain": "0    [111, AAA]\n1    [111, AAA]\n2    [111, AAA]\n3    [111, AAA]\n4    [111, AAA]\nName: Date, dtype: object"
     },
     "execution_count": 1331,
     "metadata": {},
     "output_type": "execute_result"
    }
   ],
   "source": [
    "new_neptune_df[\"Date\"].apply(lambda x:[111, \"AAA\"])"
   ],
   "metadata": {
    "collapsed": false,
    "pycharm": {
     "name": "#%%\n"
    }
   }
  },
  {
   "cell_type": "code",
   "execution_count": 1332,
   "outputs": [
    {
     "data": {
      "text/plain": "  Date import Référence   ID Pg AMN Indice Pg Doc Etat Doc. Famille Date  \\\n0         111       111  111    111    111    111       111     111  111   \n1         AAA       AAA  AAA    AAA    AAA    AAA       AAA     AAA  AAA   \n\n  Titre ID negatif timestamp  \n0   111        111       111  \n1   AAA        AAA       AAA  ",
      "text/html": "<div>\n<style scoped>\n    .dataframe tbody tr th:only-of-type {\n        vertical-align: middle;\n    }\n\n    .dataframe tbody tr th {\n        vertical-align: top;\n    }\n\n    .dataframe thead th {\n        text-align: right;\n    }\n</style>\n<table border=\"1\" class=\"dataframe\">\n  <thead>\n    <tr style=\"text-align: right;\">\n      <th></th>\n      <th>Date import</th>\n      <th>Référence</th>\n      <th>ID</th>\n      <th>Pg AMN</th>\n      <th>Indice</th>\n      <th>Pg Doc</th>\n      <th>Etat Doc.</th>\n      <th>Famille</th>\n      <th>Date</th>\n      <th>Titre</th>\n      <th>ID negatif</th>\n      <th>timestamp</th>\n    </tr>\n  </thead>\n  <tbody>\n    <tr>\n      <th>0</th>\n      <td>111</td>\n      <td>111</td>\n      <td>111</td>\n      <td>111</td>\n      <td>111</td>\n      <td>111</td>\n      <td>111</td>\n      <td>111</td>\n      <td>111</td>\n      <td>111</td>\n      <td>111</td>\n      <td>111</td>\n    </tr>\n    <tr>\n      <th>1</th>\n      <td>AAA</td>\n      <td>AAA</td>\n      <td>AAA</td>\n      <td>AAA</td>\n      <td>AAA</td>\n      <td>AAA</td>\n      <td>AAA</td>\n      <td>AAA</td>\n      <td>AAA</td>\n      <td>AAA</td>\n      <td>AAA</td>\n      <td>AAA</td>\n    </tr>\n  </tbody>\n</table>\n</div>"
     },
     "execution_count": 1332,
     "metadata": {},
     "output_type": "execute_result"
    }
   ],
   "source": [
    "new_neptune_df.apply(lambda x:[111, \"AAA\"], result_type='expand')"
   ],
   "metadata": {
    "collapsed": false,
    "pycharm": {
     "name": "#%%\n"
    }
   }
  },
  {
   "cell_type": "code",
   "execution_count": 1333,
   "outputs": [
    {
     "data": {
      "text/plain": "             ID\ncount  5.000000\nmean   3.000000\nstd    1.581139\nmin    1.000000\n25%    2.000000\n50%    3.000000\n75%    4.000000\nmax    5.000000",
      "text/html": "<div>\n<style scoped>\n    .dataframe tbody tr th:only-of-type {\n        vertical-align: middle;\n    }\n\n    .dataframe tbody tr th {\n        vertical-align: top;\n    }\n\n    .dataframe thead th {\n        text-align: right;\n    }\n</style>\n<table border=\"1\" class=\"dataframe\">\n  <thead>\n    <tr style=\"text-align: right;\">\n      <th></th>\n      <th>ID</th>\n    </tr>\n  </thead>\n  <tbody>\n    <tr>\n      <th>count</th>\n      <td>5.000000</td>\n    </tr>\n    <tr>\n      <th>mean</th>\n      <td>3.000000</td>\n    </tr>\n    <tr>\n      <th>std</th>\n      <td>1.581139</td>\n    </tr>\n    <tr>\n      <th>min</th>\n      <td>1.000000</td>\n    </tr>\n    <tr>\n      <th>25%</th>\n      <td>2.000000</td>\n    </tr>\n    <tr>\n      <th>50%</th>\n      <td>3.000000</td>\n    </tr>\n    <tr>\n      <th>75%</th>\n      <td>4.000000</td>\n    </tr>\n    <tr>\n      <th>max</th>\n      <td>5.000000</td>\n    </tr>\n  </tbody>\n</table>\n</div>"
     },
     "execution_count": 1333,
     "metadata": {},
     "output_type": "execute_result"
    }
   ],
   "source": [
    "new_neptune_df[[\"Date\", \"ID\"]].describe()"
   ],
   "metadata": {
    "collapsed": false,
    "pycharm": {
     "name": "#%%\n"
    }
   }
  },
  {
   "cell_type": "code",
   "execution_count": 1334,
   "outputs": [
    {
     "name": "stderr",
     "output_type": "stream",
     "text": [
      "<ipython-input-1334-10f8e39d458d>:1: FutureWarning: Treating datetime data as categorical rather than numeric in `.describe` is deprecated and will be removed in a future version of pandas. Specify `datetime_is_numeric=True` to silence this warning and adopt the future behavior now.\n",
      "  new_neptune_df[[\"Date import\", \"Date\"]].describe()\n"
     ]
    },
    {
     "data": {
      "text/plain": "                Date import                 Date\ncount                     5                    5\nunique                    4                    5\ntop     2021-04-26 08:03:23  2021-01-05 09:08:00\nfreq                      2                    1\nfirst   2021-04-19 15:51:06  2021-01-05 09:08:00\nlast    2021-05-28 22:27:11  2021-01-12 12:51:00",
      "text/html": "<div>\n<style scoped>\n    .dataframe tbody tr th:only-of-type {\n        vertical-align: middle;\n    }\n\n    .dataframe tbody tr th {\n        vertical-align: top;\n    }\n\n    .dataframe thead th {\n        text-align: right;\n    }\n</style>\n<table border=\"1\" class=\"dataframe\">\n  <thead>\n    <tr style=\"text-align: right;\">\n      <th></th>\n      <th>Date import</th>\n      <th>Date</th>\n    </tr>\n  </thead>\n  <tbody>\n    <tr>\n      <th>count</th>\n      <td>5</td>\n      <td>5</td>\n    </tr>\n    <tr>\n      <th>unique</th>\n      <td>4</td>\n      <td>5</td>\n    </tr>\n    <tr>\n      <th>top</th>\n      <td>2021-04-26 08:03:23</td>\n      <td>2021-01-05 09:08:00</td>\n    </tr>\n    <tr>\n      <th>freq</th>\n      <td>2</td>\n      <td>1</td>\n    </tr>\n    <tr>\n      <th>first</th>\n      <td>2021-04-19 15:51:06</td>\n      <td>2021-01-05 09:08:00</td>\n    </tr>\n    <tr>\n      <th>last</th>\n      <td>2021-05-28 22:27:11</td>\n      <td>2021-01-12 12:51:00</td>\n    </tr>\n  </tbody>\n</table>\n</div>"
     },
     "execution_count": 1334,
     "metadata": {},
     "output_type": "execute_result"
    }
   ],
   "source": [
    "new_neptune_df[[\"Date import\", \"Date\"]].describe()"
   ],
   "metadata": {
    "collapsed": false,
    "pycharm": {
     "name": "#%%\n"
    }
   }
  },
  {
   "cell_type": "code",
   "execution_count": 1335,
   "outputs": [],
   "source": [
    "# new_neptune_df[[\"Date Import\", \"Date\"]]"
   ],
   "metadata": {
    "collapsed": false,
    "pycharm": {
     "name": "#%%\n"
    }
   }
  },
  {
   "cell_type": "code",
   "execution_count": 1336,
   "outputs": [
    {
     "data": {
      "text/plain": "             ID    timestamp\ncount  5.000000     5.000000\nmean   3.000000  1610.003340\nstd    1.581139     0.258486\nmin    1.000000  1609.837680\n25%    2.000000  1609.837920\n50%    3.000000  1609.930260\n75%    4.000000  1609.954980\nmax    5.000000  1610.455860",
      "text/html": "<div>\n<style scoped>\n    .dataframe tbody tr th:only-of-type {\n        vertical-align: middle;\n    }\n\n    .dataframe tbody tr th {\n        vertical-align: top;\n    }\n\n    .dataframe thead th {\n        text-align: right;\n    }\n</style>\n<table border=\"1\" class=\"dataframe\">\n  <thead>\n    <tr style=\"text-align: right;\">\n      <th></th>\n      <th>ID</th>\n      <th>timestamp</th>\n    </tr>\n  </thead>\n  <tbody>\n    <tr>\n      <th>count</th>\n      <td>5.000000</td>\n      <td>5.000000</td>\n    </tr>\n    <tr>\n      <th>mean</th>\n      <td>3.000000</td>\n      <td>1610.003340</td>\n    </tr>\n    <tr>\n      <th>std</th>\n      <td>1.581139</td>\n      <td>0.258486</td>\n    </tr>\n    <tr>\n      <th>min</th>\n      <td>1.000000</td>\n      <td>1609.837680</td>\n    </tr>\n    <tr>\n      <th>25%</th>\n      <td>2.000000</td>\n      <td>1609.837920</td>\n    </tr>\n    <tr>\n      <th>50%</th>\n      <td>3.000000</td>\n      <td>1609.930260</td>\n    </tr>\n    <tr>\n      <th>75%</th>\n      <td>4.000000</td>\n      <td>1609.954980</td>\n    </tr>\n    <tr>\n      <th>max</th>\n      <td>5.000000</td>\n      <td>1610.455860</td>\n    </tr>\n  </tbody>\n</table>\n</div>"
     },
     "execution_count": 1336,
     "metadata": {},
     "output_type": "execute_result"
    }
   ],
   "source": [
    "new_neptune_df[[\"ID\", \"timestamp\"]].describe()"
   ],
   "metadata": {
    "collapsed": false,
    "pycharm": {
     "name": "#%%\n"
    }
   }
  },
  {
   "cell_type": "code",
   "execution_count": 1337,
   "outputs": [
    {
     "data": {
      "text/plain": "ID              3.00000\ntimestamp    1610.00334\ndtype: float64"
     },
     "execution_count": 1337,
     "metadata": {},
     "output_type": "execute_result"
    }
   ],
   "source": [
    "new_neptune_df[[\"ID\", \"timestamp\"]].mean()"
   ],
   "metadata": {
    "collapsed": false,
    "pycharm": {
     "name": "#%%\n"
    }
   }
  },
  {
   "cell_type": "code",
   "execution_count": 1338,
   "outputs": [
    {
     "data": {
      "text/plain": "ID              3.00000\ntimestamp    1609.93026\ndtype: float64"
     },
     "execution_count": 1338,
     "metadata": {},
     "output_type": "execute_result"
    }
   ],
   "source": [
    "new_neptune_df[[\"ID\", \"timestamp\"]].median()"
   ],
   "metadata": {
    "collapsed": false,
    "pycharm": {
     "name": "#%%\n"
    }
   }
  },
  {
   "cell_type": "code",
   "execution_count": 1339,
   "outputs": [
    {
     "data": {
      "text/plain": "          timestamp\nmin     1609.837680\nmax     1610.455860\nmedian  1609.930260\nskew       2.004546",
      "text/html": "<div>\n<style scoped>\n    .dataframe tbody tr th:only-of-type {\n        vertical-align: middle;\n    }\n\n    .dataframe tbody tr th {\n        vertical-align: top;\n    }\n\n    .dataframe thead th {\n        text-align: right;\n    }\n</style>\n<table border=\"1\" class=\"dataframe\">\n  <thead>\n    <tr style=\"text-align: right;\">\n      <th></th>\n      <th>timestamp</th>\n    </tr>\n  </thead>\n  <tbody>\n    <tr>\n      <th>min</th>\n      <td>1609.837680</td>\n    </tr>\n    <tr>\n      <th>max</th>\n      <td>1610.455860</td>\n    </tr>\n    <tr>\n      <th>median</th>\n      <td>1609.930260</td>\n    </tr>\n    <tr>\n      <th>skew</th>\n      <td>2.004546</td>\n    </tr>\n  </tbody>\n</table>\n</div>"
     },
     "execution_count": 1339,
     "metadata": {},
     "output_type": "execute_result"
    }
   ],
   "source": [
    "new_neptune_df.agg({\"timestamp\": [\"min\", \"max\", \"median\", \"skew\"]})"
   ],
   "metadata": {
    "collapsed": false,
    "pycharm": {
     "name": "#%%\n"
    }
   }
  },
  {
   "cell_type": "code",
   "execution_count": 1342,
   "outputs": [
    {
     "data": {
      "text/plain": "          timestamp\nmin     1609.837680\nmax     1610.455860\nmedian  1609.930260\nskew       2.004546",
      "text/html": "<div>\n<style scoped>\n    .dataframe tbody tr th:only-of-type {\n        vertical-align: middle;\n    }\n\n    .dataframe tbody tr th {\n        vertical-align: top;\n    }\n\n    .dataframe thead th {\n        text-align: right;\n    }\n</style>\n<table border=\"1\" class=\"dataframe\">\n  <thead>\n    <tr style=\"text-align: right;\">\n      <th></th>\n      <th>timestamp</th>\n    </tr>\n  </thead>\n  <tbody>\n    <tr>\n      <th>min</th>\n      <td>1609.837680</td>\n    </tr>\n    <tr>\n      <th>max</th>\n      <td>1610.455860</td>\n    </tr>\n    <tr>\n      <th>median</th>\n      <td>1609.930260</td>\n    </tr>\n    <tr>\n      <th>skew</th>\n      <td>2.004546</td>\n    </tr>\n  </tbody>\n</table>\n</div>"
     },
     "execution_count": 1342,
     "metadata": {},
     "output_type": "execute_result"
    }
   ],
   "source": [
    "new_neptune_df.agg({\"timestamp\": [\"min\", \"max\", \"median\", \"skew\"]})"
   ],
   "metadata": {
    "collapsed": false,
    "pycharm": {
     "name": "#%%\n"
    }
   }
  },
  {
   "cell_type": "code",
   "execution_count": 1348,
   "outputs": [
    {
     "data": {
      "text/plain": "42.8"
     },
     "execution_count": 1348,
     "metadata": {},
     "output_type": "execute_result"
    }
   ],
   "source": [
    "data_frame_A[\"Age\"].mean()"
   ],
   "metadata": {
    "collapsed": false,
    "pycharm": {
     "name": "#%%\n"
    }
   }
  },
  {
   "cell_type": "code",
   "execution_count": 1350,
   "outputs": [
    {
     "data": {
      "text/plain": "         Age\nSex         \nfemale  35.0\nmale    48.0",
      "text/html": "<div>\n<style scoped>\n    .dataframe tbody tr th:only-of-type {\n        vertical-align: middle;\n    }\n\n    .dataframe tbody tr th {\n        vertical-align: top;\n    }\n\n    .dataframe thead th {\n        text-align: right;\n    }\n</style>\n<table border=\"1\" class=\"dataframe\">\n  <thead>\n    <tr style=\"text-align: right;\">\n      <th></th>\n      <th>Age</th>\n    </tr>\n    <tr>\n      <th>Sex</th>\n      <th></th>\n    </tr>\n  </thead>\n  <tbody>\n    <tr>\n      <th>female</th>\n      <td>35.0</td>\n    </tr>\n    <tr>\n      <th>male</th>\n      <td>48.0</td>\n    </tr>\n  </tbody>\n</table>\n</div>"
     },
     "execution_count": 1350,
     "metadata": {},
     "output_type": "execute_result"
    }
   ],
   "source": [
    "data_frame_A.groupby(\"Sex\").mean()"
   ],
   "metadata": {
    "collapsed": false,
    "pycharm": {
     "name": "#%%\n"
    }
   }
  },
  {
   "cell_type": "code",
   "execution_count": 1343,
   "outputs": [
    {
     "data": {
      "text/plain": "Sex\nfemale    35.0\nmale      48.0\nName: Age, dtype: float64"
     },
     "execution_count": 1343,
     "metadata": {},
     "output_type": "execute_result"
    }
   ],
   "source": [
    "data_frame_A.groupby(\"Sex\")[\"Age\"].mean()"
   ],
   "metadata": {
    "collapsed": false,
    "pycharm": {
     "name": "#%%\n"
    }
   }
  },
  {
   "cell_type": "code",
   "execution_count": null,
   "outputs": [],
   "source": [
    "https://pandas.pydata.org/docs/reference/api/pandas.DataFrame.astype.html\n",
    "pd.date_range(start=\"2018-09-09\", end=\"2020-02-02\").to_pydatetime().tolist()"
   ],
   "metadata": {
    "collapsed": false,
    "pycharm": {
     "name": "#%%\n"
    }
   }
  },
  {
   "cell_type": "code",
   "execution_count": null,
   "outputs": [],
   "source": [
    "def csv_to_df(csv_file, sep=\";\"):\n",
    "    return pd.read_csv(csv_file, sep=sep)"
   ],
   "metadata": {
    "collapsed": false,
    "pycharm": {
     "name": "#%%\n"
    }
   }
  }
 ],
 "metadata": {
  "kernelspec": {
   "display_name": "Python 3",
   "language": "python",
   "name": "python3"
  },
  "language_info": {
   "codemirror_mode": {
    "name": "ipython",
    "version": 2
   },
   "file_extension": ".py",
   "mimetype": "text/x-python",
   "name": "python",
   "nbconvert_exporter": "python",
   "pygments_lexer": "ipython2",
   "version": "2.7.6"
  }
 },
 "nbformat": 4,
 "nbformat_minor": 0
}