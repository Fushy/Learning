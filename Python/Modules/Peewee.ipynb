{
 "cells": [
  {
   "cell_type": "markdown",
   "source": [
    "# Peewee\n",
    "\n",
    "Peewee is a lightweight Python ORM (Object Relational Mapper) that allows you to map objects in your Python code to rows in a relational database.\n",
    "Peewee provides a simple, expressive API for working with databases, and allows you to easily and efficiently interact with your data without having to write complex SQL queries."
   ],
   "metadata": {
    "collapsed": false,
    "pycharm": {
     "name": "#%% md\n"
    }
   }
  },
  {
   "cell_type": "code",
   "execution_count": 21,
   "outputs": [],
   "source": [
    "import os\n",
    "from datetime import datetime\n",
    "from typing import Type\n",
    "\n",
    "from faker import Faker\n",
    "from faker.providers.date_time import Provider\n",
    "from peewee import DateTimeField, SqliteDatabase, Model, CharField, IntegerField, FloatField, AutoField, DateField,\\\n",
    "    ModelSelect\n",
    "\n",
    "from playhouse.migrate import migrate, SchemaMigrator\n",
    "from playhouse.sqlite_ext import JSONField\n",
    "\n",
    "from Util import now"
   ],
   "metadata": {
    "collapsed": false,
    "pycharm": {
     "name": "#%%\n"
    }
   }
  },
  {
   "cell_type": "code",
   "execution_count": 22,
   "outputs": [],
   "source": [
    "# SQLite\n",
    "DATABASE_NAME = \"sqlite.db\"\n",
    "db: SqliteDatabase = SqliteDatabase(DATABASE_NAME)\n",
    "db.connect()  # This creates the db if not existing\n",
    "fake = Faker()"
   ],
   "metadata": {
    "collapsed": false,
    "pycharm": {
     "name": "#%%\n"
    }
   }
  },
  {
   "cell_type": "code",
   "execution_count": null,
   "outputs": [],
   "source": [
    "# MySQL\n",
    "# pip install pymysql\n",
    "# pip install cryptography\n",
    "# DATABASE_NAME = \"mysql.db\"\n",
    "# db: SqliteDatabase = MySQLDatabase('my_app', user='app', password='db_password', host='10.1.0.8', port=3306)"
   ],
   "metadata": {
    "collapsed": false,
    "pycharm": {
     "name": "#%%\n"
    }
   }
  },
  {
   "cell_type": "code",
   "execution_count": 23,
   "outputs": [],
   "source": [
    "def run_cmd(cmd):\n",
    "    os.system('\"' + cmd + '\"')\n",
    "\n",
    "# noinspection PyProtectedMember\n",
    "def get_columns_name_model(model):\n",
    "    return model._meta.table_name\n",
    "\n",
    "\n",
    "# noinspection PyProtectedMember\n",
    "def get_database(model):\n",
    "    return model._meta.database\n",
    "\n",
    "\n",
    "def get_columns_name_db(model):\n",
    "    return [tuples[1] for tuples in\n",
    "            get_database(model).cursor().execute(\"PRAGMA table_info({})\".format(get_columns_name_model(model)))]\n",
    "\n",
    "\n",
    "def get_fields_name_fields_value(model) -> dict:\n",
    "    return model.__dict__[\"__data__\"]\n",
    "\n",
    "\n",
    "# noinspection PyProtectedMember\n",
    "def print_model_infos(model):\n",
    "    database = model._meta.database\n",
    "    table_name = model._meta.table_name\n",
    "    primary_key = model._meta.primary_key\n",
    "    fields = model._meta.fields\n",
    "    pr(database, table_name, primary_key, fields)\n",
    "\n",
    "\n",
    "def add_missing_columns_to_db(model, columns, columns_type=[str | list], debug=True):\n",
    "    \"\"\" Update the Model code after adding columns \"\"\"\n",
    "    database = get_database(model)\n",
    "    db_columns = get_columns_name_model(model)\n",
    "    column_name = get_columns_name_model(model)\n",
    "    migrator = SchemaMigrator(database)\n",
    "    for i in range(len(columns)):\n",
    "        column = columns[i].replace(\"-\", \"_\")\n",
    "        column_type = columns_type[i] if type(columns_type) is list else columns_type\n",
    "        if column in db_columns:\n",
    "            continue\n",
    "        migrate(migrator.add_column(column_name, column, type_to_field(column_type)))\n",
    "    if debug:\n",
    "        run_cmd(\"python -m pwiz -e sqlite {}\".format(get_database(model)))\n",
    "\n",
    "\n",
    "def fill_rows(model, columns_order: list[str], values: list[list[object]], debug=True):\n",
    "    try:\n",
    "        values[0][0]\n",
    "    except IndexError:\n",
    "        values = [values]\n",
    "    db_columns = get_columns_name_db(model)\n",
    "    indexes = [columns_order.index(index) for index in set(columns_order) - set(db_columns)]\n",
    "    columns_order = [column for column in columns_order if column in db_columns]\n",
    "    rows = [dict(zip(columns_order, [value[i] for i in range(len(value)) if i not in indexes]))\n",
    "            for value in values]\n",
    "    q = model.insert_many(rows)\n",
    "    q.execute()\n",
    "    if debug:\n",
    "        print(now(), q.sql())\n",
    "\n",
    "\n",
    "def default_naming_convention_table(model: Model):\n",
    "    return model.__name__.upper()\n",
    "\n",
    "\n",
    "def type_to_field(val: object):\n",
    "    python_type = type(val)\n",
    "    if python_type is str and str(val).isdecimal():\n",
    "        python_type = float\n",
    "    if python_type is str:\n",
    "        return CharField(null=True)\n",
    "    elif python_type is int:\n",
    "        return IntegerField(null=True)\n",
    "    elif python_type is float:\n",
    "        return FloatField(null=True)\n",
    "    elif python_type is datetime:\n",
    "        return DateTimeField(null=True)\n",
    "    elif python_type in [list, tuple, dict]:\n",
    "        return JSONField(json_dumps=val, null=True)\n",
    "    else:\n",
    "        raise TypeError(str(python_type) + \" is not defined\")"
   ],
   "metadata": {
    "collapsed": false,
    "pycharm": {
     "name": "#%%\n"
    }
   }
  },
  {
   "cell_type": "code",
   "execution_count": 24,
   "outputs": [
    {
     "data": {
      "text/plain": "Country(name='Andorra', timezones=['Europe/Andorra'], alpha_2_code='AD', alpha_3_code='AND', continent='Europe', capital='Andorra la Vella')"
     },
     "execution_count": 24,
     "metadata": {},
     "output_type": "execute_result"
    }
   ],
   "source": [
    "all_countries: list[dict[str, str]] = Provider.countries\n",
    "all_countries[0]"
   ],
   "metadata": {
    "collapsed": false,
    "pycharm": {
     "name": "#%%\n"
    }
   }
  },
  {
   "cell_type": "markdown",
   "source": [
    "## Vocabulary\n",
    "\n",
    "Model class corresponds to a Database table\n",
    "Field instance corresponds to a Column on a table\n",
    "Model instance corresponds to a Row in a database table"
   ],
   "metadata": {
    "collapsed": false,
    "pycharm": {
     "name": "#%% md\n"
    }
   }
  },
  {
   "cell_type": "markdown",
   "source": [
    "## Create named model tables linked to a db\n",
    "\n",
    "### Field types table\n",
    "https://docs.peewee-orm.com/en/latest/peewee/models.html#field-types-table\n",
    "\n",
    "### Field initialization arguments\n",
    "https://docs.peewee-orm.com/en/latest/peewee/models.html#field-initialization-arguments"
   ],
   "metadata": {
    "collapsed": false,
    "pycharm": {
     "name": "#%% md\n"
    }
   }
  },
  {
   "cell_type": "code",
   "execution_count": 25,
   "outputs": [
    {
     "data": {
      "text/plain": "(<Model: Country>,\n <CharField: Country.name>,\n <CharField: Country.alpha_3_code>)"
     },
     "execution_count": 25,
     "metadata": {},
     "output_type": "execute_result"
    }
   ],
   "source": [
    "from Util import pr\n",
    "\n",
    "\n",
    "class BaseModel(Model):\n",
    "    \"\"\" DRY model class \"\"\"\n",
    "\n",
    "    class Meta:\n",
    "        database = db\n",
    "\n",
    "\n",
    "# \"person\" model table created with the default naming convention\n",
    "class Person(BaseModel):\n",
    "    person_id = AutoField(primary_key=True)  # will be auto-incrementing & PK.\n",
    "    name = CharField()\n",
    "    birthday = DateField()\n",
    "    register_time = DateTimeField(\n",
    "        default=now)  # now will be call when an object is created, be careful with mutable argument\n",
    "\n",
    "\n",
    "# \"PET\" model table created with raw naming\n",
    "class Pet(BaseModel):\n",
    "    # owner = ForeignKeyField(Person, backref='pets')\n",
    "    owner = CharField()\n",
    "    name = CharField()\n",
    "    animal_type = CharField()\n",
    "\n",
    "    class Meta:\n",
    "        table_name = 'Pet'\n",
    "\n",
    "\n",
    "# \"Country\" model table created with a function used for the naming\n",
    "class Country(BaseModel):\n",
    "    \"\"\" Because none of the fields are initialized with primary_key=True, an auto-incrementing primary key will automatically be created and named \"id\" \"\"\"\n",
    "    name = CharField(primary_key=True)\n",
    "    alpha_2_code = CharField(column_name='alpha_2_code', null=True)\n",
    "    alpha_3_code = CharField(column_name='alpha_3_code', null=True)\n",
    "    capital = CharField(null=True)\n",
    "    continent = CharField(null=True)\n",
    "    timezones = JSONField(null=True)\n",
    "\n",
    "    class Meta:\n",
    "        table_function = default_naming_convention_table\n",
    "\n",
    "\n",
    "_: Type[Country] = Country\n",
    "Country, Country.name, Country.alpha_3_code"
   ],
   "metadata": {
    "collapsed": false,
    "pycharm": {
     "name": "#%%\n"
    }
   }
  },
  {
   "cell_type": "markdown",
   "source": [
    "## Create/drop tables"
   ],
   "metadata": {
    "collapsed": false,
    "pycharm": {
     "name": "#%% md\n"
    }
   }
  },
  {
   "cell_type": "code",
   "execution_count": 26,
   "outputs": [],
   "source": [
    "db.drop_tables([Person, Pet, Country])\n",
    "db.create_tables([Person, Pet, Country])"
   ],
   "metadata": {
    "collapsed": false,
    "pycharm": {
     "name": "#%%\n"
    }
   }
  },
  {
   "cell_type": "markdown",
   "source": [
    "## Add tuple"
   ],
   "metadata": {
    "collapsed": false,
    "pycharm": {
     "name": "#%% md\n"
    }
   }
  },
  {
   "cell_type": "code",
   "execution_count": 27,
   "outputs": [
    {
     "data": {
      "text/plain": "('INSERT INTO \"Pet\" (\"owner\", \"name\", \"animal_type\") VALUES (?, ?, ?)',\n ['Nathan Garcia', 'John Smith', 'Jessica Schwartz'])"
     },
     "execution_count": 27,
     "metadata": {},
     "output_type": "execute_result"
    }
   ],
   "source": [
    "person = Person(name=fake.name(), birthday=fake.date_time())\n",
    "person.save()\n",
    "q = Pet.insert(owner=fake.name(), name=fake.name(), animal_type=fake.name())\n",
    "q.sql()"
   ],
   "metadata": {
    "collapsed": false,
    "pycharm": {
     "name": "#%%\n"
    }
   }
  },
  {
   "cell_type": "markdown",
   "source": [
    "## Add tuples"
   ],
   "metadata": {
    "collapsed": false,
    "pycharm": {
     "name": "#%% md\n"
    }
   }
  },
  {
   "cell_type": "code",
   "execution_count": 54,
   "outputs": [
    {
     "name": "stderr",
     "output_type": "stream",
     "text": [
      "pydev debugger: Unable to find real location for: C:\\Users\\Alexis\\AppData\\Local\\Temp\\ipykernel_42628\\999387368.py\n"
     ]
    },
    {
     "ename": "IntegrityError",
     "evalue": "UNIQUE constraint failed: COUNTRY.name",
     "output_type": "error",
     "traceback": [
      "\u001B[1;31m---------------------------------------------------------------------------\u001B[0m",
      "\u001B[1;31mIntegrityError\u001B[0m                            Traceback (most recent call last)",
      "File \u001B[1;32mA:\\Programmes\\Python\\Python3.11\\Lib\\site-packages\\peewee.py:3237\u001B[0m, in \u001B[0;36mDatabase.execute_sql\u001B[1;34m(self, sql, params, commit)\u001B[0m\n\u001B[0;32m   3236\u001B[0m \u001B[38;5;28;01mtry\u001B[39;00m:\n\u001B[1;32m-> 3237\u001B[0m     \u001B[43mcursor\u001B[49m\u001B[38;5;241;43m.\u001B[39;49m\u001B[43mexecute\u001B[49m\u001B[43m(\u001B[49m\u001B[43msql\u001B[49m\u001B[43m,\u001B[49m\u001B[43m \u001B[49m\u001B[43mparams\u001B[49m\u001B[43m \u001B[49m\u001B[38;5;129;43;01mor\u001B[39;49;00m\u001B[43m \u001B[49m\u001B[43m(\u001B[49m\u001B[43m)\u001B[49m\u001B[43m)\u001B[49m\n\u001B[0;32m   3238\u001B[0m \u001B[38;5;28;01mexcept\u001B[39;00m \u001B[38;5;167;01mException\u001B[39;00m:\n",
      "\u001B[1;31mIntegrityError\u001B[0m: UNIQUE constraint failed: COUNTRY.name",
      "\nDuring handling of the above exception, another exception occurred:\n",
      "\u001B[1;31mIntegrityError\u001B[0m                            Traceback (most recent call last)",
      "Cell \u001B[1;32mIn[54], line 4\u001B[0m\n\u001B[0;32m      2\u001B[0m values \u001B[38;5;241m=\u001B[39m \u001B[38;5;28mlist\u001B[39m(all_countries[\u001B[38;5;241m0\u001B[39m]\u001B[38;5;241m.\u001B[39m\u001B[38;5;18m__dict__\u001B[39m\u001B[38;5;241m.\u001B[39mvalues())\n\u001B[0;32m      3\u001B[0m add_columns(Country, keys, values)\n\u001B[1;32m----> 4\u001B[0m \u001B[43mfill_rows\u001B[49m\u001B[43m(\u001B[49m\u001B[43mCountry\u001B[49m\u001B[43m,\u001B[49m\u001B[43m \u001B[49m\u001B[43mkeys\u001B[49m\u001B[43m,\u001B[49m\u001B[43m \u001B[49m\u001B[43mvalues\u001B[49m\u001B[43m)\u001B[49m\n",
      "Cell \u001B[1;32mIn[23], line 32\u001B[0m, in \u001B[0;36mfill_rows\u001B[1;34m(model, columns_order, values, debug)\u001B[0m\n\u001B[0;32m     29\u001B[0m rows \u001B[38;5;241m=\u001B[39m [\u001B[38;5;28mdict\u001B[39m(\u001B[38;5;28mzip\u001B[39m(columns_order, [value[i] \u001B[38;5;28;01mfor\u001B[39;00m i \u001B[38;5;129;01min\u001B[39;00m \u001B[38;5;28mrange\u001B[39m(\u001B[38;5;28mlen\u001B[39m(value)) \u001B[38;5;28;01mif\u001B[39;00m i \u001B[38;5;129;01mnot\u001B[39;00m \u001B[38;5;129;01min\u001B[39;00m indexes]))\n\u001B[0;32m     30\u001B[0m         \u001B[38;5;28;01mfor\u001B[39;00m value \u001B[38;5;129;01min\u001B[39;00m values]\n\u001B[0;32m     31\u001B[0m q \u001B[38;5;241m=\u001B[39m model\u001B[38;5;241m.\u001B[39minsert_many(rows)\n\u001B[1;32m---> 32\u001B[0m \u001B[43mq\u001B[49m\u001B[38;5;241;43m.\u001B[39;49m\u001B[43mexecute\u001B[49m\u001B[43m(\u001B[49m\u001B[43m)\u001B[49m\n\u001B[0;32m     33\u001B[0m \u001B[38;5;28;01mif\u001B[39;00m debug:\n\u001B[0;32m     34\u001B[0m     \u001B[38;5;28mprint\u001B[39m(now(), q\u001B[38;5;241m.\u001B[39msql())\n",
      "File \u001B[1;32mA:\\Programmes\\Python\\Python3.11\\Lib\\site-packages\\peewee.py:1962\u001B[0m, in \u001B[0;36mdatabase_required.<locals>.inner\u001B[1;34m(self, database, *args, **kwargs)\u001B[0m\n\u001B[0;32m   1959\u001B[0m \u001B[38;5;28;01mif\u001B[39;00m \u001B[38;5;129;01mnot\u001B[39;00m database:\n\u001B[0;32m   1960\u001B[0m     \u001B[38;5;28;01mraise\u001B[39;00m InterfaceError(\u001B[38;5;124m'\u001B[39m\u001B[38;5;124mQuery must be bound to a database in order \u001B[39m\u001B[38;5;124m'\u001B[39m\n\u001B[0;32m   1961\u001B[0m                          \u001B[38;5;124m'\u001B[39m\u001B[38;5;124mto call \u001B[39m\u001B[38;5;124m\"\u001B[39m\u001B[38;5;132;01m%s\u001B[39;00m\u001B[38;5;124m\"\u001B[39m\u001B[38;5;124m.\u001B[39m\u001B[38;5;124m'\u001B[39m \u001B[38;5;241m%\u001B[39m method\u001B[38;5;241m.\u001B[39m\u001B[38;5;18m__name__\u001B[39m)\n\u001B[1;32m-> 1962\u001B[0m \u001B[38;5;28;01mreturn\u001B[39;00m \u001B[43mmethod\u001B[49m\u001B[43m(\u001B[49m\u001B[38;5;28;43mself\u001B[39;49m\u001B[43m,\u001B[49m\u001B[43m \u001B[49m\u001B[43mdatabase\u001B[49m\u001B[43m,\u001B[49m\u001B[43m \u001B[49m\u001B[38;5;241;43m*\u001B[39;49m\u001B[43margs\u001B[49m\u001B[43m,\u001B[49m\u001B[43m \u001B[49m\u001B[38;5;241;43m*\u001B[39;49m\u001B[38;5;241;43m*\u001B[39;49m\u001B[43mkwargs\u001B[49m\u001B[43m)\u001B[49m\n",
      "File \u001B[1;32mA:\\Programmes\\Python\\Python3.11\\Lib\\site-packages\\peewee.py:2033\u001B[0m, in \u001B[0;36mBaseQuery.execute\u001B[1;34m(self, database)\u001B[0m\n\u001B[0;32m   2031\u001B[0m \u001B[38;5;129m@database_required\u001B[39m\n\u001B[0;32m   2032\u001B[0m \u001B[38;5;28;01mdef\u001B[39;00m \u001B[38;5;21mexecute\u001B[39m(\u001B[38;5;28mself\u001B[39m, database):\n\u001B[1;32m-> 2033\u001B[0m     \u001B[38;5;28;01mreturn\u001B[39;00m \u001B[38;5;28;43mself\u001B[39;49m\u001B[38;5;241;43m.\u001B[39;49m\u001B[43m_execute\u001B[49m\u001B[43m(\u001B[49m\u001B[43mdatabase\u001B[49m\u001B[43m)\u001B[49m\n",
      "File \u001B[1;32mA:\\Programmes\\Python\\Python3.11\\Lib\\site-packages\\peewee.py:2838\u001B[0m, in \u001B[0;36mInsert._execute\u001B[1;34m(self, database)\u001B[0m\n\u001B[0;32m   2836\u001B[0m     \u001B[38;5;28mself\u001B[39m\u001B[38;5;241m.\u001B[39m_returning \u001B[38;5;241m=\u001B[39m (\u001B[38;5;28mself\u001B[39m\u001B[38;5;241m.\u001B[39mtable\u001B[38;5;241m.\u001B[39m_primary_key,)\n\u001B[0;32m   2837\u001B[0m \u001B[38;5;28;01mtry\u001B[39;00m:\n\u001B[1;32m-> 2838\u001B[0m     \u001B[38;5;28;01mreturn\u001B[39;00m \u001B[38;5;28;43msuper\u001B[39;49m\u001B[43m(\u001B[49m\u001B[43mInsert\u001B[49m\u001B[43m,\u001B[49m\u001B[43m \u001B[49m\u001B[38;5;28;43mself\u001B[39;49m\u001B[43m)\u001B[49m\u001B[38;5;241;43m.\u001B[39;49m\u001B[43m_execute\u001B[49m\u001B[43m(\u001B[49m\u001B[43mdatabase\u001B[49m\u001B[43m)\u001B[49m\n\u001B[0;32m   2839\u001B[0m \u001B[38;5;28;01mexcept\u001B[39;00m \u001B[38;5;28mself\u001B[39m\u001B[38;5;241m.\u001B[39mDefaultValuesException:\n\u001B[0;32m   2840\u001B[0m     \u001B[38;5;28;01mpass\u001B[39;00m\n",
      "File \u001B[1;32mA:\\Programmes\\Python\\Python3.11\\Lib\\site-packages\\peewee.py:2551\u001B[0m, in \u001B[0;36m_WriteQuery._execute\u001B[1;34m(self, database)\u001B[0m\n\u001B[0;32m   2549\u001B[0m     cursor \u001B[38;5;241m=\u001B[39m \u001B[38;5;28mself\u001B[39m\u001B[38;5;241m.\u001B[39mexecute_returning(database)\n\u001B[0;32m   2550\u001B[0m \u001B[38;5;28;01melse\u001B[39;00m:\n\u001B[1;32m-> 2551\u001B[0m     cursor \u001B[38;5;241m=\u001B[39m \u001B[43mdatabase\u001B[49m\u001B[38;5;241;43m.\u001B[39;49m\u001B[43mexecute\u001B[49m\u001B[43m(\u001B[49m\u001B[38;5;28;43mself\u001B[39;49m\u001B[43m)\u001B[49m\n\u001B[0;32m   2552\u001B[0m \u001B[38;5;28;01mreturn\u001B[39;00m \u001B[38;5;28mself\u001B[39m\u001B[38;5;241m.\u001B[39mhandle_result(database, cursor)\n",
      "File \u001B[1;32mA:\\Programmes\\Python\\Python3.11\\Lib\\site-packages\\peewee.py:3250\u001B[0m, in \u001B[0;36mDatabase.execute\u001B[1;34m(self, query, commit, **context_options)\u001B[0m\n\u001B[0;32m   3248\u001B[0m ctx \u001B[38;5;241m=\u001B[39m \u001B[38;5;28mself\u001B[39m\u001B[38;5;241m.\u001B[39mget_sql_context(\u001B[38;5;241m*\u001B[39m\u001B[38;5;241m*\u001B[39mcontext_options)\n\u001B[0;32m   3249\u001B[0m sql, params \u001B[38;5;241m=\u001B[39m ctx\u001B[38;5;241m.\u001B[39msql(query)\u001B[38;5;241m.\u001B[39mquery()\n\u001B[1;32m-> 3250\u001B[0m \u001B[38;5;28;01mreturn\u001B[39;00m \u001B[38;5;28;43mself\u001B[39;49m\u001B[38;5;241;43m.\u001B[39;49m\u001B[43mexecute_sql\u001B[49m\u001B[43m(\u001B[49m\u001B[43msql\u001B[49m\u001B[43m,\u001B[49m\u001B[43m \u001B[49m\u001B[43mparams\u001B[49m\u001B[43m,\u001B[49m\u001B[43m \u001B[49m\u001B[43mcommit\u001B[49m\u001B[38;5;241;43m=\u001B[39;49m\u001B[43mcommit\u001B[49m\u001B[43m)\u001B[49m\n",
      "File \u001B[1;32mA:\\Programmes\\Python\\Python3.11\\Lib\\site-packages\\peewee.py:3234\u001B[0m, in \u001B[0;36mDatabase.execute_sql\u001B[1;34m(self, sql, params, commit)\u001B[0m\n\u001B[0;32m   3231\u001B[0m     \u001B[38;5;28;01melse\u001B[39;00m:\n\u001B[0;32m   3232\u001B[0m         commit \u001B[38;5;241m=\u001B[39m \u001B[38;5;129;01mnot\u001B[39;00m sql[:\u001B[38;5;241m6\u001B[39m]\u001B[38;5;241m.\u001B[39mlower()\u001B[38;5;241m.\u001B[39mstartswith(\u001B[38;5;124m'\u001B[39m\u001B[38;5;124mselect\u001B[39m\u001B[38;5;124m'\u001B[39m)\n\u001B[1;32m-> 3234\u001B[0m \u001B[43m\u001B[49m\u001B[38;5;28;43;01mwith\u001B[39;49;00m\u001B[43m \u001B[49m\u001B[43m__exception_wrapper__\u001B[49m\u001B[43m:\u001B[49m\n\u001B[0;32m   3235\u001B[0m \u001B[43m    \u001B[49m\u001B[43mcursor\u001B[49m\u001B[43m \u001B[49m\u001B[38;5;241;43m=\u001B[39;49m\u001B[43m \u001B[49m\u001B[38;5;28;43mself\u001B[39;49m\u001B[38;5;241;43m.\u001B[39;49m\u001B[43mcursor\u001B[49m\u001B[43m(\u001B[49m\u001B[43mcommit\u001B[49m\u001B[43m)\u001B[49m\n\u001B[0;32m   3236\u001B[0m \u001B[43m    \u001B[49m\u001B[38;5;28;43;01mtry\u001B[39;49;00m\u001B[43m:\u001B[49m\n",
      "File \u001B[1;32mA:\\Programmes\\Python\\Python3.11\\Lib\\site-packages\\peewee.py:3010\u001B[0m, in \u001B[0;36mExceptionWrapper.__exit__\u001B[1;34m(self, exc_type, exc_value, traceback)\u001B[0m\n\u001B[0;32m   3008\u001B[0m new_type \u001B[38;5;241m=\u001B[39m \u001B[38;5;28mself\u001B[39m\u001B[38;5;241m.\u001B[39mexceptions[exc_type\u001B[38;5;241m.\u001B[39m\u001B[38;5;18m__name__\u001B[39m]\n\u001B[0;32m   3009\u001B[0m exc_args \u001B[38;5;241m=\u001B[39m exc_value\u001B[38;5;241m.\u001B[39margs\n\u001B[1;32m-> 3010\u001B[0m \u001B[43mreraise\u001B[49m\u001B[43m(\u001B[49m\u001B[43mnew_type\u001B[49m\u001B[43m,\u001B[49m\u001B[43m \u001B[49m\u001B[43mnew_type\u001B[49m\u001B[43m(\u001B[49m\u001B[43mexc_value\u001B[49m\u001B[43m,\u001B[49m\u001B[43m \u001B[49m\u001B[38;5;241;43m*\u001B[39;49m\u001B[43mexc_args\u001B[49m\u001B[43m)\u001B[49m\u001B[43m,\u001B[49m\u001B[43m \u001B[49m\u001B[43mtraceback\u001B[49m\u001B[43m)\u001B[49m\n",
      "File \u001B[1;32mA:\\Programmes\\Python\\Python3.11\\Lib\\site-packages\\peewee.py:192\u001B[0m, in \u001B[0;36mreraise\u001B[1;34m(tp, value, tb)\u001B[0m\n\u001B[0;32m    190\u001B[0m \u001B[38;5;28;01mdef\u001B[39;00m \u001B[38;5;21mreraise\u001B[39m(tp, value, tb\u001B[38;5;241m=\u001B[39m\u001B[38;5;28;01mNone\u001B[39;00m):\n\u001B[0;32m    191\u001B[0m     \u001B[38;5;28;01mif\u001B[39;00m value\u001B[38;5;241m.\u001B[39m__traceback__ \u001B[38;5;129;01mis\u001B[39;00m \u001B[38;5;129;01mnot\u001B[39;00m tb:\n\u001B[1;32m--> 192\u001B[0m         \u001B[38;5;28;01mraise\u001B[39;00m value\u001B[38;5;241m.\u001B[39mwith_traceback(tb)\n\u001B[0;32m    193\u001B[0m     \u001B[38;5;28;01mraise\u001B[39;00m value\n",
      "File \u001B[1;32mA:\\Programmes\\Python\\Python3.11\\Lib\\site-packages\\peewee.py:3237\u001B[0m, in \u001B[0;36mDatabase.execute_sql\u001B[1;34m(self, sql, params, commit)\u001B[0m\n\u001B[0;32m   3235\u001B[0m cursor \u001B[38;5;241m=\u001B[39m \u001B[38;5;28mself\u001B[39m\u001B[38;5;241m.\u001B[39mcursor(commit)\n\u001B[0;32m   3236\u001B[0m \u001B[38;5;28;01mtry\u001B[39;00m:\n\u001B[1;32m-> 3237\u001B[0m     \u001B[43mcursor\u001B[49m\u001B[38;5;241;43m.\u001B[39;49m\u001B[43mexecute\u001B[49m\u001B[43m(\u001B[49m\u001B[43msql\u001B[49m\u001B[43m,\u001B[49m\u001B[43m \u001B[49m\u001B[43mparams\u001B[49m\u001B[43m \u001B[49m\u001B[38;5;129;43;01mor\u001B[39;49;00m\u001B[43m \u001B[49m\u001B[43m(\u001B[49m\u001B[43m)\u001B[49m\u001B[43m)\u001B[49m\n\u001B[0;32m   3238\u001B[0m \u001B[38;5;28;01mexcept\u001B[39;00m \u001B[38;5;167;01mException\u001B[39;00m:\n\u001B[0;32m   3239\u001B[0m     \u001B[38;5;28;01mif\u001B[39;00m \u001B[38;5;28mself\u001B[39m\u001B[38;5;241m.\u001B[39mautorollback \u001B[38;5;129;01mand\u001B[39;00m \u001B[38;5;129;01mnot\u001B[39;00m \u001B[38;5;28mself\u001B[39m\u001B[38;5;241m.\u001B[39min_transaction():\n",
      "\u001B[1;31mIntegrityError\u001B[0m: UNIQUE constraint failed: COUNTRY.name"
     ]
    }
   ],
   "source": [
    "all_countries: list[dict[str, str]] = Provider.countries\n",
    "db.drop_tables([Person, Pet, Country])\n",
    "db.create_tables([Person, Pet, Country])\n",
    "columns_order = list(map(lambda x: x.replace(\"-\", \"_\"), all_countries[0].__dict__.keys()))\n",
    "values = [list(country.__dict__.values()) for country in all_countries]\n",
    "add_missing_columns_to_db(Country, columns_order, values[0])\n",
    "fill_rows(Country, columns_order, values)\n"
   ],
   "metadata": {
    "collapsed": false,
    "pycharm": {
     "name": "#%%\n"
    }
   }
  },
  {
   "cell_type": "markdown",
   "source": [
    "# Queries"
   ],
   "metadata": {
    "collapsed": false,
    "pycharm": {
     "name": "#%% md\n"
    }
   }
  },
  {
   "cell_type": "code",
   "execution_count": null,
   "outputs": [],
   "source": [
    "query: ModelSelect = Country.select()\n",
    "for country in query:\n",
    "    _: Model = country\n",
    "    print(country, country.alpha_3_code, country.capital)  # print(country) print the Country PK"
   ],
   "metadata": {
    "collapsed": false,
    "pycharm": {
     "name": "#%%\n"
    }
   }
  },
  {
   "cell_type": "code",
   "execution_count": null,
   "outputs": [],
   "source": [
    "list(Country.select(Country.name))"
   ],
   "metadata": {
    "collapsed": false,
    "pycharm": {
     "name": "#%%\n"
    }
   }
  },
  {
   "cell_type": "code",
   "execution_count": null,
   "outputs": [],
   "source": [
    "first_value, last_value_a, last_value_b = Country.select().first(), Country.select().order_by(\n",
    "    Country.name.desc()).get(), list(Country.select(Country.name))[-1]\n",
    "first_value, last_value_a, last_value_b"
   ],
   "metadata": {
    "collapsed": false,
    "pycharm": {
     "name": "#%%\n"
    }
   }
  },
  {
   "cell_type": "code",
   "execution_count": null,
   "outputs": [],
   "source": [
    "Country.get_or_none(Country.name == \"France\"), Country.get_or_none(Country.name == \"_France\")"
   ],
   "metadata": {
    "collapsed": false,
    "pycharm": {
     "name": "#%%\n"
    }
   }
  },
  {
   "cell_type": "code",
   "execution_count": null,
   "outputs": [],
   "source": [
    "Country.select().count(), Country.select().scalar()"
   ],
   "metadata": {
    "collapsed": false,
    "pycharm": {
     "name": "#%%\n"
    }
   }
  },
  {
   "cell_type": "code",
   "execution_count": null,
   "outputs": [],
   "source": [
    "query: ModelSelect = query.where(Country.name.startswith(\"F\"))\n",
    "list(query), query.sql()\n",
    "\n",
    "# Orders.select(fn.MAX(Orders.date))"
   ],
   "metadata": {
    "collapsed": false,
    "pycharm": {
     "name": "#%%\n"
    }
   }
  },
  {
   "cell_type": "markdown",
   "source": [
    "# pwiz\n",
    "The pwiz library is a Python library that helps automate the process of generating Python code from existing database schemas. This can be useful when working with large, complex databases and you want to quickly generate the necessary Python code for interacting with the database without having to manually write all the code yourself."
   ],
   "metadata": {
    "collapsed": false,
    "pycharm": {
     "name": "#%% md\n"
    }
   }
  },
  {
   "cell_type": "markdown",
   "source": [
    "## Models generator\n",
    "https://docs.peewee-orm.com/en/latest/peewee/playhouse.html#pwiz\n",
    "\n",
    "\"python -m pwiz -e sqlite db_file.db\"\n",
    "This command will generate a script that contains the necessary Python code for interacting with the database. The generated code will include classes that correspond to the tables in the database, and the fields of the classes will correspond to the columns in the tables."
   ],
   "metadata": {
    "collapsed": false,
    "pycharm": {
     "name": "#%% md\n"
    }
   }
  },
  {
   "cell_type": "code",
   "execution_count": null,
   "outputs": [],
   "source": [],
   "metadata": {
    "collapsed": false,
    "pycharm": {
     "name": "#%%\n"
    }
   }
  },
  {
   "cell_type": "markdown",
   "source": [
    "# Sources\n",
    "https://docs.peewee-orm.com/en/latest/"
   ],
   "metadata": {
    "collapsed": false,
    "pycharm": {
     "name": "#%% md\n"
    }
   }
  }
 ],
 "metadata": {
  "kernelspec": {
   "display_name": "Python 3",
   "language": "python",
   "name": "python3"
  },
  "language_info": {
   "codemirror_mode": {
    "name": "ipython",
    "version": 2
   },
   "file_extension": ".py",
   "mimetype": "text/x-python",
   "name": "python",
   "nbconvert_exporter": "python",
   "pygments_lexer": "ipython2",
   "version": "2.7.6"
  }
 },
 "nbformat": 4,
 "nbformat_minor": 0
}