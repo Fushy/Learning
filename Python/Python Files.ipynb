{
 "cells": [
  {
   "cell_type": "code",
   "execution_count": null,
   "metadata": {
    "collapsed": true
   },
   "outputs": [],
   "source": [
    "# Python source files\n",
    "# have .py or .pyw suffix\n",
    "\t# py  suffix for executing the file with a console\n",
    "\t# pyw suffix for executing the file without a console\n",
    "# # To comment codes\n",
    "# Have 4 spaces instead of TAB\n",
    "# Uses alignment spaces to delimit blocks. four spaces per indentation level.\n",
    "# Python clean source files\n",
    "# Are UTF-8-encoded text files\n",
    "# use #!/usr/bin/env python3 on the first line of a program to specify the interpreter\n",
    "#   UNIX: give execute permissions to run the program by typing x.py into your shell.\n",
    "# Two mainstream IDE\n",
    "# \tPyCharm\n",
    "# \tVisualStudio"
   ]
  }
 ],
 "metadata": {
  "kernelspec": {
   "display_name": "Python 3",
   "language": "python",
   "name": "python3"
  },
  "language_info": {
   "codemirror_mode": {
    "name": "ipython",
    "version": 2
   },
   "file_extension": ".py",
   "mimetype": "text/x-python",
   "name": "python",
   "nbconvert_exporter": "python",
   "pygments_lexer": "ipython2",
   "version": "2.7.6"
  }
 },
 "nbformat": 4,
 "nbformat_minor": 0
}