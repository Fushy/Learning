{
 "cells": [
  {
   "cell_type": "markdown",
   "metadata": {
    "pycharm": {
     "name": "#%% md\n"
    }
   },
   "source": [
    "# Bitwise\n",
    "+ Python doesn’t support unsigned integers them natively\n",
    "+ Not lazily\n",
    "+ Designed primarily to work with integers, return int type\n",
    "+ Are often overloaded"
   ]
  },
  {
   "cell_type": "code",
   "execution_count": 1,
   "metadata": {
    "pycharm": {
     "name": "#%%\n"
    }
   },
   "outputs": [],
   "source": [
    "from Util import two_complement_representation, two_complement_representation_2, two_complement_representation_3\n",
    "\n",
    "import itertools\n",
    "import sys"
   ]
  },
  {
   "cell_type": "markdown",
   "metadata": {
    "pycharm": {
     "name": "#%% md\n"
    }
   },
   "source": [
    "# Little-Endian Order"
   ]
  },
  {
   "cell_type": "code",
   "execution_count": 2,
   "outputs": [
    {
     "data": {
      "text/plain": "'little'"
     },
     "execution_count": 2,
     "metadata": {},
     "output_type": "execute_result"
    }
   ],
   "source": [
    "sys.byteorder"
   ],
   "metadata": {
    "collapsed": false,
    "pycharm": {
     "name": "#%%\n"
    }
   }
  },
  {
   "cell_type": "code",
   "execution_count": 3,
   "metadata": {
    "pycharm": {
     "name": "#%%\n"
    }
   },
   "outputs": [
    {
     "data": {
      "text/plain": "'0b100000100'"
     },
     "execution_count": 3,
     "metadata": {},
     "output_type": "execute_result"
    }
   ],
   "source": [
    "n = 260\n",
    "bin(260)  # Little-Endian in memory, Big-Endian in visual representation"
   ]
  },
  {
   "cell_type": "code",
   "execution_count": 4,
   "metadata": {
    "pycharm": {
     "name": "#%%\n"
    }
   },
   "outputs": [
    {
     "data": {
      "text/plain": "(b'\\x00\\x00\\x01\\x04', b'\\x04\\x01\\x00\\x00')"
     },
     "execution_count": 4,
     "metadata": {},
     "output_type": "execute_result"
    }
   ],
   "source": [
    "big_bytes, little_byte = n.to_bytes(length=4, byteorder=\"big\"), n.to_bytes(length=4, byteorder=\"little\")\n",
    "big_bytes, little_byte"
   ]
  },
  {
   "cell_type": "code",
   "execution_count": 5,
   "metadata": {
    "pycharm": {
     "name": "#%%\n"
    }
   },
   "outputs": [
    {
     "data": {
      "text/plain": "b'\\xb1\\x07\\x00\\x00'"
     },
     "execution_count": 5,
     "metadata": {},
     "output_type": "execute_result"
    }
   ],
   "source": [
    "bytes(reversed(b\"\\x00\\x00\\x07\\xb1\"))"
   ]
  },
  {
   "cell_type": "code",
   "execution_count": 6,
   "metadata": {
    "pycharm": {
     "name": "#%%\n"
    }
   },
   "outputs": [
    {
     "data": {
      "text/plain": "(260, 260, 67174400, 67174400)"
     },
     "execution_count": 6,
     "metadata": {},
     "output_type": "execute_result"
    }
   ],
   "source": [
    "int.from_bytes(big_bytes, byteorder=\"big\"), int.from_bytes(little_byte, byteorder=\"little\"), int.from_bytes(little_byte, byteorder=\"big\"), int.from_bytes(big_bytes, byteorder=\"little\")"
   ]
  },
  {
   "cell_type": "markdown",
   "source": [
    "# All integers are signed"
   ],
   "metadata": {
    "collapsed": false,
    "pycharm": {
     "name": "#%% md\n"
    }
   }
  },
  {
   "cell_type": "code",
   "execution_count": 7,
   "metadata": {
    "pycharm": {
     "name": "#%%\n"
    }
   },
   "outputs": [
    {
     "data": {
      "text/plain": "('0b11111111', '-0b11111111', 255, -255)"
     },
     "execution_count": 7,
     "metadata": {},
     "output_type": "execute_result"
    }
   ],
   "source": [
    "bin(255), bin(-255), int(bin(255), 2), int(bin(-255), 2)"
   ]
  },
  {
   "cell_type": "code",
   "execution_count": 8,
   "metadata": {
    "pycharm": {
     "name": "#%%\n"
    }
   },
   "outputs": [],
   "source": [
    "# To force two’s complement representation use its negative syntax with a mask\n",
    "mask = 0b11111111"
   ]
  },
  {
   "cell_type": "code",
   "execution_count": 9,
   "metadata": {
    "pycharm": {
     "name": "#%%\n"
    }
   },
   "outputs": [
    {
     "data": {
      "text/plain": "(156, '0b10011100')"
     },
     "execution_count": 9,
     "metadata": {},
     "output_type": "execute_result"
    }
   ],
   "source": [
    "-100 & mask, bin(-100 & mask)"
   ]
  },
  {
   "cell_type": "code",
   "execution_count": 10,
   "metadata": {
    "pycharm": {
     "name": "#%%\n"
    }
   },
   "outputs": [
    {
     "data": {
      "text/plain": "('0b11111011', '0b11111011', '0b11111011')"
     },
     "execution_count": 10,
     "metadata": {},
     "output_type": "execute_result"
    }
   ],
   "source": [
    "bin(two_complement_representation(-5)), bin(two_complement_representation_2(-5)), bin(two_complement_representation_3(-5))"
   ]
  },
  {
   "cell_type": "code",
   "execution_count": 11,
   "metadata": {
    "pycharm": {
     "name": "#%%\n"
    }
   },
   "outputs": [
    {
     "name": "stdout",
     "output_type": "stream",
     "text": [
      "255\n",
      "65281\n",
      "16711935\n",
      "4278255361\n",
      "1095233372415\n",
      "280379743338241\n",
      "71777214294589695\n",
      "18374966859414961921\n",
      "4703991516010230251775\n",
      "1204221828098618944454401\n"
     ]
    }
   ],
   "source": [
    "x = 1\n",
    "for _ in range(10):\n",
    "    x = two_complement_representation(-x)\n",
    "    print(x)"
   ]
  },
  {
   "cell_type": "markdown",
   "metadata": {
    "pycharm": {
     "name": "#%% md\n"
    }
   },
   "source": [
    "### Bitwise Or\n",
    "The bitwise OR operator | performs logical disjunction. For each corresponding pair of bits, it returns a one if at least one of them is switched on:"
   ]
  },
  {
   "cell_type": "code",
   "execution_count": 12,
   "metadata": {
    "pycharm": {
     "name": "#%%\n"
    }
   },
   "outputs": [
    {
     "data": {
      "text/plain": "(3, int)"
     },
     "execution_count": 12,
     "metadata": {},
     "output_type": "execute_result"
    }
   ],
   "source": [
    "a: int = 1 | 2\n",
    "a, type(a)"
   ]
  },
  {
   "cell_type": "code",
   "execution_count": 13,
   "metadata": {
    "pycharm": {
     "name": "#%%\n"
    }
   },
   "outputs": [
    {
     "name": "stdout",
     "output_type": "stream",
     "text": [
      "10000\n",
      "01111\n",
      "11111\n",
      "\n",
      "10000\n",
      "01110\n",
      "11110\n",
      "\n",
      "10000\n",
      "01101\n",
      "11101\n",
      "\n",
      "10000\n",
      "01100\n",
      "11100\n",
      "\n",
      "10000\n",
      "01011\n",
      "11011\n",
      "\n",
      "10000\n",
      "01010\n",
      "11010\n",
      "\n",
      "10000\n",
      "01001\n",
      "11001\n",
      "\n",
      "10000\n",
      "01000\n",
      "11000\n",
      "\n",
      "10000\n",
      "00111\n",
      "10111\n",
      "\n",
      "10000\n",
      "00110\n",
      "10110\n",
      "\n",
      "10000\n",
      "00101\n",
      "10101\n",
      "\n",
      "10000\n",
      "00100\n",
      "10100\n",
      "\n",
      "10000\n",
      "00011\n",
      "10011\n",
      "\n",
      "10000\n",
      "00010\n",
      "10010\n",
      "\n",
      "10000\n",
      "00001\n",
      "10001\n",
      "\n",
      "01111\n",
      "01110\n",
      "01111\n",
      "\n",
      "01111\n",
      "01101\n",
      "01111\n",
      "\n",
      "01111\n",
      "01100\n",
      "01111\n",
      "\n",
      "01111\n",
      "01011\n",
      "01111\n",
      "\n",
      "01111\n",
      "01010\n",
      "01111\n",
      "\n",
      "01111\n",
      "01001\n",
      "01111\n",
      "\n",
      "01111\n",
      "01000\n",
      "01111\n",
      "\n",
      "01111\n",
      "00111\n",
      "01111\n",
      "\n",
      "01111\n",
      "00110\n",
      "01111\n",
      "\n",
      "01111\n",
      "00101\n",
      "01111\n",
      "\n",
      "01111\n",
      "00100\n",
      "01111\n",
      "\n",
      "01111\n",
      "00011\n",
      "01111\n",
      "\n",
      "01111\n",
      "00010\n",
      "01111\n",
      "\n",
      "01111\n",
      "00001\n",
      "01111\n",
      "\n",
      "01110\n",
      "01101\n",
      "01111\n",
      "\n",
      "01110\n",
      "01100\n",
      "01110\n",
      "\n",
      "01110\n",
      "01011\n",
      "01111\n",
      "\n",
      "01110\n",
      "01010\n",
      "01110\n",
      "\n",
      "01110\n",
      "01001\n",
      "01111\n",
      "\n",
      "01110\n",
      "01000\n",
      "01110\n",
      "\n",
      "01110\n",
      "00111\n",
      "01111\n",
      "\n",
      "01110\n",
      "00110\n",
      "01110\n",
      "\n",
      "01110\n",
      "00101\n",
      "01111\n",
      "\n",
      "01110\n",
      "00100\n",
      "01110\n",
      "\n",
      "01110\n",
      "00011\n",
      "01111\n",
      "\n",
      "01110\n",
      "00010\n",
      "01110\n",
      "\n",
      "01110\n",
      "00001\n",
      "01111\n",
      "\n",
      "01101\n",
      "01100\n",
      "01101\n",
      "\n",
      "01101\n",
      "01011\n",
      "01111\n",
      "\n",
      "01101\n",
      "01010\n",
      "01111\n",
      "\n",
      "01101\n",
      "01001\n",
      "01101\n",
      "\n",
      "01101\n",
      "01000\n",
      "01101\n",
      "\n",
      "01101\n",
      "00111\n",
      "01111\n",
      "\n",
      "01101\n",
      "00110\n",
      "01111\n",
      "\n",
      "01101\n",
      "00101\n",
      "01101\n",
      "\n",
      "01101\n",
      "00100\n",
      "01101\n",
      "\n",
      "01101\n",
      "00011\n",
      "01111\n",
      "\n",
      "01101\n",
      "00010\n",
      "01111\n",
      "\n",
      "01101\n",
      "00001\n",
      "01101\n",
      "\n",
      "01100\n",
      "01011\n",
      "01111\n",
      "\n",
      "01100\n",
      "01010\n",
      "01110\n",
      "\n",
      "01100\n",
      "01001\n",
      "01101\n",
      "\n",
      "01100\n",
      "01000\n",
      "01100\n",
      "\n",
      "01100\n",
      "00111\n",
      "01111\n",
      "\n",
      "01100\n",
      "00110\n",
      "01110\n",
      "\n",
      "01100\n",
      "00101\n",
      "01101\n",
      "\n",
      "01100\n",
      "00100\n",
      "01100\n",
      "\n",
      "01100\n",
      "00011\n",
      "01111\n",
      "\n",
      "01100\n",
      "00010\n",
      "01110\n",
      "\n",
      "01100\n",
      "00001\n",
      "01101\n",
      "\n",
      "01011\n",
      "01010\n",
      "01011\n",
      "\n",
      "01011\n",
      "01001\n",
      "01011\n",
      "\n",
      "01011\n",
      "01000\n",
      "01011\n",
      "\n",
      "01011\n",
      "00111\n",
      "01111\n",
      "\n",
      "01011\n",
      "00110\n",
      "01111\n",
      "\n",
      "01011\n",
      "00101\n",
      "01111\n",
      "\n",
      "01011\n",
      "00100\n",
      "01111\n",
      "\n",
      "01011\n",
      "00011\n",
      "01011\n",
      "\n",
      "01011\n",
      "00010\n",
      "01011\n",
      "\n",
      "01011\n",
      "00001\n",
      "01011\n",
      "\n",
      "01010\n",
      "01001\n",
      "01011\n",
      "\n",
      "01010\n",
      "01000\n",
      "01010\n",
      "\n",
      "01010\n",
      "00111\n",
      "01111\n",
      "\n",
      "01010\n",
      "00110\n",
      "01110\n",
      "\n",
      "01010\n",
      "00101\n",
      "01111\n",
      "\n",
      "01010\n",
      "00100\n",
      "01110\n",
      "\n",
      "01010\n",
      "00011\n",
      "01011\n",
      "\n",
      "01010\n",
      "00010\n",
      "01010\n",
      "\n",
      "01010\n",
      "00001\n",
      "01011\n",
      "\n",
      "01001\n",
      "01000\n",
      "01001\n",
      "\n",
      "01001\n",
      "00111\n",
      "01111\n",
      "\n",
      "01001\n",
      "00110\n",
      "01111\n",
      "\n",
      "01001\n",
      "00101\n",
      "01101\n",
      "\n",
      "01001\n",
      "00100\n",
      "01101\n",
      "\n",
      "01001\n",
      "00011\n",
      "01011\n",
      "\n",
      "01001\n",
      "00010\n",
      "01011\n",
      "\n",
      "01001\n",
      "00001\n",
      "01001\n",
      "\n",
      "01000\n",
      "00111\n",
      "01111\n",
      "\n",
      "01000\n",
      "00110\n",
      "01110\n",
      "\n",
      "01000\n",
      "00101\n",
      "01101\n",
      "\n",
      "01000\n",
      "00100\n",
      "01100\n",
      "\n",
      "01000\n",
      "00011\n",
      "01011\n",
      "\n",
      "01000\n",
      "00010\n",
      "01010\n",
      "\n",
      "01000\n",
      "00001\n",
      "01001\n",
      "\n",
      "00111\n",
      "00110\n",
      "00111\n",
      "\n",
      "00111\n",
      "00101\n",
      "00111\n",
      "\n",
      "00111\n",
      "00100\n",
      "00111\n",
      "\n",
      "00111\n",
      "00011\n",
      "00111\n",
      "\n",
      "00111\n",
      "00010\n",
      "00111\n",
      "\n",
      "00111\n",
      "00001\n",
      "00111\n",
      "\n",
      "00110\n",
      "00101\n",
      "00111\n",
      "\n",
      "00110\n",
      "00100\n",
      "00110\n",
      "\n",
      "00110\n",
      "00011\n",
      "00111\n",
      "\n",
      "00110\n",
      "00010\n",
      "00110\n",
      "\n",
      "00110\n",
      "00001\n",
      "00111\n",
      "\n",
      "00101\n",
      "00100\n",
      "00101\n",
      "\n",
      "00101\n",
      "00011\n",
      "00111\n",
      "\n",
      "00101\n",
      "00010\n",
      "00111\n",
      "\n",
      "00101\n",
      "00001\n",
      "00101\n",
      "\n",
      "00100\n",
      "00011\n",
      "00111\n",
      "\n",
      "00100\n",
      "00010\n",
      "00110\n",
      "\n",
      "00100\n",
      "00001\n",
      "00101\n",
      "\n",
      "00011\n",
      "00010\n",
      "00011\n",
      "\n",
      "00011\n",
      "00001\n",
      "00011\n",
      "\n",
      "00010\n",
      "00001\n",
      "00011\n",
      "\n"
     ]
    }
   ],
   "source": [
    "for (a, b) in itertools.combinations(range(0xF + 0x1, 0, -1), 2):\n",
    "    print(\"{:05b}\".format(a))\n",
    "    print(\"{:05b}\".format(b))\n",
    "    print(\"{:05b}\".format(a | b))\n",
    "    print()"
   ]
  },
  {
   "cell_type": "markdown",
   "metadata": {
    "pycharm": {
     "name": "#%% md\n"
    }
   },
   "source": [
    "### Bitwise And\n",
    "The bitwise AND operator & performs logical conjunction. For each pair of bits occupying the same position in the two numbers, it returns a one only when both bits are switched on\n",
    "When doing & on negative numbers, it evaluates two_complement_representation representation on both operands"
   ]
  },
  {
   "cell_type": "code",
   "execution_count": 14,
   "metadata": {
    "pycharm": {
     "name": "#%%\n"
    }
   },
   "outputs": [
    {
     "data": {
      "text/plain": "(0, int)"
     },
     "execution_count": 14,
     "metadata": {},
     "output_type": "execute_result"
    }
   ],
   "source": [
    "a: int = 1 & 2\n",
    "a, type(a)"
   ]
  },
  {
   "cell_type": "code",
   "execution_count": 15,
   "metadata": {
    "pycharm": {
     "name": "#%%\n"
    }
   },
   "outputs": [
    {
     "name": "stdout",
     "output_type": "stream",
     "text": [
      "10000\n",
      "01111\n",
      "00000\n",
      "\n",
      "10000\n",
      "01110\n",
      "00000\n",
      "\n",
      "10000\n",
      "01101\n",
      "00000\n",
      "\n",
      "10000\n",
      "01100\n",
      "00000\n",
      "\n",
      "10000\n",
      "01011\n",
      "00000\n",
      "\n",
      "10000\n",
      "01010\n",
      "00000\n",
      "\n",
      "10000\n",
      "01001\n",
      "00000\n",
      "\n",
      "10000\n",
      "01000\n",
      "00000\n",
      "\n",
      "10000\n",
      "00111\n",
      "00000\n",
      "\n",
      "10000\n",
      "00110\n",
      "00000\n",
      "\n",
      "10000\n",
      "00101\n",
      "00000\n",
      "\n",
      "10000\n",
      "00100\n",
      "00000\n",
      "\n",
      "10000\n",
      "00011\n",
      "00000\n",
      "\n",
      "10000\n",
      "00010\n",
      "00000\n",
      "\n",
      "10000\n",
      "00001\n",
      "00000\n",
      "\n",
      "01111\n",
      "01110\n",
      "01110\n",
      "\n",
      "01111\n",
      "01101\n",
      "01101\n",
      "\n",
      "01111\n",
      "01100\n",
      "01100\n",
      "\n",
      "01111\n",
      "01011\n",
      "01011\n",
      "\n",
      "01111\n",
      "01010\n",
      "01010\n",
      "\n",
      "01111\n",
      "01001\n",
      "01001\n",
      "\n",
      "01111\n",
      "01000\n",
      "01000\n",
      "\n",
      "01111\n",
      "00111\n",
      "00111\n",
      "\n",
      "01111\n",
      "00110\n",
      "00110\n",
      "\n",
      "01111\n",
      "00101\n",
      "00101\n",
      "\n",
      "01111\n",
      "00100\n",
      "00100\n",
      "\n",
      "01111\n",
      "00011\n",
      "00011\n",
      "\n",
      "01111\n",
      "00010\n",
      "00010\n",
      "\n",
      "01111\n",
      "00001\n",
      "00001\n",
      "\n",
      "01110\n",
      "01101\n",
      "01100\n",
      "\n",
      "01110\n",
      "01100\n",
      "01100\n",
      "\n",
      "01110\n",
      "01011\n",
      "01010\n",
      "\n",
      "01110\n",
      "01010\n",
      "01010\n",
      "\n",
      "01110\n",
      "01001\n",
      "01000\n",
      "\n",
      "01110\n",
      "01000\n",
      "01000\n",
      "\n",
      "01110\n",
      "00111\n",
      "00110\n",
      "\n",
      "01110\n",
      "00110\n",
      "00110\n",
      "\n",
      "01110\n",
      "00101\n",
      "00100\n",
      "\n",
      "01110\n",
      "00100\n",
      "00100\n",
      "\n",
      "01110\n",
      "00011\n",
      "00010\n",
      "\n",
      "01110\n",
      "00010\n",
      "00010\n",
      "\n",
      "01110\n",
      "00001\n",
      "00000\n",
      "\n",
      "01101\n",
      "01100\n",
      "01100\n",
      "\n",
      "01101\n",
      "01011\n",
      "01001\n",
      "\n",
      "01101\n",
      "01010\n",
      "01000\n",
      "\n",
      "01101\n",
      "01001\n",
      "01001\n",
      "\n",
      "01101\n",
      "01000\n",
      "01000\n",
      "\n",
      "01101\n",
      "00111\n",
      "00101\n",
      "\n",
      "01101\n",
      "00110\n",
      "00100\n",
      "\n",
      "01101\n",
      "00101\n",
      "00101\n",
      "\n",
      "01101\n",
      "00100\n",
      "00100\n",
      "\n",
      "01101\n",
      "00011\n",
      "00001\n",
      "\n",
      "01101\n",
      "00010\n",
      "00000\n",
      "\n",
      "01101\n",
      "00001\n",
      "00001\n",
      "\n",
      "01100\n",
      "01011\n",
      "01000\n",
      "\n",
      "01100\n",
      "01010\n",
      "01000\n",
      "\n",
      "01100\n",
      "01001\n",
      "01000\n",
      "\n",
      "01100\n",
      "01000\n",
      "01000\n",
      "\n",
      "01100\n",
      "00111\n",
      "00100\n",
      "\n",
      "01100\n",
      "00110\n",
      "00100\n",
      "\n",
      "01100\n",
      "00101\n",
      "00100\n",
      "\n",
      "01100\n",
      "00100\n",
      "00100\n",
      "\n",
      "01100\n",
      "00011\n",
      "00000\n",
      "\n",
      "01100\n",
      "00010\n",
      "00000\n",
      "\n",
      "01100\n",
      "00001\n",
      "00000\n",
      "\n",
      "01011\n",
      "01010\n",
      "01010\n",
      "\n",
      "01011\n",
      "01001\n",
      "01001\n",
      "\n",
      "01011\n",
      "01000\n",
      "01000\n",
      "\n",
      "01011\n",
      "00111\n",
      "00011\n",
      "\n",
      "01011\n",
      "00110\n",
      "00010\n",
      "\n",
      "01011\n",
      "00101\n",
      "00001\n",
      "\n",
      "01011\n",
      "00100\n",
      "00000\n",
      "\n",
      "01011\n",
      "00011\n",
      "00011\n",
      "\n",
      "01011\n",
      "00010\n",
      "00010\n",
      "\n",
      "01011\n",
      "00001\n",
      "00001\n",
      "\n",
      "01010\n",
      "01001\n",
      "01000\n",
      "\n",
      "01010\n",
      "01000\n",
      "01000\n",
      "\n",
      "01010\n",
      "00111\n",
      "00010\n",
      "\n",
      "01010\n",
      "00110\n",
      "00010\n",
      "\n",
      "01010\n",
      "00101\n",
      "00000\n",
      "\n",
      "01010\n",
      "00100\n",
      "00000\n",
      "\n",
      "01010\n",
      "00011\n",
      "00010\n",
      "\n",
      "01010\n",
      "00010\n",
      "00010\n",
      "\n",
      "01010\n",
      "00001\n",
      "00000\n",
      "\n",
      "01001\n",
      "01000\n",
      "01000\n",
      "\n",
      "01001\n",
      "00111\n",
      "00001\n",
      "\n",
      "01001\n",
      "00110\n",
      "00000\n",
      "\n",
      "01001\n",
      "00101\n",
      "00001\n",
      "\n",
      "01001\n",
      "00100\n",
      "00000\n",
      "\n",
      "01001\n",
      "00011\n",
      "00001\n",
      "\n",
      "01001\n",
      "00010\n",
      "00000\n",
      "\n",
      "01001\n",
      "00001\n",
      "00001\n",
      "\n",
      "01000\n",
      "00111\n",
      "00000\n",
      "\n",
      "01000\n",
      "00110\n",
      "00000\n",
      "\n",
      "01000\n",
      "00101\n",
      "00000\n",
      "\n",
      "01000\n",
      "00100\n",
      "00000\n",
      "\n",
      "01000\n",
      "00011\n",
      "00000\n",
      "\n",
      "01000\n",
      "00010\n",
      "00000\n",
      "\n",
      "01000\n",
      "00001\n",
      "00000\n",
      "\n",
      "00111\n",
      "00110\n",
      "00110\n",
      "\n",
      "00111\n",
      "00101\n",
      "00101\n",
      "\n",
      "00111\n",
      "00100\n",
      "00100\n",
      "\n",
      "00111\n",
      "00011\n",
      "00011\n",
      "\n",
      "00111\n",
      "00010\n",
      "00010\n",
      "\n",
      "00111\n",
      "00001\n",
      "00001\n",
      "\n",
      "00110\n",
      "00101\n",
      "00100\n",
      "\n",
      "00110\n",
      "00100\n",
      "00100\n",
      "\n",
      "00110\n",
      "00011\n",
      "00010\n",
      "\n",
      "00110\n",
      "00010\n",
      "00010\n",
      "\n",
      "00110\n",
      "00001\n",
      "00000\n",
      "\n",
      "00101\n",
      "00100\n",
      "00100\n",
      "\n",
      "00101\n",
      "00011\n",
      "00001\n",
      "\n",
      "00101\n",
      "00010\n",
      "00000\n",
      "\n",
      "00101\n",
      "00001\n",
      "00001\n",
      "\n",
      "00100\n",
      "00011\n",
      "00000\n",
      "\n",
      "00100\n",
      "00010\n",
      "00000\n",
      "\n",
      "00100\n",
      "00001\n",
      "00000\n",
      "\n",
      "00011\n",
      "00010\n",
      "00010\n",
      "\n",
      "00011\n",
      "00001\n",
      "00001\n",
      "\n",
      "00010\n",
      "00001\n",
      "00000\n",
      "\n"
     ]
    }
   ],
   "source": [
    "for (a, b) in itertools.combinations(range(0xF + 0x1, 0, -1), 2):\n",
    "    print(\"{:05b}\".format(a))\n",
    "    print(\"{:05b}\".format(b))\n",
    "    print(\"{:05b}\".format(a & b))\n",
    "    print()"
   ]
  },
  {
   "cell_type": "code",
   "execution_count": 16,
   "metadata": {
    "pycharm": {
     "name": "#%%\n"
    }
   },
   "outputs": [
    {
     "data": {
      "text/plain": "('-0b1010', '0b11110110')"
     },
     "execution_count": 16,
     "metadata": {},
     "output_type": "execute_result"
    }
   ],
   "source": [
    "bin(-10), bin(two_complement_representation(-10))"
   ]
  },
  {
   "cell_type": "code",
   "execution_count": 17,
   "metadata": {
    "pycharm": {
     "name": "#%%\n"
    }
   },
   "outputs": [
    {
     "data": {
      "text/plain": "('0b11110110', '0b11110110')"
     },
     "execution_count": 17,
     "metadata": {},
     "output_type": "execute_result"
    }
   ],
   "source": [
    "bin(0xFF & -10), bin(0xFF & two_complement_representation(-10)) # & evaluate on two_complement_representation"
   ]
  },
  {
   "cell_type": "code",
   "execution_count": 18,
   "metadata": {
    "pycharm": {
     "name": "#%%\n"
    }
   },
   "outputs": [
    {
     "data": {
      "text/plain": "('-0b1010', '0b11110110')"
     },
     "execution_count": 18,
     "metadata": {},
     "output_type": "execute_result"
    }
   ],
   "source": [
    "bin(0x00 | -10), bin(0x00 | two_complement_representation(-10)) # | evaluate on normal representation"
   ]
  },
  {
   "cell_type": "code",
   "execution_count": 19,
   "metadata": {
    "pycharm": {
     "name": "#%%\n"
    }
   },
   "outputs": [
    {
     "data": {
      "text/plain": "('-0b1010', '0b11110110')"
     },
     "execution_count": 19,
     "metadata": {},
     "output_type": "execute_result"
    }
   ],
   "source": [
    "bin(0x00 ^ -10), bin(0x00 ^ two_complement_representation(-10)) # ^ evaluate on normal representation"
   ]
  },
  {
   "cell_type": "markdown",
   "metadata": {
    "pycharm": {
     "name": "#%% md\n"
    }
   },
   "source": [
    "### Bitwise Not\n",
    "The bitwise NOT operator (~), which expects just one argument, making it the only unary bitwise operator. It performs logical negation\n",
    "Using the bitwise NOT on a positive number always produces a negative\n",
    "On its regular result its is does (x + 1) * -1,\n",
    "On its two_complement_representation result it invert all bit and add one from bit(x),"
   ]
  },
  {
   "cell_type": "code",
   "execution_count": 20,
   "metadata": {
    "pycharm": {
     "name": "#%%\n"
    }
   },
   "outputs": [
    {
     "data": {
      "text/plain": "(-1, int)"
     },
     "execution_count": 20,
     "metadata": {},
     "output_type": "execute_result"
    }
   ],
   "source": [
    "a: int = ~False\n",
    "a, type(a)"
   ]
  },
  {
   "cell_type": "code",
   "execution_count": 21,
   "metadata": {
    "pycharm": {
     "name": "#%%\n"
    }
   },
   "outputs": [
    {
     "name": "stdout",
     "output_type": "stream",
     "text": [
      "-2\n",
      "-1\n",
      "True\n"
     ]
    }
   ],
   "source": [
    "print(~True)\n",
    "print(~False)\n",
    "print(bool(~True))"
   ]
  },
  {
   "cell_type": "code",
   "execution_count": 22,
   "metadata": {
    "pycharm": {
     "name": "#%%\n"
    }
   },
   "outputs": [
    {
     "name": "stdout",
     "output_type": "stream",
     "text": [
      "a    16       0b10000  \t16              \n",
      "-a  -16      -0b10000 \t240             \n",
      "~a  -17      -0b10001 \t239             \n",
      "~-a  15       0b1111   \t15              \n",
      "\n",
      "a    15       0b1111   \t15              \n",
      "-a  -15      -0b1111  \t241             \n",
      "~a  -16      -0b10000 \t240             \n",
      "~-a  14       0b1110   \t14              \n",
      "\n",
      "a    14       0b1110   \t14              \n",
      "-a  -14      -0b1110  \t242             \n",
      "~a  -15      -0b1111  \t241             \n",
      "~-a  13       0b1101   \t13              \n",
      "\n",
      "a    13       0b1101   \t13              \n",
      "-a  -13      -0b1101  \t243             \n",
      "~a  -14      -0b1110  \t242             \n",
      "~-a  12       0b1100   \t12              \n",
      "\n",
      "a    12       0b1100   \t12              \n",
      "-a  -12      -0b1100  \t244             \n",
      "~a  -13      -0b1101  \t243             \n",
      "~-a  11       0b1011   \t11              \n",
      "\n",
      "a    11       0b1011   \t11              \n",
      "-a  -11      -0b1011  \t245             \n",
      "~a  -12      -0b1100  \t244             \n",
      "~-a  10       0b1010   \t10              \n",
      "\n",
      "a    10       0b1010   \t10              \n",
      "-a  -10      -0b1010  \t246             \n",
      "~a  -11      -0b1011  \t245             \n",
      "~-a  9        0b1001   \t9               \n",
      "\n",
      "a    9        0b1001   \t9               \n",
      "-a  -9       -0b1001  \t247             \n",
      "~a  -10      -0b1010  \t246             \n",
      "~-a  8        0b1000   \t8               \n",
      "\n",
      "a    8        0b1000   \t8               \n",
      "-a  -8       -0b1000  \t248             \n",
      "~a  -9       -0b1001  \t247             \n",
      "~-a  7        0b111    \t7               \n",
      "\n",
      "a    7        0b111    \t7               \n",
      "-a  -7       -0b111   \t249             \n",
      "~a  -8       -0b1000  \t248             \n",
      "~-a  6        0b110    \t6               \n",
      "\n",
      "a    6        0b110    \t6               \n",
      "-a  -6       -0b110   \t250             \n",
      "~a  -7       -0b111   \t249             \n",
      "~-a  5        0b101    \t5               \n",
      "\n",
      "a    5        0b101    \t5               \n",
      "-a  -5       -0b101   \t251             \n",
      "~a  -6       -0b110   \t250             \n",
      "~-a  4        0b100    \t4               \n",
      "\n",
      "a    4        0b100    \t4               \n",
      "-a  -4       -0b100   \t252             \n",
      "~a  -5       -0b101   \t251             \n",
      "~-a  3        0b11     \t3               \n",
      "\n",
      "a    3        0b11     \t3               \n",
      "-a  -3       -0b11    \t253             \n",
      "~a  -4       -0b100   \t252             \n",
      "~-a  2        0b10     \t2               \n",
      "\n",
      "a    2        0b10     \t2               \n",
      "-a  -2       -0b10    \t254             \n",
      "~a  -3       -0b11    \t253             \n",
      "~-a  1        0b1      \t1               \n",
      "\n",
      "a    1        0b1      \t1               \n",
      "-a  -1       -0b1     \t255             \n",
      "~a  -2       -0b10    \t254             \n",
      "~-a  0        0b0      \t0               \n",
      "\n"
     ]
    }
   ],
   "source": [
    "for a in range(0xF + 0x1, 0, -1):\n",
    "    print(\"a    {:<8} {:<8} \\t{:<16}\".format(a, bin(a), two_complement_representation(a)))\n",
    "    print(\"-a  {:<8} {:<8} \\t{:<16}\".format(-a, bin(-a), two_complement_representation(-a)))\n",
    "    print(\"~a  {:<8} {:<8} \\t{:<16}\".format(~a, bin(~a), two_complement_representation(~a)))\n",
    "    print(\"~-a  {:<8} {:<8} \\t{:<16}\".format(~-a, bin(~-a), two_complement_representation(~-a)))\n",
    "    print()\n"
   ]
  },
  {
   "cell_type": "markdown",
   "metadata": {
    "pycharm": {
     "name": "#%% md\n"
    }
   },
   "source": [
    "### Bitwise Xor"
   ]
  },
  {
   "cell_type": "code",
   "execution_count": 23,
   "outputs": [
    {
     "data": {
      "text/plain": "(3, int)"
     },
     "execution_count": 23,
     "metadata": {},
     "output_type": "execute_result"
    }
   ],
   "source": [
    "a: int = 1 ^ 2\n",
    "a, type(a)"
   ],
   "metadata": {
    "collapsed": false,
    "pycharm": {
     "name": "#%%\n"
    }
   }
  },
  {
   "cell_type": "code",
   "execution_count": 24,
   "metadata": {
    "pycharm": {
     "name": "#%%\n"
    }
   },
   "outputs": [
    {
     "name": "stdout",
     "output_type": "stream",
     "text": [
      "0000\n",
      "0001\n",
      "0001\n",
      "\n",
      "0000\n",
      "0010\n",
      "0010\n",
      "\n",
      "0000\n",
      "0011\n",
      "0011\n",
      "\n",
      "0000\n",
      "0100\n",
      "0100\n",
      "\n",
      "0000\n",
      "0101\n",
      "0101\n",
      "\n",
      "0000\n",
      "0110\n",
      "0110\n",
      "\n",
      "0000\n",
      "0111\n",
      "0111\n",
      "\n",
      "0000\n",
      "1000\n",
      "1000\n",
      "\n",
      "0000\n",
      "1001\n",
      "1001\n",
      "\n",
      "0000\n",
      "1010\n",
      "1010\n",
      "\n",
      "0000\n",
      "1011\n",
      "1011\n",
      "\n",
      "0000\n",
      "1100\n",
      "1100\n",
      "\n",
      "0000\n",
      "1101\n",
      "1101\n",
      "\n",
      "0000\n",
      "1110\n",
      "1110\n",
      "\n",
      "0000\n",
      "1111\n",
      "1111\n",
      "\n",
      "0001\n",
      "0010\n",
      "0011\n",
      "\n",
      "0001\n",
      "0011\n",
      "0010\n",
      "\n",
      "0001\n",
      "0100\n",
      "0101\n",
      "\n",
      "0001\n",
      "0101\n",
      "0100\n",
      "\n",
      "0001\n",
      "0110\n",
      "0111\n",
      "\n",
      "0001\n",
      "0111\n",
      "0110\n",
      "\n",
      "0001\n",
      "1000\n",
      "1001\n",
      "\n",
      "0001\n",
      "1001\n",
      "1000\n",
      "\n",
      "0001\n",
      "1010\n",
      "1011\n",
      "\n",
      "0001\n",
      "1011\n",
      "1010\n",
      "\n",
      "0001\n",
      "1100\n",
      "1101\n",
      "\n",
      "0001\n",
      "1101\n",
      "1100\n",
      "\n",
      "0001\n",
      "1110\n",
      "1111\n",
      "\n",
      "0001\n",
      "1111\n",
      "1110\n",
      "\n",
      "0010\n",
      "0011\n",
      "0001\n",
      "\n",
      "0010\n",
      "0100\n",
      "0110\n",
      "\n",
      "0010\n",
      "0101\n",
      "0111\n",
      "\n",
      "0010\n",
      "0110\n",
      "0100\n",
      "\n",
      "0010\n",
      "0111\n",
      "0101\n",
      "\n",
      "0010\n",
      "1000\n",
      "1010\n",
      "\n",
      "0010\n",
      "1001\n",
      "1011\n",
      "\n",
      "0010\n",
      "1010\n",
      "1000\n",
      "\n",
      "0010\n",
      "1011\n",
      "1001\n",
      "\n",
      "0010\n",
      "1100\n",
      "1110\n",
      "\n",
      "0010\n",
      "1101\n",
      "1111\n",
      "\n",
      "0010\n",
      "1110\n",
      "1100\n",
      "\n",
      "0010\n",
      "1111\n",
      "1101\n",
      "\n",
      "0011\n",
      "0100\n",
      "0111\n",
      "\n",
      "0011\n",
      "0101\n",
      "0110\n",
      "\n",
      "0011\n",
      "0110\n",
      "0101\n",
      "\n",
      "0011\n",
      "0111\n",
      "0100\n",
      "\n",
      "0011\n",
      "1000\n",
      "1011\n",
      "\n",
      "0011\n",
      "1001\n",
      "1010\n",
      "\n",
      "0011\n",
      "1010\n",
      "1001\n",
      "\n",
      "0011\n",
      "1011\n",
      "1000\n",
      "\n",
      "0011\n",
      "1100\n",
      "1111\n",
      "\n",
      "0011\n",
      "1101\n",
      "1110\n",
      "\n",
      "0011\n",
      "1110\n",
      "1101\n",
      "\n",
      "0011\n",
      "1111\n",
      "1100\n",
      "\n",
      "0100\n",
      "0101\n",
      "0001\n",
      "\n",
      "0100\n",
      "0110\n",
      "0010\n",
      "\n",
      "0100\n",
      "0111\n",
      "0011\n",
      "\n",
      "0100\n",
      "1000\n",
      "1100\n",
      "\n",
      "0100\n",
      "1001\n",
      "1101\n",
      "\n",
      "0100\n",
      "1010\n",
      "1110\n",
      "\n",
      "0100\n",
      "1011\n",
      "1111\n",
      "\n",
      "0100\n",
      "1100\n",
      "1000\n",
      "\n",
      "0100\n",
      "1101\n",
      "1001\n",
      "\n",
      "0100\n",
      "1110\n",
      "1010\n",
      "\n",
      "0100\n",
      "1111\n",
      "1011\n",
      "\n",
      "0101\n",
      "0110\n",
      "0011\n",
      "\n",
      "0101\n",
      "0111\n",
      "0010\n",
      "\n",
      "0101\n",
      "1000\n",
      "1101\n",
      "\n",
      "0101\n",
      "1001\n",
      "1100\n",
      "\n",
      "0101\n",
      "1010\n",
      "1111\n",
      "\n",
      "0101\n",
      "1011\n",
      "1110\n",
      "\n",
      "0101\n",
      "1100\n",
      "1001\n",
      "\n",
      "0101\n",
      "1101\n",
      "1000\n",
      "\n",
      "0101\n",
      "1110\n",
      "1011\n",
      "\n",
      "0101\n",
      "1111\n",
      "1010\n",
      "\n",
      "0110\n",
      "0111\n",
      "0001\n",
      "\n",
      "0110\n",
      "1000\n",
      "1110\n",
      "\n",
      "0110\n",
      "1001\n",
      "1111\n",
      "\n",
      "0110\n",
      "1010\n",
      "1100\n",
      "\n",
      "0110\n",
      "1011\n",
      "1101\n",
      "\n",
      "0110\n",
      "1100\n",
      "1010\n",
      "\n",
      "0110\n",
      "1101\n",
      "1011\n",
      "\n",
      "0110\n",
      "1110\n",
      "1000\n",
      "\n",
      "0110\n",
      "1111\n",
      "1001\n",
      "\n",
      "0111\n",
      "1000\n",
      "1111\n",
      "\n",
      "0111\n",
      "1001\n",
      "1110\n",
      "\n",
      "0111\n",
      "1010\n",
      "1101\n",
      "\n",
      "0111\n",
      "1011\n",
      "1100\n",
      "\n",
      "0111\n",
      "1100\n",
      "1011\n",
      "\n",
      "0111\n",
      "1101\n",
      "1010\n",
      "\n",
      "0111\n",
      "1110\n",
      "1001\n",
      "\n",
      "0111\n",
      "1111\n",
      "1000\n",
      "\n",
      "1000\n",
      "1001\n",
      "0001\n",
      "\n",
      "1000\n",
      "1010\n",
      "0010\n",
      "\n",
      "1000\n",
      "1011\n",
      "0011\n",
      "\n",
      "1000\n",
      "1100\n",
      "0100\n",
      "\n",
      "1000\n",
      "1101\n",
      "0101\n",
      "\n",
      "1000\n",
      "1110\n",
      "0110\n",
      "\n",
      "1000\n",
      "1111\n",
      "0111\n",
      "\n",
      "1001\n",
      "1010\n",
      "0011\n",
      "\n",
      "1001\n",
      "1011\n",
      "0010\n",
      "\n",
      "1001\n",
      "1100\n",
      "0101\n",
      "\n",
      "1001\n",
      "1101\n",
      "0100\n",
      "\n",
      "1001\n",
      "1110\n",
      "0111\n",
      "\n",
      "1001\n",
      "1111\n",
      "0110\n",
      "\n",
      "1010\n",
      "1011\n",
      "0001\n",
      "\n",
      "1010\n",
      "1100\n",
      "0110\n",
      "\n",
      "1010\n",
      "1101\n",
      "0111\n",
      "\n",
      "1010\n",
      "1110\n",
      "0100\n",
      "\n",
      "1010\n",
      "1111\n",
      "0101\n",
      "\n",
      "1011\n",
      "1100\n",
      "0111\n",
      "\n",
      "1011\n",
      "1101\n",
      "0110\n",
      "\n",
      "1011\n",
      "1110\n",
      "0101\n",
      "\n",
      "1011\n",
      "1111\n",
      "0100\n",
      "\n",
      "1100\n",
      "1101\n",
      "0001\n",
      "\n",
      "1100\n",
      "1110\n",
      "0010\n",
      "\n",
      "1100\n",
      "1111\n",
      "0011\n",
      "\n",
      "1101\n",
      "1110\n",
      "0011\n",
      "\n",
      "1101\n",
      "1111\n",
      "0010\n",
      "\n",
      "1110\n",
      "1111\n",
      "0001\n",
      "\n"
     ]
    }
   ],
   "source": [
    "for (a, b) in itertools.combinations(range(0xF + 0x1), 2):\n",
    "    print(\"{:04b}\".format(a))\n",
    "    print(\"{:04b}\".format(b))\n",
    "    print(\"{:04b}\".format(a ^ b))\n",
    "    print()"
   ]
  },
  {
   "cell_type": "code",
   "execution_count": 25,
   "outputs": [
    {
     "data": {
      "text/plain": "(10, 5)"
     },
     "execution_count": 25,
     "metadata": {},
     "output_type": "execute_result"
    }
   ],
   "source": [
    "a, b = 5, 10\n",
    "a ^= b\n",
    "b ^= a\n",
    "a ^= b\n",
    "a, b"
   ],
   "metadata": {
    "collapsed": false,
    "pycharm": {
     "name": "#%%\n"
    }
   }
  },
  {
   "cell_type": "markdown",
   "metadata": {
    "pycharm": {
     "name": "#%% md\n"
    }
   },
   "source": [
    "### Bitwise Left Shift\n",
    "The bitwise left shift operator (<<) moves the bits of its first operand to the left by the number of places specified in its second operand\n",
    "a << x <=> a * 2**x"
   ]
  },
  {
   "cell_type": "code",
   "execution_count": 26,
   "metadata": {
    "pycharm": {
     "name": "#%%\n"
    }
   },
   "outputs": [
    {
     "data": {
      "text/plain": "(4, int)"
     },
     "execution_count": 26,
     "metadata": {},
     "output_type": "execute_result"
    }
   ],
   "source": [
    "a: int = 1 << 2\n",
    "a, type(a)"
   ]
  },
  {
   "cell_type": "code",
   "execution_count": 27,
   "metadata": {
    "pycharm": {
     "name": "#%%\n"
    }
   },
   "outputs": [
    {
     "data": {
      "text/plain": "(128, 128, 128, 128, 128)"
     },
     "execution_count": 27,
     "metadata": {},
     "output_type": "execute_result"
    }
   ],
   "source": [
    "128 << 0, 64 << 1, 32 << 2, 16 << 3, 8 << 4"
   ]
  },
  {
   "cell_type": "code",
   "execution_count": 28,
   "metadata": {
    "pycharm": {
     "name": "#%%\n"
    }
   },
   "outputs": [
    {
     "data": {
      "text/plain": "200"
     },
     "execution_count": 28,
     "metadata": {},
     "output_type": "execute_result"
    }
   ],
   "source": [
    "# Faster than * operator\n",
    "100 << 1"
   ]
  },
  {
   "cell_type": "code",
   "execution_count": 29,
   "metadata": {
    "pycharm": {
     "name": "#%%\n"
    }
   },
   "outputs": [
    {
     "data": {
      "text/plain": "400"
     },
     "execution_count": 29,
     "metadata": {},
     "output_type": "execute_result"
    }
   ],
   "source": [
    "100 << 2"
   ]
  },
  {
   "cell_type": "code",
   "execution_count": 30,
   "metadata": {
    "pycharm": {
     "name": "#%%\n"
    }
   },
   "outputs": [
    {
     "name": "stdout",
     "output_type": "stream",
     "text": [
      "0b11111010 250\n",
      "0b111110100 500\n",
      "0b1111101000 1000\n",
      "0b11111010000 2000\n",
      "0b111110100000 4000\n",
      "0b1111101000000 8000\n",
      "0b11111010000000 16000\n",
      "0b111110100000000 32000\n",
      "0b1111101000000000 64000\n",
      "0b11111010000000000 128000\n"
     ]
    }
   ],
   "source": [
    "for a in range(10):\n",
    "    print(\"{:>8} {}\".format(bin(0xFA << a), 0xFA << a))"
   ]
  },
  {
   "cell_type": "code",
   "execution_count": 31,
   "metadata": {
    "pycharm": {
     "name": "#%%\n"
    }
   },
   "outputs": [
    {
     "name": "stdout",
     "output_type": "stream",
     "text": [
      "-0b11111010 -250\n",
      "-0b111110100 -500\n",
      "-0b1111101000 -1000\n",
      "-0b11111010000 -2000\n",
      "-0b111110100000 -4000\n",
      "-0b1111101000000 -8000\n",
      "-0b11111010000000 -16000\n",
      "-0b111110100000000 -32000\n",
      "-0b1111101000000000 -64000\n",
      "-0b11111010000000000 -128000\n"
     ]
    }
   ],
   "source": [
    "for a in range(10):\n",
    "    print(\"{:>8} {}\".format(bin(-0xFA << a), -0xFA << a))"
   ]
  },
  {
   "cell_type": "markdown",
   "metadata": {
    "pycharm": {
     "name": "#%% md\n"
    }
   },
   "source": []
  },
  {
   "cell_type": "code",
   "execution_count": 32,
   "metadata": {
    "pycharm": {
     "name": "#%%\n"
    }
   },
   "outputs": [
    {
     "data": {
      "text/plain": "(0, int)"
     },
     "execution_count": 32,
     "metadata": {},
     "output_type": "execute_result"
    }
   ],
   "source": [
    "a: int = 1 >> 2\n",
    "a, type(a)"
   ]
  },
  {
   "cell_type": "code",
   "execution_count": 33,
   "metadata": {
    "pycharm": {
     "name": "#%%\n"
    }
   },
   "outputs": [
    {
     "data": {
      "text/plain": "(8, 8, 8, 8, 8)"
     },
     "execution_count": 33,
     "metadata": {},
     "output_type": "execute_result"
    }
   ],
   "source": [
    "128 >> 4, 64 >> 3, 32 >> 2, 16 >> 1, 8 >> 0"
   ]
  },
  {
   "cell_type": "code",
   "execution_count": 34,
   "metadata": {
    "pycharm": {
     "name": "#%%\n"
    }
   },
   "outputs": [
    {
     "data": {
      "text/plain": "50"
     },
     "execution_count": 34,
     "metadata": {},
     "output_type": "execute_result"
    }
   ],
   "source": [
    "# Faster than / operator\n",
    "100 >> 1"
   ]
  },
  {
   "cell_type": "code",
   "execution_count": 35,
   "metadata": {
    "pycharm": {
     "name": "#%%\n"
    }
   },
   "outputs": [
    {
     "data": {
      "text/plain": "25"
     },
     "execution_count": 35,
     "metadata": {},
     "output_type": "execute_result"
    }
   ],
   "source": [
    "100 >> 2"
   ]
  },
  {
   "cell_type": "code",
   "execution_count": 36,
   "metadata": {
    "pycharm": {
     "name": "#%%\n"
    }
   },
   "outputs": [
    {
     "name": "stdout",
     "output_type": "stream",
     "text": [
      "11111010 250\n",
      "01111101 125\n",
      "00111110 62\n",
      "00011111 31\n",
      "00001111 15\n",
      "00000111 7\n",
      "00000011 3\n",
      "00000001 1\n",
      "00000000 0\n",
      "00000000 0\n"
     ]
    }
   ],
   "source": [
    "for a in range(10):\n",
    "    print(\"{:08b} {}\".format(0xFA >> a, 0xFA >> a))"
   ]
  },
  {
   "cell_type": "code",
   "execution_count": 37,
   "metadata": {
    "pycharm": {
     "name": "#%%\n"
    }
   },
   "outputs": [
    {
     "name": "stdout",
     "output_type": "stream",
     "text": [
      "-11111010 -250\n",
      "-1111101 -125\n",
      "-0111111 -63\n",
      "-0100000 -32\n",
      "-0010000 -16\n",
      "-0001000 -8\n",
      "-0000100 -4\n",
      "-0000010 -2\n",
      "-0000001 -1\n",
      "-0000001 -1\n"
     ]
    }
   ],
   "source": [
    "for a in range(10):\n",
    "    print(\"{:08b} {}\".format(-0xFA >> a, -0xFA >> a))"
   ]
  },
  {
   "cell_type": "markdown",
   "metadata": {
    "pycharm": {
     "name": "#%% md\n"
    }
   },
   "source": [
    "# Overloading\n",
    "### It's possible to overload bitwise operators with the next methods\n",
    "    .__and__(self, value)\tinstance & value\n",
    "    .__rand__(self, value)\tvalue & instance\n",
    "    .__iand__(self, value)\tinstance &= value\n",
    "    .__or__(self, value)\tinstance | value\n",
    "    .__ror__(self, value)\tvalue | instance\n",
    "    .__ior__(self, value)\tinstance |= value\n",
    "    .__xor__(self, value)\tinstance ^ value\n",
    "    .__rxor__(self, value)\tvalue ^ instance\n",
    "    .__ixor__(self, value)\tinstance ^= value\n",
    "    .__invert__(self)\t~instance\n",
    "    .__lshift__(self, value)\tinstance << value\n",
    "    .__rlshift__(self, value)\tvalue << instance\n",
    "    .__ilshift__(self, value)\tinstance <<= value\n",
    "    .__rshift__(self, value)\tinstance >> value\n",
    "    .__rrshift__(self, value)\tvalue >> instance\n",
    "    .__irshift__(self, value)\tinstance >>= value"
   ]
  }
 ],
 "metadata": {
  "kernelspec": {
   "display_name": "Python 3 (ipykernel)",
   "language": "python",
   "name": "python3"
  },
  "language_info": {
   "codemirror_mode": {
    "name": "ipython",
    "version": 3
   },
   "file_extension": ".py",
   "mimetype": "text/x-python",
   "name": "python",
   "nbconvert_exporter": "python",
   "pygments_lexer": "ipython3",
   "version": "3.10.3"
  }
 },
 "nbformat": 4,
 "nbformat_minor": 1
}