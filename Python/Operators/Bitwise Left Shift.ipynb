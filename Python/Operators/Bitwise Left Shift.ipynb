{
 "cells": [
  {
   "cell_type": "code",
   "execution_count": 23,
   "outputs": [],
   "source": [
    "# The bitwise left shift operator (<<) moves the bits of its first operand to the left by the number of places specified in its second operand\n",
    "# a << x <=> a * 2**x"
   ],
   "metadata": {
    "collapsed": false,
    "pycharm": {
     "name": "#%%\n"
    }
   }
  },
  {
   "cell_type": "code",
   "execution_count": 24,
   "outputs": [
    {
     "data": {
      "text/plain": "(4, int)"
     },
     "execution_count": 24,
     "metadata": {},
     "output_type": "execute_result"
    }
   ],
   "source": [
    "a: int = 1 << 2\n",
    "a, type(a)"
   ],
   "metadata": {
    "collapsed": false,
    "pycharm": {
     "name": "#%%\n"
    }
   }
  },
  {
   "cell_type": "code",
   "execution_count": 25,
   "outputs": [
    {
     "data": {
      "text/plain": "(128, 128, 128, 128, 128)"
     },
     "execution_count": 25,
     "metadata": {},
     "output_type": "execute_result"
    }
   ],
   "source": [
    "128 << 0, 64 << 1, 32 << 2, 16 << 3, 8 << 4"
   ],
   "metadata": {
    "collapsed": false,
    "pycharm": {
     "name": "#%%\n"
    }
   }
  },
  {
   "cell_type": "code",
   "execution_count": 26,
   "outputs": [
    {
     "data": {
      "text/plain": "200"
     },
     "execution_count": 26,
     "metadata": {},
     "output_type": "execute_result"
    }
   ],
   "source": [
    "# Faster than * operator\n",
    "100 << 1"
   ],
   "metadata": {
    "collapsed": false,
    "pycharm": {
     "name": "#%%\n"
    }
   }
  },
  {
   "cell_type": "code",
   "execution_count": 27,
   "outputs": [
    {
     "data": {
      "text/plain": "400"
     },
     "execution_count": 27,
     "metadata": {},
     "output_type": "execute_result"
    }
   ],
   "source": [
    "100 << 2"
   ],
   "metadata": {
    "collapsed": false,
    "pycharm": {
     "name": "#%%\n"
    }
   }
  },
  {
   "cell_type": "code",
   "execution_count": 28,
   "outputs": [
    {
     "name": "stdout",
     "output_type": "stream",
     "text": [
      "0b11111010 250\n",
      "0b111110100 500\n",
      "0b1111101000 1000\n",
      "0b11111010000 2000\n",
      "0b111110100000 4000\n",
      "0b1111101000000 8000\n",
      "0b11111010000000 16000\n",
      "0b111110100000000 32000\n",
      "0b1111101000000000 64000\n",
      "0b11111010000000000 128000\n"
     ]
    }
   ],
   "source": [
    "for a in range(10):\n",
    "    print(\"{:>8} {}\".format(bin(0xFA << a), 0xFA << a))"
   ],
   "metadata": {
    "collapsed": false,
    "pycharm": {
     "name": "#%%\n"
    }
   }
  },
  {
   "cell_type": "code",
   "execution_count": 2,
   "outputs": [
    {
     "name": "stdout",
     "output_type": "stream",
     "text": [
      "-0b11111010 -250\n",
      "-0b111110100 -500\n",
      "-0b1111101000 -1000\n",
      "-0b11111010000 -2000\n",
      "-0b111110100000 -4000\n",
      "-0b1111101000000 -8000\n",
      "-0b11111010000000 -16000\n",
      "-0b111110100000000 -32000\n",
      "-0b1111101000000000 -64000\n",
      "-0b11111010000000000 -128000\n"
     ]
    }
   ],
   "source": [
    "for a in range(10):\n",
    "    print(\"{:>8} {}\".format(bin(-0xFA << a), -0xFA << a))"
   ],
   "metadata": {
    "collapsed": false,
    "pycharm": {
     "name": "#%%\n"
    }
   }
  },
  {
   "cell_type": "code",
   "execution_count": null,
   "outputs": [],
   "source": [],
   "metadata": {
    "collapsed": false,
    "pycharm": {
     "name": "#%%\n"
    }
   }
  }
 ],
 "metadata": {
  "kernelspec": {
   "display_name": "Python 3",
   "language": "python",
   "name": "python3"
  },
  "language_info": {
   "codemirror_mode": {
    "name": "ipython",
    "version": 2
   },
   "file_extension": ".py",
   "mimetype": "text/x-python",
   "name": "python",
   "nbconvert_exporter": "python",
   "pygments_lexer": "ipython2",
   "version": "2.7.6"
  }
 },
 "nbformat": 4,
 "nbformat_minor": 0
}