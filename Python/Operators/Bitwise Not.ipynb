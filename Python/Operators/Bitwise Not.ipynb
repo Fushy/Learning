{
 "cells": [
  {
   "cell_type": "code",
   "execution_count": 31,
   "outputs": [],
   "source": [
    " # The bitwise NOT operator (~), which expects just one argument, making it the only unary bitwise operator. It performs logical negation\n",
    "# Using the bitwise NOT on a positive number always produces a negative\n",
    "# On its regular result its is does (x + 1) * -1,\n",
    "# On its two_complement_representation result it invert all bit and add one from bit(x),"
   ],
   "metadata": {
    "collapsed": false,
    "pycharm": {
     "name": "#%%\n"
    }
   }
  },
  {
   "cell_type": "code",
   "execution_count": 32,
   "outputs": [
    {
     "data": {
      "text/plain": "(-1, int)"
     },
     "execution_count": 32,
     "metadata": {},
     "output_type": "execute_result"
    }
   ],
   "source": [
    "a: int = ~False\n",
    "a, type(a)"
   ],
   "metadata": {
    "collapsed": false,
    "pycharm": {
     "name": "#%%\n"
    }
   }
  },
  {
   "cell_type": "code",
   "execution_count": 33,
   "outputs": [
    {
     "name": "stdout",
     "output_type": "stream",
     "text": [
      "-2\n",
      "-1\n",
      "True\n"
     ]
    }
   ],
   "source": [
    "print(~True)\n",
    "print(~False)\n",
    "print(bool(~True))"
   ],
   "metadata": {
    "collapsed": false,
    "pycharm": {
     "name": "#%%\n"
    }
   }
  },
  {
   "cell_type": "code",
   "execution_count": 17,
   "outputs": [
    {
     "name": "stdout",
     "output_type": "stream",
     "text": [
      "a    16       0b10000  \t0b10000         \n",
      "-a  -16      -0b10000 \t0b11110000      \n",
      "~a  -17      -0b10001 \t0b11101111      \n",
      "~-a  15       0b1111   \t0b1111          \n",
      "\n",
      "a    15       0b1111   \t0b1111          \n",
      "-a  -15      -0b1111  \t0b11110001      \n",
      "~a  -16      -0b10000 \t0b11110000      \n",
      "~-a  14       0b1110   \t0b1110          \n",
      "\n",
      "a    14       0b1110   \t0b1110          \n",
      "-a  -14      -0b1110  \t0b11110010      \n",
      "~a  -15      -0b1111  \t0b11110001      \n",
      "~-a  13       0b1101   \t0b1101          \n",
      "\n",
      "a    13       0b1101   \t0b1101          \n",
      "-a  -13      -0b1101  \t0b11110011      \n",
      "~a  -14      -0b1110  \t0b11110010      \n",
      "~-a  12       0b1100   \t0b1100          \n",
      "\n",
      "a    12       0b1100   \t0b1100          \n",
      "-a  -12      -0b1100  \t0b11110100      \n",
      "~a  -13      -0b1101  \t0b11110011      \n",
      "~-a  11       0b1011   \t0b1011          \n",
      "\n",
      "a    11       0b1011   \t0b1011          \n",
      "-a  -11      -0b1011  \t0b11110101      \n",
      "~a  -12      -0b1100  \t0b11110100      \n",
      "~-a  10       0b1010   \t0b1010          \n",
      "\n",
      "a    10       0b1010   \t0b1010          \n",
      "-a  -10      -0b1010  \t0b11110110      \n",
      "~a  -11      -0b1011  \t0b11110101      \n",
      "~-a  9        0b1001   \t0b1001          \n",
      "\n",
      "a    9        0b1001   \t0b1001          \n",
      "-a  -9       -0b1001  \t0b11110111      \n",
      "~a  -10      -0b1010  \t0b11110110      \n",
      "~-a  8        0b1000   \t0b1000          \n",
      "\n",
      "a    8        0b1000   \t0b1000          \n",
      "-a  -8       -0b1000  \t0b11111000      \n",
      "~a  -9       -0b1001  \t0b11110111      \n",
      "~-a  7        0b111    \t0b111           \n",
      "\n",
      "a    7        0b111    \t0b111           \n",
      "-a  -7       -0b111   \t0b11111001      \n",
      "~a  -8       -0b1000  \t0b11111000      \n",
      "~-a  6        0b110    \t0b110           \n",
      "\n",
      "a    6        0b110    \t0b110           \n",
      "-a  -6       -0b110   \t0b11111010      \n",
      "~a  -7       -0b111   \t0b11111001      \n",
      "~-a  5        0b101    \t0b101           \n",
      "\n",
      "a    5        0b101    \t0b101           \n",
      "-a  -5       -0b101   \t0b11111011      \n",
      "~a  -6       -0b110   \t0b11111010      \n",
      "~-a  4        0b100    \t0b100           \n",
      "\n",
      "a    4        0b100    \t0b100           \n",
      "-a  -4       -0b100   \t0b11111100      \n",
      "~a  -5       -0b101   \t0b11111011      \n",
      "~-a  3        0b11     \t0b11            \n",
      "\n",
      "a    3        0b11     \t0b11            \n",
      "-a  -3       -0b11    \t0b11111101      \n",
      "~a  -4       -0b100   \t0b11111100      \n",
      "~-a  2        0b10     \t0b10            \n",
      "\n",
      "a    2        0b10     \t0b10            \n",
      "-a  -2       -0b10    \t0b11111110      \n",
      "~a  -3       -0b11    \t0b11111101      \n",
      "~-a  1        0b1      \t0b1             \n",
      "\n",
      "a    1        0b1      \t0b1             \n",
      "-a  -1       -0b1     \t0b11111111      \n",
      "~a  -2       -0b10    \t0b11111110      \n",
      "~-a  0        0b0      \t0b0             \n",
      "\n"
     ]
    }
   ],
   "source": [
    "from Util import two_complement_representation\n",
    "\n",
    "for a in range(0xF + 0x1, 0, -1):\n",
    "    print(\"a    {:<8} {:<8} \\t{:<16}\".format(a, bin(a), two_complement_representation(a)))\n",
    "    print(\"-a  {:<8} {:<8} \\t{:<16}\".format(-a, bin(-a), two_complement_representation(-a)))\n",
    "    print(\"~a  {:<8} {:<8} \\t{:<16}\".format(~a, bin(~a), two_complement_representation(~a)))\n",
    "    print(\"~-a  {:<8} {:<8} \\t{:<16}\".format(~-a, bin(~-a), two_complement_representation(~-a)))\n",
    "    print()\n"
   ],
   "metadata": {
    "collapsed": false,
    "pycharm": {
     "name": "#%%\n"
    }
   }
  },
  {
   "cell_type": "code",
   "execution_count": null,
   "outputs": [],
   "source": [],
   "metadata": {
    "collapsed": false,
    "pycharm": {
     "name": "#%%\n"
    }
   }
  }
 ],
 "metadata": {
  "kernelspec": {
   "display_name": "Python 3",
   "language": "python",
   "name": "python3"
  },
  "language_info": {
   "codemirror_mode": {
    "name": "ipython",
    "version": 2
   },
   "file_extension": ".py",
   "mimetype": "text/x-python",
   "name": "python",
   "nbconvert_exporter": "python",
   "pygments_lexer": "ipython2",
   "version": "2.7.6"
  }
 },
 "nbformat": 4,
 "nbformat_minor": 0
}