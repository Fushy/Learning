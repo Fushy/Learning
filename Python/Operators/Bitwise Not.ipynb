{
 "cells": [
  {
   "cell_type": "code",
   "execution_count": 6,
   "metadata": {
    "collapsed": true
   },
   "outputs": [
    {
     "name": "stdout",
     "output_type": "stream",
     "text": [
      "       0\n",
      "      -1\n",
      "     0b0\n",
      "    -0b1\n",
      "\n",
      "       1\n",
      "      -2\n",
      "     0b1\n",
      "   -0b10\n",
      "\n",
      "       2\n",
      "      -3\n",
      "    0b10\n",
      "   -0b11\n",
      "\n",
      "       3\n",
      "      -4\n",
      "    0b11\n",
      "  -0b100\n",
      "\n",
      "       4\n",
      "      -5\n",
      "   0b100\n",
      "  -0b101\n",
      "\n",
      "       5\n",
      "      -6\n",
      "   0b101\n",
      "  -0b110\n",
      "\n",
      "       6\n",
      "      -7\n",
      "   0b110\n",
      "  -0b111\n",
      "\n",
      "       7\n",
      "      -8\n",
      "   0b111\n",
      " -0b1000\n",
      "\n",
      "       8\n",
      "      -9\n",
      "  0b1000\n",
      " -0b1001\n",
      "\n",
      "       9\n",
      "     -10\n",
      "  0b1001\n",
      " -0b1010\n",
      "\n",
      "      10\n",
      "     -11\n",
      "  0b1010\n",
      " -0b1011\n",
      "\n",
      "      11\n",
      "     -12\n",
      "  0b1011\n",
      " -0b1100\n",
      "\n",
      "      12\n",
      "     -13\n",
      "  0b1100\n",
      " -0b1101\n",
      "\n",
      "      13\n",
      "     -14\n",
      "  0b1101\n",
      " -0b1110\n",
      "\n",
      "      14\n",
      "     -15\n",
      "  0b1110\n",
      " -0b1111\n",
      "\n",
      "      15\n",
      "     -16\n",
      "  0b1111\n",
      "-0b10000\n",
      "\n",
      "-2\n",
      "-1\n"
     ]
    }
   ],
   "source": [
    "for a in range(0xF + 0x1):\n",
    "    print(\"{:>8}\".format(a))\n",
    "    print(\"{:>8}\".format(~a))\n",
    "    print(\"{:>8}\".format(bin(a)))\n",
    "    print(\"{:>8}\".format(bin(~a)))\n",
    "    print()\n",
    "print(~True)\n",
    "print(~False)"
   ]
  },
  {
   "cell_type": "code",
   "execution_count": 4,
   "outputs": [],
   "source": [],
   "metadata": {
    "collapsed": false,
    "pycharm": {
     "name": "#%%\n"
    }
   }
  }
 ],
 "metadata": {
  "kernelspec": {
   "display_name": "Python 3",
   "language": "python",
   "name": "python3"
  },
  "language_info": {
   "codemirror_mode": {
    "name": "ipython",
    "version": 2
   },
   "file_extension": ".py",
   "mimetype": "text/x-python",
   "name": "python",
   "nbconvert_exporter": "python",
   "pygments_lexer": "ipython2",
   "version": "2.7.6"
  }
 },
 "nbformat": 4,
 "nbformat_minor": 0
}