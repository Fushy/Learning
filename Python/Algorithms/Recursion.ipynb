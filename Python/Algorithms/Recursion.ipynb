{
 "cells": [
  {
   "cell_type": "markdown",
   "source": [
    "# Recursion\n",
    "\n",
    "## Introduction\n",
    "\n",
    "A method of defining a sequence of objects, such as an expression, function, or set, where some number of initial objects are given and each successive object is defined in terms of the preceding objects.\n",
    "In a programming context, a recursive function is a function that calls itself.\n",
    "Recursion is an important computer science topic and can yield keen insights into programming itself.\n",
    "\n",
    "Tree-like, or recursive data structures are a good example of recursion because these structures are nested and fit a recursive definition.\n",
    "If a problem represents a simple case, solve it. If not, divide it into sub-problems and apply recursion strategy.\n",
    "\n",
    "Recursion isn’t for every situation\n",
    "- Recursive implementations often consume more memory than non-recursive ones\n",
    "- Recursion may result in slower execution time\n",
    "- For some problems, a recursive solution will be awkward rather than elegant\n",
    "\n",
    "## Stack\n",
    "\n",
    "Recursive algorithms use mainly the stack. To understand recursion, you must first understand stacks.\n",
    "A stack is one of the simplest data structures in computer science. It stores multiple values, and it limits you to adding (push) to or removing (pop) values from the \"top\" of the stack only.\n",
    "Stacks are LIFO data structure, which stands for last in, first out.\n",
    "\n",
    "In programs, it controls the program’s flow of execution.\n",
    "The stack is automatically updated on function calls (push) and function returns (pop), it doesn’t appear anywhere in the source code so most programming beginners don’t know about stacks.\n",
    "Python creates a new namespace for each new function called, when a function is called, the namespace is put on the \"top\" of the program's stack, this namespace pushed is called a frame objects or simply a frame.\n",
    "All the recursive calls stack up onto the <strong>stack</strong>, too much called can raise a RecursionError (maximum recursion depth exceeded) due to <strong>stackoverflow</strong>\n",
    "\n",
    "Every running program has a call stack, and multithreaded programs have one call stack for each thread. When a local variable is used in the source code, the variable with that name in the topmost frame object is used.\n",
    "\n",
    "## Iterative & recursive algorithms\n",
    "\n",
    "For iterative algorithms, put your finger on the line of code at the top of the program and move down. Sometimes your finger will loop back; other times, it will jump into a function and later return. This makes it easy to visualize what a program does and in what order.\n",
    "\n",
    "Each non-recursive solution has a recursive solution (with the use of a stack as a variable if it's needed)\n",
    "Each recursive solution has a non-recursive solution (with the use of a stack as the process memory)\n",
    "Choose based on which one results in the fastest and/or most readable and intuitive\n",
    "\n",
    "## Recursion in Python\n",
    "\n",
    "- Python doesn’t have support for tail-call elimination\n",
    "- Python’s mutable data structures don’t support structural sharing, take care when using mutable parameters that are modified and is going to be re-use into a further call. To use independent structure from a mutable one, copy the data as a new variable and send it to the next call. (see bellow sum_mult_len_wrong)\n",
    "\n",
    "## Disclaimer\n",
    "\n",
    "The programming technique of recursion can produce elegant code solutions.\n",
    "However, sometimes recursion is overused in cases where a simpler solution exists.\n",
    "Readable, easy-to-understand code is more important than any supposed elegance that recursion provides.\n",
    "Recursive algorithms can be hard to understand, have worse performance, and are susceptible to crash-causing stack overflow errors.\n",
    "\n",
    "## Memes\n",
    "\n",
    "Dr. John Wilander: \"When you finish a PhD in computer science, they take you to a special room and explain that you must never use recursion in real life. Its only purpose is to make programming hard for undergrads.\"\n",
    "# Origin: https://twitter.com/johnwilander/status/1176457013305303040\n",
    "# Meme thread: https://twitter.com/grady_booch/status/1177340563932119040\n",
    "\n",
    "https://www.google.com/search?q=recursion\n"
   ],
   "metadata": {
    "collapsed": false,
    "pycharm": {
     "name": "#%% md\n"
    }
   }
  },
  {
   "cell_type": "code",
   "execution_count": 83,
   "outputs": [
    {
     "data": {
      "text/plain": "10000"
     },
     "execution_count": 83,
     "metadata": {},
     "output_type": "execute_result"
    }
   ],
   "source": [
    "import sys\n",
    "\n",
    "recursion_limit = sys.getrecursionlimit()\n",
    "recursion_limit"
   ],
   "metadata": {
    "collapsed": false,
    "pycharm": {
     "name": "#%%\n"
    }
   }
  },
  {
   "cell_type": "markdown",
   "source": [
    "## setrecursionlimit(n: int)\n",
    "\n",
    "May be useful when a code is not optimized but is working."
   ],
   "metadata": {
    "collapsed": false,
    "pycharm": {
     "name": "#%% md\n"
    }
   }
  },
  {
   "cell_type": "code",
   "execution_count": 84,
   "outputs": [],
   "source": [
    "sys.setrecursionlimit(10000)"
   ],
   "metadata": {
    "collapsed": false,
    "pycharm": {
     "name": "#%%\n"
    }
   }
  },
  {
   "cell_type": "markdown",
   "source": [
    "# Solving pattern recursion\n",
    "\n",
    "- <strong>Base case</strong> or <strong>Terminate condition</strong>: There are one or more <strong>base cases</strong> that are directly solvable without the need for further recursion.\n",
    "    - Reaching a base case doesn’t necessarily mean reaching the end of the recursive algorithm. It only means the base case won’t continue to make recursive calls.\n",
    "- <strong>Recursive case</strong> or <strong>Reductive case</strong>: Each recursive call moves the solution progressively closer to a <strong>base case</strong>.\n",
    "    - If a recursive case if not on a return expression, the code that follows the call will be executed, hence, take care about mutable variables.\n",
    "\n",
    "The code in a recursive case can be split into three parts\n",
    "    - the code before the recursive call\n",
    "    - the code after the recursive call\n",
    "    - the code between recursive calls\n",
    "\n",
    "- Use recursion with parameters or not\n",
    "    to avoid to reduce a variable from each recursive call, use a new variable (as a parameter or as a global variable)\n",
    "      -  The new variable can be a <strong>substitute</strong> for the reductive case, most of the case that's a counter.\n",
    "      -  The new variable can be an <strong>accumulator</strong> that is changed at each new recursive call, the accumulator should be returned to the base case. It can also reduce the recursive call expression\n",
    "      That's can be useful in order\n",
    "          - to not change the main variable\n",
    "          - to reduce the recursive call expression\n",
    "          - to keep a trace from previous stacks\n",
    "    (check basic examples)\n",
    "- Pattern with int\n",
    "    - To count a recursion, return 1 onto base cases when it's countable, 0 when it's not\n",
    "    (check count_leaf)\n",
    "- Pattern with boolean\n",
    "    - To check if all conditions are satisfied, return the test condition onto reductive cases with use of and, and True onto base case\n",
    "    - To check if one condition is satisfied, return the test condition onto reductive cases with use of or, and False onto base case\n",
    "    (check palindrome)\n",
    "- If the return values from the recursive case are never assigned/used\n",
    "    - you may return nothing on bases cases.\n",
    "    - the returns other than the base case return may be useful only for the original function call.\n",
    "    (check count_down_n_up)\n",
    "- Memoization\n",
    "    - To save recursive calls that have been already parsed, we save a key representing the current recursion call namespace into a dictionary to avoid the same recursive call for later. That's called <strong>Memoization</strong>.\n",
    "    (check Fibonacci)\n"
   ],
   "metadata": {
    "collapsed": false,
    "pycharm": {
     "name": "#%% md\n"
    }
   }
  },
  {
   "cell_type": "code",
   "execution_count": 85,
   "outputs": [],
   "source": [
    "## Basic examples"
   ],
   "metadata": {
    "collapsed": false,
    "pycharm": {
     "name": "#%%\n"
    }
   }
  },
  {
   "cell_type": "code",
   "execution_count": 91,
   "outputs": [
    {
     "name": "stdout",
     "output_type": "stream",
     "text": [
      "3\n",
      "2\n",
      "1\n"
     ]
    }
   ],
   "source": [
    "def countdown(n):\n",
    "    if n == 0:  # Terminate condition\n",
    "        return\n",
    "    print(n)\n",
    "    countdown(n - 1)  # Recursive call using reductive case\n",
    "\n",
    "\n",
    "countdown(3)"
   ],
   "metadata": {
    "collapsed": false,
    "pycharm": {
     "name": "#%%\n"
    }
   }
  },
  {
   "cell_type": "code",
   "execution_count": 102,
   "outputs": [
    {
     "name": "stdout",
     "output_type": "stream",
     "text": [
      "3\n",
      "2\n",
      "1\n",
      "0\n",
      "Reached the base case.\n",
      "0\n",
      "1\n",
      "2\n",
      "3\n"
     ]
    }
   ],
   "source": [
    "def print_down_n_up(n):\n",
    "    \"\"\"Recursive function prints from any number down to zero, and then back up to the number\"\"\"\n",
    "    if n < 0:\n",
    "        print('Reached the base case.')\n",
    "        return\n",
    "    print(n)\n",
    "    print_down_n_up(n - 1)\n",
    "    print(n)\n",
    "\n",
    "print_down_n_up(3)"
   ],
   "metadata": {
    "collapsed": false,
    "pycharm": {
     "name": "#%%\n"
    }
   }
  },
  {
   "cell_type": "code",
   "execution_count": 117,
   "outputs": [
    {
     "data": {
      "text/plain": "[8]"
     },
     "execution_count": 117,
     "metadata": {},
     "output_type": "execute_result"
    }
   ],
   "source": [
    "def count_down_n_up(n, acc=[0]):\n",
    "    \"\"\"Recursive function counts from any number down to zero, and then back up to the number\"\"\"\n",
    "    if n < 0:\n",
    "        return\n",
    "    acc[0] += 1\n",
    "    count_down_n_up(n - 1, acc) # for each frame that use this recursive call, the return value will be ignored. So the base case can return nothing\n",
    "    acc[0] += 1\n",
    "    return acc  # because there is no expression that use the return value except outside this function, this return may be useful only for the original call\n",
    "\n",
    "count_down_n_up(3)"
   ],
   "metadata": {
    "collapsed": false,
    "pycharm": {
     "name": "#%%\n"
    }
   }
  },
  {
   "cell_type": "code",
   "execution_count": 122,
   "outputs": [
    {
     "name": "stdout",
     "output_type": "stream",
     "text": [
      "12\n"
     ]
    }
   ],
   "source": [
    "def sum_down_n_up(n, acc=[0]):\n",
    "    \"\"\"Recursive function sums from any number down to zero, and then back up to the number\"\"\"\n",
    "    if n < 0:\n",
    "        return\n",
    "    acc[0] += n\n",
    "    sum_down_n_up(n - 1, acc)\n",
    "    acc[0] += n\n",
    "    return acc[0]\n",
    "\n",
    "\n",
    "print(sum_down_n_up(3)) # 0 + 1 + 2 + 3 + 3 + 2 + 1 + 0"
   ],
   "metadata": {
    "collapsed": false,
    "pycharm": {
     "name": "#%%\n"
    }
   }
  },
  {
   "cell_type": "code",
   "execution_count": null,
   "outputs": [],
   "source": [
    "def sum_rec(n):\n",
    "    if n == 0:\n",
    "        return 0\n",
    "    return n + sum_rec(n - 1)  # Recursive call using reductive case\n",
    "\n",
    "\n",
    "sum_rec(10)"
   ],
   "metadata": {
    "collapsed": false,
    "pycharm": {
     "name": "#%%\n"
    }
   }
  },
  {
   "cell_type": "code",
   "execution_count": null,
   "outputs": [],
   "source": [
    "def sum_rec_sub(n, i=0):\n",
    "    if n == i:\n",
    "        return 0\n",
    "    return n - i + sum_rec_sub(n, i + 1)  # Recursive call using new variable as substitute\n",
    "\n",
    "\n",
    "sum_rec_sub(10)"
   ],
   "metadata": {
    "collapsed": false,
    "pycharm": {
     "name": "#%%\n"
    }
   }
  },
  {
   "cell_type": "code",
   "execution_count": null,
   "outputs": [],
   "source": [
    "def sum_rec_acc(n, i=1, accumulator=0):\n",
    "    if n == i - 1:\n",
    "        return accumulator\n",
    "    return sum_rec_acc(n, i + 1,\n",
    "                       accumulator + i)  # Recursive call using accumulator, reduce the recursive call expression\n",
    "\n",
    "\n",
    "sum_rec_acc(10)"
   ],
   "metadata": {
    "collapsed": false,
    "pycharm": {
     "name": "#%%\n"
    }
   }
  },
  {
   "cell_type": "markdown",
   "source": [
    "### Parsing"
   ],
   "metadata": {
    "collapsed": false,
    "pycharm": {
     "name": "#%% md\n"
    }
   }
  },
  {
   "cell_type": "code",
   "execution_count": null,
   "outputs": [],
   "source": [
    "def left_to_right(lst):\n",
    "    if len(lst) == 0:\n",
    "        return 0\n",
    "    print(lst)\n",
    "    return 1 + left_to_right(lst[1:])\n",
    "\n",
    "\n",
    "def right_to_left(lst):\n",
    "    if len(lst) == 0:\n",
    "        return 0\n",
    "    print(lst)\n",
    "    return 1 + right_to_left(lst[:-1])\n",
    "\n",
    "\n",
    "def divide_subarray(lst):\n",
    "    if len(lst) == 0:\n",
    "        return 0\n",
    "    print(lst)\n",
    "    if len(lst) <= 1:\n",
    "        return 1\n",
    "    mid = len(lst) // 2\n",
    "    return divide_subarray(lst[:mid]) + divide_subarray(lst[mid:])\n",
    "\n",
    "\n",
    "letters = [\"a\", \"b\", \"c\", \"d\", \"e\", \"f\"]\n",
    "print(left_to_right(letters))\n",
    "print(right_to_left(letters))\n",
    "print(divide_subarray(letters))"
   ],
   "metadata": {
    "collapsed": false,
    "pycharm": {
     "name": "#%%\n"
    }
   }
  },
  {
   "cell_type": "markdown",
   "source": [
    "### Calculates & count"
   ],
   "metadata": {
    "collapsed": false,
    "pycharm": {
     "name": "#%% md\n"
    }
   }
  },
  {
   "cell_type": "code",
   "execution_count": null,
   "outputs": [],
   "source": [
    "def factorial(n):\n",
    "    if n in [0, 1]:\n",
    "        return 1\n",
    "    return n * factorial(n - 1)\n",
    "\n",
    "\n",
    "factorial(5)"
   ],
   "metadata": {
    "collapsed": false,
    "pycharm": {
     "name": "#%%\n"
    }
   }
  },
  {
   "cell_type": "code",
   "execution_count": null,
   "outputs": [],
   "source": [
    "nested_list = list[\"nested_list\"] | str\n",
    "names: nested_list = [\n",
    "    \"Adam\",\n",
    "    [\n",
    "        \"Bob\",\n",
    "        [\n",
    "            \"Chet\",\n",
    "            \"Cat\",\n",
    "        ],\n",
    "        \"Barb\",\n",
    "        \"Bert\"\n",
    "    ],\n",
    "    \"Alex\",\n",
    "    [\n",
    "        \"Bea\",\n",
    "        []\n",
    "    ],\n",
    "    \"Ann\"\n",
    "]"
   ],
   "metadata": {
    "collapsed": false,
    "pycharm": {
     "name": "#%%\n"
    }
   }
  },
  {
   "cell_type": "code",
   "execution_count": null,
   "outputs": [],
   "source": [
    "def count_leaf_rec(lst: nested_list):\n",
    "    if type(lst) is not list:\n",
    "        return 1\n",
    "    return sum(count_leaf_rec(element) for element in lst)  # sum([]) return 0\n",
    "\n",
    "\n",
    "count_leaf_rec(names)"
   ],
   "metadata": {
    "collapsed": false,
    "pycharm": {
     "name": "#%%\n"
    }
   }
  },
  {
   "cell_type": "code",
   "execution_count": null,
   "outputs": [],
   "source": [
    "def count_leaf_iter(item_list):\n",
    "    count = 0\n",
    "    stack = []\n",
    "    current_list = item_list\n",
    "    i = 0\n",
    "    while True:\n",
    "        if i == len(current_list):\n",
    "            if current_list == item_list:\n",
    "                return count\n",
    "            else:\n",
    "                current_list, i = stack.pop()\n",
    "                i += 1\n",
    "                continue\n",
    "        if isinstance(current_list[i], list):\n",
    "            stack.append([current_list, i])\n",
    "            current_list = current_list[i]\n",
    "            i = 0\n",
    "        else:\n",
    "            count += 1\n",
    "            i += 1\n",
    "\n",
    "\n",
    "count_leaf_rec(names)"
   ],
   "metadata": {
    "collapsed": false,
    "pycharm": {
     "name": "#%%\n"
    }
   }
  },
  {
   "cell_type": "markdown",
   "source": [
    "### Boolean use case"
   ],
   "metadata": {
    "collapsed": false,
    "pycharm": {
     "name": "#%% md\n"
    }
   }
  },
  {
   "cell_type": "code",
   "execution_count": null,
   "outputs": [],
   "source": [
    "def is_palindrome(word):\n",
    "    if len(word) <= 1:\n",
    "        return True\n",
    "    return word[0] == word[-1] and is_palindrome(word[1:-1])\n",
    "\n",
    "\n",
    "def is_palindrome_counter(word, i=0):\n",
    "    if i >= len(word) / 2:\n",
    "        return True\n",
    "    elif word[i] == word[-1 - i]:\n",
    "        return is_palindrome_counter(word, i + 1)\n",
    "    return False\n",
    "\n",
    "\n",
    "print(is_palindrome_counter(\"\"), is_palindrome_counter(\"a\"), is_palindrome_counter(\"aa\"), is_palindrome_counter(\"ab\"),\n",
    "      is_palindrome_counter(\"aba\"), is_palindrome_counter(\"racecar\"), is_palindrome_counter(\"apple\"))\n",
    "print(is_palindrome(\"\"), is_palindrome(\"a\"), is_palindrome(\"aa\"), is_palindrome(\"ab\"), is_palindrome(\"aba\"),\n",
    "      is_palindrome(\"racecar\"), is_palindrome(\"apple\"))"
   ],
   "metadata": {
    "collapsed": false,
    "pycharm": {
     "name": "#%%\n"
    }
   }
  },
  {
   "cell_type": "markdown",
   "source": [
    "### Sorting"
   ],
   "metadata": {
    "collapsed": false,
    "pycharm": {
     "name": "#%% md\n"
    }
   }
  },
  {
   "cell_type": "code",
   "execution_count": null,
   "outputs": [],
   "source": [
    "import statistics\n",
    "import random\n",
    "\n",
    "\n",
    "def quicksort_trivial(lst):\n",
    "    if len(lst) <= 1:\n",
    "        return lst\n",
    "    pivot = statistics.median([lst[0], lst[len(lst) // 2], lst[-1]])\n",
    "    items_less = [n for n in lst if n < pivot]\n",
    "    pivot_items = [n for n in lst if n == pivot]\n",
    "    items_greater = [n for n in lst if n > pivot]\n",
    "    return quicksort_trivial(items_less) + pivot_items + quicksort_trivial(items_greater)\n",
    "\n",
    "\n",
    "def quick_sort(lst):\n",
    "    if len(lst) <= 1:\n",
    "        return lst\n",
    "    pivot = lst[0]\n",
    "    return quick_sort([x for x in lst[1:] if x <= pivot]) + [pivot] + quick_sort([x for x in lst[1:] if x > pivot])\n",
    "\n",
    "\n",
    "randomlist = random.sample(range(-10, 10), 10)\n",
    "print(quicksort_trivial(randomlist))\n",
    "print(quick_sort(randomlist))"
   ],
   "metadata": {
    "collapsed": false,
    "pycharm": {
     "name": "#%%\n"
    }
   }
  },
  {
   "cell_type": "markdown",
   "source": [
    "### Mutable parameter"
   ],
   "metadata": {
    "collapsed": false,
    "pycharm": {
     "name": "#%% md\n"
    }
   }
  },
  {
   "cell_type": "code",
   "execution_count": 6,
   "outputs": [
    {
     "name": "stdout",
     "output_type": "stream",
     "text": [
      "[50, 24, 9, 2, 0]\n",
      "[] \n",
      "\n",
      "[75, 56, 36, 18, 5]\n",
      "[] \n",
      "\n",
      "[75, 56, 36, 18, 5]\n",
      "[1, 2, 3, 4, 5]\n"
     ]
    }
   ],
   "source": [
    "def sum_mult_len_wrong(a: list, accumulator):\n",
    "    if len(a) == 0:\n",
    "        return accumulator\n",
    "    # do not modify a mutable parameter if it's going to be re-use into a further call and the behaviour is not wanted, sometimes, it can be well hidden\n",
    "    for i in range(len(a)):\n",
    "        a[i] = i * len(a) # because of this for loop that modify directly \"a\", \"a\" is going to be changed outside this function\n",
    "    # a = [i * len(a) for i in a]   # this comprehension list create a new list, \"a\" is not going to be changed outside this function but the function result is still wrong\n",
    "    accumulator.append(sum(a))  # Here, the behaviour of modifying the mutable parameter accumulator for the next call is wanted\n",
    "    del a[0]\n",
    "    return sum_mult_len_wrong(a, accumulator)\n",
    "\n",
    "\n",
    "def sum_mult_len_ok(a: list, accumulator):\n",
    "    if len(a) == 0:\n",
    "        return accumulator\n",
    "    lst = list(a)\n",
    "    lst = [i * len(lst) for i in lst]\n",
    "    accumulator.append(sum(lst))\n",
    "    del a[0]    #   \"a\" is going to be changed outside this function\n",
    "    return sum_mult_len_ok(a, accumulator)\n",
    "\n",
    "def sum_mult_len(a: list, accumulator):\n",
    "    if len(a) == 0:\n",
    "        return accumulator\n",
    "    return sum_mult_len(a[1:], accumulator + [sum([i * len(a) for i in a])])\n",
    "\n",
    "\n",
    "lst = [1, 2, 3, 4, 5]\n",
    "print(sum_mult_len_wrong(lst, []))\n",
    "print(lst, \"\\n\")\n",
    "lst = [1, 2, 3, 4, 5]\n",
    "print(sum_mult_len_ok(lst, []))\n",
    "print(lst, \"\\n\")\n",
    "lst = [1, 2, 3, 4, 5]\n",
    "print(sum_mult_len(lst, []))\n",
    "print(lst)"
   ],
   "metadata": {
    "collapsed": false,
    "pycharm": {
     "name": "#%%\n"
    }
   }
  },
  {
   "cell_type": "markdown",
   "source": [
    "### Memoization"
   ],
   "metadata": {
    "collapsed": false,
    "pycharm": {
     "name": "#%% md\n"
    }
   }
  },
  {
   "cell_type": "code",
   "execution_count": 24,
   "outputs": [
    {
     "data": {
      "text/plain": "9227465"
     },
     "execution_count": 24,
     "metadata": {},
     "output_type": "execute_result"
    }
   ],
   "source": [
    "def fibonacci_iter(n):\n",
    "    a, b = 0, 1\n",
    "    for _ in range(n):\n",
    "        a, b = b, a + b\n",
    "    return a\n",
    "\n",
    "\n",
    "def fibonacci_rec(n):\n",
    "    if n in (0, 1):\n",
    "        return n\n",
    "    return fibonacci_rec(n - 1) + fibonacci_rec(n - 2)\n",
    "\n",
    "\n",
    "fibonacci_rec(35)"
   ],
   "metadata": {
    "collapsed": false,
    "pycharm": {
     "name": "#%%\n"
    }
   }
  },
  {
   "cell_type": "code",
   "execution_count": 33,
   "outputs": [
    {
     "name": "stdout",
     "output_type": "stream",
     "text": [
      "2 already parsed\n",
      "3 already parsed\n",
      "4 already parsed\n",
      "5 already parsed\n",
      "6 already parsed\n",
      "7 already parsed\n",
      "8 already parsed\n",
      "9 already parsed\n",
      "10 already parsed\n",
      "11 already parsed\n",
      "12 already parsed\n",
      "13 already parsed\n",
      "14 already parsed\n",
      "15 already parsed\n",
      "16 already parsed\n",
      "17 already parsed\n",
      "18 already parsed\n",
      "19 already parsed\n",
      "20 already parsed\n",
      "21 already parsed\n",
      "22 already parsed\n",
      "23 already parsed\n",
      "24 already parsed\n",
      "25 already parsed\n",
      "26 already parsed\n",
      "27 already parsed\n",
      "28 already parsed\n",
      "29 already parsed\n",
      "30 already parsed\n",
      "31 already parsed\n",
      "32 already parsed\n",
      "33 already parsed\n"
     ]
    },
    {
     "data": {
      "text/plain": "9227465"
     },
     "execution_count": 33,
     "metadata": {},
     "output_type": "execute_result"
    }
   ],
   "source": [
    "def fibonacci_memoized(n):\n",
    "    if n in (0, 1):\n",
    "        return n\n",
    "    elif n in memoize:\n",
    "        print(n, \"already parsed\")\n",
    "        return memoize[n]\n",
    "    result = fibonacci_memoized(n - 1) + fibonacci_memoized(n - 2)\n",
    "    memoize[n] = result\n",
    "    return result\n",
    "\n",
    "\n",
    "memoize = {}\n",
    "fibonacci_memoized(35)"
   ],
   "metadata": {
    "collapsed": false,
    "pycharm": {
     "name": "#%%\n"
    }
   }
  },
  {
   "cell_type": "code",
   "execution_count": 34,
   "outputs": [
    {
     "data": {
      "text/plain": "9227465"
     },
     "execution_count": 34,
     "metadata": {},
     "output_type": "execute_result"
    }
   ],
   "source": [
    "from functools import lru_cache\n",
    "\n",
    "\n",
    "@lru_cache()\n",
    "def fibonacci_memoized_lib(n):\n",
    "    if n in (0, 1):\n",
    "        return n\n",
    "    return fibonacci_memoized_lib(n - 1) + fibonacci_memoized_lib(n - 2)\n",
    "\n",
    "\n",
    "fibonacci_memoized_lib(35)"
   ],
   "metadata": {
    "collapsed": false,
    "pycharm": {
     "name": "#%%\n"
    }
   }
  },
  {
   "cell_type": "markdown",
   "source": [
    "# Sources\n",
    "\n",
    "## links\n",
    "- https://realpython.com/python-recursion/\n",
    "- https://realpython.com/python-thinking-recursively/\n",
    "\n",
    "## book\n",
    "- Al Sweigart: The Recursive Book of Recursion - Ace the Coding Interview with Python and JavaScript"
   ],
   "metadata": {
    "collapsed": false,
    "pycharm": {
     "name": "#%% md\n"
    }
   }
  }
 ],
 "metadata": {
  "kernelspec": {
   "display_name": "Python 3",
   "language": "python",
   "name": "python3"
  },
  "language_info": {
   "codemirror_mode": {
    "name": "ipython",
    "version": 2
   },
   "file_extension": ".py",
   "mimetype": "text/x-python",
   "name": "python",
   "nbconvert_exporter": "python",
   "pygments_lexer": "ipython2",
   "version": "2.7.6"
  }
 },
 "nbformat": 4,
 "nbformat_minor": 0
}