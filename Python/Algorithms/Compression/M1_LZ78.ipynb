{
 "cells": [
  {
   "cell_type": "markdown",
   "metadata": {},
   "source": [
    "# Algorithmes de LZ78 et LZSS"
   ]
  },
  {
   "cell_type": "markdown",
   "metadata": {},
   "source": [
    "## 1. Huffman\n",
    "\n",
    "Dans cette partie, on remet les fonctions permettant de réaliser la compression par la méthode de Huffman. Vous pouvez garder celles proposées ci-dessous, ou mettre les votre (ou encore mieux, appeler votre package pour huffman).\n",
    "\n",
    "Il faut également avoir une fonction ``huffmanSize(text)`` qui retourne la taille, en nombre de bits, de la compression du message ``text`` au moyen de la méthode de Huffman."
   ]
  },
  {
   "cell_type": "code",
   "execution_count": 1,
   "metadata": {},
   "outputs": [],
   "source": [
    "def count(L):\n",
    "    D = {}\n",
    "    for a in L:\n",
    "        if a not in D:\n",
    "            D[a] = 1\n",
    "        else:\n",
    "            D[a] += 1\n",
    "    return [(v, k) for (k, v) in D.items()]\n",
    "\n",
    "\n",
    "class Heap:\n",
    "    def __init__(self, function=lambda x: x):\n",
    "        self.tab = []\n",
    "        self.f = function\n",
    "\n",
    "    def father(self, i):\n",
    "        if i == 0:\n",
    "            return None\n",
    "        return int((i - 1) / 2)\n",
    "\n",
    "    def left(self, i):\n",
    "        if 2 * i + 1 < len(self.tab):\n",
    "            return 2 * i + 1\n",
    "        return None\n",
    "\n",
    "    def right(self, i):\n",
    "        if 2 * i + 2 < len(self.tab):\n",
    "            return 2 * i + 2\n",
    "        return None\n",
    "\n",
    "    def __str__(self):\n",
    "        return str(self.tab)\n",
    "\n",
    "    def add(self, x):\n",
    "        self.tab.append(x)\n",
    "        i = len(self.tab) - 1\n",
    "        while i > 0 and self.f(self.tab[i]) < self.f(self.tab[self.father(i)]):\n",
    "            self.tab[i], self.tab[self.father(i)] = self.tab[self.father(i)], self.tab[i]\n",
    "            i = self.father(i)\n",
    "\n",
    "    def extract(self):\n",
    "        if len(self.tab) == 1:\n",
    "            return self.tab.pop()\n",
    "        res = self.tab[0]\n",
    "        self.tab[0] = self.tab.pop()\n",
    "        i = 0\n",
    "        while True:\n",
    "            l, r = self.left(i), self.right(i)\n",
    "            vl, vr = self.f(self.tab[i]), self.f(self.tab[i])\n",
    "            if l is not None:\n",
    "                vl = self.f(self.tab[l])\n",
    "            if r is not None:\n",
    "                vr = self.f(self.tab[r])\n",
    "            if self.f(self.tab[i]) <= vr and self.f(self.tab[i]) <= vl:\n",
    "                return res\n",
    "            if vl < vr:\n",
    "                self.tab[i], self.tab[l] = self.tab[l], self.tab[i]\n",
    "                i = l\n",
    "            else:\n",
    "                self.tab[i], self.tab[r] = self.tab[r], self.tab[i]\n",
    "                i = r\n",
    "\n",
    "\n",
    "def huffmanTree(L):\n",
    "    C = count(L)\n",
    "    H = Heap(lambda x: x[0])\n",
    "    for c in C:\n",
    "        H.add(c)\n",
    "    while len(H.tab) > 1:\n",
    "        x1 = H.extract()\n",
    "        x2 = H.extract()\n",
    "        A = (x1[0] + x2[0], x1, x2)\n",
    "        H.add(A)\n",
    "    return H.tab[0]\n",
    "\n",
    "\n",
    "def huffmanToCode(T, C=None, word=None):\n",
    "    if word is None:\n",
    "        word = []\n",
    "    if C is None:\n",
    "        C = {}\n",
    "    if len(T) == 2:  # leaf\n",
    "        C[T[1]] = u\"\".join(word)\n",
    "    else:\n",
    "        word.append('0')\n",
    "        huffmanToCode(T[1], C, word)\n",
    "        word[-1] = '1'\n",
    "        huffmanToCode(T[2], C, word)\n",
    "        word.pop()\n",
    "    return C\n",
    "\n",
    "\n",
    "from math import log\n",
    "\n",
    "\n",
    "def huffmanSize(text):\n",
    "    '''retourne la taille (en nombre de bits) une fois compressé par Huffman'''\n",
    "    K = count(text)\n",
    "    T = huffmanTree(text)\n",
    "    C = huffmanToCode(T)\n",
    "    k = len(C)\n",
    "    b = int(log(k + 1, 2) + 1)\n",
    "    taille_compress = sum([len(C[l]) * nb for nb, l in K])\n",
    "    taille_arbre = (b + 2) * k - 1\n",
    "    return taille_arbre + taille_compress"
   ]
  },
  {
   "cell_type": "markdown",
   "metadata": {},
   "source": [
    "## 2. LZ78\n",
    "\n",
    "Implantez l'algorithme de LZ78. La fonction aura pour signature ``lz78(u, size=None)``, où ``size`` représente la taille maximale du dictionnaire (voir le cours). Si ``size`` vaut ``None``, alors le dictionnaire n'a pas de limite de taille. Sinon, il est vidé dès qu'il atteint cette taille (voir le cours), et réinitialisé pour ne plus contenir que le mot vide.\n",
    "\n",
    "La sortie de l'algorithme sera, comme dans le cours, une liste de paires (indice,caractère)."
   ]
  },
  {
   "cell_type": "code",
   "execution_count": 2,
   "metadata": {},
   "outputs": [],
   "source": [
    "def lz78(u, size=None):\n",
    "    dico = {'': 0}\n",
    "    lst = []\n",
    "    i = 1\n",
    "    tmp = ''\n",
    "    for lettre in u:\n",
    "        if tmp + lettre not in dico:\n",
    "            lst.append((dico[tmp], lettre))  #ajout à la liste de résultat\n",
    "\n",
    "            if (size != None and i >= size):  #Si on fixe une taille au dico et qu'elle est pleine\n",
    "                dico = {'': 0}\n",
    "                i = 1\n",
    "\n",
    "            dico[tmp + lettre] = i  #ajout dico\n",
    "            tmp = ''\n",
    "            i += 1\n",
    "        else:\n",
    "            tmp += lettre\n",
    "    if tmp not in '':\n",
    "        lst.append((dico[tmp[:-1]], tmp[-1]))\n",
    "    return lst\n"
   ]
  },
  {
   "cell_type": "markdown",
   "metadata": {},
   "source": [
    "Vérifiez que votre fonction fonctionne correctement avec l'exemple du cours."
   ]
  },
  {
   "cell_type": "code",
   "execution_count": 3,
   "metadata": {},
   "outputs": [
    {
     "name": "stdout",
     "output_type": "stream",
     "text": [
      "[(0, 'c'), (1, 'b'), (0, 'b'), (0, 'a'), (2, 'a'), (4, 'b'), (2, 'b'), (2, 'c'), (1, 'c'), (4, 'a')]\n",
      "[(0, 'c'), (1, 'b'), (0, 'b'), (0, 'a'), (2, 'a'), (0, 'a'), (0, 'b'), (0, 'c'), (3, 'b'), (0, 'c'), (0, 'b'), (2, 'c'), (2, 'a'), (0, 'a')]\n"
     ]
    }
   ],
   "source": [
    "mot = \"ccbbacbaabcbbcbcccaa\"\n",
    "print(lz78(mot))\n",
    "print(lz78(mot, 5))"
   ]
  },
  {
   "cell_type": "markdown",
   "metadata": {},
   "source": [
    "Ecrire la fonction `un_lz78(seq,size=None)` qui décompresse la séquence `seq` produite par `lz78`."
   ]
  },
  {
   "cell_type": "code",
   "execution_count": 4,
   "metadata": {},
   "outputs": [
    {
     "name": "stdout",
     "output_type": "stream",
     "text": [
      "ccbbacbaabcbbcbcccaa\n"
     ]
    }
   ],
   "source": [
    "def un_lz78(seq, size=None):\n",
    "    dico = {}\n",
    "    mot = \"\"\n",
    "    i = 1\n",
    "    for (u, v) in seq:\n",
    "        if (u not in dico):\n",
    "            if (size != None and i >= size):  #Si on fixe une taille au dico et qu'elle est pleine\n",
    "                dico = {}\n",
    "                i = 1\n",
    "            mot += v\n",
    "            dico[i] = v\n",
    "        else:\n",
    "            tmp = dico[u] + v\n",
    "            mot += tmp\n",
    "            if (size != None and i >= size):  #Si on fixe une taille au dico et qu'elle est pleine\n",
    "                dico = {}\n",
    "                i = 1\n",
    "            dico[i] = tmp\n",
    "        i += 1\n",
    "    return mot\n",
    "\n",
    "\n",
    "print(un_lz78(lz78(mot, 4), 4))"
   ]
  },
  {
   "cell_type": "markdown",
   "metadata": {},
   "source": [
    "Vérifiez que votre fonction fonctionne avec le script ci-dessous."
   ]
  },
  {
   "cell_type": "code",
   "execution_count": 5,
   "metadata": {},
   "outputs": [
    {
     "name": "stdout",
     "output_type": "stream",
     "text": [
      "bacbbcbbacbbcacbcbcc True\n",
      "cccabcabaaaaaccbbaaa True\n",
      "abbbbabbccbcccbaaccb True\n",
      "cccbcbacbcaabbabbbac True\n",
      "abbcaccacacbbcccaaca True\n",
      "bbabacbccabcacbbaaba True\n",
      "ccacbbcacabcaacabccc True\n",
      "acaaacaaaabacbacbcbc True\n",
      "bbaccbcbaaccbbabbcab True\n",
      "cbacaacaacbbbacbabbc True\n"
     ]
    }
   ],
   "source": [
    "from random import choice\n",
    "\n",
    "for _ in range(10):\n",
    "    u = \"\".join([choice(['a', 'b', 'c']) for _ in range(20)])\n",
    "    print(u, un_lz78(lz78(u)) == u)"
   ]
  },
  {
   "cell_type": "markdown",
   "metadata": {},
   "source": [
    "## 3. Tests LZ78 + Huffman\n",
    "\n",
    "Appliquez lz78 au fichier `etranger.txt` (en ouvrant le fichier avec l'option 'r', pas 'rb'). Quelle est la taille de la compression du résultat de lz78 par Huffman (sans limite de taille pour l'alphabet)? Comparez-là à la taille initiale du fichier `etranger.txt`."
   ]
  },
  {
   "cell_type": "code",
   "execution_count": 6,
   "metadata": {},
   "outputs": [
    {
     "name": "stdout",
     "output_type": "stream",
     "text": [
      "La taille de la compression du résultat de lz78 par Huffman est de  1141348  bits.\n"
     ]
    }
   ],
   "source": [
    "fichier = open(\"etranger.txt\", \"r\")\n",
    "texte = fichier.read()\n",
    "lst = lz78(texte)\n",
    "size = huffmanSize(lst)\n",
    "print(\"La taille de la compression du résultat de lz78 par Huffman est de \", size, \" bits.\")"
   ]
  },
  {
   "cell_type": "markdown",
   "metadata": {},
   "source": [
    "On souhaite maintenant utiliser deux arbres de Huffman : un pour les indices, et un pour les caractères. Quelle deviendrait la taille du fichier compressé si on appliquait cette technique à `etranger.txt` ?"
   ]
  },
  {
   "cell_type": "code",
   "execution_count": 7,
   "metadata": {},
   "outputs": [
    {
     "name": "stdout",
     "output_type": "stream",
     "text": [
      "La taille du fichier compressé si on appliquait cette technique à etranger.txt est de  640152  bits.\n"
     ]
    }
   ],
   "source": [
    "a = \"\"\n",
    "b = \"\"\n",
    "for (u, v) in lst:\n",
    "    a += str(u)\n",
    "    b += v\n",
    "size = huffmanSize(a) + huffmanSize(b)\n",
    "print(\"La taille du fichier compressé si on appliquait cette technique à etranger.txt est de \", size, \" bits.\")"
   ]
  },
  {
   "cell_type": "markdown",
   "metadata": {},
   "source": [
    "Même question si on limite la taille du dictionnaire à 2048."
   ]
  },
  {
   "cell_type": "code",
   "execution_count": 8,
   "metadata": {},
   "outputs": [
    {
     "name": "stdout",
     "output_type": "stream",
     "text": [
      "La taille du fichier compressé si on appliquait cette technique à etranger.txt est de  745118  bits.\n"
     ]
    }
   ],
   "source": [
    "lst = lz78(texte, 2048)\n",
    "a = \"\"\n",
    "b = \"\"\n",
    "for (u, v) in lst:\n",
    "    a += str(u)\n",
    "    b += v\n",
    "size = huffmanSize(a) + huffmanSize(b)\n",
    "print(\"La taille du fichier compressé si on appliquait cette technique à etranger.txt est de \", size, \" bits.\")"
   ]
  },
  {
   "cell_type": "markdown",
   "metadata": {},
   "source": [
    "## 4. LZW (Facultatif)\n",
    "\n",
    "Reprendre les parties 2. et 3. avec LZW au lieu de LZ78."
   ]
  },
  {
   "cell_type": "code",
   "execution_count": 9,
   "metadata": {},
   "outputs": [],
   "source": [
    "import copy\n",
    "\n",
    "\n",
    "def lzw(u, size=None):\n",
    "    alpha = {m for m in u}\n",
    "    i = 0\n",
    "    dico = {\"\": -1}\n",
    "    tmp = \"\"\n",
    "    tmp2 = \"\"\n",
    "    lst = []\n",
    "    for x in sorted(alpha):\n",
    "        dico[x] = i\n",
    "        i += 1\n",
    "    dicoCopy = copy.deepcopy(dico)\n",
    "\n",
    "    for lettre in u:\n",
    "        if tmp not in dico:  #Ajout dans le dico\n",
    "            if (size != None and i >= size):  #Si on fixe une taille au dico et qu'elle est pleine\n",
    "                dico = copy.deepcopy(dicoCopy)\n",
    "                i = len(dico)\n",
    "            dico[tmp] = i\n",
    "            i += 1\n",
    "            tmp = tmp[-1]\n",
    "        tmp += lettre\n",
    "\n",
    "        if tmp2 + lettre not in dico:  #Ajout dans la liste de resultat\n",
    "            lst.append(dico[tmp2])\n",
    "            tmp2 = lettre\n",
    "        else:\n",
    "            tmp2 += lettre\n",
    "\n",
    "    lst.append(dico[tmp2])\n",
    "    return lst"
   ]
  },
  {
   "cell_type": "code",
   "execution_count": 10,
   "metadata": {},
   "outputs": [
    {
     "name": "stdout",
     "output_type": "stream",
     "text": [
      "[2, 2, 1, 1, 0, 4, 0, 0, 1, 4, 11, 11, 3, 9]\n",
      "[2, 2, 1, 1, 0, 2, 1, 0, 0, 1, 2, 1, 1, 2, 1, 2, 4, 0, 0]\n"
     ]
    }
   ],
   "source": [
    "mot = \"ccbbacbaabcbbcbcccaa\"\n",
    "print(lzw(mot))\n",
    "print(lzw(mot, 6))"
   ]
  },
  {
   "cell_type": "code",
   "execution_count": 11,
   "metadata": {},
   "outputs": [],
   "source": [
    "def un_lzw(seq, dico, size=None):\n",
    "    mot = \"\"\n",
    "    tmp = \"\"\n",
    "    i = len(dico)\n",
    "    dicoCopy = copy.deepcopy(dico)\n",
    "    for x in seq:\n",
    "        if x not in dico:\n",
    "            tmpn = tmp\n",
    "            itmp = 0\n",
    "            arret = False\n",
    "            while True:\n",
    "                if arret:\n",
    "                    break\n",
    "                tmp += tmp[itmp]\n",
    "                itmp += 1\n",
    "                if tmp not in dico.values():\n",
    "                    if (size != None and i >= size):  #Si on fixe une taille au dico et qu'elle est pleine\n",
    "                        dico = copy.deepcopy(dicoCopy)\n",
    "                        i = len(dico)\n",
    "                    dico[i] = tmp\n",
    "                    mot += dico[i]\n",
    "                    i += 1\n",
    "                    arret = True\n",
    "        else:\n",
    "            for y in dico[x]:\n",
    "                tmp += y\n",
    "                mot += y\n",
    "                if tmp not in dico.values():\n",
    "                    if (size != None and i >= size):  #Si on fixe une taille au dico et qu'elle est pleines\n",
    "                        dico = copy.deepcopy(dicoCopy)\n",
    "                        i = len(dico)\n",
    "                    dico[i] = tmp\n",
    "                    tmp = tmp[-1]\n",
    "                    i += 1\n",
    "    return mot"
   ]
  },
  {
   "cell_type": "code",
   "execution_count": 12,
   "metadata": {},
   "outputs": [
    {
     "name": "stdout",
     "output_type": "stream",
     "text": [
      "[2, 2, 1, 1, 0, 4, 0, 0, 1, 4, 11, 11, 3, 9]\n",
      "ccbbacbaabcbbcbcccaa\n",
      "ccbbacbaabcbbcbcccaa\n"
     ]
    }
   ],
   "source": [
    "print(lzw(\"ccbbacbaabcbbcbcccaa\"))\n",
    "print(un_lzw([2, 2, 1, 1, 0, 4, 0, 0, 1, 4, 11, 11, 3, 9], {0: \"a\", 1: \"b\", 2: \"c\"}))\n",
    "print(un_lzw([2, 2, 1, 1, 0, 2, 1, 0, 0, 1, 2, 1, 1, 2, 1, 2, 4, 0, 0], {0: \"a\", 1: \"b\", 2: \"c\"}, 6))"
   ]
  },
  {
   "cell_type": "code",
   "execution_count": 13,
   "metadata": {},
   "outputs": [
    {
     "name": "stdout",
     "output_type": "stream",
     "text": [
      "baccbababccbaaccbbbc True\n",
      "ccabcbbabbcaaacbabba True\n",
      "cabaacccaccaccccaaac True\n",
      "ababbbaaabccbbbaccbb True\n",
      "cbacbbbbabcabbabbcba True\n",
      "bbbabbcbababcccbcacb True\n",
      "cacbcbababcabcaabcba True\n",
      "cccaccbbabaaababcaac True\n",
      "abaacbcbaaccabaabcbc True\n",
      "ccabcacabbacbabacbcc True\n"
     ]
    }
   ],
   "source": [
    "from random import choice\n",
    "\n",
    "for _ in range(10):\n",
    "    u = \"\".join([choice(['a', 'b', 'c']) for _ in range(20)])\n",
    "    print(u, un_lzw(lzw(u), {0: \"a\", 1: \"b\", 2: \"c\"}) == u)"
   ]
  },
  {
   "cell_type": "code",
   "execution_count": 14,
   "metadata": {},
   "outputs": [],
   "source": [
    "#Partie 3 : LZW + Huffman"
   ]
  },
  {
   "cell_type": "code",
   "execution_count": 15,
   "metadata": {},
   "outputs": [
    {
     "name": "stdout",
     "output_type": "stream",
     "text": [
      "La taille du fichier compressé si on appliquait cette technique à etranger.txt est de  892972  bits.\n"
     ]
    }
   ],
   "source": [
    "fichier = open(\"etranger.txt\", \"r\")\n",
    "texte = fichier.read()\n",
    "lst = lzw(texte)\n",
    "size = huffmanSize(lst)\n",
    "print(\"La taille du fichier compressé si on appliquait cette technique à etranger.txt est de \", size, \" bits.\")"
   ]
  },
  {
   "cell_type": "code",
   "execution_count": 16,
   "metadata": {},
   "outputs": [],
   "source": [
    "#2e compression avec 2048"
   ]
  },
  {
   "cell_type": "code",
   "execution_count": 17,
   "metadata": {},
   "outputs": [
    {
     "name": "stdout",
     "output_type": "stream",
     "text": [
      "La taille du fichier compressé si on appliquait cette technique à etranger.txt est de  792196  bits.\n"
     ]
    }
   ],
   "source": [
    "lst = lzw(texte, 2048)\n",
    "size = huffmanSize(lst)\n",
    "print(\"La taille du fichier compressé si on appliquait cette technique à etranger.txt est de \", size, \" bits.\")"
   ]
  },
  {
   "cell_type": "code",
   "execution_count": null,
   "metadata": {},
   "outputs": [],
   "source": []
  }
 ],
 "metadata": {
  "kernelspec": {
   "display_name": "Python 3",
   "language": "python",
   "name": "python3"
  },
  "language_info": {
   "codemirror_mode": {
    "name": "ipython",
    "version": 3
   },
   "file_extension": ".py",
   "mimetype": "text/x-python",
   "name": "python",
   "nbconvert_exporter": "python",
   "pygments_lexer": "ipython3",
   "version": "3.7.5"
  }
 },
 "nbformat": 4,
 "nbformat_minor": 4
}