{
 "cells": [
  {
   "cell_type": "markdown",
   "source": [
    "# Le module «datetime» & «calendar» & «time» & «timeit».\n",
    "Module qui fournit différentes fonctions liées aux globalement au temps (dates, années, heures, temps, calendrier, ...)."
   ],
   "metadata": {
    "collapsed": false,
    "pycharm": {
     "name": "#%% md\n"
    }
   }
  },
  {
   "cell_type": "code",
   "execution_count": 1,
   "outputs": [],
   "source": [
    "import calendar\n",
    "import datetime\n",
    "import time\n",
    "from time import struct_time\n",
    "\n",
    "import pandas as pd\n",
    "from pandas import DatetimeIndex\n",
    "\n",
    "from Algorithms.Numbers.Fibonacci import fibonacci\n",
    "from Util import now, search_tz, print_code_function, to_datetime, elapsed_timedelta, elapsed_minutes, elapsed_seconds, timeit_trivial, timeit, generate_datetime"
   ],
   "metadata": {
    "collapsed": false,
    "pycharm": {
     "name": "#%%\n"
    }
   }
  },
  {
   "cell_type": "markdown",
   "source": [
    "# Les différentes classes dans le module datetime.\n",
    "### datetime.date\n",
    "Une date est représenté sous la forme d'une année + mois + jour.\n",
    "### datetime.time\n",
    "Une time est représenté sous la forme d'une heure + minute + seconde + microseconde + tzinfo.\n",
    "### datetime.datetime\n",
    "La combinaison des deux ci-dessus (champs et methodes)."
   ],
   "metadata": {
    "collapsed": false,
    "pycharm": {
     "name": "#%% md\n"
    }
   }
  },
  {
   "cell_type": "markdown",
   "source": [
    "# Les méthodes.\n",
    "### datetime.datetime()\n",
    "Dans tous les constructueurs, les arguments peuvent être assigné en utilisant leur keyword.\n",
    "<br>\n",
    "Créer un objet datetime.datetime."
   ],
   "metadata": {
    "collapsed": false,
    "pycharm": {
     "name": "#%% md\n"
    }
   }
  },
  {
   "cell_type": "code",
   "execution_count": 2,
   "outputs": [
    {
     "data": {
      "text/plain": "datetime.datetime(2020, 1, 31, 13, 14, 31)"
     },
     "execution_count": 2,
     "metadata": {},
     "output_type": "execute_result"
    }
   ],
   "source": [
    "_: datetime.datetime = datetime.datetime(hour=13, month=1, day=31, second=31, year=2020, minute=14)\n",
    "_"
   ],
   "metadata": {
    "collapsed": false,
    "pycharm": {
     "name": "#%%\n"
    }
   }
  },
  {
   "cell_type": "markdown",
   "source": [
    "### datetime.date.date()\n",
    "\n",
    "Créer un objet datetime.date."
   ],
   "metadata": {
    "collapsed": false,
    "pycharm": {
     "name": "#%% md\n"
    }
   }
  },
  {
   "cell_type": "code",
   "execution_count": 3,
   "outputs": [
    {
     "data": {
      "text/plain": "datetime.datetime(2020, 1, 31, 0, 0)"
     },
     "execution_count": 3,
     "metadata": {},
     "output_type": "execute_result"
    }
   ],
   "source": [
    "datetime.datetime(year=2020, month=1, day=31)"
   ],
   "metadata": {
    "collapsed": false,
    "pycharm": {
     "name": "#%%\n"
    }
   }
  },
  {
   "cell_type": "markdown",
   "source": [
    "### datetime.date.time()\n",
    "\n",
    "Créer un objet datetime.time."
   ],
   "metadata": {
    "collapsed": false,
    "pycharm": {
     "name": "#%% md\n"
    }
   }
  },
  {
   "cell_type": "code",
   "execution_count": 4,
   "outputs": [
    {
     "data": {
      "text/plain": "datetime.time(12, 54, 31, 123)"
     },
     "execution_count": 4,
     "metadata": {},
     "output_type": "execute_result"
    }
   ],
   "source": [
    "_: datetime.time = datetime.time(hour=12, minute=54, second=31, microsecond=123)\n",
    "_"
   ],
   "metadata": {
    "collapsed": false,
    "pycharm": {
     "name": "#%%\n"
    }
   }
  },
  {
   "cell_type": "code",
   "execution_count": 5,
   "outputs": [
    {
     "data": {
      "text/plain": "datetime.time(12, 54, 31, 123)"
     },
     "execution_count": 5,
     "metadata": {},
     "output_type": "execute_result"
    }
   ],
   "source": [
    "datetime.time(hour=12, minute=54, second=31, microsecond=123)"
   ],
   "metadata": {
    "collapsed": false,
    "pycharm": {
     "name": "#%%\n"
    }
   }
  },
  {
   "cell_type": "markdown",
   "source": [
    "### datetime.datetime.now()\n",
    "Créer la date actuelle. De l'année à la microseconde.\n",
    "now() créer l'instance datetime actuelle de la date & du time local."
   ],
   "metadata": {
    "collapsed": false,
    "pycharm": {
     "name": "#%% md\n"
    }
   }
  },
  {
   "cell_type": "code",
   "execution_count": 6,
   "outputs": [
    {
     "name": "stdout",
     "output_type": "stream",
     "text": [
      "def now(utc=False, offset_h=0, offset_m=0, offset_s=0) -> datetime:\n",
      "    offset = timedelta(hours=offset_h, minutes=offset_m, seconds=offset_s)\n",
      "    return offset + (datetime.utcnow() if utc else datetime.now())\n",
      "\n"
     ]
    }
   ],
   "source": [
    "print_code_function(now)"
   ],
   "metadata": {
    "collapsed": false,
    "pycharm": {
     "name": "#%%\n"
    }
   }
  },
  {
   "cell_type": "code",
   "execution_count": 7,
   "outputs": [
    {
     "data": {
      "text/plain": "datetime.datetime(2022, 8, 29, 1, 28, 46, 42193)"
     },
     "execution_count": 7,
     "metadata": {},
     "output_type": "execute_result"
    }
   ],
   "source": [
    "current: datetime.datetime = now()\n",
    "current"
   ],
   "metadata": {
    "collapsed": false,
    "pycharm": {
     "name": "#%%\n"
    }
   }
  },
  {
   "cell_type": "markdown",
   "source": [
    "### datetime.datetime.utcnow()\n",
    "Créer l'instance datetime actuelle de la date & du time sans inclure d'information concernant la timezone"
   ],
   "metadata": {
    "collapsed": false,
    "pycharm": {
     "name": "#%% md\n"
    }
   }
  },
  {
   "cell_type": "code",
   "execution_count": 8,
   "outputs": [
    {
     "data": {
      "text/plain": "datetime.datetime(2022, 8, 28, 23, 28, 46, 55772)"
     },
     "execution_count": 8,
     "metadata": {},
     "output_type": "execute_result"
    }
   ],
   "source": [
    "_: datetime.datetime = now(utc=True)\n",
    "_"
   ],
   "metadata": {
    "collapsed": false,
    "pycharm": {
     "name": "#%%\n"
    }
   }
  },
  {
   "cell_type": "markdown",
   "source": [
    "### datetime.date.today()\n",
    "Créer la date actuelle. De l'année au jour."
   ],
   "metadata": {
    "collapsed": false,
    "pycharm": {
     "name": "#%% md\n"
    }
   }
  },
  {
   "cell_type": "code",
   "execution_count": 9,
   "outputs": [
    {
     "data": {
      "text/plain": "datetime.date(2022, 8, 29)"
     },
     "execution_count": 9,
     "metadata": {},
     "output_type": "execute_result"
    }
   ],
   "source": [
    "today: datetime.date = datetime.date.today()\n",
    "today"
   ],
   "metadata": {
    "collapsed": false,
    "pycharm": {
     "name": "#%%\n"
    }
   }
  },
  {
   "cell_type": "code",
   "execution_count": 10,
   "outputs": [
    {
     "data": {
      "text/plain": "datetime.date(2022, 8, 29)"
     },
     "execution_count": 10,
     "metadata": {},
     "output_type": "execute_result"
    }
   ],
   "source": [
    "_: datetime.date = current.date()\n",
    "_"
   ],
   "metadata": {
    "collapsed": false,
    "pycharm": {
     "name": "#%%\n"
    }
   }
  },
  {
   "cell_type": "markdown",
   "source": [
    "### datetime.date.time()\n",
    "Créer la date actuelle. De l'heure à la microseconde."
   ],
   "metadata": {
    "collapsed": false,
    "pycharm": {
     "name": "#%% md\n"
    }
   }
  },
  {
   "cell_type": "code",
   "execution_count": 11,
   "outputs": [
    {
     "data": {
      "text/plain": "datetime.time(1, 28, 46, 42193)"
     },
     "execution_count": 11,
     "metadata": {},
     "output_type": "execute_result"
    }
   ],
   "source": [
    "hours: datetime.time = current.time()\n",
    "hours"
   ],
   "metadata": {
    "collapsed": false,
    "pycharm": {
     "name": "#%%\n"
    }
   }
  },
  {
   "cell_type": "markdown",
   "source": [
    "### datetime.datetime.Combine(date, time)\n",
    "Retourne une datetime.datetime à partir d'une datetime.date et d'une datetime.time."
   ],
   "metadata": {
    "collapsed": false,
    "pycharm": {
     "name": "#%% md\n"
    }
   }
  },
  {
   "cell_type": "code",
   "execution_count": 12,
   "outputs": [
    {
     "data": {
      "text/plain": "datetime.datetime(2022, 8, 29, 1, 28, 46, 42193)"
     },
     "execution_count": 12,
     "metadata": {},
     "output_type": "execute_result"
    }
   ],
   "source": [
    "today_hours: datetime.datetime = datetime.datetime.combine(today, hours)\n",
    "today_hours"
   ],
   "metadata": {
    "collapsed": false,
    "pycharm": {
     "name": "#%%\n"
    }
   }
  },
  {
   "cell_type": "markdown",
   "source": [
    "### time.localtime()\n",
    "Créer la date actuelle. De l'année à la microseconde."
   ],
   "metadata": {
    "collapsed": false,
    "pycharm": {
     "name": "#%% md\n"
    }
   }
  },
  {
   "cell_type": "code",
   "execution_count": 13,
   "outputs": [
    {
     "data": {
      "text/plain": "time.struct_time(tm_year=2022, tm_mon=8, tm_mday=29, tm_hour=1, tm_min=28, tm_sec=46, tm_wday=0, tm_yday=241, tm_isdst=1)"
     },
     "execution_count": 13,
     "metadata": {},
     "output_type": "execute_result"
    }
   ],
   "source": [
    "current_time: struct_time = time.localtime()\n",
    "current_time"
   ],
   "metadata": {
    "collapsed": false,
    "pycharm": {
     "name": "#%%\n"
    }
   }
  },
  {
   "cell_type": "markdown",
   "source": [
    "### datetime.datetime.date()"
   ],
   "metadata": {
    "collapsed": false,
    "pycharm": {
     "name": "#%% md\n"
    }
   }
  },
  {
   "cell_type": "markdown",
   "source": [
    "Retourne une datetime.date à partir d'une datetime.datetime."
   ],
   "metadata": {
    "collapsed": false,
    "pycharm": {
     "name": "#%% md\n"
    }
   }
  },
  {
   "cell_type": "code",
   "execution_count": 14,
   "outputs": [
    {
     "data": {
      "text/plain": "datetime.date(2022, 8, 29)"
     },
     "execution_count": 14,
     "metadata": {},
     "output_type": "execute_result"
    }
   ],
   "source": [
    "_: datetime.date = current.date()\n",
    "_"
   ],
   "metadata": {
    "collapsed": false,
    "pycharm": {
     "name": "#%%\n"
    }
   }
  },
  {
   "cell_type": "markdown",
   "source": [
    "### datetime.datetime.time()\n",
    "Retourne une datetime.time à partir d'une datetime.datetime."
   ],
   "metadata": {
    "collapsed": false,
    "pycharm": {
     "name": "#%% md\n"
    }
   }
  },
  {
   "cell_type": "code",
   "execution_count": 15,
   "outputs": [
    {
     "data": {
      "text/plain": "datetime.time(1, 28, 46, 42193)"
     },
     "execution_count": 15,
     "metadata": {},
     "output_type": "execute_result"
    }
   ],
   "source": [
    "_: datetime.time = current.time()\n",
    "_"
   ],
   "metadata": {
    "collapsed": false,
    "pycharm": {
     "name": "#%%\n"
    }
   }
  },
  {
   "cell_type": "markdown",
   "source": [
    "### datetime.datetime.replace()"
   ],
   "metadata": {
    "collapsed": false,
    "pycharm": {
     "name": "#%% md\n"
    }
   }
  },
  {
   "cell_type": "code",
   "execution_count": 16,
   "outputs": [
    {
     "data": {
      "text/plain": "datetime.datetime(2000, 2, 20, 1, 28, 46, 42193)"
     },
     "execution_count": 16,
     "metadata": {},
     "output_type": "execute_result"
    }
   ],
   "source": [
    "_: datetime.datetime = current.replace(2000, 2, 20)\n",
    "_"
   ],
   "metadata": {
    "collapsed": false,
    "pycharm": {
     "name": "#%%\n"
    }
   }
  },
  {
   "cell_type": "markdown",
   "source": [
    "### Les champs"
   ],
   "metadata": {
    "collapsed": false,
    "pycharm": {
     "name": "#%% md\n"
    }
   }
  },
  {
   "cell_type": "code",
   "execution_count": 17,
   "outputs": [
    {
     "data": {
      "text/plain": "[1, 28, 46, 42193, None, 0]"
     },
     "execution_count": 17,
     "metadata": {},
     "output_type": "execute_result"
    }
   ],
   "source": [
    "[hours.hour, hours.minute, hours.second, hours.microsecond, hours.tzinfo, hours.fold]"
   ],
   "metadata": {
    "collapsed": false,
    "pycharm": {
     "name": "#%%\n"
    }
   }
  },
  {
   "cell_type": "code",
   "execution_count": 18,
   "outputs": [
    {
     "data": {
      "text/plain": "[2022, 8, 29]"
     },
     "execution_count": 18,
     "metadata": {},
     "output_type": "execute_result"
    }
   ],
   "source": [
    "[today.year, today.month, today.day]"
   ],
   "metadata": {
    "collapsed": false,
    "pycharm": {
     "name": "#%%\n"
    }
   }
  },
  {
   "cell_type": "markdown",
   "source": [
    "### Comparaison entre datetime"
   ],
   "metadata": {
    "collapsed": false,
    "pycharm": {
     "name": "#%% md\n"
    }
   }
  },
  {
   "cell_type": "code",
   "execution_count": 19,
   "outputs": [
    {
     "data": {
      "text/plain": "True"
     },
     "execution_count": 19,
     "metadata": {},
     "output_type": "execute_result"
    }
   ],
   "source": [
    "current == today_hours"
   ],
   "metadata": {
    "collapsed": false,
    "pycharm": {
     "name": "#%%\n"
    }
   }
  },
  {
   "cell_type": "code",
   "execution_count": 20,
   "outputs": [
    {
     "data": {
      "text/plain": "True"
     },
     "execution_count": 20,
     "metadata": {},
     "output_type": "execute_result"
    }
   ],
   "source": [
    "current < now()"
   ],
   "metadata": {
    "collapsed": false,
    "pycharm": {
     "name": "#%%\n"
    }
   }
  },
  {
   "cell_type": "code",
   "execution_count": 21,
   "outputs": [
    {
     "data": {
      "text/plain": "False"
     },
     "execution_count": 21,
     "metadata": {},
     "output_type": "execute_result"
    }
   ],
   "source": [
    "current > now()"
   ],
   "metadata": {
    "collapsed": false,
    "pycharm": {
     "name": "#%%\n"
    }
   }
  },
  {
   "cell_type": "markdown",
   "source": [
    "### L'affichage"
   ],
   "metadata": {
    "collapsed": false,
    "pycharm": {
     "name": "#%% md\n"
    }
   }
  },
  {
   "cell_type": "code",
   "execution_count": 22,
   "outputs": [
    {
     "data": {
      "text/plain": "'2022-08-29 01:28:46.042193'"
     },
     "execution_count": 22,
     "metadata": {},
     "output_type": "execute_result"
    }
   ],
   "source": [
    "str(current)"
   ],
   "metadata": {
    "collapsed": false,
    "pycharm": {
     "name": "#%%\n"
    }
   }
  },
  {
   "cell_type": "code",
   "execution_count": 23,
   "outputs": [
    {
     "data": {
      "text/plain": "'2022-08-29T01:28:46.042193'"
     },
     "execution_count": 23,
     "metadata": {},
     "output_type": "execute_result"
    }
   ],
   "source": [
    "_: str = current.isoformat()\n",
    "_"
   ],
   "metadata": {
    "collapsed": false,
    "pycharm": {
     "name": "#%%\n"
    }
   }
  },
  {
   "cell_type": "code",
   "execution_count": 24,
   "outputs": [
    {
     "name": "stdout",
     "output_type": "stream",
     "text": [
      "2022-08-29\n"
     ]
    }
   ],
   "source": [
    "print(today)"
   ],
   "metadata": {
    "collapsed": false,
    "pycharm": {
     "name": "#%%\n"
    }
   }
  },
  {
   "cell_type": "code",
   "execution_count": 25,
   "outputs": [
    {
     "data": {
      "text/plain": "'2022-08-29'"
     },
     "execution_count": 25,
     "metadata": {},
     "output_type": "execute_result"
    }
   ],
   "source": [
    "today.isoformat()"
   ],
   "metadata": {
    "collapsed": false,
    "pycharm": {
     "name": "#%%\n"
    }
   }
  },
  {
   "cell_type": "code",
   "execution_count": 26,
   "outputs": [
    {
     "name": "stdout",
     "output_type": "stream",
     "text": [
      "01:28:46.042193\n"
     ]
    }
   ],
   "source": [
    "print(hours)"
   ],
   "metadata": {
    "collapsed": false,
    "pycharm": {
     "name": "#%%\n"
    }
   }
  },
  {
   "cell_type": "code",
   "execution_count": 27,
   "outputs": [
    {
     "data": {
      "text/plain": "'01:28:46.042193'"
     },
     "execution_count": 27,
     "metadata": {},
     "output_type": "execute_result"
    }
   ],
   "source": [
    "hours.isoformat()"
   ],
   "metadata": {
    "collapsed": false,
    "pycharm": {
     "name": "#%%\n"
    }
   }
  },
  {
   "cell_type": "markdown",
   "source": [
    "### datetime.datetime.strftime(), time.strftime()\n",
    "Permet de représenter une datetime sous format texte\n",
    "La liste des options : https://www.programiz.com/python-programming/datetime/strftime"
   ],
   "metadata": {
    "collapsed": false,
    "pycharm": {
     "name": "#%% md\n"
    }
   }
  },
  {
   "cell_type": "code",
   "execution_count": 28,
   "outputs": [
    {
     "data": {
      "text/plain": "'Monday 29 August 2022'"
     },
     "execution_count": 28,
     "metadata": {},
     "output_type": "execute_result"
    }
   ],
   "source": [
    "_: str = current.strftime(\"%A %d %B %Y\")\n",
    "_"
   ],
   "metadata": {
    "collapsed": false,
    "pycharm": {
     "name": "#%%\n"
    }
   }
  },
  {
   "cell_type": "code",
   "execution_count": 29,
   "outputs": [
    {
     "data": {
      "text/plain": "'2022-08-29'"
     },
     "execution_count": 29,
     "metadata": {},
     "output_type": "execute_result"
    }
   ],
   "source": [
    "current.strftime(\"%Y-%m-%d\")"
   ],
   "metadata": {
    "collapsed": false,
    "pycharm": {
     "name": "#%%\n"
    }
   }
  },
  {
   "cell_type": "code",
   "execution_count": 30,
   "outputs": [
    {
     "data": {
      "text/plain": "'01:28:46.042193s'"
     },
     "execution_count": 30,
     "metadata": {},
     "output_type": "execute_result"
    }
   ],
   "source": [
    "current.strftime(\"%H:%M:%S.%fs\")"
   ],
   "metadata": {
    "collapsed": false,
    "pycharm": {
     "name": "#%%\n"
    }
   }
  },
  {
   "cell_type": "code",
   "execution_count": 31,
   "outputs": [
    {
     "data": {
      "text/plain": "'Semaine n°35'"
     },
     "execution_count": 31,
     "metadata": {},
     "output_type": "execute_result"
    }
   ],
   "source": [
    "current.strftime(\"Semaine n°%V\")"
   ],
   "metadata": {
    "collapsed": false,
    "pycharm": {
     "name": "#%%\n"
    }
   }
  },
  {
   "cell_type": "code",
   "execution_count": 32,
   "outputs": [
    {
     "data": {
      "text/plain": "'Jour n°241'"
     },
     "execution_count": 32,
     "metadata": {},
     "output_type": "execute_result"
    }
   ],
   "source": [
    "current.strftime(\"Jour n°%j\")"
   ],
   "metadata": {
    "collapsed": false,
    "pycharm": {
     "name": "#%%\n"
    }
   }
  },
  {
   "cell_type": "code",
   "execution_count": 33,
   "outputs": [
    {
     "data": {
      "text/plain": "'01:28:46'"
     },
     "execution_count": 33,
     "metadata": {},
     "output_type": "execute_result"
    }
   ],
   "source": [
    "time.strftime(\"%H:%M:%S\", time.localtime())"
   ],
   "metadata": {
    "collapsed": false,
    "pycharm": {
     "name": "#%%\n"
    }
   }
  },
  {
   "cell_type": "markdown",
   "source": [
    "### datetime.datetime.strptime(str, str%), datetime.fromisoformat(str), time.strptime()\n",
    "Permet de créer une datetime à partir d'une string en utilisant les mêmes options que strftime ou avec l'affichage par défaut."
   ],
   "metadata": {
    "collapsed": false,
    "pycharm": {
     "name": "#%% md\n"
    }
   }
  },
  {
   "cell_type": "code",
   "execution_count": 34,
   "outputs": [
    {
     "data": {
      "text/plain": "datetime.datetime(1995, 9, 1, 0, 0)"
     },
     "execution_count": 34,
     "metadata": {},
     "output_type": "execute_result"
    }
   ],
   "source": [
    "_: datetime.datetime = datetime.datetime.strptime(\"1 September, 1995\", \"%d %B, %Y\")\n",
    "_"
   ],
   "metadata": {
    "collapsed": false,
    "pycharm": {
     "name": "#%%\n"
    }
   }
  },
  {
   "cell_type": "code",
   "execution_count": 35,
   "outputs": [
    {
     "data": {
      "text/plain": "datetime.datetime(1900, 1, 1, 1, 28, 46, 42193)"
     },
     "execution_count": 35,
     "metadata": {},
     "output_type": "execute_result"
    }
   ],
   "source": [
    "datetime.datetime.strptime(current.strftime(\"%H:%M:%S.%fs\"), \"%H:%M:%S.%fs\")"
   ],
   "metadata": {
    "collapsed": false,
    "pycharm": {
     "name": "#%%\n"
    }
   }
  },
  {
   "cell_type": "code",
   "execution_count": 36,
   "outputs": [
    {
     "data": {
      "text/plain": "datetime.time(1, 28, 46, 42193)"
     },
     "execution_count": 36,
     "metadata": {},
     "output_type": "execute_result"
    }
   ],
   "source": [
    "datetime.datetime.strptime(current.strftime(\"%H:%M:%S.%fs\"), \"%H:%M:%S.%fs\").time()"
   ],
   "metadata": {
    "collapsed": false,
    "pycharm": {
     "name": "#%%\n"
    }
   }
  },
  {
   "cell_type": "code",
   "execution_count": 37,
   "outputs": [
    {
     "data": {
      "text/plain": "datetime.datetime(2021, 6, 22, 8, 52, 15, 520684)"
     },
     "execution_count": 37,
     "metadata": {},
     "output_type": "execute_result"
    }
   ],
   "source": [
    "_: datetime.datetime = datetime.datetime.fromisoformat(\"2021-06-22 08:52:15.520684\")\n",
    "_"
   ],
   "metadata": {
    "collapsed": false,
    "pycharm": {
     "name": "#%%\n"
    }
   }
  },
  {
   "cell_type": "code",
   "execution_count": 38,
   "outputs": [
    {
     "data": {
      "text/plain": "datetime.date(2021, 6, 22)"
     },
     "execution_count": 38,
     "metadata": {},
     "output_type": "execute_result"
    }
   ],
   "source": [
    "datetime.date.fromisoformat(\"2021-06-22\")"
   ],
   "metadata": {
    "collapsed": false,
    "pycharm": {
     "name": "#%%\n"
    }
   }
  },
  {
   "cell_type": "code",
   "execution_count": 39,
   "outputs": [
    {
     "data": {
      "text/plain": "datetime.time(8, 52, 15, 520684)"
     },
     "execution_count": 39,
     "metadata": {},
     "output_type": "execute_result"
    }
   ],
   "source": [
    "datetime.time.fromisoformat(\"08:52:15.520684\")"
   ],
   "metadata": {
    "collapsed": false,
    "pycharm": {
     "name": "#%%\n"
    }
   }
  },
  {
   "cell_type": "code",
   "execution_count": 40,
   "outputs": [
    {
     "data": {
      "text/plain": "time.struct_time(tm_year=1995, tm_mon=9, tm_mday=1, tm_hour=0, tm_min=0, tm_sec=0, tm_wday=4, tm_yday=244, tm_isdst=-1)"
     },
     "execution_count": 40,
     "metadata": {},
     "output_type": "execute_result"
    }
   ],
   "source": [
    "_: struct_time = time.strptime(\"01/09/1995\", \"%d/%m/%Y\")\n",
    "_"
   ],
   "metadata": {
    "collapsed": false,
    "pycharm": {
     "name": "#%%\n"
    }
   }
  },
  {
   "cell_type": "markdown",
   "source": [
    "### La timezone\n",
    "\n",
    "On peut créer une datetime à partir d'un différent timezeone.<br>\n",
    "La liste de toutes les timezeones est donnée par pytz.all_timezones"
   ],
   "metadata": {
    "collapsed": false,
    "pycharm": {
     "name": "#%% md\n"
    }
   }
  },
  {
   "cell_type": "code",
   "execution_count": 41,
   "outputs": [
    {
     "data": {
      "text/plain": "(<DstTzInfo 'Europe/London' LMT-1 day, 23:59:00 STD>,\n <DstTzInfo 'America/New_York' LMT-1 day, 19:04:00 STD>)"
     },
     "execution_count": 41,
     "metadata": {},
     "output_type": "execute_result"
    }
   ],
   "source": [
    "search_tz(\"london\"), search_tz(\"york\")"
   ],
   "metadata": {
    "collapsed": false,
    "pycharm": {
     "name": "#%%\n"
    }
   }
  },
  {
   "cell_type": "code",
   "execution_count": 42,
   "outputs": [
    {
     "data": {
      "text/plain": "'23:28:46'"
     },
     "execution_count": 42,
     "metadata": {},
     "output_type": "execute_result"
    }
   ],
   "source": [
    "datetime_london = now(search_tz(\"london\"))\n",
    "datetime_london.strftime(\"%H:%M:%S\")"
   ],
   "metadata": {
    "collapsed": false,
    "pycharm": {
     "name": "#%%\n"
    }
   }
  },
  {
   "cell_type": "code",
   "execution_count": 43,
   "outputs": [
    {
     "data": {
      "text/plain": "'23:28:46'"
     },
     "execution_count": 43,
     "metadata": {},
     "output_type": "execute_result"
    }
   ],
   "source": [
    "now(search_tz(\"paris\")).strftime(\"%H:%M:%S\")"
   ],
   "metadata": {
    "collapsed": false,
    "pycharm": {
     "name": "#%%\n"
    }
   }
  },
  {
   "cell_type": "code",
   "execution_count": 44,
   "outputs": [
    {
     "data": {
      "text/plain": "'23:28:46'"
     },
     "execution_count": 44,
     "metadata": {},
     "output_type": "execute_result"
    }
   ],
   "source": [
    "now(search_tz(\"york\")).strftime(\"%H:%M:%S\")"
   ],
   "metadata": {
    "collapsed": false,
    "pycharm": {
     "name": "#%%\n"
    }
   }
  },
  {
   "cell_type": "code",
   "execution_count": 45,
   "outputs": [
    {
     "data": {
      "text/plain": "'23:28:46'"
     },
     "execution_count": 45,
     "metadata": {},
     "output_type": "execute_result"
    }
   ],
   "source": [
    "now(search_tz(\"seoul\")).strftime(\"%H:%M:%S\")"
   ],
   "metadata": {
    "collapsed": false,
    "pycharm": {
     "name": "#%%\n"
    }
   }
  },
  {
   "cell_type": "code",
   "execution_count": 46,
   "outputs": [
    {
     "data": {
      "text/plain": "'23:28:46'"
     },
     "execution_count": 46,
     "metadata": {},
     "output_type": "execute_result"
    }
   ],
   "source": [
    "now(search_tz(\"hong\")).strftime(\"%H:%M:%S\")"
   ],
   "metadata": {
    "collapsed": false,
    "pycharm": {
     "name": "#%%\n"
    }
   }
  },
  {
   "cell_type": "markdown",
   "source": [
    "### datetime.datetime.timetuple()\n",
    "Retourne une time à partir d'une datetime."
   ],
   "metadata": {
    "collapsed": false,
    "pycharm": {
     "name": "#%% md\n"
    }
   }
  },
  {
   "cell_type": "code",
   "execution_count": 47,
   "outputs": [
    {
     "data": {
      "text/plain": "time.struct_time(tm_year=2022, tm_mon=8, tm_mday=29, tm_hour=1, tm_min=28, tm_sec=46, tm_wday=0, tm_yday=241, tm_isdst=-1)"
     },
     "execution_count": 47,
     "metadata": {},
     "output_type": "execute_result"
    }
   ],
   "source": [
    "current_time: struct_time = current.timetuple()\n",
    "current_time"
   ],
   "metadata": {
    "collapsed": false,
    "pycharm": {
     "name": "#%%\n"
    }
   }
  },
  {
   "cell_type": "markdown",
   "source": [
    "### datetime.datetime.timestamp(), time.mktime(time)\n",
    "Permet de retourner le nombre de secondes écoulées depuis le 01/01/1970 à partir d'une datetime ou d'une time."
   ],
   "metadata": {
    "collapsed": false,
    "pycharm": {
     "name": "#%% md\n"
    }
   }
  },
  {
   "cell_type": "code",
   "execution_count": 48,
   "outputs": [
    {
     "data": {
      "text/plain": "809906400.0"
     },
     "execution_count": 48,
     "metadata": {},
     "output_type": "execute_result"
    }
   ],
   "source": [
    "birthday_seconds: float = datetime.datetime(1995, 9, 1).timestamp()\n",
    "birthday_seconds"
   ],
   "metadata": {
    "collapsed": false,
    "pycharm": {
     "name": "#%%\n"
    }
   }
  },
  {
   "cell_type": "code",
   "execution_count": 49,
   "outputs": [
    {
     "data": {
      "text/plain": "809910000.0"
     },
     "execution_count": 49,
     "metadata": {},
     "output_type": "execute_result"
    }
   ],
   "source": [
    "_: float = time.mktime((1995, 9, 1, 0, 0, 0, 0, 0, 0))\n",
    "_"
   ],
   "metadata": {
    "collapsed": false,
    "pycharm": {
     "name": "#%%\n"
    }
   }
  },
  {
   "cell_type": "code",
   "execution_count": 50,
   "outputs": [
    {
     "data": {
      "text/plain": "1661729326.0"
     },
     "execution_count": 50,
     "metadata": {},
     "output_type": "execute_result"
    }
   ],
   "source": [
    "time.mktime(current_time)"
   ],
   "metadata": {
    "collapsed": false,
    "pycharm": {
     "name": "#%%\n"
    }
   }
  },
  {
   "cell_type": "markdown",
   "source": [
    "### datetime.datetime.fromtimestamp(int)\n",
    "Permet de retourner une datetime à partir d'un nombre correspondant aux secondes écoulées depuis le 01/01/1970."
   ],
   "metadata": {
    "collapsed": false,
    "pycharm": {
     "name": "#%% md\n"
    }
   }
  },
  {
   "cell_type": "code",
   "execution_count": 51,
   "outputs": [
    {
     "data": {
      "text/plain": "datetime.datetime(1970, 1, 1, 1, 0)"
     },
     "execution_count": 51,
     "metadata": {},
     "output_type": "execute_result"
    }
   ],
   "source": [
    "_: datetime.datetime = datetime.datetime.fromtimestamp(0)\n",
    "_"
   ],
   "metadata": {
    "collapsed": false,
    "pycharm": {
     "name": "#%%\n"
    }
   }
  },
  {
   "cell_type": "code",
   "execution_count": 52,
   "outputs": [
    {
     "data": {
      "text/plain": "datetime.datetime(1995, 9, 1, 0, 0)"
     },
     "execution_count": 52,
     "metadata": {},
     "output_type": "execute_result"
    }
   ],
   "source": [
    "datetime.datetime.fromtimestamp(birthday_seconds)"
   ],
   "metadata": {
    "collapsed": false,
    "pycharm": {
     "name": "#%%\n"
    }
   }
  },
  {
   "cell_type": "code",
   "execution_count": 53,
   "outputs": [
    {
     "data": {
      "text/plain": "datetime.datetime(2022, 8, 29, 1, 28, 46)"
     },
     "execution_count": 53,
     "metadata": {},
     "output_type": "execute_result"
    }
   ],
   "source": [
    "datetime.datetime.fromtimestamp(time.mktime(current_time))"
   ],
   "metadata": {
    "collapsed": false,
    "pycharm": {
     "name": "#%%\n"
    }
   }
  },
  {
   "cell_type": "markdown",
   "source": [
    "### datetime.datetime.fromisoformat(str), datetime.datetime.strptime(str)\n",
    "Permet de retourner une datetime.date à partir d'une date données sous la forme d'une string. Utiliser strptime pour un pattern personalisé."
   ],
   "metadata": {
    "collapsed": false,
    "pycharm": {
     "name": "#%% md\n"
    }
   }
  },
  {
   "cell_type": "code",
   "execution_count": 54,
   "outputs": [
    {
     "data": {
      "text/plain": "datetime.date(2020, 1, 31)"
     },
     "execution_count": 54,
     "metadata": {},
     "output_type": "execute_result"
    }
   ],
   "source": [
    "datetime.date.fromisoformat(\"2020-01-31\")"
   ],
   "metadata": {
    "collapsed": false,
    "pycharm": {
     "name": "#%%\n"
    }
   }
  },
  {
   "cell_type": "code",
   "execution_count": 55,
   "outputs": [
    {
     "data": {
      "text/plain": "datetime.datetime(2020, 1, 31, 14, 45, 37)"
     },
     "execution_count": 55,
     "metadata": {},
     "output_type": "execute_result"
    }
   ],
   "source": [
    "datetime.datetime.strptime(\"01-31-2020 14:45:37\", \"%m-%d-%Y %H:%M:%S\")"
   ],
   "metadata": {
    "collapsed": false,
    "pycharm": {
     "name": "#%%\n"
    }
   }
  },
  {
   "cell_type": "markdown",
   "source": [
    "# Calcules avec le module datetime\n",
    "Pour effectuer des calcules on utilise la classe datetime.timedelta qui sert à représenter une durée.<br>\n",
    "Un timedelta est toujours représenté sous la forme de jours + secondes + microsecondes.\n",
    "\n",
    "## Manipulation d'un timedelta\n",
    "### datetime.timedelta()\n",
    "Créer un timedelta."
   ],
   "metadata": {
    "collapsed": false,
    "pycharm": {
     "name": "#%% md\n"
    }
   }
  },
  {
   "cell_type": "code",
   "execution_count": 56,
   "outputs": [
    {
     "data": {
      "text/plain": "datetime.timedelta(days=8, seconds=43510, microseconds=345456)"
     },
     "execution_count": 56,
     "metadata": {},
     "output_type": "execute_result"
    }
   ],
   "source": [
    "delta: datetime.timedelta = datetime.timedelta(weeks=1, days=1, hours=12, minutes=5, seconds=10, milliseconds=345,\n",
    "                                               microseconds=456)\n",
    "delta"
   ],
   "metadata": {
    "collapsed": false,
    "pycharm": {
     "name": "#%%\n"
    }
   }
  },
  {
   "cell_type": "markdown",
   "source": [
    "### Les champs"
   ],
   "metadata": {
    "collapsed": false,
    "pycharm": {
     "name": "#%% md\n"
    }
   }
  },
  {
   "cell_type": "code",
   "execution_count": 57,
   "outputs": [
    {
     "data": {
      "text/plain": "[8, 43510, 345456]"
     },
     "execution_count": 57,
     "metadata": {},
     "output_type": "execute_result"
    }
   ],
   "source": [
    "[delta.days, delta.seconds, delta.microseconds]"
   ],
   "metadata": {
    "collapsed": false,
    "pycharm": {
     "name": "#%%\n"
    }
   }
  },
  {
   "cell_type": "markdown",
   "source": [
    "### Les timedelta.total_seconds()\n",
    "Retourne le nombre de seconde que représente la durée du timedelta."
   ],
   "metadata": {
    "collapsed": false,
    "pycharm": {
     "name": "#%% md\n"
    }
   }
  },
  {
   "cell_type": "code",
   "execution_count": 58,
   "outputs": [
    {
     "data": {
      "text/plain": "734710.345456"
     },
     "execution_count": 58,
     "metadata": {},
     "output_type": "execute_result"
    }
   ],
   "source": [
    "_: float = delta.total_seconds()\n",
    "_"
   ],
   "metadata": {
    "collapsed": false,
    "pycharm": {
     "name": "#%%\n"
    }
   }
  },
  {
   "cell_type": "code",
   "execution_count": 59,
   "outputs": [
    {
     "data": {
      "text/plain": "datetime.datetime(2022, 8, 30, 1, 28, 46, 42193)"
     },
     "execution_count": 59,
     "metadata": {},
     "output_type": "execute_result"
    }
   ],
   "source": [
    "_: datetime.datetime = current + datetime.timedelta(days=1)\n",
    "_"
   ],
   "metadata": {
    "collapsed": false,
    "pycharm": {
     "name": "#%%\n"
    }
   }
  },
  {
   "cell_type": "code",
   "execution_count": 60,
   "outputs": [
    {
     "data": {
      "text/plain": "datetime.timedelta(days=8, seconds=47110, microseconds=345456)"
     },
     "execution_count": 60,
     "metadata": {},
     "output_type": "execute_result"
    }
   ],
   "source": [
    "delta + datetime.timedelta(hours=1)"
   ],
   "metadata": {
    "collapsed": false,
    "pycharm": {
     "name": "#%%\n"
    }
   }
  },
  {
   "cell_type": "code",
   "execution_count": 61,
   "outputs": [
    {
     "data": {
      "text/plain": "datetime.datetime(2022, 8, 20, 13, 23, 35, 696737)"
     },
     "execution_count": 61,
     "metadata": {},
     "output_type": "execute_result"
    }
   ],
   "source": [
    "current - delta"
   ],
   "metadata": {
    "collapsed": false,
    "pycharm": {
     "name": "#%%\n"
    }
   }
  },
  {
   "cell_type": "code",
   "execution_count": 62,
   "outputs": [
    {
     "data": {
      "text/plain": "datetime.timedelta(days=8, seconds=39910, microseconds=345456)"
     },
     "execution_count": 62,
     "metadata": {},
     "output_type": "execute_result"
    }
   ],
   "source": [
    "delta - datetime.timedelta(hours=1)"
   ],
   "metadata": {
    "collapsed": false,
    "pycharm": {
     "name": "#%%\n"
    }
   }
  },
  {
   "cell_type": "code",
   "execution_count": 63,
   "outputs": [
    {
     "data": {
      "text/plain": "datetime.timedelta(microseconds=886991)"
     },
     "execution_count": 63,
     "metadata": {},
     "output_type": "execute_result"
    }
   ],
   "source": [
    "now() - current"
   ],
   "metadata": {
    "collapsed": false,
    "pycharm": {
     "name": "#%%\n"
    }
   }
  },
  {
   "cell_type": "code",
   "execution_count": 64,
   "outputs": [
    {
     "data": {
      "text/plain": "datetime.timedelta(days=17, seconds=620, microseconds=690912)"
     },
     "execution_count": 64,
     "metadata": {},
     "output_type": "execute_result"
    }
   ],
   "source": [
    "2 * delta"
   ],
   "metadata": {
    "collapsed": false,
    "pycharm": {
     "name": "#%%\n"
    }
   }
  },
  {
   "cell_type": "code",
   "execution_count": 65,
   "outputs": [
    {
     "data": {
      "text/plain": "(DatetimeIndex(['2022-08-29 01:28:46.961751', '2022-08-29 01:29:46.961751',\n                '2022-08-29 01:30:46.961751', '2022-08-29 01:31:46.961751',\n                '2022-08-29 01:32:46.961751', '2022-08-29 01:33:46.961751',\n                '2022-08-29 01:34:46.961751', '2022-08-29 01:35:46.961751',\n                '2022-08-29 01:36:46.961751', '2022-08-29 01:37:46.961751',\n                '2022-08-29 01:38:46.961751'],\n               dtype='datetime64[ns]', freq='T'),\n [datetime.datetime(2022, 8, 29, 1, 28, 46, 961751),\n  datetime.datetime(2022, 8, 29, 1, 29, 46, 961751),\n  datetime.datetime(2022, 8, 29, 1, 30, 46, 961751),\n  datetime.datetime(2022, 8, 29, 1, 31, 46, 961751),\n  datetime.datetime(2022, 8, 29, 1, 32, 46, 961751),\n  datetime.datetime(2022, 8, 29, 1, 33, 46, 961751),\n  datetime.datetime(2022, 8, 29, 1, 34, 46, 961751),\n  datetime.datetime(2022, 8, 29, 1, 35, 46, 961751),\n  datetime.datetime(2022, 8, 29, 1, 36, 46, 961751),\n  datetime.datetime(2022, 8, 29, 1, 37, 46, 961751),\n  datetime.datetime(2022, 8, 29, 1, 38, 46, 961751)])"
     },
     "execution_count": 65,
     "metadata": {},
     "output_type": "execute_result"
    }
   ],
   "source": [
    "\n",
    "\n",
    "_: \"DatetimeIndex\" = pd.date_range(start=now(), end=now() + datetime.timedelta(minutes=10), freq='T')\n",
    "_, _.to_pydatetime().tolist()"
   ],
   "metadata": {
    "collapsed": false,
    "pycharm": {
     "name": "#%%\n"
    }
   }
  },
  {
   "cell_type": "code",
   "execution_count": 66,
   "outputs": [
    {
     "name": "stdout",
     "output_type": "stream",
     "text": [
      "def generate_datetime(start: datetime, end: datetime, freq=\"T\"):\n",
      "    return sorted(map(str, pd.date_range(start=start, end=end, freq=freq).to_pydatetime().tolist()))\n",
      "\n"
     ]
    }
   ],
   "source": [
    "print_code_function(generate_datetime)"
   ],
   "metadata": {
    "collapsed": false,
    "pycharm": {
     "name": "#%%\n"
    }
   }
  },
  {
   "cell_type": "code",
   "execution_count": 67,
   "outputs": [
    {
     "data": {
      "text/plain": "['2022-08-29 01:28:46.992237',\n '2022-08-29 02:28:46.992237',\n '2022-08-29 03:28:46.992237',\n '2022-08-29 04:28:46.992237',\n '2022-08-29 05:28:46.992237',\n '2022-08-29 06:28:46.992237',\n '2022-08-29 07:28:46.992237',\n '2022-08-29 08:28:46.992237',\n '2022-08-29 09:28:46.992237',\n '2022-08-29 10:28:46.992237',\n '2022-08-29 11:28:46.992237',\n '2022-08-29 12:28:46.992237',\n '2022-08-29 13:28:46.992237',\n '2022-08-29 14:28:46.992237',\n '2022-08-29 15:28:46.992237',\n '2022-08-29 16:28:46.992237',\n '2022-08-29 17:28:46.992237',\n '2022-08-29 18:28:46.992237',\n '2022-08-29 19:28:46.992237',\n '2022-08-29 20:28:46.992237',\n '2022-08-29 21:28:46.992237',\n '2022-08-29 22:28:46.992237',\n '2022-08-29 23:28:46.992237',\n '2022-08-30 00:28:46.992237',\n '2022-08-30 01:28:46.992237']"
     },
     "execution_count": 67,
     "metadata": {},
     "output_type": "execute_result"
    }
   ],
   "source": [
    "generate_datetime(start=now(), end=now() + datetime.timedelta(days=1), freq='H')"
   ],
   "metadata": {
    "collapsed": false,
    "pycharm": {
     "name": "#%%\n"
    }
   }
  },
  {
   "cell_type": "markdown",
   "source": [
    "# Le module time"
   ],
   "metadata": {
    "collapsed": false,
    "pycharm": {
     "name": "#%% md\n"
    }
   }
  },
  {
   "cell_type": "markdown",
   "source": [
    "### time.time(), datetime.datetime.timestamp()\n",
    "Retourne le nombre de secondes écoulé depuis le 01/01/1970"
   ],
   "metadata": {
    "collapsed": false,
    "pycharm": {
     "name": "#%% md\n"
    }
   }
  },
  {
   "cell_type": "code",
   "execution_count": 68,
   "outputs": [
    {
     "data": {
      "text/plain": "1661729327.0070815"
     },
     "execution_count": 68,
     "metadata": {},
     "output_type": "execute_result"
    }
   ],
   "source": [
    "_: float = time.time()\n",
    "_"
   ],
   "metadata": {
    "collapsed": false,
    "pycharm": {
     "name": "#%%\n"
    }
   }
  },
  {
   "cell_type": "code",
   "source": [
    "current.timestamp()"
   ],
   "metadata": {
    "collapsed": false,
    "pycharm": {
     "name": "#%%\n"
    }
   },
   "execution_count": 69,
   "outputs": [
    {
     "data": {
      "text/plain": "1661729326.042193"
     },
     "execution_count": 69,
     "metadata": {},
     "output_type": "execute_result"
    }
   ]
  },
  {
   "cell_type": "markdown",
   "source": [
    "### time.ctime(float)\n",
    "Retourne une string représentant une date avec comme argument un flottant correspondant au nombre de secondes écoulé depuis le 01/01/1970."
   ],
   "metadata": {
    "collapsed": false,
    "pycharm": {
     "name": "#%% md\n"
    }
   }
  },
  {
   "cell_type": "code",
   "execution_count": 70,
   "outputs": [
    {
     "data": {
      "text/plain": "'Fri Sep  1 00:00:00 1995'"
     },
     "execution_count": 70,
     "metadata": {},
     "output_type": "execute_result"
    }
   ],
   "source": [
    "_: str = time.ctime(birthday_seconds)\n",
    "_"
   ],
   "metadata": {
    "collapsed": false,
    "pycharm": {
     "name": "#%%\n"
    }
   }
  },
  {
   "cell_type": "code",
   "source": [
    "time.ctime(current.timestamp())"
   ],
   "metadata": {
    "collapsed": false,
    "pycharm": {
     "name": "#%%\n"
    }
   },
   "execution_count": 71,
   "outputs": [
    {
     "data": {
      "text/plain": "'Mon Aug 29 01:28:46 2022'"
     },
     "execution_count": 71,
     "metadata": {},
     "output_type": "execute_result"
    }
   ]
  },
  {
   "cell_type": "markdown",
   "source": [
    "### time.sleep(float)\n",
    "Met en pause le programme pendant un certain nombre de secondes."
   ],
   "metadata": {
    "collapsed": false,
    "pycharm": {
     "name": "#%% md\n"
    }
   }
  },
  {
   "cell_type": "markdown",
   "source": [
    "## Fonctions du module Util"
   ],
   "metadata": {
    "collapsed": false,
    "pycharm": {
     "name": "#%% md\n"
    }
   }
  },
  {
   "cell_type": "code",
   "execution_count": 72,
   "outputs": [
    {
     "data": {
      "text/plain": "datetime.datetime(2022, 8, 29, 1, 28, 47, 69048)"
     },
     "execution_count": 72,
     "metadata": {},
     "output_type": "execute_result"
    }
   ],
   "source": [
    "now()"
   ],
   "metadata": {
    "collapsed": false,
    "pycharm": {
     "name": "#%%\n"
    }
   }
  },
  {
   "cell_type": "code",
   "execution_count": 73,
   "outputs": [
    {
     "data": {
      "text/plain": "(datetime.datetime(1970, 1, 1, 1, 0),\n datetime.datetime(2020, 1, 1, 1, 0),\n datetime.datetime(2020, 1, 31, 23, 59, 59),\n datetime.datetime(2020, 1, 31, 14, 45, 37))"
     },
     "execution_count": 73,
     "metadata": {},
     "output_type": "execute_result"
    }
   ],
   "source": [
    "(to_datetime(0),\n",
    " to_datetime(datetime.datetime(2020, 1, 1, 1)),\n",
    " to_datetime(\"2020-01-31 23:59:59\"),\n",
    " to_datetime(\"01-31-2020 14:45:37\", pattern=\"%m-%d-%Y %H:%M:%S\"))"
   ],
   "metadata": {
    "collapsed": false,
    "pycharm": {
     "name": "#%%\n"
    }
   }
  },
  {
   "cell_type": "code",
   "execution_count": 74,
   "outputs": [
    {
     "data": {
      "text/plain": "(0, 1661729327.101474, 1438380000.0)"
     },
     "execution_count": 74,
     "metadata": {},
     "output_type": "execute_result"
    }
   ],
   "source": [
    "from Util import to_timestamp\n",
    "\n",
    "(to_timestamp(0),\n",
    " to_timestamp(now()),\n",
    " to_timestamp(\"2015-08-01\", pattern=\"%Y-%m-%d\"))"
   ],
   "metadata": {
    "collapsed": false,
    "pycharm": {
     "name": "#%%\n"
    }
   }
  },
  {
   "cell_type": "code",
   "execution_count": 75,
   "outputs": [
    {
     "data": {
      "text/plain": "(0.01792305, 1.075383, datetime.timedelta(seconds=1, microseconds=75383))"
     },
     "execution_count": 75,
     "metadata": {},
     "output_type": "execute_result"
    }
   ],
   "source": [
    "(elapsed_minutes(current),\n",
    " elapsed_seconds(current),\n",
    " elapsed_timedelta(current))"
   ],
   "metadata": {
    "collapsed": false,
    "pycharm": {
     "name": "#%%\n"
    }
   }
  },
  {
   "cell_type": "code",
   "execution_count": 76,
   "outputs": [
    {
     "name": "stdout",
     "output_type": "stream",
     "text": [
      "def timeit(fun: Callable, *args) -> float:\n",
      "    \"\"\" Estimate an execution time of a function as milliseconds\n",
      "    Repeat at least 10 times the function to memoize it into the cache then\n",
      "    |Repeat at least 1 time the function to refresh it into the cache\n",
      "    |Estimate the execution time with at least 10 executions, this is regrouped as one execution time by calculating its average\n",
      "    |Repeat that 5 times\n",
      "    Calculate the average of estimated executions times\n",
      "    Return the average of estimated executions times as milliseconds\n",
      "    \"\"\"\n",
      "    repeat_call_min = 10\n",
      "    sec_elapsed_minimal = 1\n",
      "    total_repeat = 5\n",
      "    times_estimate = []\n",
      "    start = now()\n",
      "    i = 0\n",
      "    while elapsed_seconds(start) < sec_elapsed_minimal or i < repeat_call_min:\n",
      "        # \"charging in cache\"\n",
      "        fun() if len(args) == 0 else fun(*args)\n",
      "        i += 1\n",
      "        if elapsed_seconds(start) <= sec_elapsed_minimal:\n",
      "            repeat_call_min += 1\n",
      "    for _ in range(total_repeat):\n",
      "        for _ in range(int(repeat_call_min / 10)):\n",
      "            fun() if len(args) == 0 else fun(*args)\n",
      "        start = now()\n",
      "        for _ in range(repeat_call_min):\n",
      "            fun() if len(args) == 0 else fun(*args)\n",
      "        times_estimate.append(elapsed_seconds(start) / repeat_call_min)\n",
      "    execution_time = round(sum(times_estimate) / len(times_estimate) * 1000, 3)\n",
      "    print(fun.__name__, execution_time, \"ms\", len(times_estimate) * repeat_call_min, \"called\")\n",
      "    return execution_time\n",
      "\n"
     ]
    }
   ],
   "source": [
    "print_code_function(timeit)"
   ],
   "metadata": {
    "collapsed": false,
    "pycharm": {
     "name": "#%%\n"
    }
   }
  },
  {
   "cell_type": "code",
   "execution_count": 77,
   "outputs": [
    {
     "name": "stdout",
     "output_type": "stream",
     "text": [
      "fibonacci 0.009 ms\n",
      "fibonacci 0.088 ms\n"
     ]
    },
    {
     "data": {
      "text/plain": "(0.009, 0.088)"
     },
     "execution_count": 77,
     "metadata": {},
     "output_type": "execute_result"
    }
   ],
   "source": [
    "timeit_trivial(fibonacci, 10, n=1000), timeit_trivial(fibonacci, 15, n=1000)"
   ],
   "metadata": {
    "collapsed": false,
    "pycharm": {
     "name": "#%%\n"
    }
   }
  },
  {
   "cell_type": "code",
   "execution_count": 78,
   "outputs": [
    {
     "name": "stdout",
     "output_type": "stream",
     "text": [
      "fibonacci 0.008 ms 546155 called\n",
      "fibonacci 0.089 ms 54620 called\n"
     ]
    },
    {
     "data": {
      "text/plain": "(0.008, 0.089)"
     },
     "execution_count": 78,
     "metadata": {},
     "output_type": "execute_result"
    }
   ],
   "source": [
    "timeit(fibonacci, 10), timeit(fibonacci, 15)"
   ],
   "metadata": {
    "collapsed": false,
    "pycharm": {
     "name": "#%%\n"
    }
   }
  },
  {
   "cell_type": "markdown",
   "source": [
    "# Le module calendar"
   ],
   "metadata": {
    "collapsed": false,
    "pycharm": {
     "name": "#%% md\n"
    }
   }
  },
  {
   "cell_type": "code",
   "execution_count": 79,
   "outputs": [
    {
     "data": {
      "text/plain": "0"
     },
     "execution_count": 79,
     "metadata": {},
     "output_type": "execute_result"
    }
   ],
   "source": [
    "_: int = current.weekday()\n",
    "_"
   ],
   "metadata": {
    "collapsed": false,
    "pycharm": {
     "name": "#%%\n"
    }
   }
  },
  {
   "cell_type": "code",
   "execution_count": 80,
   "outputs": [
    {
     "data": {
      "text/plain": "'Monday'"
     },
     "execution_count": 80,
     "metadata": {},
     "output_type": "execute_result"
    }
   ],
   "source": [
    "_: str = calendar.day_name[current.weekday()]\n",
    "_"
   ],
   "metadata": {
    "collapsed": false,
    "pycharm": {
     "name": "#%%\n"
    }
   }
  },
  {
   "cell_type": "code",
   "execution_count": 81,
   "outputs": [
    {
     "data": {
      "text/plain": "'Mon'"
     },
     "execution_count": 81,
     "metadata": {},
     "output_type": "execute_result"
    }
   ],
   "source": [
    "_: str = calendar.day_abbr[current.weekday()]\n",
    "_"
   ],
   "metadata": {
    "collapsed": false,
    "pycharm": {
     "name": "#%%\n"
    }
   }
  },
  {
   "cell_type": "code",
   "execution_count": 82,
   "outputs": [
    {
     "data": {
      "text/plain": "[0, 31, 28, 31, 30, 31, 30, 31, 31, 30, 31, 30, 31]"
     },
     "execution_count": 82,
     "metadata": {},
     "output_type": "execute_result"
    }
   ],
   "source": [
    "_: list[int] = calendar.mdays\n",
    "_"
   ],
   "metadata": {
    "collapsed": false,
    "pycharm": {
     "name": "#%%\n"
    }
   }
  },
  {
   "cell_type": "code",
   "execution_count": 83,
   "outputs": [
    {
     "data": {
      "text/plain": "[0, 31, 28, 31, 30, 31, 30, 31, 31, 30, 31, 30, 31]"
     },
     "execution_count": 83,
     "metadata": {},
     "output_type": "execute_result"
    }
   ],
   "source": [
    "from typing import Union\n",
    "\n",
    "b = 5\n",
    "a: Union[\"_IsoCalendarDate\", tuple[int, int, int]] = current.isocalendar()\n",
    "_"
   ],
   "metadata": {
    "collapsed": false,
    "pycharm": {
     "name": "#%%\n"
    }
   }
  },
  {
   "cell_type": "code",
   "execution_count": 84,
   "outputs": [
    {
     "data": {
      "text/plain": "(2022, 35, 1)"
     },
     "execution_count": 84,
     "metadata": {},
     "output_type": "execute_result"
    }
   ],
   "source": [
    "_: tuple[int, int, int] = current.isocalendar()[:]\n",
    "_"
   ],
   "metadata": {
    "collapsed": false,
    "pycharm": {
     "name": "#%%\n"
    }
   }
  },
  {
   "cell_type": "code",
   "execution_count": 85,
   "outputs": [
    {
     "data": {
      "text/plain": "2022"
     },
     "execution_count": 85,
     "metadata": {},
     "output_type": "execute_result"
    }
   ],
   "source": [
    "_: int = current.isocalendar()[0]\n",
    "_"
   ],
   "metadata": {
    "collapsed": false,
    "pycharm": {
     "name": "#%%\n"
    }
   }
  },
  {
   "cell_type": "markdown",
   "source": [
    "# Sources\n",
    "\n",
    "### https://docs.python.org/fr/3/library/datetime.html<br>https://docs.python.org/fr/3/library/time.html<br>https://pandas.pydata.org/docs/reference/api/pandas.DataFrame.astype.html"
   ],
   "metadata": {
    "collapsed": false,
    "pycharm": {
     "name": "#%% md\n"
    }
   }
  }
 ],
 "metadata": {
  "kernelspec": {
   "display_name": "Python 3",
   "language": "python",
   "name": "python3"
  },
  "language_info": {
   "codemirror_mode": {
    "name": "ipython",
    "version": 2
   },
   "file_extension": ".py",
   "mimetype": "text/x-python",
   "name": "python",
   "nbconvert_exporter": "python",
   "pygments_lexer": "ipython2",
   "version": "2.7.6"
  }
 },
 "nbformat": 4,
 "nbformat_minor": 0
}