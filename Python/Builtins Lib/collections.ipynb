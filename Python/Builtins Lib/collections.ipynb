{
 "cells": [
  {
   "cell_type": "code",
   "execution_count": 39,
   "metadata": {
    "collapsed": true,
    "pycharm": {
     "name": "#%%\n"
    }
   },
   "outputs": [],
   "source": [
    "from collections import defaultdict\n",
    "from typing import Any\n",
    "\n",
    "txt = \"Hello World ! How are you ? World !\""
   ]
  },
  {
   "cell_type": "code",
   "execution_count": 50,
   "outputs": [
    {
     "data": {
      "text/plain": "{'default': 0}"
     },
     "execution_count": 50,
     "metadata": {},
     "output_type": "execute_result"
    }
   ],
   "source": [
    "default_int_dict: defaultdict[Any, int] = defaultdict(int)\n",
    "# noinspection PyStatementEffect\n",
    "default_int_dict[\"default\"]\n",
    "dict(default_int_dict)"
   ],
   "metadata": {
    "collapsed": false,
    "pycharm": {
     "name": "#%%\n"
    }
   }
  },
  {
   "cell_type": "code",
   "execution_count": 54,
   "outputs": [
    {
     "data": {
      "text/plain": "{'default': None}"
     },
     "execution_count": 54,
     "metadata": {},
     "output_type": "execute_result"
    }
   ],
   "source": [
    "default_none_dict: defaultdict[Any, None] = defaultdict(lambda: None)\n",
    "# noinspection PyStatementEffect\n",
    "default_none_dict[\"default\"]\n",
    "dict(default_none_dict)"
   ],
   "metadata": {
    "collapsed": false,
    "pycharm": {
     "name": "#%%\n"
    }
   }
  },
  {
   "cell_type": "code",
   "execution_count": 56,
   "outputs": [
    {
     "data": {
      "text/plain": "{0: defaultdict(int, {'default': 0}),\n 1: defaultdict(<function __main__.<lambda>()>, {'default': None}),\n 'default': []}"
     },
     "execution_count": 56,
     "metadata": {},
     "output_type": "execute_result"
    }
   ],
   "source": [
    "# noinspection PyTypeChecker\n",
    "default_dict: defaultdict[Any, None] = defaultdict(lambda: [], {0:default_int_dict, 1:default_none_dict})\n",
    "# noinspection PyStatementEffect\n",
    "default_dict[\"default\"]\n",
    "dict(default_dict)"
   ],
   "metadata": {
    "collapsed": false,
    "pycharm": {
     "name": "#%%\n"
    }
   }
  },
  {
   "cell_type": "code",
   "execution_count": 16,
   "outputs": [
    {
     "data": {
      "text/plain": "[(0, 1),\n (0, 2),\n (0, 3),\n (0, 4),\n (0, 5),\n (0, 6),\n (1, 2),\n (1, 3),\n (1, 4),\n (1, 5),\n (1, 6),\n (2, 3),\n (2, 4),\n (2, 5),\n (2, 6),\n (3, 4),\n (3, 5),\n (3, 6),\n (4, 5),\n (4, 6),\n (5, 6)]"
     },
     "execution_count": 16,
     "metadata": {},
     "output_type": "execute_result"
    }
   ],
   "source": [
    "import itertools\n",
    "list(itertools.combinations(range(7), 2))"
   ],
   "metadata": {
    "collapsed": false,
    "pycharm": {
     "name": "#%%\n"
    }
   }
  },
  {
   "cell_type": "code",
   "execution_count": null,
   "outputs": [],
   "source": [
    "Tree = NamedTuple(\"Tree\", [(\"data\", TreeType), (\"children\", list[\"Tree\"])])"
   ],
   "metadata": {
    "collapsed": false,
    "pycharm": {
     "name": "#%%\n"
    }
   }
  },
  {
   "cell_type": "code",
   "execution_count": null,
   "outputs": [],
   "source": [
    "import sys\n",
    "from collections import defaultdict, OrderedDict\n",
    "from time import perf_counter\n",
    "from typing import Optional, NamedTuple\n",
    "\n",
    "UP = \"UP\"\n",
    "LEFT = \"LEFT\"\n",
    "DOWN = \"DOWN\"\n",
    "RIGHT = \"RIGHT\"\n",
    "ORIENTATIONS = [UP, DOWN, LEFT, RIGHT]\n",
    "START = perf_counter()\n",
    "\n",
    "\n",
    "def auto_repr(cls):\n",
    "    def __repr__(self):\n",
    "        return '%s(%s)' % (type(self).__name__, ', '.join('%s=%s' % item for item in vars(self).items()))\n",
    "\n",
    "    cls.__repr__ = __repr__\n",
    "    return cls\n",
    "\n",
    "\n",
    "def p(*args) -> None:\n",
    "    [print(arg, file=sys.stderr, flush=True, end=\" \") for arg in args]\n",
    "    print(file=sys.stderr, flush=True)\n",
    "\n",
    "\n",
    "def elapsed_time(debug=False) -> float:\n",
    "    elapsed = perf_counter() - START\n",
    "    if debug:\n",
    "        p(\"{:.3f}\".format(elapsed))\n",
    "    return elapsed\n",
    "\n",
    "\n",
    "class Coord(NamedTuple):\n",
    "    x: int\n",
    "    y: int\n",
    "\n",
    "    def __str__(self):\n",
    "        return \"({}, {})\".format(self.x, self.y)\n",
    "\n",
    "    def __repr__(self):\n",
    "        return \"{} {}\".format(self.x, self.y)\n",
    "\n",
    "\n",
    "class World:\n",
    "    def __init__(self):\n",
    "        self.width: int = int(input())\n",
    "        self.height: int = int(input())\n",
    "        p(\"self.width\", self.width)\n",
    "        p(\"self.height\", self.height)\n",
    "        self.lines: list[str] = []\n",
    "        self.cells: dict[Coord, Optional[Cell]] = defaultdict(lambda: None)\n",
    "        self.is_optimized = False\n",
    "        for y in range(self.height):\n",
    "            self.lines.append(input())\n",
    "            p(self.lines[-1])\n",
    "            for x in range(self.width):\n",
    "                self.cells[Coord(x, y)] = Cell(x, y, self.lines[y][x], self.cells)\n",
    "        self.nodes: dict[Coord, Cell] = {coord: cell for (coord, cell) in self.cells.items() if cell and cell.is_node}\n",
    "        # p(\"nodes\", self.nodes)\n",
    "        have_to_optimize = self.get_most_link_aimed()\n",
    "        self.is_optimized = self.optimized_link(have_to_optimize)\n",
    "\n",
    "    def get_most_link_aimed(self) -> list[\"Cell\"]:\n",
    "        return sorted([node for node in self.nodes.values() if not node.is_optimized()],\n",
    "                      key=lambda x: x.link_left, reverse=True)\n",
    "\n",
    "    def optimized_link(self, have_to_optimize, same_list=0) -> bool:\n",
    "        # p(\"same check\", repr(node))\n",
    "        # p(\"reset\", k, \"links_towards\", repr(attainable_node))\n",
    "        # p(\"after reset\", have_to_optimize)\n",
    "        # p(\"have_to_optimize\", have_to_optimize)\n",
    "        p(same_list)\n",
    "        if len(have_to_optimize) == 0:\n",
    "            return True\n",
    "        elif elapsed_time() >= 0.5:\n",
    "            output(self)\n",
    "            p(elapsed_time())\n",
    "            return False\n",
    "        elif same_list == 1:\n",
    "            node = have_to_optimize[0]\n",
    "            for k, attainable_coord in node.attainable_coord.items():\n",
    "                if attainable_coord:\n",
    "                    attainable_node = self.nodes[attainable_coord]\n",
    "                    for coord_linked in attainable_node.links_towards:\n",
    "                        attainable_node.link_left += 1\n",
    "                        self.nodes[coord_linked].link_left += 1\n",
    "                    attainable_node.links_towards = []\n",
    "        elif same_list == 0:\n",
    "            for node in have_to_optimize:\n",
    "                node.add_attainable_links(self.nodes)\n",
    "        elif same_list == 2:\n",
    "            for node in have_to_optimize:\n",
    "                node.add_attainable_links(self.nodes)\n",
    "        save_list = have_to_optimize\n",
    "        have_to_optimize = self.get_most_link_aimed()\n",
    "        if save_list == have_to_optimize:\n",
    "            return self.optimized_link(have_to_optimize, same_list + 1)\n",
    "        return self.optimized_link(have_to_optimize)\n",
    "\n",
    "\n",
    "@auto_repr\n",
    "class Cell:\n",
    "    def __init__(self, x: int, y: int, descr: str, cells: dict[Coord, Optional[\"Cell\"]]):\n",
    "        self.x: int = x\n",
    "        self.y: int = y\n",
    "        self.coord: Coord = Coord(x, y)\n",
    "        self.attainable_coord: OrderedDict[str, Coord] = OrderedDict()\n",
    "        self.is_node: bool = descr != \".\"\n",
    "        self.link_left: int = 0\n",
    "        self.links_towards: list[\"Coord\"] = []\n",
    "        if self.is_node:\n",
    "            self.link_left = int(descr)\n",
    "            for orientation in ORIENTATIONS:\n",
    "                attainable_coord = self.get_closest_coord(cells, orientation)\n",
    "                if attainable_coord:\n",
    "                    self.attainable_coord[orientation] = attainable_coord\n",
    "                    attainable_node = cells[attainable_coord]\n",
    "                    pos = ORIENTATIONS.index(orientation)\n",
    "                    opposite_orientation = ORIENTATIONS[(pos + (-1 if pos % 2 else 1)) % len(ORIENTATIONS)]\n",
    "                    attainable_node.attainable_coord[opposite_orientation] = self.coord\n",
    "                    self.add_attainable_links(cells)\n",
    "\n",
    "    def __str__(self):\n",
    "        return \"({} {})\".format(self.coord, self.attainable_coord)\n",
    "\n",
    "    def get_closest_coord(self, cells: dict[Coord, Optional[\"Cell\"]], orientation: str) -> Optional[\"Coord\"]:\n",
    "        x, y = self.x, self.y\n",
    "        while True:\n",
    "            x -= orientation == LEFT\n",
    "            y -= orientation == UP\n",
    "            x += orientation == RIGHT\n",
    "            y += orientation == DOWN\n",
    "            cursor = cells[Coord(x, y)]\n",
    "            if cursor is None:\n",
    "                return None\n",
    "            elif cursor.is_node:\n",
    "                return cursor.coord\n",
    "\n",
    "    def is_optimized(self) -> bool:\n",
    "        return self.link_left == 0\n",
    "\n",
    "    def add_link(self, node: \"Cell\") -> bool:\n",
    "        if node.coord not in self.links_towards and not self.is_optimized() and not node.is_optimized():\n",
    "            self.links_towards.append(node.coord)\n",
    "            self.link_left -= 1\n",
    "            node.link_left -= 1\n",
    "            if not self.is_optimized() and not node.is_optimized() and self.coord not in node.links_towards:\n",
    "                # p(\"miror\")\n",
    "                return node.add_link(self)\n",
    "            return True\n",
    "        return False\n",
    "\n",
    "    def sort_attainable_coord(self, nodes):\n",
    "        for key, _ in sorted(self.attainable_coord.items(), key=lambda x: nodes[x[1]].link_left if x[1] else 0):\n",
    "            self.attainable_coord.move_to_end(key)\n",
    "\n",
    "    def add_attainable_links(self, cells):\n",
    "        self.sort_attainable_coord(cells)\n",
    "        for attainable_coord in self.attainable_coord.values():\n",
    "            if attainable_coord and attainable_coord not in self.links_towards:\n",
    "                attainable_node = cells[attainable_coord]\n",
    "                self.add_link(attainable_node)\n",
    "\n",
    "\n",
    "def output(world) -> None:\n",
    "    for node in world.nodes.values():\n",
    "        for link in node.links_towards:\n",
    "            print(repr(node.coord), repr(link), 1)\n",
    "\n",
    "\n",
    "if __name__ == '__main__':\n",
    "    timer = perf_counter()\n",
    "    p(sys.version_info)\n",
    "    world = World()\n",
    "    if world.is_optimized:\n",
    "        output(world)\n",
    "    elapsed_time()\n"
   ],
   "metadata": {
    "collapsed": false,
    "pycharm": {
     "name": "#%%\n"
    }
   }
  }
 ],
 "metadata": {
  "kernelspec": {
   "display_name": "Python 3",
   "language": "python",
   "name": "python3"
  },
  "language_info": {
   "codemirror_mode": {
    "name": "ipython",
    "version": 2
   },
   "file_extension": ".py",
   "mimetype": "text/x-python",
   "name": "python",
   "nbconvert_exporter": "python",
   "pygments_lexer": "ipython2",
   "version": "2.7.6"
  }
 },
 "nbformat": 4,
 "nbformat_minor": 0
}